{
 "cells": [
  {
   "cell_type": "markdown",
   "metadata": {},
   "source": [
    "### Create dsQ job submission array\n",
    "#### Commands: \n",
    "\n",
    "\n",
    "ml load dSQ/1.05\n",
    "\n",
    "1: dsq --job-file 1_preproc_dsq_job_array.txt --mem-per-cpu 4g -t 1:00:00 --mail-type ALL --partition gpu --cpus-per-task=1 --gres=gpu:2\n",
    "\n",
    "3: dsq --job-file 2_csd_dsq_job_array.txt --mem-per-cpu 10g -t 10:00:00 --mail-type ALL --partition verylong\n",
    "\n",
    "\n",
    "4: dsq --job-file 4_fixel_job_array.txt --mem-per-cpu 10g -t 10:00:00 --mail-type ALL --partition verylong\n",
    "\n",
    "5: dsq --job-file 5_tract_dsq_job_array.txt --mem-per-cpu 10g -t 10:00:00 --mail-type ALL --partition verylong\n"
   ]
  },
  {
   "cell_type": "code",
   "execution_count": 2,
   "metadata": {},
   "outputs": [],
   "source": [
    "import pandas as pd\n",
    "import csv\n",
    "from glob import glob"
   ]
  },
  {
   "cell_type": "code",
   "execution_count": 3,
   "metadata": {},
   "outputs": [],
   "source": [
    "home = '/home/lms233/Github/Diffusion'\n",
    "candpath = '/gpfs/milgram/pi/gee_dylan/candlab'\n",
    "data = candpath + '/analyses/shapes/dwi/data/'"
   ]
  },
  {
   "cell_type": "code",
   "execution_count": 17,
   "metadata": {},
   "outputs": [],
   "source": [
    "# subject_info = pd.Series(glob(data + '/3_Eddy_Corrected/sub*'))\n",
    "# subs = subject_info.str.replace(data + '/3_Eddy_Corrected/', '')\n",
    "# all_subjects = subs.tolist()\n",
    "# merge_sublist = pd.DataFrame(subs, columns = ['Subject'])\n",
    "# merge_sublist['Subject'] = merge_sublist['Subject'].str.replace('sub-', '')"
   ]
  },
  {
   "cell_type": "code",
   "execution_count": 25,
   "metadata": {},
   "outputs": [
    {
     "name": "stdout",
     "output_type": "stream",
     "text": [
      "117 subs had DTI and RI data, and motion under threshold\n"
     ]
    }
   ],
   "source": [
    "#Subjects with RI and DTI data under motion threshold\n",
    "ri_sublist = pd.read_csv(data + '/../subjectlist_preDiss_motion0.75_n116_2021-03-23.csv', names = ['index', 'Subject'])\n",
    "print('{} subs had DTI and RI data, and motion under threshold'.format(len(ri_sublist)))"
   ]
  },
  {
   "cell_type": "code",
   "execution_count": 5,
   "metadata": {},
   "outputs": [],
   "source": [
    "#Generate subs who didn't process fully\n",
    "subjslist = []\n",
    "for i in range(0, len(all_subjects)):\n",
    "    sub = all_subjects[i]\n",
    "    newlist = pd.Series(glob(data+ '/4_Deconvolution/*'))\n",
    "    newsubs = newlist.replace(data + '/4_Deconvolution/', '').tolist()\n",
    "    if sub in newsubs:\n",
    "        pass\n",
    "    else:\n",
    "        subjslist.append(sub)\n",
    "\n",
    "notrun_subjects = list(set(subjslist))"
   ]
  },
  {
   "cell_type": "code",
   "execution_count": 5,
   "metadata": {},
   "outputs": [
    {
     "name": "stdout",
     "output_type": "stream",
     "text": [
      "175\n",
      "175\n"
     ]
    }
   ],
   "source": [
    "print(len(subs))\n",
    "print(len(notrun_subjects))"
   ]
  },
  {
   "cell_type": "markdown",
   "metadata": {},
   "source": [
    "### Create batch file for preprocessing"
   ]
  },
  {
   "cell_type": "code",
   "execution_count": 17,
   "metadata": {},
   "outputs": [],
   "source": [
    "#Set subjects\n",
    "subjects = all_subjects\n",
    "commands_preproc = []\n",
    "\n",
    "for i in range(0, len(subjects)):\n",
    "    sub = subjects[i]\n",
    "    commands_preproc.append('sh 1_sbatch_preproc.sh {}'.format(sub))"
   ]
  },
  {
   "cell_type": "code",
   "execution_count": 10,
   "metadata": {},
   "outputs": [],
   "source": [
    "out = pd.DataFrame(commands_preproc)\n",
    "out.to_csv(home + '/1_preproc_dsq_job_array.txt', sep = '\\t', header = False, index=False, \n",
    "           quoting=csv.QUOTE_NONE)"
   ]
  },
  {
   "cell_type": "markdown",
   "metadata": {},
   "source": [
    "### Create batch file for MS CSD"
   ]
  },
  {
   "cell_type": "code",
   "execution_count": 29,
   "metadata": {},
   "outputs": [],
   "source": [
    "#Set subjects\n",
    "subjects = all_subjects\n",
    "\n",
    "commands_csd = []\n",
    "\n",
    "for i in range(0, len(subjects)):\n",
    "    sub = subjects[i]\n",
    "    commands_csd.append('sh 2_sbatch_csd.sh {}'.format(sub))"
   ]
  },
  {
   "cell_type": "code",
   "execution_count": 30,
   "metadata": {},
   "outputs": [],
   "source": [
    "out = pd.DataFrame(commands_csd)\n",
    "out.to_csv(home + '/2_csd_dsq_job_array.txt', sep = '\\t', header = False, index=False, \n",
    "           quoting=csv.QUOTE_NONE)"
   ]
  },
  {
   "cell_type": "markdown",
   "metadata": {},
   "source": [
    "### Create batch file for fixel registration"
   ]
  },
  {
   "cell_type": "code",
   "execution_count": 33,
   "metadata": {},
   "outputs": [],
   "source": [
    "#Set subjects\n",
    "subjects = ri_sublist['Subject'].tolist()\n",
    "\n",
    "commands_fixel = []\n",
    "\n",
    "for i in range(0, len(subjects)):\n",
    "    sub = subjects[i]\n",
    "    commands_fixel.append('sh 4_sbatch_register_FOD.sh sub-{}'.format(sub))"
   ]
  },
  {
   "cell_type": "code",
   "execution_count": 34,
   "metadata": {},
   "outputs": [
    {
     "name": "stdout",
     "output_type": "stream",
     "text": [
      "117\n"
     ]
    }
   ],
   "source": [
    "out = pd.DataFrame(commands_fixel)\n",
    "print(len(out))\n",
    "out.to_csv(home + '/4_fixel_job_array.txt', sep = '\\t', header = False, index=False, \n",
    "           quoting=csv.QUOTE_NONE)"
   ]
  },
  {
   "cell_type": "markdown",
   "metadata": {},
   "source": [
    "### Create batch file for TractSeg"
   ]
  },
  {
   "cell_type": "code",
   "execution_count": 20,
   "metadata": {},
   "outputs": [],
   "source": [
    "subjects = all_subjects\n",
    "commands_tract = []\n",
    "\n",
    "for i in range(0, len(subjects)):\n",
    "    sub = subjects[i]\n",
    "    commands_tract.append('sh 5_TractSegFlow.sh {}'.format(sub))"
   ]
  },
  {
   "cell_type": "code",
   "execution_count": 21,
   "metadata": {},
   "outputs": [],
   "source": [
    "out_tract = pd.DataFrame(commands_tract)\n",
    "out_tract.to_csv(home + '/5_tract_dsq_job_array.txt', sep = '\\t', header = False, index=False, \n",
    "           quoting=csv.QUOTE_NONE)"
   ]
  },
  {
   "cell_type": "code",
   "execution_count": null,
   "metadata": {},
   "outputs": [],
   "source": []
  }
 ],
 "metadata": {
  "kernelspec": {
   "display_name": "Python 3",
   "language": "python",
   "name": "python3"
  },
  "language_info": {
   "codemirror_mode": {
    "name": "ipython",
    "version": 3
   },
   "file_extension": ".py",
   "mimetype": "text/x-python",
   "name": "python",
   "nbconvert_exporter": "python",
   "pygments_lexer": "ipython3",
   "version": "3.7.6"
  }
 },
 "nbformat": 4,
 "nbformat_minor": 4
}
