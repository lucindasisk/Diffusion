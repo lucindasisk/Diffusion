{
 "cells": [
  {
   "cell_type": "markdown",
   "id": "suitable-affect",
   "metadata": {},
   "source": [
    "### Get organized to make study-specific fixel template"
   ]
  },
  {
   "cell_type": "code",
   "execution_count": 1,
   "id": "worldwide-point",
   "metadata": {},
   "outputs": [],
   "source": [
    "import numpy as np\n",
    "import pandas as pd\n",
    "import os\n",
    "from shutil import copyfile"
   ]
  },
  {
   "cell_type": "code",
   "execution_count": 2,
   "id": "federal-tracy",
   "metadata": {},
   "outputs": [],
   "source": [
    "# Set paths\n",
    "home = '/gpfs/milgram/project/gee_dylan/candlab'\n",
    "raw_dir = home + '/data/mri/bids_recon/shapes'\n",
    "workflow_dir = home + '/analyses/shapes/dwi/workflows'\n",
    "datadir = home + '/analyses/shapes/dwi/data'"
   ]
  },
  {
   "cell_type": "code",
   "execution_count": 13,
   "id": "historic-voltage",
   "metadata": {},
   "outputs": [],
   "source": [
    "# Make folder\n",
    "low_mot_ids = pd.read_csv(datadir + '/LowestMotion_40Subj_FixelTemplateIDs.csv')\n",
    "\n",
    "#Create folder for all FOD images and masks\n",
    "os.mkdir(datadir + '/CSD_MSMT_FOD_TemplateImages')\n",
    "os.mkdir(datadir + '/CSD_MSMT_FOD_TemplateMasks')"
   ]
  },
  {
   "cell_type": "code",
   "execution_count": 14,
   "id": "superior-collective",
   "metadata": {},
   "outputs": [],
   "source": [
    "for i in range(0, len(low_mot_ids)):\n",
    "    try:\n",
    "        sub_r = low_mot_ids['Subject'][i]\n",
    "        sub = sub_r.replace('A', 'sub-A')\n",
    "        dwi_fod = datadir + '/4_Deconvolution/{}/dwi.mif'.format(sub)\n",
    "        dwi_mask = datadir + '/3_Eddy_Corrected/{}/b0_img_brain_mask_resample_flirt.nii.gz'.format(sub)\n",
    "        copyfile(dwi_fod, datadir + '/CSD_MSMT_FOD_TemplateImages/{}_dwi_fod.mif'.format(sub))\n",
    "        copyfile(dwi_mask, datadir + '/CSD_MSMT_FOD_TemplateMasks/{}_dwi_mask.nii.gz'.format(sub))\n",
    "    except:\n",
    "        print('File Missing for {}, {} out of {}'.format(sub, i, len(low_mot_ids)))\n",
    "    "
   ]
  }
 ],
 "metadata": {
  "kernelspec": {
   "display_name": "Python 3",
   "language": "python",
   "name": "python3"
  },
  "language_info": {
   "codemirror_mode": {
    "name": "ipython",
    "version": 3
   },
   "file_extension": ".py",
   "mimetype": "text/x-python",
   "name": "python",
   "nbconvert_exporter": "python",
   "pygments_lexer": "ipython3",
   "version": "3.7.6"
  }
 },
 "nbformat": 4,
 "nbformat_minor": 5
}
