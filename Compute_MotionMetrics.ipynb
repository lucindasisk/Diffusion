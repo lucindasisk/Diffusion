{
 "cells": [
  {
   "cell_type": "markdown",
   "metadata": {},
   "source": [
    "### Examine eddy motion parameters; combine with QC spreadsheet for usability"
   ]
  },
  {
   "cell_type": "code",
   "execution_count": 3,
   "metadata": {},
   "outputs": [],
   "source": [
    "import pandas as pd\n",
    "import numpy as np\n",
    "import seaborn as sns\n",
    "from glob import glob\n",
    "from datetime import date\n",
    "today = date.today()"
   ]
  },
  {
   "cell_type": "code",
   "execution_count": 22,
   "metadata": {},
   "outputs": [],
   "source": [
    "user = 'milgram'\n",
    "\n",
    "if user == 'laptop':\n",
    "    home = '/Users/lucindasisk/Desktop/Milgram/candlab/analyses/shapes/dwi/data/3_Eddy_Corrected'\n",
    "    proj = '/Users/lucindasisk/Box/LS_Folders/CANDLab/Projects/Trauma_DTI'\n",
    "    qc_data = pd.read_csv(proj + '/DiffusionQAShapes-ShapesDWIRawDataQAAl_DATA_2021-03-03_1332.csv').rename(columns = {'subid':'Subject', 'scan1_ranking':'Scan Quality'})\n",
    "    qc_data['Subject'] = qc_dataa['Subject'].str.split('-', expand=True)\n",
    "elif user == 'milgram':\n",
    "    orig = '/gpfs/milgram/project/gee_dylan/candlab'\n",
    "    home = orig + '/analyses/shapes/dwi/data/3_Eddy_Corrected'\n",
    "    outpath = orig + '/analyses/shapes/dwi/data'\n",
    "    qc_data = pd.read_csv(outpath + '/../DiffusionQAShapes-ShapesDWIRawDataQAAl_DATA_2021-03-03_1332.csv').rename(columns = {'subid':'Subject', \n",
    "                                                                                                                       'scan1_ranking':'Scan Quality'})\n",
    "    risubs = pd.read_csv(outpath + '/../DTI_RI_SubjectList.csv').rename(columns = {'subid':'Subject'})\n",
    "    "
   ]
  },
  {
   "cell_type": "code",
   "execution_count": 33,
   "metadata": {},
   "outputs": [
    {
     "name": "stdout",
     "output_type": "stream",
     "text": [
      "Reporting for 175 subjects\n",
      "Reporting for 149 subjects with both DTI and RI data\n"
     ]
    },
    {
     "data": {
      "text/html": [
       "<div>\n",
       "<style scoped>\n",
       "    .dataframe tbody tr th:only-of-type {\n",
       "        vertical-align: middle;\n",
       "    }\n",
       "\n",
       "    .dataframe tbody tr th {\n",
       "        vertical-align: top;\n",
       "    }\n",
       "\n",
       "    .dataframe thead th {\n",
       "        text-align: right;\n",
       "    }\n",
       "</style>\n",
       "<table border=\"1\" class=\"dataframe\">\n",
       "  <thead>\n",
       "    <tr style=\"text-align: right;\">\n",
       "      <th></th>\n",
       "      <th>Subject</th>\n",
       "    </tr>\n",
       "  </thead>\n",
       "  <tbody>\n",
       "    <tr>\n",
       "      <th>0</th>\n",
       "      <td>A258</td>\n",
       "    </tr>\n",
       "    <tr>\n",
       "      <th>1</th>\n",
       "      <td>A429</td>\n",
       "    </tr>\n",
       "    <tr>\n",
       "      <th>2</th>\n",
       "      <td>A238</td>\n",
       "    </tr>\n",
       "    <tr>\n",
       "      <th>3</th>\n",
       "      <td>A738</td>\n",
       "    </tr>\n",
       "    <tr>\n",
       "      <th>4</th>\n",
       "      <td>A273</td>\n",
       "    </tr>\n",
       "    <tr>\n",
       "      <th>...</th>\n",
       "      <td>...</td>\n",
       "    </tr>\n",
       "    <tr>\n",
       "      <th>170</th>\n",
       "      <td>A480</td>\n",
       "    </tr>\n",
       "    <tr>\n",
       "      <th>171</th>\n",
       "      <td>A201</td>\n",
       "    </tr>\n",
       "    <tr>\n",
       "      <th>172</th>\n",
       "      <td>A675</td>\n",
       "    </tr>\n",
       "    <tr>\n",
       "      <th>173</th>\n",
       "      <td>A622</td>\n",
       "    </tr>\n",
       "    <tr>\n",
       "      <th>174</th>\n",
       "      <td>A234</td>\n",
       "    </tr>\n",
       "  </tbody>\n",
       "</table>\n",
       "<p>175 rows × 1 columns</p>\n",
       "</div>"
      ],
      "text/plain": [
       "    Subject\n",
       "0      A258\n",
       "1      A429\n",
       "2      A238\n",
       "3      A738\n",
       "4      A273\n",
       "..      ...\n",
       "170    A480\n",
       "171    A201\n",
       "172    A675\n",
       "173    A622\n",
       "174    A234\n",
       "\n",
       "[175 rows x 1 columns]"
      ]
     },
     "execution_count": 33,
     "metadata": {},
     "output_type": "execute_result"
    }
   ],
   "source": [
    "subjects_globbed = pd.Series(glob(home + '/sub*')).str.replace(home + '/', '').tolist()\n",
    "subjects_df = pd.DataFrame(subjects_globbed, columns = ['Subject'])\n",
    "subjects_df['Subject'] = subjects_df['Subject'].str.replace('sub-', '')\n",
    "print('Reporting for {} subjects'.format(len(subjects_globbed)))\n",
    "subjects = pd.merge(subjects_df, risubs, on='Subject', how='inner')\n",
    "print('Reporting for {} subjects with both DTI and RI data'.format(len(subjects)))"
   ]
  },
  {
   "cell_type": "code",
   "execution_count": 9,
   "metadata": {},
   "outputs": [],
   "source": [
    "outputs = []\n",
    "for i in range(0, len(subjects)):\n",
    "    sub = subjects[i]\n",
    "    file = pd.read_csv(home + '/{}/eddy_corrected.eddy_movement_rms'.format(sub), \n",
    "                   sep = ' ').rename(columns = {'0':\"Absolute_RMS\",'0.1':\"Relative_RMS\"}).drop(['Unnamed: 1', 'Unnamed: 3', 'Unnamed: 4'], axis=1)\n",
    "    mean_rel_rms = file['Relative_RMS'].mean()\n",
    "    mean_abs_rms = file['Absolute_RMS'].mean()\n",
    "    outputs.append([sub, mean_rel_rms, mean_abs_rms])"
   ]
  },
  {
   "cell_type": "code",
   "execution_count": 13,
   "metadata": {},
   "outputs": [],
   "source": [
    "mean_rms = pd.DataFrame(outputs, columns = ['Subject', 'Mean Relative RMS', 'Mean Absolute RMS'])\n",
    "mean_rms['Subject'] = mean_rms['Subject'].str.replace('sub-', '')\n",
    "mean_rms_qc = pd.merge(mean_rms, qc_data[['Subject', 'Scan Quality']], on = 'Subject', how = 'inner').sort_values(by='Scan Quality')\n",
    "quality_dict = {'1':'Pass', '2':'Qualified Pass', '3':'Fail'}\n",
    "mean_rms_qc['Scan Quality'] = mean_rms_qc['Scan Quality'].astype(str).replace(quality_dict)"
   ]
  },
  {
   "cell_type": "code",
   "execution_count": null,
   "metadata": {},
   "outputs": [],
   "source": [
    "sns.boxplot(x='Scan Quality', y='Mean Relative RMS', data= mean_rms_qc)"
   ]
  },
  {
   "cell_type": "code",
   "execution_count": null,
   "metadata": {},
   "outputs": [],
   "source": [
    "sns.boxplot(x='Scan Quality', y='Mean Absolute RMS', data= mean_rms_qc)"
   ]
  },
  {
   "cell_type": "code",
   "execution_count": 45,
   "metadata": {},
   "outputs": [],
   "source": [
    "lessthan = []\n",
    "motthresh = .75\n",
    "\n",
    "for i in range(0, len(mean_rms)):\n",
    "    row = mean_rms.iloc[i, :]\n",
    "    rowval = row['Mean Relative RMS']\n",
    "    sub = mean_rms['Subject'][i]\n",
    "    if rowval < motthresh:\n",
    "        lessthan.append(sub)"
   ]
  },
  {
   "cell_type": "code",
   "execution_count": 46,
   "metadata": {},
   "outputs": [],
   "source": [
    "top40 = mean_rms.sort_values(by='Mean Relative RMS', ascending = True).iloc[0:40, :]\n",
    "top40.to_csv(outpath + '/LowestMotion_40Subj_FixelTemplateIDs.csv', index=False)"
   ]
  },
  {
   "cell_type": "code",
   "execution_count": 47,
   "metadata": {},
   "outputs": [
    {
     "name": "stdout",
     "output_type": "stream",
     "text": [
      "116 subjects with both DTI and RI have data with motion under .75 mm Relatvive RMS\n"
     ]
    }
   ],
   "source": [
    "lessthan = pd.DataFrame(lessthan)\n",
    "print('{} subjects with both DTI and RI have data with motion under .75 mm Relatvive RMS'.format(len(lessthan)))"
   ]
  },
  {
   "cell_type": "code",
   "execution_count": 48,
   "metadata": {},
   "outputs": [],
   "source": [
    "today = str(date.today())\n",
    "lessthan.to_csv(outpath + '/../subjectlist_preDiss_motion{}_n{}_{}.csv'.format(motthresh, len(lessthan), today))"
   ]
  },
  {
   "cell_type": "code",
   "execution_count": null,
   "metadata": {},
   "outputs": [],
   "source": []
  }
 ],
 "metadata": {
  "kernelspec": {
   "display_name": "Python 3",
   "language": "python",
   "name": "python3"
  },
  "language_info": {
   "codemirror_mode": {
    "name": "ipython",
    "version": 3
   },
   "file_extension": ".py",
   "mimetype": "text/x-python",
   "name": "python",
   "nbconvert_exporter": "python",
   "pygments_lexer": "ipython3",
   "version": "3.7.6"
  }
 },
 "nbformat": 4,
 "nbformat_minor": 4
}
