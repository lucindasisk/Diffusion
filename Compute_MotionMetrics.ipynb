{
 "cells": [
  {
   "cell_type": "markdown",
   "metadata": {},
   "source": [
    "### Examine eddy motion parameters; combine with QC spreadsheet for usability"
   ]
  },
  {
   "cell_type": "code",
   "execution_count": 2,
   "metadata": {},
   "outputs": [],
   "source": [
    "import pandas as pd\n",
    "import numpy as np\n",
    "import seaborn as sns\n",
    "from glob import glob\n",
    "from datetime import date\n",
    "today = date.today()"
   ]
  },
  {
   "cell_type": "code",
   "execution_count": 28,
   "metadata": {},
   "outputs": [],
   "source": [
    "user = 'milgram'\n",
    "\n",
    "if user == 'laptop':\n",
    "    home = '/Users/lucindasisk/Desktop/Milgram/candlab/analyses/shapes/dwi/data/3_Eddy_Corrected'\n",
    "    proj = '/Users/lucindasisk/Box/LS_Folders/CANDLab/Projects/Trauma_DTI'\n",
    "    qc_data = pd.read_csv(proj + '/DiffusionQAShapes-ShapesDWIRawDataQAAl_DATA_2021-03-03_1332.csv').rename(columns = {'subid':'Subject', 'scan1_ranking':'Scan Quality'})\n",
    "    qc_data['Subject'] = qc_dataa['Subject'].str.split('-', expand=True)\n",
    "elif user == 'milgram':\n",
    "    orig = '/gpfs/milgram/project/gee_dylan/candlab'\n",
    "    home = orig + '/analyses/shapes/dwi/data/3_Eddy_Corrected'\n",
    "    outpath = orig + '/analyses/shapes/dwi/data'"
   ]
  },
  {
   "cell_type": "code",
   "execution_count": 8,
   "metadata": {},
   "outputs": [
    {
     "name": "stdout",
     "output_type": "stream",
     "text": [
      "Reporting for 175 subjects\n"
     ]
    }
   ],
   "source": [
    "subjects = pd.Series(glob(home + '/sub*')).str.replace(home + '/', '').tolist()\n",
    "print('Reporting for {} subjects'.format(len(subjects)))"
   ]
  },
  {
   "cell_type": "code",
   "execution_count": 9,
   "metadata": {},
   "outputs": [],
   "source": [
    "outputs = []\n",
    "for i in range(0, len(subjects)):\n",
    "    sub = subjects[i]\n",
    "    file = pd.read_csv(home + '/{}/eddy_corrected.eddy_movement_rms'.format(sub), \n",
    "                   sep = ' ').rename(columns = {'0':\"Absolute_RMS\",'0.1':\"Relative_RMS\"}).drop(['Unnamed: 1', 'Unnamed: 3', 'Unnamed: 4'], axis=1)\n",
    "    mean_rel_rms = file['Relative_RMS'].mean()\n",
    "    mean_abs_rms = file['Absolute_RMS'].mean()\n",
    "    outputs.append([sub, mean_rel_rms, mean_abs_rms])"
   ]
  },
  {
   "cell_type": "code",
   "execution_count": 11,
   "metadata": {},
   "outputs": [],
   "source": [
    "mean_rms = pd.DataFrame(outputs, columns = ['Subject', 'Mean Relative RMS', 'Mean Absolute RMS'])\n",
    "mean_rms['Subject'] = mean_rms['Subject'].str.replace('sub-', '')\n",
    "# mean_rms_qc = pd.merge(mean_rms, qc_data[['Subject', 'Scan Quality']], on = 'Subject', how = 'inner').sort_values(by='Scan Quality')\n",
    "quality_dict = {'1':'Pass', '2':'Qualified Pass', '3':'Fail'}\n",
    "# mean_rms_qc['Scan Quality'] = mean_rms_qc['Scan Quality'].astype(str).replace(quality_dict)"
   ]
  },
  {
   "cell_type": "code",
   "execution_count": 13,
   "metadata": {},
   "outputs": [],
   "source": [
    "# sns.boxplot(x='Scan Quality', y='Mean Relative RMS', data= mean_rms_qc)"
   ]
  },
  {
   "cell_type": "code",
   "execution_count": 14,
   "metadata": {},
   "outputs": [],
   "source": [
    "# sns.boxplot(x='Scan Quality', y='Mean Absolute RMS', data= mean_rms_qc)"
   ]
  },
  {
   "cell_type": "code",
   "execution_count": 23,
   "metadata": {},
   "outputs": [],
   "source": [
    "lessthan5 = []\n",
    "\n",
    "for i in range(0, len(mean_rms)):\n",
    "    row = mean_rms.iloc[i, :]\n",
    "    rowval = row['Mean Relative RMS']\n",
    "    sub = mean_rms['Subject'][i]\n",
    "    if rowval < 0.5:\n",
    "        lessthan5.append(sub)"
   ]
  },
  {
   "cell_type": "code",
   "execution_count": 29,
   "metadata": {},
   "outputs": [],
   "source": [
    "top40 = mean_rms.sort_values(by='Mean Relative RMS', ascending = True).iloc[0:40, :]\n",
    "top40.to_csv(outpath + '/LowestMotion_40Subj_FixelTemplateIDs.csv', index=False)"
   ]
  },
  {
   "cell_type": "code",
   "execution_count": null,
   "metadata": {},
   "outputs": [],
   "source": []
  }
 ],
 "metadata": {
  "kernelspec": {
   "display_name": "Python 3",
   "language": "python",
   "name": "python3"
  },
  "language_info": {
   "codemirror_mode": {
    "name": "ipython",
    "version": 3
   },
   "file_extension": ".py",
   "mimetype": "text/x-python",
   "name": "python",
   "nbconvert_exporter": "python",
   "pygments_lexer": "ipython3",
   "version": "3.7.6"
  }
 },
 "nbformat": 4,
 "nbformat_minor": 4
}
