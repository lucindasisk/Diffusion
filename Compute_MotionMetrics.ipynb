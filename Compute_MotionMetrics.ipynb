{
 "cells": [
  {
   "cell_type": "markdown",
   "metadata": {},
   "source": [
    "### Examine eddy motion parameters; combine with QC spreadsheet for usability"
   ]
  },
  {
   "cell_type": "code",
   "execution_count": 19,
   "metadata": {},
   "outputs": [],
   "source": [
    "import pandas as pd\n",
    "import numpy as np\n",
    "import seaborn as sns\n",
    "from glob import glob"
   ]
  },
  {
   "cell_type": "code",
   "execution_count": 33,
   "metadata": {},
   "outputs": [],
   "source": [
    "home = '/Users/lucindasisk/Desktop/Milgram/candlab/analyses/shapes/dwi/data/3_Eddy_Corrected'\n",
    "proj = '/Users/lucindasisk/Box/LS_Folders/CANDLab/Projects/Trauma_DTI'"
   ]
  },
  {
   "cell_type": "code",
   "execution_count": 45,
   "metadata": {},
   "outputs": [],
   "source": [
    "qc_data = pd.read_csv(proj + '/DiffusionQAShapes-ShapesDWIRawDataQAAl_DATA_2021-03-03_1332.csv').rename(columns = {'subid':'Subject'})\n",
    "qc_data['Subject'] = qc_data['Subject'].str.split('-', expand=True)"
   ]
  },
  {
   "cell_type": "code",
   "execution_count": 53,
   "metadata": {},
   "outputs": [],
   "source": [
    "subjects = pd.Series(glob(home + '/sub*')).str.replace(home + '/', '').tolist()"
   ]
  },
  {
   "cell_type": "code",
   "execution_count": 54,
   "metadata": {},
   "outputs": [],
   "source": [
    "outputs = []\n",
    "for i in range(0, len(subjects)):\n",
    "    sub = subjects[i]\n",
    "    file = pd.read_csv(home + '/{}/eddy_corrected.eddy_movement_rms'.format(sub), \n",
    "                   sep = ' ').rename(columns = {'0':\"Absolute_RMS\",'0.1':\"Relative_RMS\"}).drop(['Unnamed: 1', 'Unnamed: 3', 'Unnamed: 4'], axis=1)\n",
    "    data = file['Relative_RMS']\n",
    "    mean_rms = data.mean()\n",
    "    outputs.append([sub, mean_rms])"
   ]
  },
  {
   "cell_type": "code",
   "execution_count": 61,
   "metadata": {},
   "outputs": [],
   "source": [
    "mean_rms = pd.DataFrame(outputs, columns = ['Subject', 'Mean_RMS'])\n",
    "mean_rms['Subject'] = mean_rms['Subject'].str.replace('sub-', '')\n",
    "mean_rms_qc = pd.merge(mean_rms, qc_data[['Subject', 'scan1_ranking']], on = 'Subject', how = 'inner').sort_values(by='scan1_ranking')"
   ]
  },
  {
   "cell_type": "code",
   "execution_count": 63,
   "metadata": {},
   "outputs": [
    {
     "data": {
      "text/plain": [
       "<AxesSubplot:xlabel='scan1_ranking', ylabel='Mean_RMS'>"
      ]
     },
     "execution_count": 63,
     "metadata": {},
     "output_type": "execute_result"
    },
    {
     "data": {
      "image/png": "[encoded data removed]",
      "text/plain": [
       "<Figure size 432x288 with 1 Axes>"
      ]
     },
     "metadata": {
      "needs_background": "light"
     },
     "output_type": "display_data"
    }
   ],
   "source": [
    "sns.boxplot(x='scan1_ranking', y='Mean_RMS', data= mean_rms_qc)"
   ]
  },
  {
   "cell_type": "code",
   "execution_count": null,
   "metadata": {},
   "outputs": [],
   "source": []
  }
 ],
 "metadata": {
  "kernelspec": {
   "display_name": "Python 3",
   "language": "python",
   "name": "python3"
  },
  "language_info": {
   "codemirror_mode": {
    "name": "ipython",
    "version": 3
   },
   "file_extension": ".py",
   "mimetype": "text/x-python",
   "name": "python",
   "nbconvert_exporter": "python",
   "pygments_lexer": "ipython3",
   "version": "3.7.6"
  }
 },
 "nbformat": 4,
 "nbformat_minor": 4
}
