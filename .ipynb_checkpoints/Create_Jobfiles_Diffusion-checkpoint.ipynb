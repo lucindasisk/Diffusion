{
 "cells": [
  {
   "cell_type": "markdown",
   "metadata": {},
   "source": [
    "### Create dsQ job submission array\n",
    "#### Commands: \n",
    "\n",
    "\n",
    "ml load dSQ/1.05\n",
    "\n",
    "\n",
    "3: dsq --job-file 3_csd_dsq_job_array.txt --mem-per-cpu 10g -t 30:00:00 --mail-type ALL\n",
    "\n",
    "\n",
    "4: dsq --job-file 4_tract_dsq_job_array.txt --mem-per-cpu 10g -t 30:00:00 --mail-type ALL\n"
   ]
  },
  {
   "cell_type": "code",
   "execution_count": 23,
   "metadata": {},
   "outputs": [],
   "source": [
    "import pandas as pd\n",
    "import csv"
   ]
  },
  {
   "cell_type": "code",
   "execution_count": 27,
   "metadata": {},
   "outputs": [],
   "source": [
    "home = '/home/lms233/Github/Diffusion'\n",
    "candpath = '/gpfs/milgram/pi/gee_dylan/candlab'"
   ]
  },
  {
   "cell_type": "code",
   "execution_count": 36,
   "metadata": {},
   "outputs": [],
   "source": [
    "subject_info = pd.read_csv(candpath + '/scripts/shapes/mri/dwi/shapes_dwi_subjList_08.07.2019.txt', sep=' ', header=None)\n",
    "subjects = subject_info[0].tolist()"
   ]
  },
  {
   "cell_type": "code",
   "execution_count": 41,
   "metadata": {},
   "outputs": [],
   "source": [
    "commands_csd = []\n",
    "commands_tract = []\n",
    "\n",
    "for i in range(0, len(subjects)):\n",
    "    sub = subjects[i]\n",
    "    commands_csd.append('sh 3_sbatch_csd.sh {}'.format(sub))\n",
    "    commands_tract.append('sh 4_TractSegFlow.sh {}'.format(sub))"
   ]
  },
  {
   "cell_type": "code",
   "execution_count": 42,
   "metadata": {},
   "outputs": [],
   "source": [
    "out = pd.DataFrame(commands_csd)\n",
    "out.to_csv(home + '/3_csd_dsq_job_array.txt', sep = '\\t', header = False, index=False, \n",
    "           quoting=csv.QUOTE_NONE)\n",
    "\n",
    "out_tract = pd.DataFrame(commands_tract)\n",
    "out_tract.to_csv(home + '/4_tract_dsq_job_array.txt', sep = '\\t', header = False, index=False, \n",
    "           quoting=csv.QUOTE_NONE)"
   ]
  },
  {
   "cell_type": "code",
   "execution_count": null,
   "metadata": {},
   "outputs": [],
   "source": []
  }
 ],
 "metadata": {
  "kernelspec": {
   "display_name": "Python 3",
   "language": "python",
   "name": "python3"
  },
  "language_info": {
   "codemirror_mode": {
    "name": "ipython",
    "version": 3
   },
   "file_extension": ".py",
   "mimetype": "text/x-python",
   "name": "python",
   "nbconvert_exporter": "python",
   "pygments_lexer": "ipython3",
   "version": "3.7.6"
  }
 },
 "nbformat": 4,
 "nbformat_minor": 4
}
