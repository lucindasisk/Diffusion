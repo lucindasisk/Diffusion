{
 "cells": [
  {
   "cell_type": "code",
   "execution_count": 1,
   "id": "reduced-crime",
   "metadata": {},
   "outputs": [],
   "source": [
    "import pandas as pd\n",
    "import numpy as np\n",
    "from datetime import date\n",
    "import statsmodels.api as sm\n",
    "import seaborn as sns\n",
    "from glob import glob\n",
    "import copy\n",
    "from statsmodels.stats.multitest import fdrcorrection as fdrcorr\n",
    "pd.options.display.max_rows = 999\n",
    "pd.options.display.max_columns = 999\n",
    "\n",
    "today=str(date.today())"
   ]
  },
  {
   "cell_type": "code",
   "execution_count": 2,
   "id": "duplicate-gibson",
   "metadata": {},
   "outputs": [
    {
     "name": "stdout",
     "output_type": "stream",
     "text": [
      "Number Subject: 106\n"
     ]
    }
   ],
   "source": [
    "# Data paths\n",
    "candpath = '/gpfs/milgram/pi/gee_dylan/candlab'\n",
    "datapath = candpath + '/analyses/shapes/dwi/data'\n",
    "\n",
    "# Import subjects\n",
    "subs = ri_sublist = pd.read_csv(datapath + '/../subjectlist_preDiss_motion0.75_n107_2021-03-29.csv', names = ['index', 'Subject'], header = 0)\n",
    "print('Number Subject: {}'.format(len(subs)))\n",
    "\n",
    "#DTI Column Names\n",
    "colnames_dti = ['AF_left', 'AF_right', 'ATR_left', 'ATR_right', 'CC_1', 'CC_2', 'CC_3',\n",
    "       'CC_4', 'CC_5', 'CC_6', 'CC_7', 'CG_left', 'CG_right', 'CST_left',\n",
    "       'CST_right', 'FPT_left', 'FPT_right', 'ICP_left', 'ICP_right',\n",
    "       'IFO_left', 'IFO_right', 'ILF_left', 'ILF_right', 'MCP', 'OR_left',\n",
    "       'OR_right', 'POPT_left', 'POPT_right', 'SCP_left', 'SCP_right',\n",
    "       'SLF_I_left', 'SLF_I_right', 'SLF_II_left', 'SLF_II_right',\n",
    "       'SLF_III_left', 'SLF_III_right', 'STR_left', 'STR_right', 'UF_left',\n",
    "       'UF_right', 'T_PREM_left', 'T_PREM_right', 'T_PAR_left', 'T_PAR_right',\n",
    "       'T_OCC_left', 'T_OCC_right', 'ST_FO_left', 'ST_FO_right',\n",
    "       'ST_PREM_left', 'ST_PREM_right']"
   ]
  },
  {
   "cell_type": "markdown",
   "id": "fresh-plant",
   "metadata": {},
   "source": [
    "### Data Cleaning"
   ]
  },
  {
   "cell_type": "code",
   "execution_count": 17,
   "id": "dynamic-prototype",
   "metadata": {},
   "outputs": [
    {
     "name": "stdout",
     "output_type": "stream",
     "text": [
      "RI Data Size: (142, 256)\n"
     ]
    }
   ],
   "source": [
    "# Import demographic data\n",
    "demo_raw = pd.read_csv(datapath + '/../Flux_Analysis/Behavioral/Demographic_Info.csv', \n",
    "                   header = 0).rename(columns = {'subj_id':'Subject', 'branch_a_sex':'sex'})\n",
    "demo = demo_raw[['Subject', 'sex', 'asr_age']].set_index('Subject')\n",
    "\n",
    "diag = pd.read_csv(datapath + '/../Flux_Analysis/Behavioral/DiagnosticStatus.csv', \n",
    "                   header = 0).rename(columns = {'record_id':'Subject', 'cc_group':'diagnostic_group'})\n",
    "diag_only = diag[['Subject', 'diagnostic_group']].set_index('Subject')\n",
    "\n",
    "demo_data = pd.concat([demo, diag_only], axis=1).reset_index().rename(columns={'index':'Subject'})\n",
    "\n",
    "#Import RI data (Wide)\n",
    "ri1 = pd.read_csv(datapath + '/../Flux_Analysis/Behavioral/Cleaned_WIDE_threat_endorsements_2021-03-26.csv', \n",
    "                  header = 0).rename(columns = {'Unnamed: 0':'Subject'}).drop([0,1], axis=0)\n",
    "ri1.columns = 'threat_' + ri1.columns\n",
    "ri1 = ri1.rename(columns = {'threat_Subject':'Subject'}).set_index('Subject')\n",
    "\n",
    "ri2 = pd.read_csv(datapath + '/../Flux_Analysis/Behavioral/Cleaned_WIDE_dep_endorsements_2021-03-26.csv', \n",
    "                  header = 0).rename(columns = {'Unnamed: 0':'Subject'}).drop([0,1], axis=0)\n",
    "ri2.columns = 'dep_' + ri2.columns\n",
    "ri2 = ri2.rename(columns = {'dep_Subject':'Subject'}).set_index('Subject')\n",
    "\n",
    "ri3 = pd.read_csv(datapath + '/../Flux_Analysis/Behavioral/Cleaned_WIDE_any_endorsements_2021-03-26.csv', \n",
    "                  header = 0).rename(columns = {'Unnamed: 0':'Subject'}).drop([0,1], axis=0)\n",
    "ri3.columns = 'all_' + ri3.columns\n",
    "ri3 = ri3.rename(columns = {'all_Subject':'Subject'}).set_index('Subject')\n",
    "\n",
    "#Concatenate RI data\n",
    "ri_data = pd.concat([ri1, ri2, ri3], axis=1).reset_index().rename(columns={'index':'Subject'})\n",
    "print(\"RI Data Size: {}\".format(ri_data.shape))"
   ]
  },
  {
   "cell_type": "code",
   "execution_count": 18,
   "id": "prompt-savage",
   "metadata": {},
   "outputs": [
    {
     "name": "stdout",
     "output_type": "stream",
     "text": [
      "Threat or Dep endorsements only size: (115, 55)\n"
     ]
    }
   ],
   "source": [
    "# Keep only average severity ratings\n",
    "r1_thr = ri1.reset_index().loc[:,\"Subject\":\"threat_avg_sev.29\"]\n",
    "r2_thr = ri2.reset_index().loc[:,\"Subject\":\"dep_avg_sev.23\"]\n",
    "r3_thr = ri3.reset_index().loc[:,\"Subject\":\"all_avg_sev.29\"]\n",
    "\n",
    "ri_data_avg1 = pd.merge(r1_thr, r2_thr, on='Subject', how = 'outer')\n",
    "# ri_data_avg2 = pd.merge(ri_|data_avg1, r3_thr, on='Subject', how = 'outer')\n",
    "\n",
    "# Keep only threat and dep\n",
    "ri_data_avg = ri_data_avg1\n",
    "print(\"Threat or Dep endorsements only size: {}\".format(ri_data_avg.shape))"
   ]
  },
  {
   "cell_type": "code",
   "execution_count": 5,
   "id": "sustained-border",
   "metadata": {},
   "outputs": [],
   "source": [
    "#Import RI data (long)\n",
    "ri4 = pd.read_csv(datapath + '/../Flux_Analysis/Behavioral/Cleaned_threat_endorsements_2021-03-26.csv',\n",
    "                  header = 0).rename(columns = {'ucla_a_id':'Subject'})\n",
    "ri4.columns = 'threat_' + ri4.columns\n",
    "ri4 = ri4.rename(columns = {'threat_Subject':'Subject'})\n",
    "\n",
    "ri5 = pd.read_csv(datapath + '/../Flux_Analysis/Behavioral/Cleaned_dep_endorsements_2021-03-26.csv',\n",
    "                  header = 0).rename(columns = {'ucla_a_id':'Subject'})\n",
    "ri5.columns = 'dep_' + ri5.columns\n",
    "ri5 = ri5.rename(columns = {'dep_Subject':'Subject'})\n",
    "\n",
    "ri6 = pd.read_csv(datapath + '/../Flux_Analysis/Behavioral/Cleaned_all_endorsements_2021-03-26.csv',\n",
    "                  header = 0).rename(columns = {'ucla_a_id':'Subject'})\n",
    "ri6.columns = 'all_' + ri6.columns\n",
    "ri6 = ri6.rename(columns = {'all_Subject':'Subject'})"
   ]
  },
  {
   "cell_type": "code",
   "execution_count": 20,
   "id": "processed-carbon",
   "metadata": {},
   "outputs": [
    {
     "name": "stdout",
     "output_type": "stream",
     "text": [
      "(87, 259)\n"
     ]
    }
   ],
   "source": [
    "#Merge data together\n",
    "m1 = pd.merge(subs['Subject'], demo_data, how = 'left', on='Subject').dropna(how = 'any', axis=0) #Drop pts without age/sex/dx\n",
    "m2 = pd.merge(m1, ri_data, how = 'left', on='Subject')\n",
    "\n",
    "bx_df = m2\n",
    "bx_df.shape\n",
    "print(bx_df.shape)\n",
    "\n",
    "long_thr_df = pd.merge(m1, ri4, how = 'inner', on = 'Subject')\n",
    "long_dep_df = pd.merge(m1, ri5, how = 'inner', on = 'Subject')\n",
    "long_all_df = pd.merge(m1, ri6, how = 'inner', on = 'Subject')\n",
    "\n",
    "#Write to csv\n",
    "# bx_df.to_csv(datapath + '/Merged_RI_Behavioral_Sample_n{}_{}.csv'.format(len(bx_df), today))\n",
    "# ri_data_avg.to_csv(datapath + '/RI_data_ThreatDepOnly_n{}_{}.csv'.format(len(ri_data_avg), today))\n",
    "# demo_data.to_csv(datapath + '/DemographicDataOnly_n{}_{}.csv'.format(len(demo_data), today))"
   ]
  },
  {
   "cell_type": "code",
   "execution_count": 7,
   "id": "prompt-rwanda",
   "metadata": {},
   "outputs": [],
   "source": [
    "def compute_tract_means(sub_df):\n",
    "    peak_output = np.ones((len(sub_df), 50), dtype='object')\n",
    "    fa_output = np.ones((len(sub_df), 50), dtype='object')\n",
    "    \n",
    "    for i in range(0, len(sub_df)):\n",
    "        subx = sub_df['Subject'][i]\n",
    "        sub = 'sub-' + subx\n",
    "        fa_files = glob(datapath + '/tract_output/{}/Tractometry_TensorMetrics_{}.csv'.format(sub, sub))\n",
    "        peak_files = glob(datapath + '/tract_output/{}/Tractometry_PeakLength_{}.csv'.format(sub, sub))\n",
    "\n",
    "        peak_rawdata = pd.read_csv(peak_files[0], header = 0, sep = ';')\n",
    "        fa_rawdata = pd.read_csv(fa_files[0], header = 0, sep = ';')\n",
    "\n",
    "        column_names = peak_rawdata.columns\n",
    "        peak_means = peak_rawdata.mean(axis=0)\n",
    "        fa_means = fa_rawdata.mean(axis=0)\n",
    "\n",
    "        peak_output[i,:] = peak_means\n",
    "        fa_output[i,:] = fa_means\n",
    "            \n",
    "    output_peak_df = pd.concat([sub_df['Subject'], pd.DataFrame(peak_output, columns = column_names)], axis=1)\n",
    "    output_fa_df = pd.concat([sub_df['Subject'], pd.DataFrame(fa_output, columns = column_names)], axis=1)\n",
    "    \n",
    "    return output_peak_df, output_fa_df"
   ]
  },
  {
   "cell_type": "code",
   "execution_count": 8,
   "id": "labeled-edgar",
   "metadata": {},
   "outputs": [],
   "source": [
    "def extract_uf(sub_df):\n",
    "    l_output = np.ones((len(sub_df), 98), dtype='object')\n",
    "    r_output = np.ones((len(sub_df), 98), dtype='object')\n",
    "    for i in range(0, len(sub_df)):\n",
    "        subx = sub_df['Subject'][i]\n",
    "        sub = 'sub-' + subx\n",
    "        try:\n",
    "            files = glob(datapath + '/tract_output/{}/Tractometry_TensorMetrics_{}.csv'.format(sub, sub))\n",
    "            rawdata = pd.read_csv(files[0], header = 0, sep = ';')\n",
    "            luf_data = rawdata['UF_left']\n",
    "            ruf_data = rawdata['UF_right']\n",
    "            l_output[i, :] = luf_data\n",
    "            r_output[i, :] = ruf_data\n",
    "        except:\n",
    "            print(\"No output for {}\".format(sub))\n",
    "            l_output[i, :] = np.nan\n",
    "            r_output[i, :] = np.nan\n",
    "    l_output_df = pd.concat([sub_df['Subject'], pd.DataFrame(l_output)], axis=1)\n",
    "    r_output_df = pd.concat([sub_df['Subject'], pd.DataFrame(r_output)], axis=1)\n",
    "    return l_output_df, r_output_df\n",
    "\n",
    "luf_df, ruf_df = extract_uf(bx_df)"
   ]
  },
  {
   "cell_type": "code",
   "execution_count": 9,
   "id": "concerned-wound",
   "metadata": {},
   "outputs": [],
   "source": [
    "# uf_df = pd.merge(luf_df, ruf_df, on='Subject')\n",
    "# uf_df.to_csv('~/AH_Thesis_DTI_FA_{}.csv'.format(today))"
   ]
  },
  {
   "cell_type": "code",
   "execution_count": 10,
   "id": "piano-trace",
   "metadata": {},
   "outputs": [],
   "source": [
    "def regress_covariates(dti_df, behav_df):\n",
    "    regressed_output = np.ones((len(dti_df), len(dti_df.columns)-1))\n",
    "    regressors = behav_df[['sex', 'asr_age']]\n",
    "    regressors['sex'] = regressors['sex'].astype('category')\n",
    "    regressors['asr_age'] = regressors['asr_age'].astype(float)\n",
    "#     regressors['diagnostic_group'] = regressors['diagnostic_group'].astype('category')\n",
    "    regressors = sm.add_constant(regressors) #Add intercept for OLS regression per https://www.statsmodels.org/stable/examples/notebooks/generated/ols.html\n",
    "    f_regressors = regressors.to_numpy()\n",
    "    for i in range(0, len(dti_df.columns)-1):\n",
    "        #Set variables and ensure dtype\n",
    "        dti_col = dti_df.drop('Subject', axis=1).to_numpy()[:,i].astype(float)\n",
    "        model = sm.OLS(endog = dti_col, exog=f_regressors)\n",
    "        result = model.fit()\n",
    "        regressed_output[:,i] = result.resid\n",
    "    \n",
    "    return regressed_output"
   ]
  },
  {
   "cell_type": "code",
   "execution_count": 13,
   "id": "equipped-energy",
   "metadata": {},
   "outputs": [
    {
     "data": {
      "text/html": [
       "<div>\n",
       "<style scoped>\n",
       "    .dataframe tbody tr th:only-of-type {\n",
       "        vertical-align: middle;\n",
       "    }\n",
       "\n",
       "    .dataframe tbody tr th {\n",
       "        vertical-align: top;\n",
       "    }\n",
       "\n",
       "    .dataframe thead th {\n",
       "        text-align: right;\n",
       "    }\n",
       "</style>\n",
       "<table border=\"1\" class=\"dataframe\">\n",
       "  <thead>\n",
       "    <tr style=\"text-align: right;\">\n",
       "      <th></th>\n",
       "      <th>Subject</th>\n",
       "      <th>AF_left</th>\n",
       "      <th>AF_right</th>\n",
       "      <th>ATR_left</th>\n",
       "      <th>ATR_right</th>\n",
       "      <th>CC_1</th>\n",
       "      <th>CC_2</th>\n",
       "      <th>CC_3</th>\n",
       "      <th>CC_4</th>\n",
       "      <th>CC_5</th>\n",
       "      <th>CC_6</th>\n",
       "      <th>CC_7</th>\n",
       "      <th>CG_left</th>\n",
       "      <th>CG_right</th>\n",
       "      <th>CST_left</th>\n",
       "      <th>CST_right</th>\n",
       "      <th>FPT_left</th>\n",
       "      <th>FPT_right</th>\n",
       "      <th>ICP_left</th>\n",
       "      <th>ICP_right</th>\n",
       "      <th>IFO_left</th>\n",
       "      <th>IFO_right</th>\n",
       "      <th>ILF_left</th>\n",
       "      <th>ILF_right</th>\n",
       "      <th>MCP</th>\n",
       "      <th>OR_left</th>\n",
       "      <th>OR_right</th>\n",
       "      <th>POPT_left</th>\n",
       "      <th>POPT_right</th>\n",
       "      <th>SCP_left</th>\n",
       "      <th>SCP_right</th>\n",
       "      <th>SLF_I_left</th>\n",
       "      <th>SLF_I_right</th>\n",
       "      <th>SLF_II_left</th>\n",
       "      <th>SLF_II_right</th>\n",
       "      <th>SLF_III_left</th>\n",
       "      <th>SLF_III_right</th>\n",
       "      <th>STR_left</th>\n",
       "      <th>STR_right</th>\n",
       "      <th>UF_left</th>\n",
       "      <th>UF_right</th>\n",
       "      <th>T_PREM_left</th>\n",
       "      <th>T_PREM_right</th>\n",
       "      <th>T_PAR_left</th>\n",
       "      <th>T_PAR_right</th>\n",
       "      <th>T_OCC_left</th>\n",
       "      <th>T_OCC_right</th>\n",
       "      <th>ST_FO_left</th>\n",
       "      <th>ST_FO_right</th>\n",
       "      <th>ST_PREM_left</th>\n",
       "      <th>ST_PREM_right</th>\n",
       "    </tr>\n",
       "  </thead>\n",
       "  <tbody>\n",
       "    <tr>\n",
       "      <th>0</th>\n",
       "      <td>A217</td>\n",
       "      <td>0.468963</td>\n",
       "      <td>0.461633</td>\n",
       "      <td>0.389679</td>\n",
       "      <td>0.417515</td>\n",
       "      <td>0.491955</td>\n",
       "      <td>0.515585</td>\n",
       "      <td>0.529172</td>\n",
       "      <td>0.551143</td>\n",
       "      <td>0.562383</td>\n",
       "      <td>0.562578</td>\n",
       "      <td>0.611376</td>\n",
       "      <td>0.457272</td>\n",
       "      <td>0.469396</td>\n",
       "      <td>0.598744</td>\n",
       "      <td>0.563699</td>\n",
       "      <td>0.50373</td>\n",
       "      <td>0.522753</td>\n",
       "      <td>0.392174</td>\n",
       "      <td>0.417686</td>\n",
       "      <td>0.455425</td>\n",
       "      <td>0.489264</td>\n",
       "      <td>0.487238</td>\n",
       "      <td>0.457646</td>\n",
       "      <td>0.511925</td>\n",
       "      <td>0.45038</td>\n",
       "      <td>0.45149</td>\n",
       "      <td>0.601379</td>\n",
       "      <td>0.581255</td>\n",
       "      <td>0.445319</td>\n",
       "      <td>0.435261</td>\n",
       "      <td>0.496612</td>\n",
       "      <td>0.519913</td>\n",
       "      <td>0.450483</td>\n",
       "      <td>0.4741</td>\n",
       "      <td>0.468927</td>\n",
       "      <td>0.449593</td>\n",
       "      <td>0.50536</td>\n",
       "      <td>0.484358</td>\n",
       "      <td>0.407916</td>\n",
       "      <td>0.439578</td>\n",
       "      <td>0.458762</td>\n",
       "      <td>0.441596</td>\n",
       "      <td>0.53073</td>\n",
       "      <td>0.515384</td>\n",
       "      <td>0.452087</td>\n",
       "      <td>0.464919</td>\n",
       "      <td>0.407723</td>\n",
       "      <td>0.425993</td>\n",
       "      <td>0.426287</td>\n",
       "      <td>0.434601</td>\n",
       "    </tr>\n",
       "    <tr>\n",
       "      <th>1</th>\n",
       "      <td>A222</td>\n",
       "      <td>0.489558</td>\n",
       "      <td>0.452553</td>\n",
       "      <td>0.451614</td>\n",
       "      <td>0.446098</td>\n",
       "      <td>0.52672</td>\n",
       "      <td>0.535175</td>\n",
       "      <td>0.540944</td>\n",
       "      <td>0.562155</td>\n",
       "      <td>0.553998</td>\n",
       "      <td>0.547171</td>\n",
       "      <td>0.545471</td>\n",
       "      <td>0.417078</td>\n",
       "      <td>0.43093</td>\n",
       "      <td>0.591601</td>\n",
       "      <td>0.568663</td>\n",
       "      <td>0.565113</td>\n",
       "      <td>0.539151</td>\n",
       "      <td>0.430386</td>\n",
       "      <td>0.433853</td>\n",
       "      <td>0.484355</td>\n",
       "      <td>0.484962</td>\n",
       "      <td>0.466876</td>\n",
       "      <td>0.457851</td>\n",
       "      <td>0.487253</td>\n",
       "      <td>0.499654</td>\n",
       "      <td>0.507591</td>\n",
       "      <td>0.574457</td>\n",
       "      <td>0.578123</td>\n",
       "      <td>0.453371</td>\n",
       "      <td>0.443098</td>\n",
       "      <td>0.482047</td>\n",
       "      <td>0.496835</td>\n",
       "      <td>0.483797</td>\n",
       "      <td>0.495138</td>\n",
       "      <td>0.470902</td>\n",
       "      <td>0.457696</td>\n",
       "      <td>0.492876</td>\n",
       "      <td>0.477945</td>\n",
       "      <td>0.427234</td>\n",
       "      <td>0.431092</td>\n",
       "      <td>0.497244</td>\n",
       "      <td>0.455738</td>\n",
       "      <td>0.514017</td>\n",
       "      <td>0.497762</td>\n",
       "      <td>0.503734</td>\n",
       "      <td>0.50915</td>\n",
       "      <td>0.446618</td>\n",
       "      <td>0.44881</td>\n",
       "      <td>0.409958</td>\n",
       "      <td>0.435302</td>\n",
       "    </tr>\n",
       "    <tr>\n",
       "      <th>2</th>\n",
       "      <td>A223</td>\n",
       "      <td>0.457346</td>\n",
       "      <td>0.481592</td>\n",
       "      <td>0.411065</td>\n",
       "      <td>0.412823</td>\n",
       "      <td>0.524249</td>\n",
       "      <td>0.527781</td>\n",
       "      <td>0.56074</td>\n",
       "      <td>0.565387</td>\n",
       "      <td>0.54283</td>\n",
       "      <td>0.546547</td>\n",
       "      <td>0.58929</td>\n",
       "      <td>0.465431</td>\n",
       "      <td>0.466349</td>\n",
       "      <td>0.565681</td>\n",
       "      <td>0.551067</td>\n",
       "      <td>0.513953</td>\n",
       "      <td>0.50358</td>\n",
       "      <td>0.41631</td>\n",
       "      <td>0.420126</td>\n",
       "      <td>0.495114</td>\n",
       "      <td>0.490775</td>\n",
       "      <td>0.490242</td>\n",
       "      <td>0.493738</td>\n",
       "      <td>0.479832</td>\n",
       "      <td>0.493557</td>\n",
       "      <td>0.498446</td>\n",
       "      <td>0.538839</td>\n",
       "      <td>0.531757</td>\n",
       "      <td>0.44936</td>\n",
       "      <td>0.44264</td>\n",
       "      <td>0.486707</td>\n",
       "      <td>0.510947</td>\n",
       "      <td>0.430168</td>\n",
       "      <td>0.468716</td>\n",
       "      <td>0.474926</td>\n",
       "      <td>0.464262</td>\n",
       "      <td>0.492035</td>\n",
       "      <td>0.456042</td>\n",
       "      <td>0.441122</td>\n",
       "      <td>0.443644</td>\n",
       "      <td>0.447899</td>\n",
       "      <td>0.426514</td>\n",
       "      <td>0.494439</td>\n",
       "      <td>0.482133</td>\n",
       "      <td>0.495037</td>\n",
       "      <td>0.496586</td>\n",
       "      <td>0.414226</td>\n",
       "      <td>0.44346</td>\n",
       "      <td>0.398844</td>\n",
       "      <td>0.41443</td>\n",
       "    </tr>\n",
       "    <tr>\n",
       "      <th>3</th>\n",
       "      <td>A225</td>\n",
       "      <td>0.444737</td>\n",
       "      <td>0.454042</td>\n",
       "      <td>0.395934</td>\n",
       "      <td>0.4078</td>\n",
       "      <td>0.491396</td>\n",
       "      <td>0.515098</td>\n",
       "      <td>0.525785</td>\n",
       "      <td>0.539193</td>\n",
       "      <td>0.577194</td>\n",
       "      <td>0.578721</td>\n",
       "      <td>0.641262</td>\n",
       "      <td>0.493755</td>\n",
       "      <td>0.426354</td>\n",
       "      <td>0.0</td>\n",
       "      <td>0.546285</td>\n",
       "      <td>0.484827</td>\n",
       "      <td>0.522896</td>\n",
       "      <td>0.379121</td>\n",
       "      <td>0.408479</td>\n",
       "      <td>0.440372</td>\n",
       "      <td>0.441169</td>\n",
       "      <td>0.450232</td>\n",
       "      <td>0.442817</td>\n",
       "      <td>0.506221</td>\n",
       "      <td>0.452881</td>\n",
       "      <td>0.472672</td>\n",
       "      <td>0.561147</td>\n",
       "      <td>0.544846</td>\n",
       "      <td>0.457495</td>\n",
       "      <td>0.434554</td>\n",
       "      <td>0.463724</td>\n",
       "      <td>0.491054</td>\n",
       "      <td>0.479617</td>\n",
       "      <td>0.491026</td>\n",
       "      <td>0.439131</td>\n",
       "      <td>0.431069</td>\n",
       "      <td>0.504882</td>\n",
       "      <td>0.488211</td>\n",
       "      <td>0.415551</td>\n",
       "      <td>0.434419</td>\n",
       "      <td>0.461518</td>\n",
       "      <td>0.491342</td>\n",
       "      <td>0.509415</td>\n",
       "      <td>0.502602</td>\n",
       "      <td>0.437382</td>\n",
       "      <td>0.496046</td>\n",
       "      <td>0.413949</td>\n",
       "      <td>0.427909</td>\n",
       "      <td>0.386759</td>\n",
       "      <td>0.417997</td>\n",
       "    </tr>\n",
       "    <tr>\n",
       "      <th>4</th>\n",
       "      <td>A228</td>\n",
       "      <td>0.478088</td>\n",
       "      <td>0.453747</td>\n",
       "      <td>0.437857</td>\n",
       "      <td>0.445976</td>\n",
       "      <td>0.547128</td>\n",
       "      <td>0.55052</td>\n",
       "      <td>0.568068</td>\n",
       "      <td>0.575193</td>\n",
       "      <td>0.561112</td>\n",
       "      <td>0.579231</td>\n",
       "      <td>0.614927</td>\n",
       "      <td>0.437916</td>\n",
       "      <td>0.459401</td>\n",
       "      <td>0.571199</td>\n",
       "      <td>0.565458</td>\n",
       "      <td>0.531532</td>\n",
       "      <td>0.539423</td>\n",
       "      <td>0.381905</td>\n",
       "      <td>0.369471</td>\n",
       "      <td>0.486676</td>\n",
       "      <td>0.490979</td>\n",
       "      <td>0.468814</td>\n",
       "      <td>0.490148</td>\n",
       "      <td>0.510576</td>\n",
       "      <td>0.534758</td>\n",
       "      <td>0.501424</td>\n",
       "      <td>0.570973</td>\n",
       "      <td>0.568538</td>\n",
       "      <td>0.484075</td>\n",
       "      <td>0.4696</td>\n",
       "      <td>0.478712</td>\n",
       "      <td>0.479246</td>\n",
       "      <td>0.457306</td>\n",
       "      <td>0.470236</td>\n",
       "      <td>0.492765</td>\n",
       "      <td>0.467112</td>\n",
       "      <td>0.478361</td>\n",
       "      <td>0.49265</td>\n",
       "      <td>0.432052</td>\n",
       "      <td>0.439133</td>\n",
       "      <td>0.488342</td>\n",
       "      <td>0.502209</td>\n",
       "      <td>0.516346</td>\n",
       "      <td>0.511177</td>\n",
       "      <td>0.531843</td>\n",
       "      <td>0.494574</td>\n",
       "      <td>0.42832</td>\n",
       "      <td>0.459303</td>\n",
       "      <td>0.434517</td>\n",
       "      <td>0.4867</td>\n",
       "    </tr>\n",
       "    <tr>\n",
       "      <th>5</th>\n",
       "      <td>A230</td>\n",
       "      <td>0.4845</td>\n",
       "      <td>0.492817</td>\n",
       "      <td>0.387741</td>\n",
       "      <td>0.418913</td>\n",
       "      <td>0.526433</td>\n",
       "      <td>0.525003</td>\n",
       "      <td>0.557804</td>\n",
       "      <td>0.57152</td>\n",
       "      <td>0.586368</td>\n",
       "      <td>0.57288</td>\n",
       "      <td>0.619185</td>\n",
       "      <td>0.467993</td>\n",
       "      <td>0.477755</td>\n",
       "      <td>0.618892</td>\n",
       "      <td>0.595376</td>\n",
       "      <td>0.539543</td>\n",
       "      <td>0.545293</td>\n",
       "      <td>0.421962</td>\n",
       "      <td>0.419497</td>\n",
       "      <td>0.484751</td>\n",
       "      <td>0.484492</td>\n",
       "      <td>0.489795</td>\n",
       "      <td>0.476675</td>\n",
       "      <td>0.503435</td>\n",
       "      <td>0.521216</td>\n",
       "      <td>0.516258</td>\n",
       "      <td>0.584667</td>\n",
       "      <td>0.597916</td>\n",
       "      <td>0.463498</td>\n",
       "      <td>0.447662</td>\n",
       "      <td>0.499817</td>\n",
       "      <td>0.522707</td>\n",
       "      <td>0.481415</td>\n",
       "      <td>0.475625</td>\n",
       "      <td>0.472187</td>\n",
       "      <td>0.476219</td>\n",
       "      <td>0.535379</td>\n",
       "      <td>0.507945</td>\n",
       "      <td>0.451392</td>\n",
       "      <td>0.440599</td>\n",
       "      <td>0.458433</td>\n",
       "      <td>0.470509</td>\n",
       "      <td>0.524434</td>\n",
       "      <td>0.513684</td>\n",
       "      <td>0.513241</td>\n",
       "      <td>0.511801</td>\n",
       "      <td>0.433742</td>\n",
       "      <td>0.437906</td>\n",
       "      <td>0.414579</td>\n",
       "      <td>0.435837</td>\n",
       "    </tr>\n",
       "    <tr>\n",
       "      <th>6</th>\n",
       "      <td>A232</td>\n",
       "      <td>0.430368</td>\n",
       "      <td>0.436779</td>\n",
       "      <td>0.391045</td>\n",
       "      <td>0.392609</td>\n",
       "      <td>0.540731</td>\n",
       "      <td>0.516251</td>\n",
       "      <td>0.547351</td>\n",
       "      <td>0.565751</td>\n",
       "      <td>0.577135</td>\n",
       "      <td>0.573701</td>\n",
       "      <td>0.613564</td>\n",
       "      <td>0.448012</td>\n",
       "      <td>0.465513</td>\n",
       "      <td>0.559781</td>\n",
       "      <td>0.552478</td>\n",
       "      <td>0.517911</td>\n",
       "      <td>0.504968</td>\n",
       "      <td>0.401454</td>\n",
       "      <td>0.400356</td>\n",
       "      <td>0.450057</td>\n",
       "      <td>0.465734</td>\n",
       "      <td>0.438989</td>\n",
       "      <td>0.454418</td>\n",
       "      <td>0.45669</td>\n",
       "      <td>0.495742</td>\n",
       "      <td>0.482785</td>\n",
       "      <td>0.569779</td>\n",
       "      <td>0.556471</td>\n",
       "      <td>0.440422</td>\n",
       "      <td>0.427064</td>\n",
       "      <td>0.45499</td>\n",
       "      <td>0.487707</td>\n",
       "      <td>0.416574</td>\n",
       "      <td>0.441555</td>\n",
       "      <td>0.446451</td>\n",
       "      <td>0.440996</td>\n",
       "      <td>0.51329</td>\n",
       "      <td>0.488679</td>\n",
       "      <td>0.406734</td>\n",
       "      <td>0.407056</td>\n",
       "      <td>0.445796</td>\n",
       "      <td>0.416812</td>\n",
       "      <td>0.503234</td>\n",
       "      <td>0.484729</td>\n",
       "      <td>0.484122</td>\n",
       "      <td>0.482448</td>\n",
       "      <td>0.410727</td>\n",
       "      <td>0.418386</td>\n",
       "      <td>0.401324</td>\n",
       "      <td>0.41426</td>\n",
       "    </tr>\n",
       "    <tr>\n",
       "      <th>7</th>\n",
       "      <td>A233</td>\n",
       "      <td>0.46837</td>\n",
       "      <td>0.459335</td>\n",
       "      <td>0.423961</td>\n",
       "      <td>0.425536</td>\n",
       "      <td>0.580726</td>\n",
       "      <td>0.544787</td>\n",
       "      <td>0.563392</td>\n",
       "      <td>0.593803</td>\n",
       "      <td>0.583345</td>\n",
       "      <td>0.568936</td>\n",
       "      <td>0.607526</td>\n",
       "      <td>0.468509</td>\n",
       "      <td>0.452362</td>\n",
       "      <td>0.567839</td>\n",
       "      <td>0.572154</td>\n",
       "      <td>0.532106</td>\n",
       "      <td>0.544914</td>\n",
       "      <td>0.41914</td>\n",
       "      <td>0.4217</td>\n",
       "      <td>0.480946</td>\n",
       "      <td>0.483022</td>\n",
       "      <td>0.461628</td>\n",
       "      <td>0.481247</td>\n",
       "      <td>0.482719</td>\n",
       "      <td>0.460948</td>\n",
       "      <td>0.481618</td>\n",
       "      <td>0.528318</td>\n",
       "      <td>0.563493</td>\n",
       "      <td>0.475938</td>\n",
       "      <td>0.472721</td>\n",
       "      <td>0.483282</td>\n",
       "      <td>0.487456</td>\n",
       "      <td>0.443358</td>\n",
       "      <td>0.446308</td>\n",
       "      <td>0.49152</td>\n",
       "      <td>0.47292</td>\n",
       "      <td>0.485702</td>\n",
       "      <td>0.509651</td>\n",
       "      <td>0.438497</td>\n",
       "      <td>0.430378</td>\n",
       "      <td>0.450467</td>\n",
       "      <td>0.460967</td>\n",
       "      <td>0.450257</td>\n",
       "      <td>0.493314</td>\n",
       "      <td>0.469947</td>\n",
       "      <td>0.474368</td>\n",
       "      <td>0.413563</td>\n",
       "      <td>0.430746</td>\n",
       "      <td>0.416954</td>\n",
       "      <td>0.447619</td>\n",
       "    </tr>\n",
       "    <tr>\n",
       "      <th>8</th>\n",
       "      <td>A234</td>\n",
       "      <td>0.467518</td>\n",
       "      <td>0.452373</td>\n",
       "      <td>0.443516</td>\n",
       "      <td>0.47247</td>\n",
       "      <td>0.516402</td>\n",
       "      <td>0.545105</td>\n",
       "      <td>0.538999</td>\n",
       "      <td>0.560083</td>\n",
       "      <td>0.558317</td>\n",
       "      <td>0.566455</td>\n",
       "      <td>0.596828</td>\n",
       "      <td>0.445064</td>\n",
       "      <td>0.476875</td>\n",
       "      <td>0.588584</td>\n",
       "      <td>0.578962</td>\n",
       "      <td>0.538737</td>\n",
       "      <td>0.579158</td>\n",
       "      <td>0.468563</td>\n",
       "      <td>0.466667</td>\n",
       "      <td>0.503426</td>\n",
       "      <td>0.489619</td>\n",
       "      <td>0.47804</td>\n",
       "      <td>0.489412</td>\n",
       "      <td>0.511804</td>\n",
       "      <td>0.500599</td>\n",
       "      <td>0.507519</td>\n",
       "      <td>0.583892</td>\n",
       "      <td>0.576706</td>\n",
       "      <td>0.476912</td>\n",
       "      <td>0.472223</td>\n",
       "      <td>0.487058</td>\n",
       "      <td>0.476091</td>\n",
       "      <td>0.442338</td>\n",
       "      <td>0.501809</td>\n",
       "      <td>0.437986</td>\n",
       "      <td>0.466107</td>\n",
       "      <td>0.48662</td>\n",
       "      <td>0.490124</td>\n",
       "      <td>0.449868</td>\n",
       "      <td>0.462347</td>\n",
       "      <td>0.485028</td>\n",
       "      <td>0.485808</td>\n",
       "      <td>0.530588</td>\n",
       "      <td>0.510956</td>\n",
       "      <td>0.494119</td>\n",
       "      <td>0.514149</td>\n",
       "      <td>0.454833</td>\n",
       "      <td>0.463624</td>\n",
       "      <td>0.401631</td>\n",
       "      <td>0.424186</td>\n",
       "    </tr>\n",
       "    <tr>\n",
       "      <th>9</th>\n",
       "      <td>A237</td>\n",
       "      <td>0.47387</td>\n",
       "      <td>0.464609</td>\n",
       "      <td>0.426031</td>\n",
       "      <td>0.423547</td>\n",
       "      <td>0.584448</td>\n",
       "      <td>0.535556</td>\n",
       "      <td>0.54698</td>\n",
       "      <td>0.557952</td>\n",
       "      <td>0.552966</td>\n",
       "      <td>0.553974</td>\n",
       "      <td>0.594263</td>\n",
       "      <td>0.441647</td>\n",
       "      <td>0.463399</td>\n",
       "      <td>0.567132</td>\n",
       "      <td>0.560802</td>\n",
       "      <td>0.544198</td>\n",
       "      <td>0.527428</td>\n",
       "      <td>0.434218</td>\n",
       "      <td>0.440793</td>\n",
       "      <td>0.497639</td>\n",
       "      <td>0.490204</td>\n",
       "      <td>0.517786</td>\n",
       "      <td>0.509003</td>\n",
       "      <td>0.485394</td>\n",
       "      <td>0.534137</td>\n",
       "      <td>0.530328</td>\n",
       "      <td>0.543171</td>\n",
       "      <td>0.544318</td>\n",
       "      <td>0.487702</td>\n",
       "      <td>0.49096</td>\n",
       "      <td>0.468407</td>\n",
       "      <td>0.490566</td>\n",
       "      <td>0.454473</td>\n",
       "      <td>0.456398</td>\n",
       "      <td>0.473395</td>\n",
       "      <td>0.470434</td>\n",
       "      <td>0.491458</td>\n",
       "      <td>0.479576</td>\n",
       "      <td>0.424618</td>\n",
       "      <td>0.41975</td>\n",
       "      <td>0.452015</td>\n",
       "      <td>0.427564</td>\n",
       "      <td>0.493704</td>\n",
       "      <td>0.485532</td>\n",
       "      <td>0.519736</td>\n",
       "      <td>0.52693</td>\n",
       "      <td>0.446688</td>\n",
       "      <td>0.430683</td>\n",
       "      <td>0.426564</td>\n",
       "      <td>0.416593</td>\n",
       "    </tr>\n",
       "    <tr>\n",
       "      <th>10</th>\n",
       "      <td>A238</td>\n",
       "      <td>0.440797</td>\n",
       "      <td>0.450766</td>\n",
       "      <td>0.389115</td>\n",
       "      <td>0.39051</td>\n",
       "      <td>0.504808</td>\n",
       "      <td>0.517084</td>\n",
       "      <td>0.545058</td>\n",
       "      <td>0.555676</td>\n",
       "      <td>0.537946</td>\n",
       "      <td>0.552669</td>\n",
       "      <td>0.617569</td>\n",
       "      <td>0.429037</td>\n",
       "      <td>0.429536</td>\n",
       "      <td>0.539716</td>\n",
       "      <td>0.515951</td>\n",
       "      <td>0.501124</td>\n",
       "      <td>0.511824</td>\n",
       "      <td>0.423332</td>\n",
       "      <td>0.425234</td>\n",
       "      <td>0.4782</td>\n",
       "      <td>0.490939</td>\n",
       "      <td>0.463895</td>\n",
       "      <td>0.466474</td>\n",
       "      <td>0.4676</td>\n",
       "      <td>0.49876</td>\n",
       "      <td>0.513709</td>\n",
       "      <td>0.541374</td>\n",
       "      <td>0.528687</td>\n",
       "      <td>0.475848</td>\n",
       "      <td>0.47968</td>\n",
       "      <td>0.454043</td>\n",
       "      <td>0.469437</td>\n",
       "      <td>0.434093</td>\n",
       "      <td>0.441227</td>\n",
       "      <td>0.481523</td>\n",
       "      <td>0.468018</td>\n",
       "      <td>0.475208</td>\n",
       "      <td>0.447296</td>\n",
       "      <td>0.395384</td>\n",
       "      <td>0.392274</td>\n",
       "      <td>0.447341</td>\n",
       "      <td>0.442131</td>\n",
       "      <td>0.479807</td>\n",
       "      <td>0.468226</td>\n",
       "      <td>0.502138</td>\n",
       "      <td>0.509094</td>\n",
       "      <td>0.367903</td>\n",
       "      <td>0.38189</td>\n",
       "      <td>0.387351</td>\n",
       "      <td>0.407248</td>\n",
       "    </tr>\n",
       "    <tr>\n",
       "      <th>11</th>\n",
       "      <td>A240</td>\n",
       "      <td>0.46281</td>\n",
       "      <td>0.463174</td>\n",
       "      <td>0.430201</td>\n",
       "      <td>0.425207</td>\n",
       "      <td>0.552263</td>\n",
       "      <td>0.530087</td>\n",
       "      <td>0.555207</td>\n",
       "      <td>0.565694</td>\n",
       "      <td>0.568944</td>\n",
       "      <td>0.57466</td>\n",
       "      <td>0.620211</td>\n",
       "      <td>0.475055</td>\n",
       "      <td>0.479371</td>\n",
       "      <td>0.569726</td>\n",
       "      <td>0.543243</td>\n",
       "      <td>0.54339</td>\n",
       "      <td>0.524821</td>\n",
       "      <td>0.4166</td>\n",
       "      <td>0.416177</td>\n",
       "      <td>0.508546</td>\n",
       "      <td>0.520105</td>\n",
       "      <td>0.495104</td>\n",
       "      <td>0.505833</td>\n",
       "      <td>0.496416</td>\n",
       "      <td>0.51496</td>\n",
       "      <td>0.504845</td>\n",
       "      <td>0.563936</td>\n",
       "      <td>0.540757</td>\n",
       "      <td>0.479196</td>\n",
       "      <td>0.469731</td>\n",
       "      <td>0.464557</td>\n",
       "      <td>0.486527</td>\n",
       "      <td>0.425422</td>\n",
       "      <td>0.454013</td>\n",
       "      <td>0.48088</td>\n",
       "      <td>0.45642</td>\n",
       "      <td>0.515788</td>\n",
       "      <td>0.464606</td>\n",
       "      <td>0.462832</td>\n",
       "      <td>0.447926</td>\n",
       "      <td>0.45544</td>\n",
       "      <td>0.455815</td>\n",
       "      <td>0.526946</td>\n",
       "      <td>0.473881</td>\n",
       "      <td>0.510769</td>\n",
       "      <td>0.500999</td>\n",
       "      <td>0.431981</td>\n",
       "      <td>0.457844</td>\n",
       "      <td>0.412317</td>\n",
       "      <td>0.426727</td>\n",
       "    </tr>\n",
       "    <tr>\n",
       "      <th>12</th>\n",
       "      <td>A246</td>\n",
       "      <td>0.449293</td>\n",
       "      <td>0.430823</td>\n",
       "      <td>0.453403</td>\n",
       "      <td>0.420844</td>\n",
       "      <td>0.535803</td>\n",
       "      <td>0.513006</td>\n",
       "      <td>0.506356</td>\n",
       "      <td>0.554423</td>\n",
       "      <td>0.54686</td>\n",
       "      <td>0.562228</td>\n",
       "      <td>0.598012</td>\n",
       "      <td>0.432273</td>\n",
       "      <td>0.448887</td>\n",
       "      <td>0.56638</td>\n",
       "      <td>0.555646</td>\n",
       "      <td>0.528455</td>\n",
       "      <td>0.5188</td>\n",
       "      <td>0.401354</td>\n",
       "      <td>0.444945</td>\n",
       "      <td>0.485736</td>\n",
       "      <td>0.485758</td>\n",
       "      <td>0.470321</td>\n",
       "      <td>0.444227</td>\n",
       "      <td>0.49889</td>\n",
       "      <td>0.493999</td>\n",
       "      <td>0.492068</td>\n",
       "      <td>0.53623</td>\n",
       "      <td>0.54652</td>\n",
       "      <td>0.453115</td>\n",
       "      <td>0.459437</td>\n",
       "      <td>0.477943</td>\n",
       "      <td>0.483462</td>\n",
       "      <td>0.451208</td>\n",
       "      <td>0.447276</td>\n",
       "      <td>0.449085</td>\n",
       "      <td>0.437756</td>\n",
       "      <td>0.491402</td>\n",
       "      <td>0.478759</td>\n",
       "      <td>0.43247</td>\n",
       "      <td>0.425617</td>\n",
       "      <td>0.467499</td>\n",
       "      <td>0.431412</td>\n",
       "      <td>0.484764</td>\n",
       "      <td>0.471602</td>\n",
       "      <td>0.492089</td>\n",
       "      <td>0.488195</td>\n",
       "      <td>0.444522</td>\n",
       "      <td>0.456492</td>\n",
       "      <td>0.408063</td>\n",
       "      <td>0.420468</td>\n",
       "    </tr>\n",
       "    <tr>\n",
       "      <th>13</th>\n",
       "      <td>A250</td>\n",
       "      <td>0.468189</td>\n",
       "      <td>0.459021</td>\n",
       "      <td>0.417525</td>\n",
       "      <td>0.441093</td>\n",
       "      <td>0.513786</td>\n",
       "      <td>0.496076</td>\n",
       "      <td>0.521575</td>\n",
       "      <td>0.532437</td>\n",
       "      <td>0.522284</td>\n",
       "      <td>0.566321</td>\n",
       "      <td>0.568941</td>\n",
       "      <td>0.425016</td>\n",
       "      <td>0.428193</td>\n",
       "      <td>0.554203</td>\n",
       "      <td>0.566508</td>\n",
       "      <td>0.515262</td>\n",
       "      <td>0.5146</td>\n",
       "      <td>0.420423</td>\n",
       "      <td>0.426088</td>\n",
       "      <td>0.480385</td>\n",
       "      <td>0.482129</td>\n",
       "      <td>0.476866</td>\n",
       "      <td>0.482617</td>\n",
       "      <td>0.518503</td>\n",
       "      <td>0.506036</td>\n",
       "      <td>0.498582</td>\n",
       "      <td>0.577592</td>\n",
       "      <td>0.553196</td>\n",
       "      <td>0.451134</td>\n",
       "      <td>0.439247</td>\n",
       "      <td>0.455179</td>\n",
       "      <td>0.469521</td>\n",
       "      <td>0.44106</td>\n",
       "      <td>0.439567</td>\n",
       "      <td>0.457574</td>\n",
       "      <td>0.45817</td>\n",
       "      <td>0.458944</td>\n",
       "      <td>0.459376</td>\n",
       "      <td>0.428997</td>\n",
       "      <td>0.435362</td>\n",
       "      <td>0.454117</td>\n",
       "      <td>0.477638</td>\n",
       "      <td>0.508288</td>\n",
       "      <td>0.488626</td>\n",
       "      <td>0.48926</td>\n",
       "      <td>0.488052</td>\n",
       "      <td>0.408922</td>\n",
       "      <td>0.421906</td>\n",
       "      <td>0.401623</td>\n",
       "      <td>0.406442</td>\n",
       "    </tr>\n",
       "    <tr>\n",
       "      <th>14</th>\n",
       "      <td>A253</td>\n",
       "      <td>0.459626</td>\n",
       "      <td>0.431532</td>\n",
       "      <td>0.363648</td>\n",
       "      <td>0.374437</td>\n",
       "      <td>0.519691</td>\n",
       "      <td>0.516571</td>\n",
       "      <td>0.531104</td>\n",
       "      <td>0.549839</td>\n",
       "      <td>0.566927</td>\n",
       "      <td>0.539268</td>\n",
       "      <td>0.592923</td>\n",
       "      <td>0.424563</td>\n",
       "      <td>0.456221</td>\n",
       "      <td>0.546037</td>\n",
       "      <td>0.568517</td>\n",
       "      <td>0.510084</td>\n",
       "      <td>0.518066</td>\n",
       "      <td>0.420066</td>\n",
       "      <td>0.419327</td>\n",
       "      <td>0.456014</td>\n",
       "      <td>0.464049</td>\n",
       "      <td>0.469515</td>\n",
       "      <td>0.474424</td>\n",
       "      <td>0.482158</td>\n",
       "      <td>0.500874</td>\n",
       "      <td>0.48529</td>\n",
       "      <td>0.535109</td>\n",
       "      <td>0.552221</td>\n",
       "      <td>0.480093</td>\n",
       "      <td>0.4618</td>\n",
       "      <td>0.474283</td>\n",
       "      <td>0.485598</td>\n",
       "      <td>0.415759</td>\n",
       "      <td>0.429066</td>\n",
       "      <td>0.446722</td>\n",
       "      <td>0.44235</td>\n",
       "      <td>0.48689</td>\n",
       "      <td>0.495724</td>\n",
       "      <td>0.425486</td>\n",
       "      <td>0.424245</td>\n",
       "      <td>0.425279</td>\n",
       "      <td>0.425708</td>\n",
       "      <td>0.462645</td>\n",
       "      <td>0.461605</td>\n",
       "      <td>0.496752</td>\n",
       "      <td>0.480962</td>\n",
       "      <td>0.382962</td>\n",
       "      <td>0.428938</td>\n",
       "      <td>0.412894</td>\n",
       "      <td>0.410353</td>\n",
       "    </tr>\n",
       "    <tr>\n",
       "      <th>15</th>\n",
       "      <td>A255</td>\n",
       "      <td>0.493668</td>\n",
       "      <td>0.472586</td>\n",
       "      <td>0.424229</td>\n",
       "      <td>0.456029</td>\n",
       "      <td>0.54118</td>\n",
       "      <td>0.549719</td>\n",
       "      <td>0.595565</td>\n",
       "      <td>0.567137</td>\n",
       "      <td>0.556487</td>\n",
       "      <td>0.576347</td>\n",
       "      <td>0.567544</td>\n",
       "      <td>0.455262</td>\n",
       "      <td>0.46078</td>\n",
       "      <td>0.555188</td>\n",
       "      <td>0.54507</td>\n",
       "      <td>0.491651</td>\n",
       "      <td>0.519774</td>\n",
       "      <td>0.405083</td>\n",
       "      <td>0.398782</td>\n",
       "      <td>0.492809</td>\n",
       "      <td>0.458801</td>\n",
       "      <td>0.431787</td>\n",
       "      <td>0.468499</td>\n",
       "      <td>0.475848</td>\n",
       "      <td>0.489573</td>\n",
       "      <td>0.514938</td>\n",
       "      <td>0.552357</td>\n",
       "      <td>0.569905</td>\n",
       "      <td>0.430355</td>\n",
       "      <td>0.415907</td>\n",
       "      <td>0.465058</td>\n",
       "      <td>0.481432</td>\n",
       "      <td>0.468462</td>\n",
       "      <td>0.494999</td>\n",
       "      <td>0.486582</td>\n",
       "      <td>0.48782</td>\n",
       "      <td>0.490677</td>\n",
       "      <td>0.479095</td>\n",
       "      <td>0.443748</td>\n",
       "      <td>0.447184</td>\n",
       "      <td>0.507648</td>\n",
       "      <td>0.49485</td>\n",
       "      <td>0.523894</td>\n",
       "      <td>0.502378</td>\n",
       "      <td>0.494664</td>\n",
       "      <td>0.520501</td>\n",
       "      <td>0.434936</td>\n",
       "      <td>0.427998</td>\n",
       "      <td>0.446439</td>\n",
       "      <td>0.433714</td>\n",
       "    </tr>\n",
       "    <tr>\n",
       "      <th>16</th>\n",
       "      <td>A257</td>\n",
       "      <td>0.492196</td>\n",
       "      <td>0.515686</td>\n",
       "      <td>0.438159</td>\n",
       "      <td>0.452478</td>\n",
       "      <td>0.563041</td>\n",
       "      <td>0.564145</td>\n",
       "      <td>0.588395</td>\n",
       "      <td>0.600997</td>\n",
       "      <td>0.490334</td>\n",
       "      <td>0.590662</td>\n",
       "      <td>0.631833</td>\n",
       "      <td>0.44489</td>\n",
       "      <td>0.469829</td>\n",
       "      <td>0.64754</td>\n",
       "      <td>0.60426</td>\n",
       "      <td>0.571347</td>\n",
       "      <td>0.542784</td>\n",
       "      <td>0.362717</td>\n",
       "      <td>0.373331</td>\n",
       "      <td>0.541135</td>\n",
       "      <td>0.501072</td>\n",
       "      <td>0.501358</td>\n",
       "      <td>0.485336</td>\n",
       "      <td>0.487459</td>\n",
       "      <td>0.518144</td>\n",
       "      <td>0.488322</td>\n",
       "      <td>0.604895</td>\n",
       "      <td>0.591135</td>\n",
       "      <td>0.454642</td>\n",
       "      <td>0.454355</td>\n",
       "      <td>0.529212</td>\n",
       "      <td>0.526239</td>\n",
       "      <td>0.463613</td>\n",
       "      <td>0.498371</td>\n",
       "      <td>0.48533</td>\n",
       "      <td>0.486835</td>\n",
       "      <td>0.568569</td>\n",
       "      <td>0.508984</td>\n",
       "      <td>0.436814</td>\n",
       "      <td>0.463114</td>\n",
       "      <td>0.485971</td>\n",
       "      <td>0.482044</td>\n",
       "      <td>0.545958</td>\n",
       "      <td>0.511053</td>\n",
       "      <td>0.529083</td>\n",
       "      <td>0.489087</td>\n",
       "      <td>0.433575</td>\n",
       "      <td>0.461597</td>\n",
       "      <td>0.450259</td>\n",
       "      <td>0.441968</td>\n",
       "    </tr>\n",
       "    <tr>\n",
       "      <th>17</th>\n",
       "      <td>A258</td>\n",
       "      <td>0.467509</td>\n",
       "      <td>0.462466</td>\n",
       "      <td>0.404451</td>\n",
       "      <td>0.400044</td>\n",
       "      <td>0.560421</td>\n",
       "      <td>0.531738</td>\n",
       "      <td>0.580922</td>\n",
       "      <td>0.582969</td>\n",
       "      <td>0.592956</td>\n",
       "      <td>0.58394</td>\n",
       "      <td>0.637208</td>\n",
       "      <td>0.461556</td>\n",
       "      <td>0.475192</td>\n",
       "      <td>0.568002</td>\n",
       "      <td>0.554465</td>\n",
       "      <td>0.529975</td>\n",
       "      <td>0.512285</td>\n",
       "      <td>0.423397</td>\n",
       "      <td>0.43394</td>\n",
       "      <td>0.491824</td>\n",
       "      <td>0.492675</td>\n",
       "      <td>0.482382</td>\n",
       "      <td>0.471966</td>\n",
       "      <td>0.482184</td>\n",
       "      <td>0.497365</td>\n",
       "      <td>0.486737</td>\n",
       "      <td>0.556163</td>\n",
       "      <td>0.546823</td>\n",
       "      <td>0.482297</td>\n",
       "      <td>0.458669</td>\n",
       "      <td>0.499901</td>\n",
       "      <td>0.486546</td>\n",
       "      <td>0.418145</td>\n",
       "      <td>0.447807</td>\n",
       "      <td>0.478205</td>\n",
       "      <td>0.477636</td>\n",
       "      <td>0.508875</td>\n",
       "      <td>0.469439</td>\n",
       "      <td>0.435953</td>\n",
       "      <td>0.447838</td>\n",
       "      <td>0.442162</td>\n",
       "      <td>0.424468</td>\n",
       "      <td>0.501662</td>\n",
       "      <td>0.486761</td>\n",
       "      <td>0.494749</td>\n",
       "      <td>0.487603</td>\n",
       "      <td>0.416166</td>\n",
       "      <td>0.430223</td>\n",
       "      <td>0.408201</td>\n",
       "      <td>0.427084</td>\n",
       "    </tr>\n",
       "    <tr>\n",
       "      <th>18</th>\n",
       "      <td>A260</td>\n",
       "      <td>0.464269</td>\n",
       "      <td>0.475608</td>\n",
       "      <td>0.402791</td>\n",
       "      <td>0.419</td>\n",
       "      <td>0.506594</td>\n",
       "      <td>0.536121</td>\n",
       "      <td>0.567903</td>\n",
       "      <td>0.569566</td>\n",
       "      <td>0.445041</td>\n",
       "      <td>0.57243</td>\n",
       "      <td>0.605575</td>\n",
       "      <td>0.439915</td>\n",
       "      <td>0.481583</td>\n",
       "      <td>0.532564</td>\n",
       "      <td>0.517505</td>\n",
       "      <td>0.483538</td>\n",
       "      <td>0.51005</td>\n",
       "      <td>0.39412</td>\n",
       "      <td>0.407894</td>\n",
       "      <td>0.476547</td>\n",
       "      <td>0.487831</td>\n",
       "      <td>0.453269</td>\n",
       "      <td>0.466017</td>\n",
       "      <td>0.478586</td>\n",
       "      <td>0.514862</td>\n",
       "      <td>0.521069</td>\n",
       "      <td>0.561072</td>\n",
       "      <td>0.562975</td>\n",
       "      <td>0.456976</td>\n",
       "      <td>0.445836</td>\n",
       "      <td>0.46768</td>\n",
       "      <td>0.483199</td>\n",
       "      <td>0.441418</td>\n",
       "      <td>0.462492</td>\n",
       "      <td>0.464386</td>\n",
       "      <td>0.499516</td>\n",
       "      <td>0.507475</td>\n",
       "      <td>0.464323</td>\n",
       "      <td>0.429955</td>\n",
       "      <td>0.428861</td>\n",
       "      <td>0.445581</td>\n",
       "      <td>0.4448</td>\n",
       "      <td>0.51342</td>\n",
       "      <td>0.478298</td>\n",
       "      <td>0.495156</td>\n",
       "      <td>0.527384</td>\n",
       "      <td>0.403607</td>\n",
       "      <td>0.439759</td>\n",
       "      <td>0.418597</td>\n",
       "      <td>0.462339</td>\n",
       "    </tr>\n",
       "    <tr>\n",
       "      <th>19</th>\n",
       "      <td>A262</td>\n",
       "      <td>0.483448</td>\n",
       "      <td>0.4645</td>\n",
       "      <td>0.417995</td>\n",
       "      <td>0.455515</td>\n",
       "      <td>0.565353</td>\n",
       "      <td>0.549632</td>\n",
       "      <td>0.524312</td>\n",
       "      <td>0.547933</td>\n",
       "      <td>0.562991</td>\n",
       "      <td>0.567768</td>\n",
       "      <td>0.615342</td>\n",
       "      <td>0.45399</td>\n",
       "      <td>0.468956</td>\n",
       "      <td>0.577902</td>\n",
       "      <td>0.618899</td>\n",
       "      <td>0.532081</td>\n",
       "      <td>0.581306</td>\n",
       "      <td>0.408527</td>\n",
       "      <td>0.41416</td>\n",
       "      <td>0.523572</td>\n",
       "      <td>0.513042</td>\n",
       "      <td>0.475066</td>\n",
       "      <td>0.465909</td>\n",
       "      <td>0.498129</td>\n",
       "      <td>0.508207</td>\n",
       "      <td>0.508964</td>\n",
       "      <td>0.560866</td>\n",
       "      <td>0.592671</td>\n",
       "      <td>0.48039</td>\n",
       "      <td>0.459778</td>\n",
       "      <td>0.48724</td>\n",
       "      <td>0.513665</td>\n",
       "      <td>0.465316</td>\n",
       "      <td>0.486282</td>\n",
       "      <td>0.449046</td>\n",
       "      <td>0.467426</td>\n",
       "      <td>0.490496</td>\n",
       "      <td>0.511568</td>\n",
       "      <td>0.461179</td>\n",
       "      <td>0.446982</td>\n",
       "      <td>0.462258</td>\n",
       "      <td>0.475074</td>\n",
       "      <td>0.492965</td>\n",
       "      <td>0.521702</td>\n",
       "      <td>0.513446</td>\n",
       "      <td>0.508483</td>\n",
       "      <td>0.448</td>\n",
       "      <td>0.46817</td>\n",
       "      <td>0.438329</td>\n",
       "      <td>0.456842</td>\n",
       "    </tr>\n",
       "    <tr>\n",
       "      <th>20</th>\n",
       "      <td>A266</td>\n",
       "      <td>0.451709</td>\n",
       "      <td>0.432636</td>\n",
       "      <td>0.445</td>\n",
       "      <td>0.435682</td>\n",
       "      <td>0.561319</td>\n",
       "      <td>0.554859</td>\n",
       "      <td>0.570187</td>\n",
       "      <td>0.57525</td>\n",
       "      <td>0.557713</td>\n",
       "      <td>0.564857</td>\n",
       "      <td>0.620511</td>\n",
       "      <td>0.449143</td>\n",
       "      <td>0.455841</td>\n",
       "      <td>0.575462</td>\n",
       "      <td>0.568564</td>\n",
       "      <td>0.518272</td>\n",
       "      <td>0.528928</td>\n",
       "      <td>0.413404</td>\n",
       "      <td>0.407774</td>\n",
       "      <td>0.506582</td>\n",
       "      <td>0.492005</td>\n",
       "      <td>0.450738</td>\n",
       "      <td>0.465452</td>\n",
       "      <td>0.495075</td>\n",
       "      <td>0.524915</td>\n",
       "      <td>0.527079</td>\n",
       "      <td>0.559065</td>\n",
       "      <td>0.545909</td>\n",
       "      <td>0.516022</td>\n",
       "      <td>0.468739</td>\n",
       "      <td>0.503064</td>\n",
       "      <td>0.487353</td>\n",
       "      <td>0.414309</td>\n",
       "      <td>0.448044</td>\n",
       "      <td>0.499441</td>\n",
       "      <td>0.47667</td>\n",
       "      <td>0.473461</td>\n",
       "      <td>0.490193</td>\n",
       "      <td>0.413058</td>\n",
       "      <td>0.408725</td>\n",
       "      <td>0.447649</td>\n",
       "      <td>0.4608</td>\n",
       "      <td>0.499731</td>\n",
       "      <td>0.490744</td>\n",
       "      <td>0.517484</td>\n",
       "      <td>0.522069</td>\n",
       "      <td>0.42183</td>\n",
       "      <td>0.449619</td>\n",
       "      <td>0.434352</td>\n",
       "      <td>0.437445</td>\n",
       "    </tr>\n",
       "    <tr>\n",
       "      <th>21</th>\n",
       "      <td>A271</td>\n",
       "      <td>0.432983</td>\n",
       "      <td>0.410221</td>\n",
       "      <td>0.402855</td>\n",
       "      <td>0.408744</td>\n",
       "      <td>0.525221</td>\n",
       "      <td>0.51711</td>\n",
       "      <td>0.546296</td>\n",
       "      <td>0.540221</td>\n",
       "      <td>0.526089</td>\n",
       "      <td>0.542615</td>\n",
       "      <td>0.580402</td>\n",
       "      <td>0.45395</td>\n",
       "      <td>0.466743</td>\n",
       "      <td>0.534558</td>\n",
       "      <td>0.543404</td>\n",
       "      <td>0.506361</td>\n",
       "      <td>0.514451</td>\n",
       "      <td>0.408761</td>\n",
       "      <td>0.406606</td>\n",
       "      <td>0.47341</td>\n",
       "      <td>0.472289</td>\n",
       "      <td>0.438154</td>\n",
       "      <td>0.419759</td>\n",
       "      <td>0.486528</td>\n",
       "      <td>0.460846</td>\n",
       "      <td>0.487102</td>\n",
       "      <td>0.534038</td>\n",
       "      <td>0.539354</td>\n",
       "      <td>0.451608</td>\n",
       "      <td>0.429528</td>\n",
       "      <td>0.454498</td>\n",
       "      <td>0.451955</td>\n",
       "      <td>0.414881</td>\n",
       "      <td>0.419943</td>\n",
       "      <td>0.451492</td>\n",
       "      <td>0.43063</td>\n",
       "      <td>0.443092</td>\n",
       "      <td>0.439126</td>\n",
       "      <td>0.421912</td>\n",
       "      <td>0.415643</td>\n",
       "      <td>0.434321</td>\n",
       "      <td>0.461856</td>\n",
       "      <td>0.463663</td>\n",
       "      <td>0.442498</td>\n",
       "      <td>0.470982</td>\n",
       "      <td>0.484712</td>\n",
       "      <td>0.414899</td>\n",
       "      <td>0.406388</td>\n",
       "      <td>0.411581</td>\n",
       "      <td>0.419383</td>\n",
       "    </tr>\n",
       "    <tr>\n",
       "      <th>22</th>\n",
       "      <td>A280</td>\n",
       "      <td>0.416716</td>\n",
       "      <td>0.42694</td>\n",
       "      <td>0.417543</td>\n",
       "      <td>0.443973</td>\n",
       "      <td>0.511375</td>\n",
       "      <td>0.531778</td>\n",
       "      <td>0.533044</td>\n",
       "      <td>0.545767</td>\n",
       "      <td>0.581449</td>\n",
       "      <td>0.581206</td>\n",
       "      <td>0.695495</td>\n",
       "      <td>0.462901</td>\n",
       "      <td>0.436376</td>\n",
       "      <td>0.61843</td>\n",
       "      <td>0.583241</td>\n",
       "      <td>0.511463</td>\n",
       "      <td>0.522594</td>\n",
       "      <td>0.389505</td>\n",
       "      <td>0.398701</td>\n",
       "      <td>0.425577</td>\n",
       "      <td>0.450021</td>\n",
       "      <td>0.0</td>\n",
       "      <td>0.433544</td>\n",
       "      <td>0.506441</td>\n",
       "      <td>0.480969</td>\n",
       "      <td>0.486661</td>\n",
       "      <td>0.550504</td>\n",
       "      <td>0.559723</td>\n",
       "      <td>0.406108</td>\n",
       "      <td>0.405866</td>\n",
       "      <td>0.445508</td>\n",
       "      <td>0.480754</td>\n",
       "      <td>0.427507</td>\n",
       "      <td>0.497321</td>\n",
       "      <td>0.436479</td>\n",
       "      <td>0.472634</td>\n",
       "      <td>0.500944</td>\n",
       "      <td>0.441876</td>\n",
       "      <td>0.458902</td>\n",
       "      <td>0.454553</td>\n",
       "      <td>0.466591</td>\n",
       "      <td>0.454023</td>\n",
       "      <td>0.528645</td>\n",
       "      <td>0.495673</td>\n",
       "      <td>0.468257</td>\n",
       "      <td>0.508562</td>\n",
       "      <td>0.449016</td>\n",
       "      <td>0.477842</td>\n",
       "      <td>0.413986</td>\n",
       "      <td>0.434216</td>\n",
       "    </tr>\n",
       "    <tr>\n",
       "      <th>23</th>\n",
       "      <td>A281</td>\n",
       "      <td>0.458093</td>\n",
       "      <td>0.457401</td>\n",
       "      <td>0.418111</td>\n",
       "      <td>0.415305</td>\n",
       "      <td>0.535134</td>\n",
       "      <td>0.539469</td>\n",
       "      <td>0.572648</td>\n",
       "      <td>0.589841</td>\n",
       "      <td>0.595813</td>\n",
       "      <td>0.566825</td>\n",
       "      <td>0.576063</td>\n",
       "      <td>0.46898</td>\n",
       "      <td>0.467636</td>\n",
       "      <td>0.615651</td>\n",
       "      <td>0.583065</td>\n",
       "      <td>0.559261</td>\n",
       "      <td>0.544128</td>\n",
       "      <td>0.395578</td>\n",
       "      <td>0.415206</td>\n",
       "      <td>0.483618</td>\n",
       "      <td>0.489097</td>\n",
       "      <td>0.472642</td>\n",
       "      <td>0.483652</td>\n",
       "      <td>0.491734</td>\n",
       "      <td>0.481799</td>\n",
       "      <td>0.494372</td>\n",
       "      <td>0.568702</td>\n",
       "      <td>0.55815</td>\n",
       "      <td>0.459173</td>\n",
       "      <td>0.467045</td>\n",
       "      <td>0.508974</td>\n",
       "      <td>0.494575</td>\n",
       "      <td>0.451864</td>\n",
       "      <td>0.45546</td>\n",
       "      <td>0.458124</td>\n",
       "      <td>0.463097</td>\n",
       "      <td>0.567887</td>\n",
       "      <td>0.520278</td>\n",
       "      <td>0.426386</td>\n",
       "      <td>0.407785</td>\n",
       "      <td>0.482196</td>\n",
       "      <td>0.480609</td>\n",
       "      <td>0.506886</td>\n",
       "      <td>0.486765</td>\n",
       "      <td>0.478963</td>\n",
       "      <td>0.488817</td>\n",
       "      <td>0.398857</td>\n",
       "      <td>0.384655</td>\n",
       "      <td>0.408116</td>\n",
       "      <td>0.426961</td>\n",
       "    </tr>\n",
       "    <tr>\n",
       "      <th>24</th>\n",
       "      <td>A283</td>\n",
       "      <td>0.465367</td>\n",
       "      <td>0.438163</td>\n",
       "      <td>0.407455</td>\n",
       "      <td>0.422945</td>\n",
       "      <td>0.524179</td>\n",
       "      <td>0.523799</td>\n",
       "      <td>0.548399</td>\n",
       "      <td>0.559501</td>\n",
       "      <td>0.56387</td>\n",
       "      <td>0.557206</td>\n",
       "      <td>0.595843</td>\n",
       "      <td>0.445895</td>\n",
       "      <td>0.408033</td>\n",
       "      <td>0.524731</td>\n",
       "      <td>0.558227</td>\n",
       "      <td>0.511718</td>\n",
       "      <td>0.526383</td>\n",
       "      <td>0.417949</td>\n",
       "      <td>0.413105</td>\n",
       "      <td>0.447438</td>\n",
       "      <td>0.466204</td>\n",
       "      <td>0.433964</td>\n",
       "      <td>0.428911</td>\n",
       "      <td>0.501649</td>\n",
       "      <td>0.482367</td>\n",
       "      <td>0.499966</td>\n",
       "      <td>0.56497</td>\n",
       "      <td>0.560776</td>\n",
       "      <td>0.455905</td>\n",
       "      <td>0.42456</td>\n",
       "      <td>0.472431</td>\n",
       "      <td>0.473383</td>\n",
       "      <td>0.423124</td>\n",
       "      <td>0.458775</td>\n",
       "      <td>0.476812</td>\n",
       "      <td>0.472152</td>\n",
       "      <td>0.48001</td>\n",
       "      <td>0.478194</td>\n",
       "      <td>0.418836</td>\n",
       "      <td>0.405144</td>\n",
       "      <td>0.442738</td>\n",
       "      <td>0.458735</td>\n",
       "      <td>0.485504</td>\n",
       "      <td>0.488609</td>\n",
       "      <td>0.489014</td>\n",
       "      <td>0.497522</td>\n",
       "      <td>0.387369</td>\n",
       "      <td>0.411369</td>\n",
       "      <td>0.395398</td>\n",
       "      <td>0.404121</td>\n",
       "    </tr>\n",
       "    <tr>\n",
       "      <th>25</th>\n",
       "      <td>A285</td>\n",
       "      <td>0.434835</td>\n",
       "      <td>0.442189</td>\n",
       "      <td>0.379896</td>\n",
       "      <td>0.400573</td>\n",
       "      <td>0.48599</td>\n",
       "      <td>0.510471</td>\n",
       "      <td>0.54623</td>\n",
       "      <td>0.554163</td>\n",
       "      <td>0.553345</td>\n",
       "      <td>0.549479</td>\n",
       "      <td>0.584076</td>\n",
       "      <td>0.417549</td>\n",
       "      <td>0.412539</td>\n",
       "      <td>0.576485</td>\n",
       "      <td>0.53521</td>\n",
       "      <td>0.49536</td>\n",
       "      <td>0.480569</td>\n",
       "      <td>0.391486</td>\n",
       "      <td>0.373458</td>\n",
       "      <td>0.42401</td>\n",
       "      <td>0.45066</td>\n",
       "      <td>0.449132</td>\n",
       "      <td>0.433058</td>\n",
       "      <td>0.485098</td>\n",
       "      <td>0.49571</td>\n",
       "      <td>0.478529</td>\n",
       "      <td>0.542928</td>\n",
       "      <td>0.55401</td>\n",
       "      <td>0.409161</td>\n",
       "      <td>0.385181</td>\n",
       "      <td>0.45666</td>\n",
       "      <td>0.477048</td>\n",
       "      <td>0.399778</td>\n",
       "      <td>0.43992</td>\n",
       "      <td>0.430621</td>\n",
       "      <td>0.426701</td>\n",
       "      <td>0.509123</td>\n",
       "      <td>0.45223</td>\n",
       "      <td>0.376481</td>\n",
       "      <td>0.399237</td>\n",
       "      <td>0.425047</td>\n",
       "      <td>0.430032</td>\n",
       "      <td>0.485711</td>\n",
       "      <td>0.480185</td>\n",
       "      <td>0.471004</td>\n",
       "      <td>0.478727</td>\n",
       "      <td>0.376817</td>\n",
       "      <td>0.376362</td>\n",
       "      <td>0.366635</td>\n",
       "      <td>0.401186</td>\n",
       "    </tr>\n",
       "    <tr>\n",
       "      <th>26</th>\n",
       "      <td>A286</td>\n",
       "      <td>0.474013</td>\n",
       "      <td>0.454503</td>\n",
       "      <td>0.412665</td>\n",
       "      <td>0.406114</td>\n",
       "      <td>0.593508</td>\n",
       "      <td>0.530298</td>\n",
       "      <td>0.535567</td>\n",
       "      <td>0.579961</td>\n",
       "      <td>0.577558</td>\n",
       "      <td>0.571698</td>\n",
       "      <td>0.612349</td>\n",
       "      <td>0.442042</td>\n",
       "      <td>0.453482</td>\n",
       "      <td>0.597639</td>\n",
       "      <td>0.578394</td>\n",
       "      <td>0.530028</td>\n",
       "      <td>0.522899</td>\n",
       "      <td>0.432008</td>\n",
       "      <td>0.420233</td>\n",
       "      <td>0.494632</td>\n",
       "      <td>0.509372</td>\n",
       "      <td>0.491235</td>\n",
       "      <td>0.481176</td>\n",
       "      <td>0.50844</td>\n",
       "      <td>0.497636</td>\n",
       "      <td>0.47019</td>\n",
       "      <td>0.566026</td>\n",
       "      <td>0.56075</td>\n",
       "      <td>0.469497</td>\n",
       "      <td>0.451884</td>\n",
       "      <td>0.50077</td>\n",
       "      <td>0.501939</td>\n",
       "      <td>0.447037</td>\n",
       "      <td>0.468137</td>\n",
       "      <td>0.475678</td>\n",
       "      <td>0.454713</td>\n",
       "      <td>0.502985</td>\n",
       "      <td>0.486474</td>\n",
       "      <td>0.405498</td>\n",
       "      <td>0.414048</td>\n",
       "      <td>0.431213</td>\n",
       "      <td>0.423496</td>\n",
       "      <td>0.498375</td>\n",
       "      <td>0.496139</td>\n",
       "      <td>0.492314</td>\n",
       "      <td>0.474352</td>\n",
       "      <td>0.429199</td>\n",
       "      <td>0.473706</td>\n",
       "      <td>0.411182</td>\n",
       "      <td>0.424511</td>\n",
       "    </tr>\n",
       "    <tr>\n",
       "      <th>27</th>\n",
       "      <td>A291</td>\n",
       "      <td>0.487215</td>\n",
       "      <td>0.477645</td>\n",
       "      <td>0.446377</td>\n",
       "      <td>0.445197</td>\n",
       "      <td>0.522455</td>\n",
       "      <td>0.539105</td>\n",
       "      <td>0.56216</td>\n",
       "      <td>0.576356</td>\n",
       "      <td>0.580975</td>\n",
       "      <td>0.588654</td>\n",
       "      <td>0.578884</td>\n",
       "      <td>0.452655</td>\n",
       "      <td>0.474937</td>\n",
       "      <td>0.580901</td>\n",
       "      <td>0.565398</td>\n",
       "      <td>0.548427</td>\n",
       "      <td>0.53654</td>\n",
       "      <td>0.427314</td>\n",
       "      <td>0.428067</td>\n",
       "      <td>0.498456</td>\n",
       "      <td>0.502592</td>\n",
       "      <td>0.524695</td>\n",
       "      <td>0.517333</td>\n",
       "      <td>0.502312</td>\n",
       "      <td>0.53754</td>\n",
       "      <td>0.528748</td>\n",
       "      <td>0.563333</td>\n",
       "      <td>0.559717</td>\n",
       "      <td>0.483761</td>\n",
       "      <td>0.477651</td>\n",
       "      <td>0.493245</td>\n",
       "      <td>0.52128</td>\n",
       "      <td>0.474448</td>\n",
       "      <td>0.491419</td>\n",
       "      <td>0.497605</td>\n",
       "      <td>0.485971</td>\n",
       "      <td>0.523893</td>\n",
       "      <td>0.492433</td>\n",
       "      <td>0.404236</td>\n",
       "      <td>0.407831</td>\n",
       "      <td>0.480952</td>\n",
       "      <td>0.45849</td>\n",
       "      <td>0.500136</td>\n",
       "      <td>0.488912</td>\n",
       "      <td>0.532305</td>\n",
       "      <td>0.521652</td>\n",
       "      <td>0.408574</td>\n",
       "      <td>0.43048</td>\n",
       "      <td>0.440577</td>\n",
       "      <td>0.442941</td>\n",
       "    </tr>\n",
       "    <tr>\n",
       "      <th>28</th>\n",
       "      <td>A293</td>\n",
       "      <td>0.404189</td>\n",
       "      <td>0.414788</td>\n",
       "      <td>0.372617</td>\n",
       "      <td>0.396635</td>\n",
       "      <td>0.48525</td>\n",
       "      <td>0.515341</td>\n",
       "      <td>0.549484</td>\n",
       "      <td>0.561157</td>\n",
       "      <td>0.536847</td>\n",
       "      <td>0.541511</td>\n",
       "      <td>0.583627</td>\n",
       "      <td>0.375167</td>\n",
       "      <td>0.404328</td>\n",
       "      <td>0.54309</td>\n",
       "      <td>0.534187</td>\n",
       "      <td>0.46191</td>\n",
       "      <td>0.485169</td>\n",
       "      <td>0.377122</td>\n",
       "      <td>0.386966</td>\n",
       "      <td>0.471875</td>\n",
       "      <td>0.478308</td>\n",
       "      <td>0.431074</td>\n",
       "      <td>0.432522</td>\n",
       "      <td>0.447499</td>\n",
       "      <td>0.457429</td>\n",
       "      <td>0.459959</td>\n",
       "      <td>0.532309</td>\n",
       "      <td>0.519698</td>\n",
       "      <td>0.41468</td>\n",
       "      <td>0.388782</td>\n",
       "      <td>0.431688</td>\n",
       "      <td>0.467975</td>\n",
       "      <td>0.391315</td>\n",
       "      <td>0.431513</td>\n",
       "      <td>0.431044</td>\n",
       "      <td>0.44632</td>\n",
       "      <td>0.504002</td>\n",
       "      <td>0.452218</td>\n",
       "      <td>0.395194</td>\n",
       "      <td>0.422921</td>\n",
       "      <td>0.419795</td>\n",
       "      <td>0.403359</td>\n",
       "      <td>0.474283</td>\n",
       "      <td>0.44815</td>\n",
       "      <td>0.454134</td>\n",
       "      <td>0.454289</td>\n",
       "      <td>0.375593</td>\n",
       "      <td>0.396221</td>\n",
       "      <td>0.379147</td>\n",
       "      <td>0.396184</td>\n",
       "    </tr>\n",
       "    <tr>\n",
       "      <th>29</th>\n",
       "      <td>A294</td>\n",
       "      <td>0.454389</td>\n",
       "      <td>0.460958</td>\n",
       "      <td>0.415803</td>\n",
       "      <td>0.445793</td>\n",
       "      <td>0.523369</td>\n",
       "      <td>0.518998</td>\n",
       "      <td>0.516283</td>\n",
       "      <td>0.545164</td>\n",
       "      <td>0.536239</td>\n",
       "      <td>0.539458</td>\n",
       "      <td>0.609781</td>\n",
       "      <td>0.400826</td>\n",
       "      <td>0.458239</td>\n",
       "      <td>0.607155</td>\n",
       "      <td>0.630391</td>\n",
       "      <td>0.555943</td>\n",
       "      <td>0.580696</td>\n",
       "      <td>0.460992</td>\n",
       "      <td>0.457094</td>\n",
       "      <td>0.410921</td>\n",
       "      <td>0.414271</td>\n",
       "      <td>0.446416</td>\n",
       "      <td>0.475601</td>\n",
       "      <td>0.491985</td>\n",
       "      <td>0.436529</td>\n",
       "      <td>0.478755</td>\n",
       "      <td>0.594878</td>\n",
       "      <td>0.609708</td>\n",
       "      <td>0.463468</td>\n",
       "      <td>0.454661</td>\n",
       "      <td>0.4784</td>\n",
       "      <td>0.48515</td>\n",
       "      <td>0.451478</td>\n",
       "      <td>0.454785</td>\n",
       "      <td>0.40909</td>\n",
       "      <td>0.417885</td>\n",
       "      <td>0.503432</td>\n",
       "      <td>0.528882</td>\n",
       "      <td>0.406279</td>\n",
       "      <td>0.405918</td>\n",
       "      <td>0.488738</td>\n",
       "      <td>0.520817</td>\n",
       "      <td>0.512147</td>\n",
       "      <td>0.536265</td>\n",
       "      <td>0.416449</td>\n",
       "      <td>0.484637</td>\n",
       "      <td>0.399006</td>\n",
       "      <td>0.416769</td>\n",
       "      <td>0.433303</td>\n",
       "      <td>0.435595</td>\n",
       "    </tr>\n",
       "    <tr>\n",
       "      <th>30</th>\n",
       "      <td>A548</td>\n",
       "      <td>0.486729</td>\n",
       "      <td>0.474597</td>\n",
       "      <td>0.410841</td>\n",
       "      <td>0.393765</td>\n",
       "      <td>0.52053</td>\n",
       "      <td>0.531935</td>\n",
       "      <td>0.547838</td>\n",
       "      <td>0.565918</td>\n",
       "      <td>0.578287</td>\n",
       "      <td>0.591462</td>\n",
       "      <td>0.63795</td>\n",
       "      <td>0.457792</td>\n",
       "      <td>0.457465</td>\n",
       "      <td>0.574944</td>\n",
       "      <td>0.591692</td>\n",
       "      <td>0.508188</td>\n",
       "      <td>0.554475</td>\n",
       "      <td>0.418634</td>\n",
       "      <td>0.415451</td>\n",
       "      <td>0.499727</td>\n",
       "      <td>0.49919</td>\n",
       "      <td>0.486925</td>\n",
       "      <td>0.483543</td>\n",
       "      <td>0.459998</td>\n",
       "      <td>0.492558</td>\n",
       "      <td>0.514035</td>\n",
       "      <td>0.55137</td>\n",
       "      <td>0.590151</td>\n",
       "      <td>0.504014</td>\n",
       "      <td>0.478141</td>\n",
       "      <td>0.522609</td>\n",
       "      <td>0.498171</td>\n",
       "      <td>0.459362</td>\n",
       "      <td>0.461159</td>\n",
       "      <td>0.48543</td>\n",
       "      <td>0.471868</td>\n",
       "      <td>0.478288</td>\n",
       "      <td>0.519008</td>\n",
       "      <td>0.418012</td>\n",
       "      <td>0.386493</td>\n",
       "      <td>0.423587</td>\n",
       "      <td>0.464807</td>\n",
       "      <td>0.493225</td>\n",
       "      <td>0.507308</td>\n",
       "      <td>0.486165</td>\n",
       "      <td>0.511928</td>\n",
       "      <td>0.387858</td>\n",
       "      <td>0.397584</td>\n",
       "      <td>0.420813</td>\n",
       "      <td>0.431725</td>\n",
       "    </tr>\n",
       "    <tr>\n",
       "      <th>31</th>\n",
       "      <td>A553</td>\n",
       "      <td>0.473413</td>\n",
       "      <td>0.429165</td>\n",
       "      <td>0.440123</td>\n",
       "      <td>0.449211</td>\n",
       "      <td>0.580528</td>\n",
       "      <td>0.550093</td>\n",
       "      <td>0.549182</td>\n",
       "      <td>0.560879</td>\n",
       "      <td>0.56173</td>\n",
       "      <td>0.571873</td>\n",
       "      <td>0.592193</td>\n",
       "      <td>0.445731</td>\n",
       "      <td>0.435326</td>\n",
       "      <td>0.560579</td>\n",
       "      <td>0.565298</td>\n",
       "      <td>0.510655</td>\n",
       "      <td>0.569137</td>\n",
       "      <td>0.39056</td>\n",
       "      <td>0.379989</td>\n",
       "      <td>0.509968</td>\n",
       "      <td>0.497586</td>\n",
       "      <td>0.467549</td>\n",
       "      <td>0.485427</td>\n",
       "      <td>0.415094</td>\n",
       "      <td>0.505067</td>\n",
       "      <td>0.486827</td>\n",
       "      <td>0.552466</td>\n",
       "      <td>0.552421</td>\n",
       "      <td>0.473577</td>\n",
       "      <td>0.460721</td>\n",
       "      <td>0.479776</td>\n",
       "      <td>0.491168</td>\n",
       "      <td>0.415171</td>\n",
       "      <td>0.449239</td>\n",
       "      <td>0.449198</td>\n",
       "      <td>0.447948</td>\n",
       "      <td>0.469005</td>\n",
       "      <td>0.491171</td>\n",
       "      <td>0.447717</td>\n",
       "      <td>0.431166</td>\n",
       "      <td>0.448552</td>\n",
       "      <td>0.479347</td>\n",
       "      <td>0.491129</td>\n",
       "      <td>0.506951</td>\n",
       "      <td>0.493138</td>\n",
       "      <td>0.475864</td>\n",
       "      <td>0.441222</td>\n",
       "      <td>0.457168</td>\n",
       "      <td>0.395822</td>\n",
       "      <td>0.422316</td>\n",
       "    </tr>\n",
       "    <tr>\n",
       "      <th>32</th>\n",
       "      <td>A554</td>\n",
       "      <td>0.466172</td>\n",
       "      <td>0.459797</td>\n",
       "      <td>0.423122</td>\n",
       "      <td>0.426997</td>\n",
       "      <td>0.569948</td>\n",
       "      <td>0.535867</td>\n",
       "      <td>0.54784</td>\n",
       "      <td>0.566075</td>\n",
       "      <td>0.565724</td>\n",
       "      <td>0.569879</td>\n",
       "      <td>0.56847</td>\n",
       "      <td>0.468007</td>\n",
       "      <td>0.464083</td>\n",
       "      <td>0.578611</td>\n",
       "      <td>0.587687</td>\n",
       "      <td>0.526177</td>\n",
       "      <td>0.540241</td>\n",
       "      <td>0.460229</td>\n",
       "      <td>0.509743</td>\n",
       "      <td>0.480941</td>\n",
       "      <td>0.494556</td>\n",
       "      <td>0.491771</td>\n",
       "      <td>0.505177</td>\n",
       "      <td>0.557995</td>\n",
       "      <td>0.515214</td>\n",
       "      <td>0.540851</td>\n",
       "      <td>0.557545</td>\n",
       "      <td>0.580937</td>\n",
       "      <td>0.467583</td>\n",
       "      <td>0.468941</td>\n",
       "      <td>0.491878</td>\n",
       "      <td>0.495019</td>\n",
       "      <td>0.435135</td>\n",
       "      <td>0.463781</td>\n",
       "      <td>0.477992</td>\n",
       "      <td>0.479378</td>\n",
       "      <td>0.49224</td>\n",
       "      <td>0.478797</td>\n",
       "      <td>0.425506</td>\n",
       "      <td>0.425636</td>\n",
       "      <td>0.451202</td>\n",
       "      <td>0.43293</td>\n",
       "      <td>0.503562</td>\n",
       "      <td>0.51659</td>\n",
       "      <td>0.518257</td>\n",
       "      <td>0.538553</td>\n",
       "      <td>0.434081</td>\n",
       "      <td>0.45065</td>\n",
       "      <td>0.421732</td>\n",
       "      <td>0.444234</td>\n",
       "    </tr>\n",
       "    <tr>\n",
       "      <th>33</th>\n",
       "      <td>A555</td>\n",
       "      <td>0.469799</td>\n",
       "      <td>0.450533</td>\n",
       "      <td>0.398952</td>\n",
       "      <td>0.419769</td>\n",
       "      <td>0.510171</td>\n",
       "      <td>0.513802</td>\n",
       "      <td>0.515562</td>\n",
       "      <td>0.545734</td>\n",
       "      <td>0.563227</td>\n",
       "      <td>0.568928</td>\n",
       "      <td>0.599926</td>\n",
       "      <td>0.440867</td>\n",
       "      <td>0.430342</td>\n",
       "      <td>0.572417</td>\n",
       "      <td>0.567841</td>\n",
       "      <td>0.53025</td>\n",
       "      <td>0.538299</td>\n",
       "      <td>0.453795</td>\n",
       "      <td>0.444276</td>\n",
       "      <td>0.472427</td>\n",
       "      <td>0.481638</td>\n",
       "      <td>0.497233</td>\n",
       "      <td>0.479816</td>\n",
       "      <td>0.477027</td>\n",
       "      <td>0.495916</td>\n",
       "      <td>0.494174</td>\n",
       "      <td>0.573407</td>\n",
       "      <td>0.581481</td>\n",
       "      <td>0.469607</td>\n",
       "      <td>0.442615</td>\n",
       "      <td>0.512853</td>\n",
       "      <td>0.498829</td>\n",
       "      <td>0.438675</td>\n",
       "      <td>0.450236</td>\n",
       "      <td>0.444534</td>\n",
       "      <td>0.433277</td>\n",
       "      <td>0.467309</td>\n",
       "      <td>0.492429</td>\n",
       "      <td>0.431098</td>\n",
       "      <td>0.406157</td>\n",
       "      <td>0.456086</td>\n",
       "      <td>0.450114</td>\n",
       "      <td>0.497925</td>\n",
       "      <td>0.516592</td>\n",
       "      <td>0.501593</td>\n",
       "      <td>0.492773</td>\n",
       "      <td>0.391112</td>\n",
       "      <td>0.384539</td>\n",
       "      <td>0.413888</td>\n",
       "      <td>0.416923</td>\n",
       "    </tr>\n",
       "    <tr>\n",
       "      <th>34</th>\n",
       "      <td>A556</td>\n",
       "      <td>0.462871</td>\n",
       "      <td>0.438191</td>\n",
       "      <td>0.426543</td>\n",
       "      <td>0.462664</td>\n",
       "      <td>0.525431</td>\n",
       "      <td>0.539343</td>\n",
       "      <td>0.541742</td>\n",
       "      <td>0.562855</td>\n",
       "      <td>0.580687</td>\n",
       "      <td>0.573447</td>\n",
       "      <td>0.627814</td>\n",
       "      <td>0.462992</td>\n",
       "      <td>0.443424</td>\n",
       "      <td>0.573114</td>\n",
       "      <td>0.574256</td>\n",
       "      <td>0.524539</td>\n",
       "      <td>0.564781</td>\n",
       "      <td>0.441807</td>\n",
       "      <td>0.435922</td>\n",
       "      <td>0.422579</td>\n",
       "      <td>0.448281</td>\n",
       "      <td>0.448565</td>\n",
       "      <td>0.459229</td>\n",
       "      <td>0.473244</td>\n",
       "      <td>0.494294</td>\n",
       "      <td>0.490047</td>\n",
       "      <td>0.55477</td>\n",
       "      <td>0.573418</td>\n",
       "      <td>0.493846</td>\n",
       "      <td>0.463669</td>\n",
       "      <td>0.450746</td>\n",
       "      <td>0.456284</td>\n",
       "      <td>0.459275</td>\n",
       "      <td>0.45307</td>\n",
       "      <td>0.468843</td>\n",
       "      <td>0.46181</td>\n",
       "      <td>0.44981</td>\n",
       "      <td>0.525808</td>\n",
       "      <td>0.402283</td>\n",
       "      <td>0.402776</td>\n",
       "      <td>0.455856</td>\n",
       "      <td>0.50131</td>\n",
       "      <td>0.477948</td>\n",
       "      <td>0.502443</td>\n",
       "      <td>0.494932</td>\n",
       "      <td>0.487202</td>\n",
       "      <td>0.405194</td>\n",
       "      <td>0.414249</td>\n",
       "      <td>0.408391</td>\n",
       "      <td>0.412497</td>\n",
       "    </tr>\n",
       "    <tr>\n",
       "      <th>35</th>\n",
       "      <td>A592</td>\n",
       "      <td>0.454715</td>\n",
       "      <td>0.443592</td>\n",
       "      <td>0.423658</td>\n",
       "      <td>0.41993</td>\n",
       "      <td>0.539264</td>\n",
       "      <td>0.521424</td>\n",
       "      <td>0.54882</td>\n",
       "      <td>0.55379</td>\n",
       "      <td>0.544797</td>\n",
       "      <td>0.554965</td>\n",
       "      <td>0.612948</td>\n",
       "      <td>0.412376</td>\n",
       "      <td>0.439878</td>\n",
       "      <td>0.535399</td>\n",
       "      <td>0.541866</td>\n",
       "      <td>0.507432</td>\n",
       "      <td>0.520494</td>\n",
       "      <td>0.420729</td>\n",
       "      <td>0.420725</td>\n",
       "      <td>0.482399</td>\n",
       "      <td>0.495204</td>\n",
       "      <td>0.444205</td>\n",
       "      <td>0.452259</td>\n",
       "      <td>0.456803</td>\n",
       "      <td>0.482061</td>\n",
       "      <td>0.475384</td>\n",
       "      <td>0.540215</td>\n",
       "      <td>0.568602</td>\n",
       "      <td>0.458383</td>\n",
       "      <td>0.448102</td>\n",
       "      <td>0.480534</td>\n",
       "      <td>0.479429</td>\n",
       "      <td>0.445234</td>\n",
       "      <td>0.461756</td>\n",
       "      <td>0.469358</td>\n",
       "      <td>0.451304</td>\n",
       "      <td>0.457455</td>\n",
       "      <td>0.473813</td>\n",
       "      <td>0.439079</td>\n",
       "      <td>0.438852</td>\n",
       "      <td>0.456426</td>\n",
       "      <td>0.45328</td>\n",
       "      <td>0.497905</td>\n",
       "      <td>0.500693</td>\n",
       "      <td>0.50312</td>\n",
       "      <td>0.480168</td>\n",
       "      <td>0.44787</td>\n",
       "      <td>0.446104</td>\n",
       "      <td>0.416521</td>\n",
       "      <td>0.421823</td>\n",
       "    </tr>\n",
       "    <tr>\n",
       "      <th>36</th>\n",
       "      <td>A609</td>\n",
       "      <td>0.445958</td>\n",
       "      <td>0.415418</td>\n",
       "      <td>0.394833</td>\n",
       "      <td>0.388093</td>\n",
       "      <td>0.506571</td>\n",
       "      <td>0.495257</td>\n",
       "      <td>0.509777</td>\n",
       "      <td>0.536998</td>\n",
       "      <td>0.539415</td>\n",
       "      <td>0.535487</td>\n",
       "      <td>0.587221</td>\n",
       "      <td>0.393234</td>\n",
       "      <td>0.399162</td>\n",
       "      <td>0.573389</td>\n",
       "      <td>0.589205</td>\n",
       "      <td>0.508525</td>\n",
       "      <td>0.537795</td>\n",
       "      <td>0.438409</td>\n",
       "      <td>0.427595</td>\n",
       "      <td>0.457265</td>\n",
       "      <td>0.476264</td>\n",
       "      <td>0.475158</td>\n",
       "      <td>0.43579</td>\n",
       "      <td>0.485227</td>\n",
       "      <td>0.50776</td>\n",
       "      <td>0.481346</td>\n",
       "      <td>0.546198</td>\n",
       "      <td>0.582036</td>\n",
       "      <td>0.469714</td>\n",
       "      <td>0.448693</td>\n",
       "      <td>0.484952</td>\n",
       "      <td>0.459015</td>\n",
       "      <td>0.412939</td>\n",
       "      <td>0.433237</td>\n",
       "      <td>0.453416</td>\n",
       "      <td>0.411045</td>\n",
       "      <td>0.454345</td>\n",
       "      <td>0.505214</td>\n",
       "      <td>0.439026</td>\n",
       "      <td>0.410947</td>\n",
       "      <td>0.434749</td>\n",
       "      <td>0.446236</td>\n",
       "      <td>0.476672</td>\n",
       "      <td>0.506448</td>\n",
       "      <td>0.510192</td>\n",
       "      <td>0.480548</td>\n",
       "      <td>0.40164</td>\n",
       "      <td>0.407702</td>\n",
       "      <td>0.398535</td>\n",
       "      <td>0.398709</td>\n",
       "    </tr>\n",
       "    <tr>\n",
       "      <th>37</th>\n",
       "      <td>A611</td>\n",
       "      <td>0.456144</td>\n",
       "      <td>0.458141</td>\n",
       "      <td>0.412884</td>\n",
       "      <td>0.423807</td>\n",
       "      <td>0.535447</td>\n",
       "      <td>0.512735</td>\n",
       "      <td>0.492212</td>\n",
       "      <td>0.548216</td>\n",
       "      <td>0.530705</td>\n",
       "      <td>0.561348</td>\n",
       "      <td>0.597853</td>\n",
       "      <td>0.448101</td>\n",
       "      <td>0.45815</td>\n",
       "      <td>0.56272</td>\n",
       "      <td>0.55213</td>\n",
       "      <td>0.539743</td>\n",
       "      <td>0.528383</td>\n",
       "      <td>0.438705</td>\n",
       "      <td>0.446223</td>\n",
       "      <td>0.471489</td>\n",
       "      <td>0.489168</td>\n",
       "      <td>0.462634</td>\n",
       "      <td>0.452087</td>\n",
       "      <td>0.4927</td>\n",
       "      <td>0.467062</td>\n",
       "      <td>0.478645</td>\n",
       "      <td>0.552875</td>\n",
       "      <td>0.545208</td>\n",
       "      <td>0.479803</td>\n",
       "      <td>0.476488</td>\n",
       "      <td>0.474141</td>\n",
       "      <td>0.485478</td>\n",
       "      <td>0.445167</td>\n",
       "      <td>0.453327</td>\n",
       "      <td>0.452232</td>\n",
       "      <td>0.451156</td>\n",
       "      <td>0.471061</td>\n",
       "      <td>0.452797</td>\n",
       "      <td>0.426774</td>\n",
       "      <td>0.428172</td>\n",
       "      <td>0.448852</td>\n",
       "      <td>0.422594</td>\n",
       "      <td>0.474535</td>\n",
       "      <td>0.472748</td>\n",
       "      <td>0.463415</td>\n",
       "      <td>0.481064</td>\n",
       "      <td>0.432652</td>\n",
       "      <td>0.456459</td>\n",
       "      <td>0.386872</td>\n",
       "      <td>0.398104</td>\n",
       "    </tr>\n",
       "    <tr>\n",
       "      <th>38</th>\n",
       "      <td>A619</td>\n",
       "      <td>0.457532</td>\n",
       "      <td>0.443074</td>\n",
       "      <td>0.400616</td>\n",
       "      <td>0.433966</td>\n",
       "      <td>0.542596</td>\n",
       "      <td>0.55524</td>\n",
       "      <td>0.561176</td>\n",
       "      <td>0.575544</td>\n",
       "      <td>0.604891</td>\n",
       "      <td>0.588503</td>\n",
       "      <td>0.626481</td>\n",
       "      <td>0.460762</td>\n",
       "      <td>0.465071</td>\n",
       "      <td>0.634725</td>\n",
       "      <td>0.626625</td>\n",
       "      <td>0.550474</td>\n",
       "      <td>0.558892</td>\n",
       "      <td>0.428184</td>\n",
       "      <td>0.397625</td>\n",
       "      <td>0.491688</td>\n",
       "      <td>0.492368</td>\n",
       "      <td>0.517824</td>\n",
       "      <td>0.497117</td>\n",
       "      <td>0.480994</td>\n",
       "      <td>0.467262</td>\n",
       "      <td>0.489656</td>\n",
       "      <td>0.586634</td>\n",
       "      <td>0.599605</td>\n",
       "      <td>0.452614</td>\n",
       "      <td>0.436558</td>\n",
       "      <td>0.499832</td>\n",
       "      <td>0.504476</td>\n",
       "      <td>0.448037</td>\n",
       "      <td>0.488001</td>\n",
       "      <td>0.452018</td>\n",
       "      <td>0.451853</td>\n",
       "      <td>0.512144</td>\n",
       "      <td>0.52326</td>\n",
       "      <td>0.436855</td>\n",
       "      <td>0.439317</td>\n",
       "      <td>0.453743</td>\n",
       "      <td>0.472564</td>\n",
       "      <td>0.510497</td>\n",
       "      <td>0.528276</td>\n",
       "      <td>0.484041</td>\n",
       "      <td>0.502529</td>\n",
       "      <td>0.435629</td>\n",
       "      <td>0.451048</td>\n",
       "      <td>0.414428</td>\n",
       "      <td>0.435066</td>\n",
       "    </tr>\n",
       "    <tr>\n",
       "      <th>39</th>\n",
       "      <td>A620</td>\n",
       "      <td>0.460178</td>\n",
       "      <td>0.456078</td>\n",
       "      <td>0.424377</td>\n",
       "      <td>0.429943</td>\n",
       "      <td>0.558372</td>\n",
       "      <td>0.525942</td>\n",
       "      <td>0.539539</td>\n",
       "      <td>0.55679</td>\n",
       "      <td>0.563721</td>\n",
       "      <td>0.557503</td>\n",
       "      <td>0.566841</td>\n",
       "      <td>0.447404</td>\n",
       "      <td>0.462201</td>\n",
       "      <td>0.595893</td>\n",
       "      <td>0.627552</td>\n",
       "      <td>0.560414</td>\n",
       "      <td>0.567345</td>\n",
       "      <td>0.453931</td>\n",
       "      <td>0.403186</td>\n",
       "      <td>0.486301</td>\n",
       "      <td>0.484763</td>\n",
       "      <td>0.478871</td>\n",
       "      <td>0.474705</td>\n",
       "      <td>0.494995</td>\n",
       "      <td>0.501906</td>\n",
       "      <td>0.515304</td>\n",
       "      <td>0.563739</td>\n",
       "      <td>0.616464</td>\n",
       "      <td>0.465421</td>\n",
       "      <td>0.435479</td>\n",
       "      <td>0.506735</td>\n",
       "      <td>0.474333</td>\n",
       "      <td>0.472981</td>\n",
       "      <td>0.449077</td>\n",
       "      <td>0.479303</td>\n",
       "      <td>0.474156</td>\n",
       "      <td>0.499336</td>\n",
       "      <td>0.499671</td>\n",
       "      <td>0.411966</td>\n",
       "      <td>0.435675</td>\n",
       "      <td>0.45963</td>\n",
       "      <td>0.46237</td>\n",
       "      <td>0.491633</td>\n",
       "      <td>0.504184</td>\n",
       "      <td>0.498699</td>\n",
       "      <td>0.506581</td>\n",
       "      <td>0.411698</td>\n",
       "      <td>0.421099</td>\n",
       "      <td>0.420929</td>\n",
       "      <td>0.438981</td>\n",
       "    </tr>\n",
       "    <tr>\n",
       "      <th>40</th>\n",
       "      <td>A621</td>\n",
       "      <td>0.436952</td>\n",
       "      <td>0.430451</td>\n",
       "      <td>0.424337</td>\n",
       "      <td>0.424664</td>\n",
       "      <td>0.491487</td>\n",
       "      <td>0.527368</td>\n",
       "      <td>0.528313</td>\n",
       "      <td>0.52354</td>\n",
       "      <td>0.544351</td>\n",
       "      <td>0.558467</td>\n",
       "      <td>0.631789</td>\n",
       "      <td>0.426509</td>\n",
       "      <td>0.426039</td>\n",
       "      <td>0.594731</td>\n",
       "      <td>0.601049</td>\n",
       "      <td>0.540786</td>\n",
       "      <td>0.558407</td>\n",
       "      <td>0.434656</td>\n",
       "      <td>0.418181</td>\n",
       "      <td>0.466908</td>\n",
       "      <td>0.47396</td>\n",
       "      <td>0.436023</td>\n",
       "      <td>0.471378</td>\n",
       "      <td>0.527356</td>\n",
       "      <td>0.477557</td>\n",
       "      <td>0.446995</td>\n",
       "      <td>0.577437</td>\n",
       "      <td>0.581169</td>\n",
       "      <td>0.451232</td>\n",
       "      <td>0.430873</td>\n",
       "      <td>0.458909</td>\n",
       "      <td>0.503234</td>\n",
       "      <td>0.407891</td>\n",
       "      <td>0.430349</td>\n",
       "      <td>0.451187</td>\n",
       "      <td>0.440668</td>\n",
       "      <td>0.458747</td>\n",
       "      <td>0.496076</td>\n",
       "      <td>0.417435</td>\n",
       "      <td>0.396534</td>\n",
       "      <td>0.442087</td>\n",
       "      <td>0.425791</td>\n",
       "      <td>0.493959</td>\n",
       "      <td>0.532302</td>\n",
       "      <td>0.468274</td>\n",
       "      <td>0.468563</td>\n",
       "      <td>0.426634</td>\n",
       "      <td>0.415657</td>\n",
       "      <td>0.380855</td>\n",
       "      <td>0.396494</td>\n",
       "    </tr>\n",
       "    <tr>\n",
       "      <th>41</th>\n",
       "      <td>A622</td>\n",
       "      <td>0.463491</td>\n",
       "      <td>0.443084</td>\n",
       "      <td>0.389375</td>\n",
       "      <td>0.407843</td>\n",
       "      <td>0.521322</td>\n",
       "      <td>0.52958</td>\n",
       "      <td>0.54914</td>\n",
       "      <td>0.561409</td>\n",
       "      <td>0.572162</td>\n",
       "      <td>0.568062</td>\n",
       "      <td>0.629472</td>\n",
       "      <td>0.452227</td>\n",
       "      <td>0.425696</td>\n",
       "      <td>0.595316</td>\n",
       "      <td>0.587527</td>\n",
       "      <td>0.54947</td>\n",
       "      <td>0.554473</td>\n",
       "      <td>0.426635</td>\n",
       "      <td>0.410551</td>\n",
       "      <td>0.465841</td>\n",
       "      <td>0.466467</td>\n",
       "      <td>0.458501</td>\n",
       "      <td>0.429739</td>\n",
       "      <td>0.491637</td>\n",
       "      <td>0.496463</td>\n",
       "      <td>0.509414</td>\n",
       "      <td>0.569197</td>\n",
       "      <td>0.590285</td>\n",
       "      <td>0.457711</td>\n",
       "      <td>0.442309</td>\n",
       "      <td>0.510425</td>\n",
       "      <td>0.530868</td>\n",
       "      <td>0.45871</td>\n",
       "      <td>0.455456</td>\n",
       "      <td>0.455985</td>\n",
       "      <td>0.442273</td>\n",
       "      <td>0.476852</td>\n",
       "      <td>0.50209</td>\n",
       "      <td>0.410849</td>\n",
       "      <td>0.39831</td>\n",
       "      <td>0.443322</td>\n",
       "      <td>0.474738</td>\n",
       "      <td>0.503752</td>\n",
       "      <td>0.515994</td>\n",
       "      <td>0.499003</td>\n",
       "      <td>0.503808</td>\n",
       "      <td>0.396942</td>\n",
       "      <td>0.406844</td>\n",
       "      <td>0.410811</td>\n",
       "      <td>0.432489</td>\n",
       "    </tr>\n",
       "    <tr>\n",
       "      <th>42</th>\n",
       "      <td>A643</td>\n",
       "      <td>0.505755</td>\n",
       "      <td>0.492036</td>\n",
       "      <td>0.429868</td>\n",
       "      <td>0.437506</td>\n",
       "      <td>0.558878</td>\n",
       "      <td>0.540994</td>\n",
       "      <td>0.562605</td>\n",
       "      <td>0.591705</td>\n",
       "      <td>0.59609</td>\n",
       "      <td>0.597772</td>\n",
       "      <td>0.634391</td>\n",
       "      <td>0.491965</td>\n",
       "      <td>0.479049</td>\n",
       "      <td>0.576766</td>\n",
       "      <td>0.583213</td>\n",
       "      <td>0.525406</td>\n",
       "      <td>0.540395</td>\n",
       "      <td>0.441338</td>\n",
       "      <td>0.429099</td>\n",
       "      <td>0.52305</td>\n",
       "      <td>0.518446</td>\n",
       "      <td>0.493345</td>\n",
       "      <td>0.473773</td>\n",
       "      <td>0.534845</td>\n",
       "      <td>0.541309</td>\n",
       "      <td>0.549003</td>\n",
       "      <td>0.584827</td>\n",
       "      <td>0.600574</td>\n",
       "      <td>0.439209</td>\n",
       "      <td>0.424512</td>\n",
       "      <td>0.510192</td>\n",
       "      <td>0.50691</td>\n",
       "      <td>0.426067</td>\n",
       "      <td>0.471909</td>\n",
       "      <td>0.500075</td>\n",
       "      <td>0.498053</td>\n",
       "      <td>0.504361</td>\n",
       "      <td>0.520887</td>\n",
       "      <td>0.452546</td>\n",
       "      <td>0.463095</td>\n",
       "      <td>0.467606</td>\n",
       "      <td>0.455402</td>\n",
       "      <td>0.545782</td>\n",
       "      <td>0.536813</td>\n",
       "      <td>0.550079</td>\n",
       "      <td>0.546507</td>\n",
       "      <td>0.445888</td>\n",
       "      <td>0.469609</td>\n",
       "      <td>0.413259</td>\n",
       "      <td>0.42855</td>\n",
       "    </tr>\n",
       "    <tr>\n",
       "      <th>43</th>\n",
       "      <td>A646</td>\n",
       "      <td>0.461595</td>\n",
       "      <td>0.439435</td>\n",
       "      <td>0.396953</td>\n",
       "      <td>0.409615</td>\n",
       "      <td>0.488216</td>\n",
       "      <td>0.533185</td>\n",
       "      <td>0.54262</td>\n",
       "      <td>0.555718</td>\n",
       "      <td>0.564256</td>\n",
       "      <td>0.567156</td>\n",
       "      <td>0.633444</td>\n",
       "      <td>0.477224</td>\n",
       "      <td>0.487405</td>\n",
       "      <td>0.571386</td>\n",
       "      <td>0.540602</td>\n",
       "      <td>0.522418</td>\n",
       "      <td>0.523589</td>\n",
       "      <td>0.424241</td>\n",
       "      <td>0.4149</td>\n",
       "      <td>0.477003</td>\n",
       "      <td>0.474494</td>\n",
       "      <td>0.513344</td>\n",
       "      <td>0.492733</td>\n",
       "      <td>0.493884</td>\n",
       "      <td>0.522584</td>\n",
       "      <td>0.53329</td>\n",
       "      <td>0.554848</td>\n",
       "      <td>0.570363</td>\n",
       "      <td>0.459428</td>\n",
       "      <td>0.45126</td>\n",
       "      <td>0.508302</td>\n",
       "      <td>0.468113</td>\n",
       "      <td>0.440866</td>\n",
       "      <td>0.463738</td>\n",
       "      <td>0.478868</td>\n",
       "      <td>0.459039</td>\n",
       "      <td>0.510459</td>\n",
       "      <td>0.476569</td>\n",
       "      <td>0.418873</td>\n",
       "      <td>0.396455</td>\n",
       "      <td>0.439615</td>\n",
       "      <td>0.432556</td>\n",
       "      <td>0.512428</td>\n",
       "      <td>0.499374</td>\n",
       "      <td>0.509397</td>\n",
       "      <td>0.536024</td>\n",
       "      <td>0.38632</td>\n",
       "      <td>0.405296</td>\n",
       "      <td>0.402204</td>\n",
       "      <td>0.397675</td>\n",
       "    </tr>\n",
       "    <tr>\n",
       "      <th>44</th>\n",
       "      <td>A650</td>\n",
       "      <td>0.465886</td>\n",
       "      <td>0.446355</td>\n",
       "      <td>0.421152</td>\n",
       "      <td>0.407546</td>\n",
       "      <td>0.53942</td>\n",
       "      <td>0.522236</td>\n",
       "      <td>0.541472</td>\n",
       "      <td>0.576107</td>\n",
       "      <td>0.58802</td>\n",
       "      <td>0.580687</td>\n",
       "      <td>0.624447</td>\n",
       "      <td>0.464637</td>\n",
       "      <td>0.473008</td>\n",
       "      <td>0.546608</td>\n",
       "      <td>0.54339</td>\n",
       "      <td>0.494475</td>\n",
       "      <td>0.511761</td>\n",
       "      <td>0.44461</td>\n",
       "      <td>0.436592</td>\n",
       "      <td>0.482981</td>\n",
       "      <td>0.4936</td>\n",
       "      <td>0.4598</td>\n",
       "      <td>0.486637</td>\n",
       "      <td>0.518706</td>\n",
       "      <td>0.51232</td>\n",
       "      <td>0.514986</td>\n",
       "      <td>0.549859</td>\n",
       "      <td>0.550184</td>\n",
       "      <td>0.467622</td>\n",
       "      <td>0.451389</td>\n",
       "      <td>0.487995</td>\n",
       "      <td>0.504899</td>\n",
       "      <td>0.420421</td>\n",
       "      <td>0.449598</td>\n",
       "      <td>0.499276</td>\n",
       "      <td>0.459077</td>\n",
       "      <td>0.477186</td>\n",
       "      <td>0.474519</td>\n",
       "      <td>0.417443</td>\n",
       "      <td>0.399982</td>\n",
       "      <td>0.431975</td>\n",
       "      <td>0.441146</td>\n",
       "      <td>0.504195</td>\n",
       "      <td>0.503432</td>\n",
       "      <td>0.503599</td>\n",
       "      <td>0.512566</td>\n",
       "      <td>0.418584</td>\n",
       "      <td>0.429374</td>\n",
       "      <td>0.399645</td>\n",
       "      <td>0.411072</td>\n",
       "    </tr>\n",
       "    <tr>\n",
       "      <th>45</th>\n",
       "      <td>A651</td>\n",
       "      <td>0.464124</td>\n",
       "      <td>0.442015</td>\n",
       "      <td>0.409708</td>\n",
       "      <td>0.440481</td>\n",
       "      <td>0.519443</td>\n",
       "      <td>0.526138</td>\n",
       "      <td>0.550444</td>\n",
       "      <td>0.534068</td>\n",
       "      <td>0.57332</td>\n",
       "      <td>0.588559</td>\n",
       "      <td>0.649168</td>\n",
       "      <td>0.422038</td>\n",
       "      <td>0.428326</td>\n",
       "      <td>0.574134</td>\n",
       "      <td>0.566852</td>\n",
       "      <td>0.507444</td>\n",
       "      <td>0.559393</td>\n",
       "      <td>0.437162</td>\n",
       "      <td>0.408904</td>\n",
       "      <td>0.454399</td>\n",
       "      <td>0.44337</td>\n",
       "      <td>0.474464</td>\n",
       "      <td>0.454764</td>\n",
       "      <td>0.458216</td>\n",
       "      <td>0.493073</td>\n",
       "      <td>0.491397</td>\n",
       "      <td>0.537447</td>\n",
       "      <td>0.588874</td>\n",
       "      <td>0.425773</td>\n",
       "      <td>0.410032</td>\n",
       "      <td>0.472586</td>\n",
       "      <td>0.476505</td>\n",
       "      <td>0.4475</td>\n",
       "      <td>0.450316</td>\n",
       "      <td>0.461751</td>\n",
       "      <td>0.421756</td>\n",
       "      <td>0.452472</td>\n",
       "      <td>0.52325</td>\n",
       "      <td>0.414061</td>\n",
       "      <td>0.407535</td>\n",
       "      <td>0.470914</td>\n",
       "      <td>0.491104</td>\n",
       "      <td>0.470798</td>\n",
       "      <td>0.556825</td>\n",
       "      <td>0.489717</td>\n",
       "      <td>0.507319</td>\n",
       "      <td>0.421636</td>\n",
       "      <td>0.422964</td>\n",
       "      <td>0.407089</td>\n",
       "      <td>0.396185</td>\n",
       "    </tr>\n",
       "    <tr>\n",
       "      <th>46</th>\n",
       "      <td>A653</td>\n",
       "      <td>0.482068</td>\n",
       "      <td>0.459622</td>\n",
       "      <td>0.42604</td>\n",
       "      <td>0.424672</td>\n",
       "      <td>0.561155</td>\n",
       "      <td>0.550148</td>\n",
       "      <td>0.569607</td>\n",
       "      <td>0.571029</td>\n",
       "      <td>0.574901</td>\n",
       "      <td>0.577345</td>\n",
       "      <td>0.634473</td>\n",
       "      <td>0.438227</td>\n",
       "      <td>0.417182</td>\n",
       "      <td>0.587698</td>\n",
       "      <td>0.579485</td>\n",
       "      <td>0.542906</td>\n",
       "      <td>0.55561</td>\n",
       "      <td>0.393112</td>\n",
       "      <td>0.406341</td>\n",
       "      <td>0.48788</td>\n",
       "      <td>0.47813</td>\n",
       "      <td>0.477747</td>\n",
       "      <td>0.472995</td>\n",
       "      <td>0.490682</td>\n",
       "      <td>0.509625</td>\n",
       "      <td>0.486475</td>\n",
       "      <td>0.573122</td>\n",
       "      <td>0.584451</td>\n",
       "      <td>0.461872</td>\n",
       "      <td>0.437766</td>\n",
       "      <td>0.506954</td>\n",
       "      <td>0.479785</td>\n",
       "      <td>0.439874</td>\n",
       "      <td>0.501439</td>\n",
       "      <td>0.494907</td>\n",
       "      <td>0.462626</td>\n",
       "      <td>0.496641</td>\n",
       "      <td>0.522039</td>\n",
       "      <td>0.448258</td>\n",
       "      <td>0.439275</td>\n",
       "      <td>0.470221</td>\n",
       "      <td>0.475871</td>\n",
       "      <td>0.49519</td>\n",
       "      <td>0.540413</td>\n",
       "      <td>0.521519</td>\n",
       "      <td>0.503536</td>\n",
       "      <td>0.448905</td>\n",
       "      <td>0.436608</td>\n",
       "      <td>0.437376</td>\n",
       "      <td>0.435949</td>\n",
       "    </tr>\n",
       "    <tr>\n",
       "      <th>47</th>\n",
       "      <td>A656</td>\n",
       "      <td>0.426883</td>\n",
       "      <td>0.402775</td>\n",
       "      <td>0.417572</td>\n",
       "      <td>0.397371</td>\n",
       "      <td>0.497349</td>\n",
       "      <td>0.489958</td>\n",
       "      <td>0.477654</td>\n",
       "      <td>0.494038</td>\n",
       "      <td>0.526806</td>\n",
       "      <td>0.544319</td>\n",
       "      <td>0.651877</td>\n",
       "      <td>0.373014</td>\n",
       "      <td>0.3948</td>\n",
       "      <td>0.574458</td>\n",
       "      <td>0.50437</td>\n",
       "      <td>0.526471</td>\n",
       "      <td>0.501621</td>\n",
       "      <td>0.406027</td>\n",
       "      <td>0.415437</td>\n",
       "      <td>0.495984</td>\n",
       "      <td>0.476618</td>\n",
       "      <td>0.483497</td>\n",
       "      <td>0.437562</td>\n",
       "      <td>0.450873</td>\n",
       "      <td>0.447987</td>\n",
       "      <td>0.410828</td>\n",
       "      <td>0.531164</td>\n",
       "      <td>0.514745</td>\n",
       "      <td>0.425922</td>\n",
       "      <td>0.424991</td>\n",
       "      <td>0.444613</td>\n",
       "      <td>0.452415</td>\n",
       "      <td>0.401384</td>\n",
       "      <td>0.406194</td>\n",
       "      <td>0.362509</td>\n",
       "      <td>0.3812</td>\n",
       "      <td>0.44678</td>\n",
       "      <td>0.451791</td>\n",
       "      <td>0.413354</td>\n",
       "      <td>0.402032</td>\n",
       "      <td>0.452841</td>\n",
       "      <td>0.440005</td>\n",
       "      <td>0.480958</td>\n",
       "      <td>0.508449</td>\n",
       "      <td>0.443504</td>\n",
       "      <td>0.419794</td>\n",
       "      <td>0.432084</td>\n",
       "      <td>0.465149</td>\n",
       "      <td>0.4033</td>\n",
       "      <td>0.399119</td>\n",
       "    </tr>\n",
       "    <tr>\n",
       "      <th>48</th>\n",
       "      <td>A660</td>\n",
       "      <td>0.458335</td>\n",
       "      <td>0.417229</td>\n",
       "      <td>0.402553</td>\n",
       "      <td>0.421004</td>\n",
       "      <td>0.500297</td>\n",
       "      <td>0.525618</td>\n",
       "      <td>0.541941</td>\n",
       "      <td>0.551016</td>\n",
       "      <td>0.574991</td>\n",
       "      <td>0.58152</td>\n",
       "      <td>0.598533</td>\n",
       "      <td>0.402361</td>\n",
       "      <td>0.413149</td>\n",
       "      <td>0.553543</td>\n",
       "      <td>0.54547</td>\n",
       "      <td>0.503728</td>\n",
       "      <td>0.56084</td>\n",
       "      <td>0.378727</td>\n",
       "      <td>0.391232</td>\n",
       "      <td>0.442901</td>\n",
       "      <td>0.450029</td>\n",
       "      <td>0.449874</td>\n",
       "      <td>0.44336</td>\n",
       "      <td>0.487829</td>\n",
       "      <td>0.52441</td>\n",
       "      <td>0.473008</td>\n",
       "      <td>0.547821</td>\n",
       "      <td>0.562956</td>\n",
       "      <td>0.439558</td>\n",
       "      <td>0.41631</td>\n",
       "      <td>0.485526</td>\n",
       "      <td>0.464468</td>\n",
       "      <td>0.441897</td>\n",
       "      <td>0.452535</td>\n",
       "      <td>0.454047</td>\n",
       "      <td>0.427233</td>\n",
       "      <td>0.452761</td>\n",
       "      <td>0.497156</td>\n",
       "      <td>0.389812</td>\n",
       "      <td>0.383128</td>\n",
       "      <td>0.426564</td>\n",
       "      <td>0.461428</td>\n",
       "      <td>0.482832</td>\n",
       "      <td>0.514167</td>\n",
       "      <td>0.506423</td>\n",
       "      <td>0.467422</td>\n",
       "      <td>0.383296</td>\n",
       "      <td>0.397905</td>\n",
       "      <td>0.398909</td>\n",
       "      <td>0.397392</td>\n",
       "    </tr>\n",
       "    <tr>\n",
       "      <th>49</th>\n",
       "      <td>A661</td>\n",
       "      <td>0.46255</td>\n",
       "      <td>0.416849</td>\n",
       "      <td>0.398032</td>\n",
       "      <td>0.424069</td>\n",
       "      <td>0.482063</td>\n",
       "      <td>0.50643</td>\n",
       "      <td>0.530114</td>\n",
       "      <td>0.511938</td>\n",
       "      <td>0.546629</td>\n",
       "      <td>0.544902</td>\n",
       "      <td>0.614632</td>\n",
       "      <td>0.445425</td>\n",
       "      <td>0.43635</td>\n",
       "      <td>0.564767</td>\n",
       "      <td>0.56615</td>\n",
       "      <td>0.527944</td>\n",
       "      <td>0.544129</td>\n",
       "      <td>0.446545</td>\n",
       "      <td>0.428428</td>\n",
       "      <td>0.449481</td>\n",
       "      <td>0.443046</td>\n",
       "      <td>0.425249</td>\n",
       "      <td>0.449062</td>\n",
       "      <td>0.493112</td>\n",
       "      <td>0.491176</td>\n",
       "      <td>0.503373</td>\n",
       "      <td>0.560835</td>\n",
       "      <td>0.588236</td>\n",
       "      <td>0.458267</td>\n",
       "      <td>0.449653</td>\n",
       "      <td>0.487512</td>\n",
       "      <td>0.465359</td>\n",
       "      <td>0.423128</td>\n",
       "      <td>0.427114</td>\n",
       "      <td>0.453396</td>\n",
       "      <td>0.39963</td>\n",
       "      <td>0.483047</td>\n",
       "      <td>0.492334</td>\n",
       "      <td>0.394539</td>\n",
       "      <td>0.398553</td>\n",
       "      <td>0.467362</td>\n",
       "      <td>0.470098</td>\n",
       "      <td>0.492355</td>\n",
       "      <td>0.506164</td>\n",
       "      <td>0.492215</td>\n",
       "      <td>0.500345</td>\n",
       "      <td>0.413643</td>\n",
       "      <td>0.402902</td>\n",
       "      <td>0.417837</td>\n",
       "      <td>0.414943</td>\n",
       "    </tr>\n",
       "    <tr>\n",
       "      <th>50</th>\n",
       "      <td>A663</td>\n",
       "      <td>0.488559</td>\n",
       "      <td>0.439138</td>\n",
       "      <td>0.457689</td>\n",
       "      <td>0.440005</td>\n",
       "      <td>0.550405</td>\n",
       "      <td>0.552713</td>\n",
       "      <td>0.55317</td>\n",
       "      <td>0.566292</td>\n",
       "      <td>0.541169</td>\n",
       "      <td>0.576308</td>\n",
       "      <td>0.555734</td>\n",
       "      <td>0.460613</td>\n",
       "      <td>0.466617</td>\n",
       "      <td>0.613053</td>\n",
       "      <td>0.580645</td>\n",
       "      <td>0.570061</td>\n",
       "      <td>0.536676</td>\n",
       "      <td>0.432681</td>\n",
       "      <td>0.427009</td>\n",
       "      <td>0.491641</td>\n",
       "      <td>0.465005</td>\n",
       "      <td>0.486575</td>\n",
       "      <td>0.455355</td>\n",
       "      <td>0.49527</td>\n",
       "      <td>0.476995</td>\n",
       "      <td>0.505666</td>\n",
       "      <td>0.58378</td>\n",
       "      <td>0.585267</td>\n",
       "      <td>0.454559</td>\n",
       "      <td>0.446136</td>\n",
       "      <td>0.492113</td>\n",
       "      <td>0.500048</td>\n",
       "      <td>0.479933</td>\n",
       "      <td>0.472259</td>\n",
       "      <td>0.477123</td>\n",
       "      <td>0.464448</td>\n",
       "      <td>0.457823</td>\n",
       "      <td>0.475136</td>\n",
       "      <td>0.454141</td>\n",
       "      <td>0.451441</td>\n",
       "      <td>0.479801</td>\n",
       "      <td>0.463024</td>\n",
       "      <td>0.491806</td>\n",
       "      <td>0.523076</td>\n",
       "      <td>0.476028</td>\n",
       "      <td>0.510184</td>\n",
       "      <td>0.45651</td>\n",
       "      <td>0.48429</td>\n",
       "      <td>0.41662</td>\n",
       "      <td>0.399272</td>\n",
       "    </tr>\n",
       "    <tr>\n",
       "      <th>51</th>\n",
       "      <td>A664</td>\n",
       "      <td>0.48</td>\n",
       "      <td>0.473033</td>\n",
       "      <td>0.426912</td>\n",
       "      <td>0.430697</td>\n",
       "      <td>0.563971</td>\n",
       "      <td>0.555558</td>\n",
       "      <td>0.554587</td>\n",
       "      <td>0.569935</td>\n",
       "      <td>0.57692</td>\n",
       "      <td>0.576295</td>\n",
       "      <td>0.618623</td>\n",
       "      <td>0.476465</td>\n",
       "      <td>0.454543</td>\n",
       "      <td>0.556681</td>\n",
       "      <td>0.552074</td>\n",
       "      <td>0.524118</td>\n",
       "      <td>0.527652</td>\n",
       "      <td>0.433314</td>\n",
       "      <td>0.443141</td>\n",
       "      <td>0.508847</td>\n",
       "      <td>0.491939</td>\n",
       "      <td>0.493381</td>\n",
       "      <td>0.44923</td>\n",
       "      <td>0.537623</td>\n",
       "      <td>0.527807</td>\n",
       "      <td>0.527868</td>\n",
       "      <td>0.541538</td>\n",
       "      <td>0.556267</td>\n",
       "      <td>0.486042</td>\n",
       "      <td>0.486065</td>\n",
       "      <td>0.49988</td>\n",
       "      <td>0.498294</td>\n",
       "      <td>0.44511</td>\n",
       "      <td>0.467805</td>\n",
       "      <td>0.489254</td>\n",
       "      <td>0.468904</td>\n",
       "      <td>0.483642</td>\n",
       "      <td>0.478835</td>\n",
       "      <td>0.444825</td>\n",
       "      <td>0.401895</td>\n",
       "      <td>0.442817</td>\n",
       "      <td>0.436693</td>\n",
       "      <td>0.48623</td>\n",
       "      <td>0.496535</td>\n",
       "      <td>0.524661</td>\n",
       "      <td>0.524149</td>\n",
       "      <td>0.430256</td>\n",
       "      <td>0.440409</td>\n",
       "      <td>0.413561</td>\n",
       "      <td>0.4389</td>\n",
       "    </tr>\n",
       "    <tr>\n",
       "      <th>52</th>\n",
       "      <td>A665</td>\n",
       "      <td>0.453735</td>\n",
       "      <td>0.429888</td>\n",
       "      <td>0.407309</td>\n",
       "      <td>0.426235</td>\n",
       "      <td>0.542799</td>\n",
       "      <td>0.545539</td>\n",
       "      <td>0.569309</td>\n",
       "      <td>0.548272</td>\n",
       "      <td>0.542736</td>\n",
       "      <td>0.57549</td>\n",
       "      <td>0.621206</td>\n",
       "      <td>0.459981</td>\n",
       "      <td>0.443961</td>\n",
       "      <td>0.624109</td>\n",
       "      <td>0.598803</td>\n",
       "      <td>0.543655</td>\n",
       "      <td>0.549891</td>\n",
       "      <td>0.465546</td>\n",
       "      <td>0.450753</td>\n",
       "      <td>0.477192</td>\n",
       "      <td>0.47211</td>\n",
       "      <td>0.47593</td>\n",
       "      <td>0.45909</td>\n",
       "      <td>0.518233</td>\n",
       "      <td>0.491679</td>\n",
       "      <td>0.525045</td>\n",
       "      <td>0.572599</td>\n",
       "      <td>0.575242</td>\n",
       "      <td>0.477126</td>\n",
       "      <td>0.437276</td>\n",
       "      <td>0.496791</td>\n",
       "      <td>0.45609</td>\n",
       "      <td>0.415412</td>\n",
       "      <td>0.43456</td>\n",
       "      <td>0.463428</td>\n",
       "      <td>0.467844</td>\n",
       "      <td>0.494916</td>\n",
       "      <td>0.493942</td>\n",
       "      <td>0.453071</td>\n",
       "      <td>0.435307</td>\n",
       "      <td>0.454466</td>\n",
       "      <td>0.474287</td>\n",
       "      <td>0.520165</td>\n",
       "      <td>0.529964</td>\n",
       "      <td>0.497688</td>\n",
       "      <td>0.513017</td>\n",
       "      <td>0.396831</td>\n",
       "      <td>0.430239</td>\n",
       "      <td>0.439341</td>\n",
       "      <td>0.41353</td>\n",
       "    </tr>\n",
       "    <tr>\n",
       "      <th>53</th>\n",
       "      <td>A680</td>\n",
       "      <td>0.477508</td>\n",
       "      <td>0.487688</td>\n",
       "      <td>0.425294</td>\n",
       "      <td>0.433068</td>\n",
       "      <td>0.563311</td>\n",
       "      <td>0.547341</td>\n",
       "      <td>0.549549</td>\n",
       "      <td>0.572492</td>\n",
       "      <td>0.56734</td>\n",
       "      <td>0.577091</td>\n",
       "      <td>0.596049</td>\n",
       "      <td>0.471583</td>\n",
       "      <td>0.44902</td>\n",
       "      <td>0.596512</td>\n",
       "      <td>0.583835</td>\n",
       "      <td>0.538551</td>\n",
       "      <td>0.552611</td>\n",
       "      <td>0.452704</td>\n",
       "      <td>0.437766</td>\n",
       "      <td>0.502346</td>\n",
       "      <td>0.488855</td>\n",
       "      <td>0.488168</td>\n",
       "      <td>0.469048</td>\n",
       "      <td>0.522351</td>\n",
       "      <td>0.53615</td>\n",
       "      <td>0.506041</td>\n",
       "      <td>0.572945</td>\n",
       "      <td>0.581949</td>\n",
       "      <td>0.4734</td>\n",
       "      <td>0.458106</td>\n",
       "      <td>0.525724</td>\n",
       "      <td>0.492299</td>\n",
       "      <td>0.45787</td>\n",
       "      <td>0.483544</td>\n",
       "      <td>0.501045</td>\n",
       "      <td>0.464681</td>\n",
       "      <td>0.519822</td>\n",
       "      <td>0.486766</td>\n",
       "      <td>0.453044</td>\n",
       "      <td>0.431984</td>\n",
       "      <td>0.445558</td>\n",
       "      <td>0.453613</td>\n",
       "      <td>0.530922</td>\n",
       "      <td>0.513773</td>\n",
       "      <td>0.538421</td>\n",
       "      <td>0.510539</td>\n",
       "      <td>0.443068</td>\n",
       "      <td>0.441227</td>\n",
       "      <td>0.413552</td>\n",
       "      <td>0.409253</td>\n",
       "    </tr>\n",
       "    <tr>\n",
       "      <th>54</th>\n",
       "      <td>A682</td>\n",
       "      <td>0.483416</td>\n",
       "      <td>0.464279</td>\n",
       "      <td>0.432959</td>\n",
       "      <td>0.436914</td>\n",
       "      <td>0.562763</td>\n",
       "      <td>0.541863</td>\n",
       "      <td>0.544832</td>\n",
       "      <td>0.581274</td>\n",
       "      <td>0.586459</td>\n",
       "      <td>0.578257</td>\n",
       "      <td>0.578616</td>\n",
       "      <td>0.464839</td>\n",
       "      <td>0.488065</td>\n",
       "      <td>0.572268</td>\n",
       "      <td>0.564451</td>\n",
       "      <td>0.523332</td>\n",
       "      <td>0.535632</td>\n",
       "      <td>0.456144</td>\n",
       "      <td>0.447332</td>\n",
       "      <td>0.512391</td>\n",
       "      <td>0.504926</td>\n",
       "      <td>0.486948</td>\n",
       "      <td>0.479049</td>\n",
       "      <td>0.506273</td>\n",
       "      <td>0.527948</td>\n",
       "      <td>0.515179</td>\n",
       "      <td>0.560966</td>\n",
       "      <td>0.587172</td>\n",
       "      <td>0.482333</td>\n",
       "      <td>0.493215</td>\n",
       "      <td>0.523616</td>\n",
       "      <td>0.499566</td>\n",
       "      <td>0.464501</td>\n",
       "      <td>0.487988</td>\n",
       "      <td>0.488522</td>\n",
       "      <td>0.45815</td>\n",
       "      <td>0.498789</td>\n",
       "      <td>0.494794</td>\n",
       "      <td>0.447743</td>\n",
       "      <td>0.411849</td>\n",
       "      <td>0.448458</td>\n",
       "      <td>0.469228</td>\n",
       "      <td>0.511987</td>\n",
       "      <td>0.521276</td>\n",
       "      <td>0.527723</td>\n",
       "      <td>0.52219</td>\n",
       "      <td>0.45086</td>\n",
       "      <td>0.440812</td>\n",
       "      <td>0.399251</td>\n",
       "      <td>0.427968</td>\n",
       "    </tr>\n",
       "    <tr>\n",
       "      <th>55</th>\n",
       "      <td>A686</td>\n",
       "      <td>0.50512</td>\n",
       "      <td>0.495983</td>\n",
       "      <td>0.410418</td>\n",
       "      <td>0.426313</td>\n",
       "      <td>0.540157</td>\n",
       "      <td>0.532918</td>\n",
       "      <td>0.555266</td>\n",
       "      <td>0.549878</td>\n",
       "      <td>0.549708</td>\n",
       "      <td>0.583434</td>\n",
       "      <td>0.652336</td>\n",
       "      <td>0.458323</td>\n",
       "      <td>0.446594</td>\n",
       "      <td>0.605606</td>\n",
       "      <td>0.607528</td>\n",
       "      <td>0.533543</td>\n",
       "      <td>0.543076</td>\n",
       "      <td>0.406919</td>\n",
       "      <td>0.392188</td>\n",
       "      <td>0.447742</td>\n",
       "      <td>0.463119</td>\n",
       "      <td>0.463693</td>\n",
       "      <td>0.435415</td>\n",
       "      <td>0.47654</td>\n",
       "      <td>0.48173</td>\n",
       "      <td>0.504512</td>\n",
       "      <td>0.573731</td>\n",
       "      <td>0.557533</td>\n",
       "      <td>0.462034</td>\n",
       "      <td>0.413687</td>\n",
       "      <td>0.483685</td>\n",
       "      <td>0.477791</td>\n",
       "      <td>0.453506</td>\n",
       "      <td>0.478817</td>\n",
       "      <td>0.476674</td>\n",
       "      <td>0.465583</td>\n",
       "      <td>0.455819</td>\n",
       "      <td>0.496565</td>\n",
       "      <td>0.462638</td>\n",
       "      <td>0.44488</td>\n",
       "      <td>0.436131</td>\n",
       "      <td>0.478453</td>\n",
       "      <td>0.513412</td>\n",
       "      <td>0.529551</td>\n",
       "      <td>0.46642</td>\n",
       "      <td>0.500664</td>\n",
       "      <td>0.428219</td>\n",
       "      <td>0.424007</td>\n",
       "      <td>0.386247</td>\n",
       "      <td>0.41285</td>\n",
       "    </tr>\n",
       "    <tr>\n",
       "      <th>56</th>\n",
       "      <td>A687</td>\n",
       "      <td>0.480064</td>\n",
       "      <td>0.454598</td>\n",
       "      <td>0.42131</td>\n",
       "      <td>0.440486</td>\n",
       "      <td>0.545486</td>\n",
       "      <td>0.519897</td>\n",
       "      <td>0.547331</td>\n",
       "      <td>0.554113</td>\n",
       "      <td>0.583068</td>\n",
       "      <td>0.610108</td>\n",
       "      <td>0.659243</td>\n",
       "      <td>0.493096</td>\n",
       "      <td>0.486785</td>\n",
       "      <td>0.491512</td>\n",
       "      <td>0.553704</td>\n",
       "      <td>0.494759</td>\n",
       "      <td>0.564712</td>\n",
       "      <td>0.392902</td>\n",
       "      <td>0.395846</td>\n",
       "      <td>0.427839</td>\n",
       "      <td>0.472394</td>\n",
       "      <td>0.450227</td>\n",
       "      <td>0.484038</td>\n",
       "      <td>0.483141</td>\n",
       "      <td>0.46574</td>\n",
       "      <td>0.466136</td>\n",
       "      <td>0.541018</td>\n",
       "      <td>0.558687</td>\n",
       "      <td>0.446423</td>\n",
       "      <td>0.444471</td>\n",
       "      <td>0.504293</td>\n",
       "      <td>0.490632</td>\n",
       "      <td>0.484147</td>\n",
       "      <td>0.475559</td>\n",
       "      <td>0.465302</td>\n",
       "      <td>0.451848</td>\n",
       "      <td>0.45125</td>\n",
       "      <td>0.494692</td>\n",
       "      <td>0.431968</td>\n",
       "      <td>0.452445</td>\n",
       "      <td>0.450714</td>\n",
       "      <td>0.503025</td>\n",
       "      <td>0.487409</td>\n",
       "      <td>0.537847</td>\n",
       "      <td>0.387973</td>\n",
       "      <td>0.485056</td>\n",
       "      <td>0.407871</td>\n",
       "      <td>0.450594</td>\n",
       "      <td>0.420183</td>\n",
       "      <td>0.414195</td>\n",
       "    </tr>\n",
       "    <tr>\n",
       "      <th>57</th>\n",
       "      <td>A688</td>\n",
       "      <td>0.435994</td>\n",
       "      <td>0.433304</td>\n",
       "      <td>0.39113</td>\n",
       "      <td>0.403668</td>\n",
       "      <td>0.511229</td>\n",
       "      <td>0.498286</td>\n",
       "      <td>0.515071</td>\n",
       "      <td>0.534842</td>\n",
       "      <td>0.571139</td>\n",
       "      <td>0.540078</td>\n",
       "      <td>0.58447</td>\n",
       "      <td>0.369392</td>\n",
       "      <td>0.393339</td>\n",
       "      <td>0.592586</td>\n",
       "      <td>0.572362</td>\n",
       "      <td>0.503716</td>\n",
       "      <td>0.491881</td>\n",
       "      <td>0.426253</td>\n",
       "      <td>0.411465</td>\n",
       "      <td>0.487173</td>\n",
       "      <td>0.47841</td>\n",
       "      <td>0.468828</td>\n",
       "      <td>0.464871</td>\n",
       "      <td>0.487342</td>\n",
       "      <td>0.500988</td>\n",
       "      <td>0.489208</td>\n",
       "      <td>0.593848</td>\n",
       "      <td>0.569117</td>\n",
       "      <td>0.424169</td>\n",
       "      <td>0.411804</td>\n",
       "      <td>0.459149</td>\n",
       "      <td>0.444395</td>\n",
       "      <td>0.401425</td>\n",
       "      <td>0.393887</td>\n",
       "      <td>0.43939</td>\n",
       "      <td>0.467755</td>\n",
       "      <td>0.50756</td>\n",
       "      <td>0.466427</td>\n",
       "      <td>0.401782</td>\n",
       "      <td>0.394264</td>\n",
       "      <td>0.440278</td>\n",
       "      <td>0.434223</td>\n",
       "      <td>0.532545</td>\n",
       "      <td>0.487545</td>\n",
       "      <td>0.495766</td>\n",
       "      <td>0.487962</td>\n",
       "      <td>0.391869</td>\n",
       "      <td>0.388202</td>\n",
       "      <td>0.399534</td>\n",
       "      <td>0.400892</td>\n",
       "    </tr>\n",
       "    <tr>\n",
       "      <th>58</th>\n",
       "      <td>A689</td>\n",
       "      <td>0.463087</td>\n",
       "      <td>0.466266</td>\n",
       "      <td>0.400682</td>\n",
       "      <td>0.400687</td>\n",
       "      <td>0.507335</td>\n",
       "      <td>0.526094</td>\n",
       "      <td>0.554735</td>\n",
       "      <td>0.571394</td>\n",
       "      <td>0.583357</td>\n",
       "      <td>0.586894</td>\n",
       "      <td>0.645986</td>\n",
       "      <td>0.454948</td>\n",
       "      <td>0.433777</td>\n",
       "      <td>0.567056</td>\n",
       "      <td>0.548182</td>\n",
       "      <td>0.522867</td>\n",
       "      <td>0.517961</td>\n",
       "      <td>0.430663</td>\n",
       "      <td>0.440557</td>\n",
       "      <td>0.475702</td>\n",
       "      <td>0.476148</td>\n",
       "      <td>0.488759</td>\n",
       "      <td>0.475207</td>\n",
       "      <td>0.495418</td>\n",
       "      <td>0.496273</td>\n",
       "      <td>0.496527</td>\n",
       "      <td>0.556125</td>\n",
       "      <td>0.601799</td>\n",
       "      <td>0.491312</td>\n",
       "      <td>0.460191</td>\n",
       "      <td>0.472529</td>\n",
       "      <td>0.479919</td>\n",
       "      <td>0.42742</td>\n",
       "      <td>0.44249</td>\n",
       "      <td>0.473471</td>\n",
       "      <td>0.456323</td>\n",
       "      <td>0.472709</td>\n",
       "      <td>0.483986</td>\n",
       "      <td>0.414797</td>\n",
       "      <td>0.406622</td>\n",
       "      <td>0.455016</td>\n",
       "      <td>0.421235</td>\n",
       "      <td>0.472544</td>\n",
       "      <td>0.499644</td>\n",
       "      <td>0.500748</td>\n",
       "      <td>0.496194</td>\n",
       "      <td>0.368549</td>\n",
       "      <td>0.391351</td>\n",
       "      <td>0.418845</td>\n",
       "      <td>0.415911</td>\n",
       "    </tr>\n",
       "    <tr>\n",
       "      <th>59</th>\n",
       "      <td>A692</td>\n",
       "      <td>0.494451</td>\n",
       "      <td>0.466493</td>\n",
       "      <td>0.453725</td>\n",
       "      <td>0.494011</td>\n",
       "      <td>0.548365</td>\n",
       "      <td>0.568947</td>\n",
       "      <td>0.583396</td>\n",
       "      <td>0.569444</td>\n",
       "      <td>0.597044</td>\n",
       "      <td>0.615308</td>\n",
       "      <td>0.669871</td>\n",
       "      <td>0.538272</td>\n",
       "      <td>0.477535</td>\n",
       "      <td>0.562625</td>\n",
       "      <td>0.553859</td>\n",
       "      <td>0.56173</td>\n",
       "      <td>0.590847</td>\n",
       "      <td>0.408618</td>\n",
       "      <td>0.430905</td>\n",
       "      <td>0.0</td>\n",
       "      <td>0.466527</td>\n",
       "      <td>0.51354</td>\n",
       "      <td>0.457064</td>\n",
       "      <td>0.500641</td>\n",
       "      <td>0.52098</td>\n",
       "      <td>0.523836</td>\n",
       "      <td>0.588851</td>\n",
       "      <td>0.602486</td>\n",
       "      <td>0.483731</td>\n",
       "      <td>0.458828</td>\n",
       "      <td>0.494079</td>\n",
       "      <td>0.501692</td>\n",
       "      <td>0.489616</td>\n",
       "      <td>0.487312</td>\n",
       "      <td>0.488502</td>\n",
       "      <td>0.446454</td>\n",
       "      <td>0.461939</td>\n",
       "      <td>0.534451</td>\n",
       "      <td>0.466465</td>\n",
       "      <td>0.447984</td>\n",
       "      <td>0.468992</td>\n",
       "      <td>0.507076</td>\n",
       "      <td>0.523362</td>\n",
       "      <td>0.559315</td>\n",
       "      <td>0.495763</td>\n",
       "      <td>0.527258</td>\n",
       "      <td>0.472003</td>\n",
       "      <td>0.437231</td>\n",
       "      <td>0.431182</td>\n",
       "      <td>0.442639</td>\n",
       "    </tr>\n",
       "    <tr>\n",
       "      <th>60</th>\n",
       "      <td>A694</td>\n",
       "      <td>0.44917</td>\n",
       "      <td>0.415049</td>\n",
       "      <td>0.423685</td>\n",
       "      <td>0.462825</td>\n",
       "      <td>0.517694</td>\n",
       "      <td>0.529326</td>\n",
       "      <td>0.544683</td>\n",
       "      <td>0.542066</td>\n",
       "      <td>0.525687</td>\n",
       "      <td>0.552061</td>\n",
       "      <td>0.606644</td>\n",
       "      <td>0.47269</td>\n",
       "      <td>0.429519</td>\n",
       "      <td>0.549277</td>\n",
       "      <td>0.577555</td>\n",
       "      <td>0.5186</td>\n",
       "      <td>0.563081</td>\n",
       "      <td>0.439503</td>\n",
       "      <td>0.402927</td>\n",
       "      <td>0.513713</td>\n",
       "      <td>0.477059</td>\n",
       "      <td>0.485833</td>\n",
       "      <td>0.450645</td>\n",
       "      <td>0.455264</td>\n",
       "      <td>0.485464</td>\n",
       "      <td>0.488623</td>\n",
       "      <td>0.543479</td>\n",
       "      <td>0.572001</td>\n",
       "      <td>0.476352</td>\n",
       "      <td>0.438532</td>\n",
       "      <td>0.477298</td>\n",
       "      <td>0.468697</td>\n",
       "      <td>0.395175</td>\n",
       "      <td>0.4201</td>\n",
       "      <td>0.455694</td>\n",
       "      <td>0.445675</td>\n",
       "      <td>0.443713</td>\n",
       "      <td>0.470558</td>\n",
       "      <td>0.453502</td>\n",
       "      <td>0.429793</td>\n",
       "      <td>0.461936</td>\n",
       "      <td>0.477592</td>\n",
       "      <td>0.476948</td>\n",
       "      <td>0.503925</td>\n",
       "      <td>0.501412</td>\n",
       "      <td>0.485599</td>\n",
       "      <td>0.422499</td>\n",
       "      <td>0.427742</td>\n",
       "      <td>0.422216</td>\n",
       "      <td>0.416403</td>\n",
       "    </tr>\n",
       "    <tr>\n",
       "      <th>61</th>\n",
       "      <td>A695</td>\n",
       "      <td>0.482703</td>\n",
       "      <td>0.469956</td>\n",
       "      <td>0.437241</td>\n",
       "      <td>0.443798</td>\n",
       "      <td>0.551825</td>\n",
       "      <td>0.536309</td>\n",
       "      <td>0.533024</td>\n",
       "      <td>0.574249</td>\n",
       "      <td>0.568052</td>\n",
       "      <td>0.562645</td>\n",
       "      <td>0.625789</td>\n",
       "      <td>0.47602</td>\n",
       "      <td>0.468589</td>\n",
       "      <td>0.610644</td>\n",
       "      <td>0.60909</td>\n",
       "      <td>0.568354</td>\n",
       "      <td>0.571349</td>\n",
       "      <td>0.475767</td>\n",
       "      <td>0.436056</td>\n",
       "      <td>0.503214</td>\n",
       "      <td>0.498748</td>\n",
       "      <td>0.495368</td>\n",
       "      <td>0.493635</td>\n",
       "      <td>0.519099</td>\n",
       "      <td>0.545798</td>\n",
       "      <td>0.520054</td>\n",
       "      <td>0.582879</td>\n",
       "      <td>0.59055</td>\n",
       "      <td>0.473327</td>\n",
       "      <td>0.451483</td>\n",
       "      <td>0.508405</td>\n",
       "      <td>0.482549</td>\n",
       "      <td>0.449795</td>\n",
       "      <td>0.454787</td>\n",
       "      <td>0.497986</td>\n",
       "      <td>0.474488</td>\n",
       "      <td>0.487724</td>\n",
       "      <td>0.527954</td>\n",
       "      <td>0.448307</td>\n",
       "      <td>0.434863</td>\n",
       "      <td>0.467535</td>\n",
       "      <td>0.473447</td>\n",
       "      <td>0.516213</td>\n",
       "      <td>0.527132</td>\n",
       "      <td>0.536549</td>\n",
       "      <td>0.519594</td>\n",
       "      <td>0.417622</td>\n",
       "      <td>0.422588</td>\n",
       "      <td>0.423195</td>\n",
       "      <td>0.412841</td>\n",
       "    </tr>\n",
       "    <tr>\n",
       "      <th>62</th>\n",
       "      <td>A696</td>\n",
       "      <td>0.487889</td>\n",
       "      <td>0.450906</td>\n",
       "      <td>0.423009</td>\n",
       "      <td>0.418837</td>\n",
       "      <td>0.541036</td>\n",
       "      <td>0.545274</td>\n",
       "      <td>0.546345</td>\n",
       "      <td>0.568592</td>\n",
       "      <td>0.569462</td>\n",
       "      <td>0.577029</td>\n",
       "      <td>0.60379</td>\n",
       "      <td>0.417521</td>\n",
       "      <td>0.429725</td>\n",
       "      <td>0.595253</td>\n",
       "      <td>0.573982</td>\n",
       "      <td>0.542128</td>\n",
       "      <td>0.526762</td>\n",
       "      <td>0.439581</td>\n",
       "      <td>0.432091</td>\n",
       "      <td>0.487539</td>\n",
       "      <td>0.489023</td>\n",
       "      <td>0.492453</td>\n",
       "      <td>0.46822</td>\n",
       "      <td>0.495793</td>\n",
       "      <td>0.509359</td>\n",
       "      <td>0.49027</td>\n",
       "      <td>0.586647</td>\n",
       "      <td>0.592329</td>\n",
       "      <td>0.4609</td>\n",
       "      <td>0.439397</td>\n",
       "      <td>0.498528</td>\n",
       "      <td>0.495112</td>\n",
       "      <td>0.467144</td>\n",
       "      <td>0.479997</td>\n",
       "      <td>0.457766</td>\n",
       "      <td>0.453403</td>\n",
       "      <td>0.513139</td>\n",
       "      <td>0.489421</td>\n",
       "      <td>0.426898</td>\n",
       "      <td>0.434277</td>\n",
       "      <td>0.474668</td>\n",
       "      <td>0.474549</td>\n",
       "      <td>0.518813</td>\n",
       "      <td>0.519803</td>\n",
       "      <td>0.519691</td>\n",
       "      <td>0.499654</td>\n",
       "      <td>0.421032</td>\n",
       "      <td>0.454382</td>\n",
       "      <td>0.43977</td>\n",
       "      <td>0.426477</td>\n",
       "    </tr>\n",
       "    <tr>\n",
       "      <th>63</th>\n",
       "      <td>A698</td>\n",
       "      <td>0.487619</td>\n",
       "      <td>0.46806</td>\n",
       "      <td>0.438247</td>\n",
       "      <td>0.460742</td>\n",
       "      <td>0.546383</td>\n",
       "      <td>0.534844</td>\n",
       "      <td>0.542616</td>\n",
       "      <td>0.534388</td>\n",
       "      <td>0.599383</td>\n",
       "      <td>0.583469</td>\n",
       "      <td>0.630488</td>\n",
       "      <td>0.481655</td>\n",
       "      <td>0.461858</td>\n",
       "      <td>0.585086</td>\n",
       "      <td>0.582205</td>\n",
       "      <td>0.543173</td>\n",
       "      <td>0.554669</td>\n",
       "      <td>0.442078</td>\n",
       "      <td>0.424114</td>\n",
       "      <td>0.494666</td>\n",
       "      <td>0.513676</td>\n",
       "      <td>0.516485</td>\n",
       "      <td>0.478637</td>\n",
       "      <td>0.505868</td>\n",
       "      <td>0.482756</td>\n",
       "      <td>0.467037</td>\n",
       "      <td>0.582579</td>\n",
       "      <td>0.58896</td>\n",
       "      <td>0.450782</td>\n",
       "      <td>0.435238</td>\n",
       "      <td>0.487947</td>\n",
       "      <td>0.491456</td>\n",
       "      <td>0.464971</td>\n",
       "      <td>0.490569</td>\n",
       "      <td>0.50869</td>\n",
       "      <td>0.48581</td>\n",
       "      <td>0.498245</td>\n",
       "      <td>0.512665</td>\n",
       "      <td>0.510424</td>\n",
       "      <td>0.480642</td>\n",
       "      <td>0.476472</td>\n",
       "      <td>0.469856</td>\n",
       "      <td>0.525024</td>\n",
       "      <td>0.529668</td>\n",
       "      <td>0.488263</td>\n",
       "      <td>0.497105</td>\n",
       "      <td>0.482516</td>\n",
       "      <td>0.469013</td>\n",
       "      <td>0.427993</td>\n",
       "      <td>0.432698</td>\n",
       "    </tr>\n",
       "    <tr>\n",
       "      <th>64</th>\n",
       "      <td>A704</td>\n",
       "      <td>0.44669</td>\n",
       "      <td>0.435913</td>\n",
       "      <td>0.400109</td>\n",
       "      <td>0.404972</td>\n",
       "      <td>0.514287</td>\n",
       "      <td>0.524957</td>\n",
       "      <td>0.53828</td>\n",
       "      <td>0.554664</td>\n",
       "      <td>0.536843</td>\n",
       "      <td>0.552502</td>\n",
       "      <td>0.609799</td>\n",
       "      <td>0.415964</td>\n",
       "      <td>0.440369</td>\n",
       "      <td>0.570735</td>\n",
       "      <td>0.562628</td>\n",
       "      <td>0.525851</td>\n",
       "      <td>0.525328</td>\n",
       "      <td>0.407191</td>\n",
       "      <td>0.40786</td>\n",
       "      <td>0.489906</td>\n",
       "      <td>0.463926</td>\n",
       "      <td>0.477087</td>\n",
       "      <td>0.471756</td>\n",
       "      <td>0.450689</td>\n",
       "      <td>0.505426</td>\n",
       "      <td>0.515621</td>\n",
       "      <td>0.542201</td>\n",
       "      <td>0.569773</td>\n",
       "      <td>0.452556</td>\n",
       "      <td>0.453067</td>\n",
       "      <td>0.473075</td>\n",
       "      <td>0.476841</td>\n",
       "      <td>0.422689</td>\n",
       "      <td>0.438005</td>\n",
       "      <td>0.454336</td>\n",
       "      <td>0.439809</td>\n",
       "      <td>0.453384</td>\n",
       "      <td>0.482435</td>\n",
       "      <td>0.405358</td>\n",
       "      <td>0.416714</td>\n",
       "      <td>0.451795</td>\n",
       "      <td>0.445755</td>\n",
       "      <td>0.475465</td>\n",
       "      <td>0.494989</td>\n",
       "      <td>0.507756</td>\n",
       "      <td>0.507642</td>\n",
       "      <td>0.393057</td>\n",
       "      <td>0.4009</td>\n",
       "      <td>0.396267</td>\n",
       "      <td>0.422552</td>\n",
       "    </tr>\n",
       "    <tr>\n",
       "      <th>65</th>\n",
       "      <td>A707</td>\n",
       "      <td>0.489323</td>\n",
       "      <td>0.439748</td>\n",
       "      <td>0.401546</td>\n",
       "      <td>0.41539</td>\n",
       "      <td>0.498331</td>\n",
       "      <td>0.528299</td>\n",
       "      <td>0.537871</td>\n",
       "      <td>0.545026</td>\n",
       "      <td>0.565575</td>\n",
       "      <td>0.577378</td>\n",
       "      <td>0.600625</td>\n",
       "      <td>0.440874</td>\n",
       "      <td>0.439167</td>\n",
       "      <td>0.587357</td>\n",
       "      <td>0.584762</td>\n",
       "      <td>0.510056</td>\n",
       "      <td>0.551276</td>\n",
       "      <td>0.424937</td>\n",
       "      <td>0.428952</td>\n",
       "      <td>0.494413</td>\n",
       "      <td>0.498926</td>\n",
       "      <td>0.504475</td>\n",
       "      <td>0.469598</td>\n",
       "      <td>0.50429</td>\n",
       "      <td>0.484117</td>\n",
       "      <td>0.498989</td>\n",
       "      <td>0.571275</td>\n",
       "      <td>0.594853</td>\n",
       "      <td>0.430137</td>\n",
       "      <td>0.417782</td>\n",
       "      <td>0.520694</td>\n",
       "      <td>0.492083</td>\n",
       "      <td>0.484931</td>\n",
       "      <td>0.465197</td>\n",
       "      <td>0.46225</td>\n",
       "      <td>0.459479</td>\n",
       "      <td>0.490849</td>\n",
       "      <td>0.503904</td>\n",
       "      <td>0.429803</td>\n",
       "      <td>0.424822</td>\n",
       "      <td>0.451301</td>\n",
       "      <td>0.448319</td>\n",
       "      <td>0.510066</td>\n",
       "      <td>0.537189</td>\n",
       "      <td>0.500462</td>\n",
       "      <td>0.492718</td>\n",
       "      <td>0.419433</td>\n",
       "      <td>0.453621</td>\n",
       "      <td>0.401542</td>\n",
       "      <td>0.410218</td>\n",
       "    </tr>\n",
       "    <tr>\n",
       "      <th>66</th>\n",
       "      <td>A708</td>\n",
       "      <td>0.484041</td>\n",
       "      <td>0.482883</td>\n",
       "      <td>0.449843</td>\n",
       "      <td>0.469107</td>\n",
       "      <td>0.578182</td>\n",
       "      <td>0.573941</td>\n",
       "      <td>0.590816</td>\n",
       "      <td>0.594951</td>\n",
       "      <td>0.602185</td>\n",
       "      <td>0.602848</td>\n",
       "      <td>0.627711</td>\n",
       "      <td>0.503246</td>\n",
       "      <td>0.4627</td>\n",
       "      <td>0.60077</td>\n",
       "      <td>0.579953</td>\n",
       "      <td>0.561803</td>\n",
       "      <td>0.552624</td>\n",
       "      <td>0.432794</td>\n",
       "      <td>0.426894</td>\n",
       "      <td>0.481701</td>\n",
       "      <td>0.470645</td>\n",
       "      <td>0.544052</td>\n",
       "      <td>0.515373</td>\n",
       "      <td>0.549838</td>\n",
       "      <td>0.524705</td>\n",
       "      <td>0.537509</td>\n",
       "      <td>0.600035</td>\n",
       "      <td>0.613612</td>\n",
       "      <td>0.460188</td>\n",
       "      <td>0.434473</td>\n",
       "      <td>0.519383</td>\n",
       "      <td>0.518002</td>\n",
       "      <td>0.486226</td>\n",
       "      <td>0.493556</td>\n",
       "      <td>0.486016</td>\n",
       "      <td>0.483355</td>\n",
       "      <td>0.50416</td>\n",
       "      <td>0.513914</td>\n",
       "      <td>0.445645</td>\n",
       "      <td>0.426432</td>\n",
       "      <td>0.490732</td>\n",
       "      <td>0.488613</td>\n",
       "      <td>0.556673</td>\n",
       "      <td>0.552776</td>\n",
       "      <td>0.519914</td>\n",
       "      <td>0.541732</td>\n",
       "      <td>0.459229</td>\n",
       "      <td>0.482285</td>\n",
       "      <td>0.45485</td>\n",
       "      <td>0.455667</td>\n",
       "    </tr>\n",
       "    <tr>\n",
       "      <th>67</th>\n",
       "      <td>A715</td>\n",
       "      <td>0.47754</td>\n",
       "      <td>0.464566</td>\n",
       "      <td>0.429401</td>\n",
       "      <td>0.418805</td>\n",
       "      <td>0.540096</td>\n",
       "      <td>0.52731</td>\n",
       "      <td>0.52157</td>\n",
       "      <td>0.568058</td>\n",
       "      <td>0.575041</td>\n",
       "      <td>0.5718</td>\n",
       "      <td>0.621615</td>\n",
       "      <td>0.467154</td>\n",
       "      <td>0.456638</td>\n",
       "      <td>0.546964</td>\n",
       "      <td>0.562795</td>\n",
       "      <td>0.502583</td>\n",
       "      <td>0.519556</td>\n",
       "      <td>0.411197</td>\n",
       "      <td>0.399544</td>\n",
       "      <td>0.532281</td>\n",
       "      <td>0.536246</td>\n",
       "      <td>0.53267</td>\n",
       "      <td>0.516603</td>\n",
       "      <td>0.47538</td>\n",
       "      <td>0.504767</td>\n",
       "      <td>0.519202</td>\n",
       "      <td>0.510812</td>\n",
       "      <td>0.554721</td>\n",
       "      <td>0.442919</td>\n",
       "      <td>0.434406</td>\n",
       "      <td>0.500695</td>\n",
       "      <td>0.499896</td>\n",
       "      <td>0.432345</td>\n",
       "      <td>0.458446</td>\n",
       "      <td>0.505135</td>\n",
       "      <td>0.498069</td>\n",
       "      <td>0.476748</td>\n",
       "      <td>0.493142</td>\n",
       "      <td>0.429027</td>\n",
       "      <td>0.417857</td>\n",
       "      <td>0.438016</td>\n",
       "      <td>0.443816</td>\n",
       "      <td>0.475271</td>\n",
       "      <td>0.503864</td>\n",
       "      <td>0.504098</td>\n",
       "      <td>0.517181</td>\n",
       "      <td>0.419252</td>\n",
       "      <td>0.435381</td>\n",
       "      <td>0.411761</td>\n",
       "      <td>0.415131</td>\n",
       "    </tr>\n",
       "    <tr>\n",
       "      <th>68</th>\n",
       "      <td>A717</td>\n",
       "      <td>0.443252</td>\n",
       "      <td>0.447717</td>\n",
       "      <td>0.432944</td>\n",
       "      <td>0.41934</td>\n",
       "      <td>0.492181</td>\n",
       "      <td>0.518587</td>\n",
       "      <td>0.51163</td>\n",
       "      <td>0.538454</td>\n",
       "      <td>0.509532</td>\n",
       "      <td>0.554261</td>\n",
       "      <td>0.54541</td>\n",
       "      <td>0.462422</td>\n",
       "      <td>0.465603</td>\n",
       "      <td>0.578245</td>\n",
       "      <td>0.569297</td>\n",
       "      <td>0.530273</td>\n",
       "      <td>0.516597</td>\n",
       "      <td>0.418172</td>\n",
       "      <td>0.389914</td>\n",
       "      <td>0.481176</td>\n",
       "      <td>0.477944</td>\n",
       "      <td>0.458512</td>\n",
       "      <td>0.434599</td>\n",
       "      <td>0.464075</td>\n",
       "      <td>0.491978</td>\n",
       "      <td>0.494807</td>\n",
       "      <td>0.556184</td>\n",
       "      <td>0.550567</td>\n",
       "      <td>0.460262</td>\n",
       "      <td>0.468499</td>\n",
       "      <td>0.471394</td>\n",
       "      <td>0.45493</td>\n",
       "      <td>0.412629</td>\n",
       "      <td>0.44612</td>\n",
       "      <td>0.42455</td>\n",
       "      <td>0.418184</td>\n",
       "      <td>0.467797</td>\n",
       "      <td>0.458496</td>\n",
       "      <td>0.419538</td>\n",
       "      <td>0.407075</td>\n",
       "      <td>0.473484</td>\n",
       "      <td>0.436941</td>\n",
       "      <td>0.480428</td>\n",
       "      <td>0.49318</td>\n",
       "      <td>0.493348</td>\n",
       "      <td>0.49726</td>\n",
       "      <td>0.401276</td>\n",
       "      <td>0.3948</td>\n",
       "      <td>0.404145</td>\n",
       "      <td>0.400988</td>\n",
       "    </tr>\n",
       "    <tr>\n",
       "      <th>69</th>\n",
       "      <td>A718</td>\n",
       "      <td>0.46249</td>\n",
       "      <td>0.427705</td>\n",
       "      <td>0.40636</td>\n",
       "      <td>0.410134</td>\n",
       "      <td>0.497926</td>\n",
       "      <td>0.512198</td>\n",
       "      <td>0.555747</td>\n",
       "      <td>0.551823</td>\n",
       "      <td>0.588442</td>\n",
       "      <td>0.579666</td>\n",
       "      <td>0.619303</td>\n",
       "      <td>0.433575</td>\n",
       "      <td>0.455473</td>\n",
       "      <td>0.565047</td>\n",
       "      <td>0.597394</td>\n",
       "      <td>0.52882</td>\n",
       "      <td>0.528405</td>\n",
       "      <td>0.396818</td>\n",
       "      <td>0.416851</td>\n",
       "      <td>0.473769</td>\n",
       "      <td>0.468857</td>\n",
       "      <td>0.493479</td>\n",
       "      <td>0.49027</td>\n",
       "      <td>0.471488</td>\n",
       "      <td>0.486937</td>\n",
       "      <td>0.46698</td>\n",
       "      <td>0.570517</td>\n",
       "      <td>0.583944</td>\n",
       "      <td>0.461561</td>\n",
       "      <td>0.46463</td>\n",
       "      <td>0.493135</td>\n",
       "      <td>0.512352</td>\n",
       "      <td>0.431887</td>\n",
       "      <td>0.449182</td>\n",
       "      <td>0.471605</td>\n",
       "      <td>0.459326</td>\n",
       "      <td>0.467873</td>\n",
       "      <td>0.498686</td>\n",
       "      <td>0.425463</td>\n",
       "      <td>0.398321</td>\n",
       "      <td>0.434157</td>\n",
       "      <td>0.455178</td>\n",
       "      <td>0.489354</td>\n",
       "      <td>0.533861</td>\n",
       "      <td>0.496943</td>\n",
       "      <td>0.499195</td>\n",
       "      <td>0.397619</td>\n",
       "      <td>0.351308</td>\n",
       "      <td>0.406229</td>\n",
       "      <td>0.422863</td>\n",
       "    </tr>\n",
       "    <tr>\n",
       "      <th>70</th>\n",
       "      <td>A720</td>\n",
       "      <td>0.49394</td>\n",
       "      <td>0.456349</td>\n",
       "      <td>0.429356</td>\n",
       "      <td>0.456236</td>\n",
       "      <td>0.529877</td>\n",
       "      <td>0.543105</td>\n",
       "      <td>0.53898</td>\n",
       "      <td>0.585335</td>\n",
       "      <td>0.559272</td>\n",
       "      <td>0.552173</td>\n",
       "      <td>0.618104</td>\n",
       "      <td>0.45098</td>\n",
       "      <td>0.427416</td>\n",
       "      <td>0.580048</td>\n",
       "      <td>0.607965</td>\n",
       "      <td>0.536539</td>\n",
       "      <td>0.578421</td>\n",
       "      <td>0.483127</td>\n",
       "      <td>0.442821</td>\n",
       "      <td>0.491122</td>\n",
       "      <td>0.484398</td>\n",
       "      <td>0.471713</td>\n",
       "      <td>0.475766</td>\n",
       "      <td>0.521256</td>\n",
       "      <td>0.500708</td>\n",
       "      <td>0.477689</td>\n",
       "      <td>0.550926</td>\n",
       "      <td>0.585341</td>\n",
       "      <td>0.489657</td>\n",
       "      <td>0.457464</td>\n",
       "      <td>0.497499</td>\n",
       "      <td>0.536011</td>\n",
       "      <td>0.464992</td>\n",
       "      <td>0.499548</td>\n",
       "      <td>0.496991</td>\n",
       "      <td>0.478575</td>\n",
       "      <td>0.456423</td>\n",
       "      <td>0.523149</td>\n",
       "      <td>0.442036</td>\n",
       "      <td>0.436863</td>\n",
       "      <td>0.454448</td>\n",
       "      <td>0.476459</td>\n",
       "      <td>0.507151</td>\n",
       "      <td>0.522383</td>\n",
       "      <td>0.500671</td>\n",
       "      <td>0.47873</td>\n",
       "      <td>0.43483</td>\n",
       "      <td>0.434264</td>\n",
       "      <td>0.41366</td>\n",
       "      <td>0.426837</td>\n",
       "    </tr>\n",
       "    <tr>\n",
       "      <th>71</th>\n",
       "      <td>A721</td>\n",
       "      <td>0.484377</td>\n",
       "      <td>0.450867</td>\n",
       "      <td>0.42589</td>\n",
       "      <td>0.440519</td>\n",
       "      <td>0.556683</td>\n",
       "      <td>0.542633</td>\n",
       "      <td>0.553516</td>\n",
       "      <td>0.562544</td>\n",
       "      <td>0.567041</td>\n",
       "      <td>0.570769</td>\n",
       "      <td>0.581852</td>\n",
       "      <td>0.464725</td>\n",
       "      <td>0.466894</td>\n",
       "      <td>0.571775</td>\n",
       "      <td>0.574699</td>\n",
       "      <td>0.532651</td>\n",
       "      <td>0.558699</td>\n",
       "      <td>0.458302</td>\n",
       "      <td>0.448364</td>\n",
       "      <td>0.462079</td>\n",
       "      <td>0.483</td>\n",
       "      <td>0.48419</td>\n",
       "      <td>0.477206</td>\n",
       "      <td>0.508883</td>\n",
       "      <td>0.5043</td>\n",
       "      <td>0.506321</td>\n",
       "      <td>0.58124</td>\n",
       "      <td>0.575456</td>\n",
       "      <td>0.489514</td>\n",
       "      <td>0.475882</td>\n",
       "      <td>0.477552</td>\n",
       "      <td>0.500722</td>\n",
       "      <td>0.466528</td>\n",
       "      <td>0.473347</td>\n",
       "      <td>0.454956</td>\n",
       "      <td>0.459646</td>\n",
       "      <td>0.494904</td>\n",
       "      <td>0.498378</td>\n",
       "      <td>0.415114</td>\n",
       "      <td>0.417281</td>\n",
       "      <td>0.456995</td>\n",
       "      <td>0.471276</td>\n",
       "      <td>0.522284</td>\n",
       "      <td>0.510391</td>\n",
       "      <td>0.517663</td>\n",
       "      <td>0.505822</td>\n",
       "      <td>0.418912</td>\n",
       "      <td>0.461684</td>\n",
       "      <td>0.427304</td>\n",
       "      <td>0.436528</td>\n",
       "    </tr>\n",
       "    <tr>\n",
       "      <th>72</th>\n",
       "      <td>A723</td>\n",
       "      <td>0.457578</td>\n",
       "      <td>0.434237</td>\n",
       "      <td>0.399804</td>\n",
       "      <td>0.421942</td>\n",
       "      <td>0.500986</td>\n",
       "      <td>0.552619</td>\n",
       "      <td>0.576455</td>\n",
       "      <td>0.574627</td>\n",
       "      <td>0.564102</td>\n",
       "      <td>0.571267</td>\n",
       "      <td>0.642292</td>\n",
       "      <td>0.439867</td>\n",
       "      <td>0.449204</td>\n",
       "      <td>0.552263</td>\n",
       "      <td>0.575572</td>\n",
       "      <td>0.531076</td>\n",
       "      <td>0.540292</td>\n",
       "      <td>0.442449</td>\n",
       "      <td>0.429879</td>\n",
       "      <td>0.456059</td>\n",
       "      <td>0.441824</td>\n",
       "      <td>0.465156</td>\n",
       "      <td>0.431431</td>\n",
       "      <td>0.52107</td>\n",
       "      <td>0.484815</td>\n",
       "      <td>0.484845</td>\n",
       "      <td>0.550269</td>\n",
       "      <td>0.594793</td>\n",
       "      <td>0.472142</td>\n",
       "      <td>0.441764</td>\n",
       "      <td>0.476912</td>\n",
       "      <td>0.484659</td>\n",
       "      <td>0.421556</td>\n",
       "      <td>0.441692</td>\n",
       "      <td>0.476208</td>\n",
       "      <td>0.460721</td>\n",
       "      <td>0.460236</td>\n",
       "      <td>0.502983</td>\n",
       "      <td>0.40328</td>\n",
       "      <td>0.422536</td>\n",
       "      <td>0.455226</td>\n",
       "      <td>0.49239</td>\n",
       "      <td>0.472402</td>\n",
       "      <td>0.522554</td>\n",
       "      <td>0.490031</td>\n",
       "      <td>0.47347</td>\n",
       "      <td>0.421167</td>\n",
       "      <td>0.42683</td>\n",
       "      <td>0.432834</td>\n",
       "      <td>0.446323</td>\n",
       "    </tr>\n",
       "    <tr>\n",
       "      <th>73</th>\n",
       "      <td>A724</td>\n",
       "      <td>0.478159</td>\n",
       "      <td>0.467124</td>\n",
       "      <td>0.423411</td>\n",
       "      <td>0.447751</td>\n",
       "      <td>0.506502</td>\n",
       "      <td>0.511339</td>\n",
       "      <td>0.550367</td>\n",
       "      <td>0.582747</td>\n",
       "      <td>0.56946</td>\n",
       "      <td>0.610723</td>\n",
       "      <td>0.692362</td>\n",
       "      <td>0.473253</td>\n",
       "      <td>0.460778</td>\n",
       "      <td>0.523153</td>\n",
       "      <td>0.496519</td>\n",
       "      <td>0.493226</td>\n",
       "      <td>0.494346</td>\n",
       "      <td>0.416928</td>\n",
       "      <td>0.443942</td>\n",
       "      <td>0.456535</td>\n",
       "      <td>0.409335</td>\n",
       "      <td>0.513164</td>\n",
       "      <td>0.468214</td>\n",
       "      <td>0.496108</td>\n",
       "      <td>0.511364</td>\n",
       "      <td>0.430181</td>\n",
       "      <td>0.573692</td>\n",
       "      <td>0.541131</td>\n",
       "      <td>0.416241</td>\n",
       "      <td>0.440069</td>\n",
       "      <td>0.492566</td>\n",
       "      <td>0.497671</td>\n",
       "      <td>0.44757</td>\n",
       "      <td>0.455158</td>\n",
       "      <td>0.478673</td>\n",
       "      <td>0.463669</td>\n",
       "      <td>0.491364</td>\n",
       "      <td>0.445764</td>\n",
       "      <td>0.429969</td>\n",
       "      <td>0.435391</td>\n",
       "      <td>0.477214</td>\n",
       "      <td>0.471558</td>\n",
       "      <td>0.52652</td>\n",
       "      <td>0.514776</td>\n",
       "      <td>0.45258</td>\n",
       "      <td>0.473528</td>\n",
       "      <td>0.38447</td>\n",
       "      <td>0.423516</td>\n",
       "      <td>0.442055</td>\n",
       "      <td>0.433326</td>\n",
       "    </tr>\n",
       "    <tr>\n",
       "      <th>74</th>\n",
       "      <td>A726</td>\n",
       "      <td>0.472902</td>\n",
       "      <td>0.466268</td>\n",
       "      <td>0.442968</td>\n",
       "      <td>0.458714</td>\n",
       "      <td>0.531424</td>\n",
       "      <td>0.536004</td>\n",
       "      <td>0.565061</td>\n",
       "      <td>0.563499</td>\n",
       "      <td>0.57065</td>\n",
       "      <td>0.589278</td>\n",
       "      <td>0.617053</td>\n",
       "      <td>0.468842</td>\n",
       "      <td>0.472169</td>\n",
       "      <td>0.600072</td>\n",
       "      <td>0.599881</td>\n",
       "      <td>0.588844</td>\n",
       "      <td>0.573664</td>\n",
       "      <td>0.43794</td>\n",
       "      <td>0.435549</td>\n",
       "      <td>0.489008</td>\n",
       "      <td>0.48221</td>\n",
       "      <td>0.470316</td>\n",
       "      <td>0.465662</td>\n",
       "      <td>0.485033</td>\n",
       "      <td>0.47687</td>\n",
       "      <td>0.487751</td>\n",
       "      <td>0.608214</td>\n",
       "      <td>0.606014</td>\n",
       "      <td>0.438831</td>\n",
       "      <td>0.419297</td>\n",
       "      <td>0.474066</td>\n",
       "      <td>0.474208</td>\n",
       "      <td>0.417739</td>\n",
       "      <td>0.450923</td>\n",
       "      <td>0.47543</td>\n",
       "      <td>0.459526</td>\n",
       "      <td>0.501017</td>\n",
       "      <td>0.484613</td>\n",
       "      <td>0.448039</td>\n",
       "      <td>0.438575</td>\n",
       "      <td>0.47963</td>\n",
       "      <td>0.48773</td>\n",
       "      <td>0.520068</td>\n",
       "      <td>0.511685</td>\n",
       "      <td>0.485874</td>\n",
       "      <td>0.500086</td>\n",
       "      <td>0.430436</td>\n",
       "      <td>0.428603</td>\n",
       "      <td>0.420288</td>\n",
       "      <td>0.422173</td>\n",
       "    </tr>\n",
       "    <tr>\n",
       "      <th>75</th>\n",
       "      <td>A729</td>\n",
       "      <td>0.495711</td>\n",
       "      <td>0.471806</td>\n",
       "      <td>0.425969</td>\n",
       "      <td>0.42576</td>\n",
       "      <td>0.509447</td>\n",
       "      <td>0.561618</td>\n",
       "      <td>0.567747</td>\n",
       "      <td>0.57256</td>\n",
       "      <td>0.589513</td>\n",
       "      <td>0.583716</td>\n",
       "      <td>0.612102</td>\n",
       "      <td>0.485427</td>\n",
       "      <td>0.462562</td>\n",
       "      <td>0.596372</td>\n",
       "      <td>0.601141</td>\n",
       "      <td>0.546327</td>\n",
       "      <td>0.55974</td>\n",
       "      <td>0.438409</td>\n",
       "      <td>0.431472</td>\n",
       "      <td>0.516226</td>\n",
       "      <td>0.524065</td>\n",
       "      <td>0.477541</td>\n",
       "      <td>0.464907</td>\n",
       "      <td>0.474</td>\n",
       "      <td>0.486936</td>\n",
       "      <td>0.492988</td>\n",
       "      <td>0.557221</td>\n",
       "      <td>0.593045</td>\n",
       "      <td>0.46154</td>\n",
       "      <td>0.447918</td>\n",
       "      <td>0.503354</td>\n",
       "      <td>0.520585</td>\n",
       "      <td>0.464686</td>\n",
       "      <td>0.493097</td>\n",
       "      <td>0.487065</td>\n",
       "      <td>0.467447</td>\n",
       "      <td>0.48121</td>\n",
       "      <td>0.516285</td>\n",
       "      <td>0.408006</td>\n",
       "      <td>0.431369</td>\n",
       "      <td>0.468319</td>\n",
       "      <td>0.475158</td>\n",
       "      <td>0.490719</td>\n",
       "      <td>0.531549</td>\n",
       "      <td>0.496903</td>\n",
       "      <td>0.49453</td>\n",
       "      <td>0.387087</td>\n",
       "      <td>0.420623</td>\n",
       "      <td>0.410711</td>\n",
       "      <td>0.429935</td>\n",
       "    </tr>\n",
       "    <tr>\n",
       "      <th>76</th>\n",
       "      <td>A733</td>\n",
       "      <td>0.479677</td>\n",
       "      <td>0.454587</td>\n",
       "      <td>0.422785</td>\n",
       "      <td>0.42412</td>\n",
       "      <td>0.521591</td>\n",
       "      <td>0.549886</td>\n",
       "      <td>0.578272</td>\n",
       "      <td>0.5678</td>\n",
       "      <td>0.579061</td>\n",
       "      <td>0.580668</td>\n",
       "      <td>0.615414</td>\n",
       "      <td>0.461415</td>\n",
       "      <td>0.467011</td>\n",
       "      <td>0.564553</td>\n",
       "      <td>0.54159</td>\n",
       "      <td>0.529696</td>\n",
       "      <td>0.527124</td>\n",
       "      <td>0.413851</td>\n",
       "      <td>0.411348</td>\n",
       "      <td>0.507431</td>\n",
       "      <td>0.501285</td>\n",
       "      <td>0.492452</td>\n",
       "      <td>0.442188</td>\n",
       "      <td>0.47661</td>\n",
       "      <td>0.520767</td>\n",
       "      <td>0.503045</td>\n",
       "      <td>0.555064</td>\n",
       "      <td>0.546246</td>\n",
       "      <td>0.454009</td>\n",
       "      <td>0.431335</td>\n",
       "      <td>0.495742</td>\n",
       "      <td>0.479119</td>\n",
       "      <td>0.455489</td>\n",
       "      <td>0.468361</td>\n",
       "      <td>0.499539</td>\n",
       "      <td>0.481582</td>\n",
       "      <td>0.50003</td>\n",
       "      <td>0.473458</td>\n",
       "      <td>0.415946</td>\n",
       "      <td>0.41479</td>\n",
       "      <td>0.460349</td>\n",
       "      <td>0.458694</td>\n",
       "      <td>0.503496</td>\n",
       "      <td>0.48755</td>\n",
       "      <td>0.525872</td>\n",
       "      <td>0.49695</td>\n",
       "      <td>0.406991</td>\n",
       "      <td>0.405683</td>\n",
       "      <td>0.430757</td>\n",
       "      <td>0.416361</td>\n",
       "    </tr>\n",
       "    <tr>\n",
       "      <th>77</th>\n",
       "      <td>A739</td>\n",
       "      <td>0.457949</td>\n",
       "      <td>0.420642</td>\n",
       "      <td>0.41671</td>\n",
       "      <td>0.442464</td>\n",
       "      <td>0.510466</td>\n",
       "      <td>0.534156</td>\n",
       "      <td>0.541566</td>\n",
       "      <td>0.535224</td>\n",
       "      <td>0.565415</td>\n",
       "      <td>0.595567</td>\n",
       "      <td>0.645088</td>\n",
       "      <td>0.48034</td>\n",
       "      <td>0.464887</td>\n",
       "      <td>0.54095</td>\n",
       "      <td>0.552399</td>\n",
       "      <td>0.523046</td>\n",
       "      <td>0.55242</td>\n",
       "      <td>0.395653</td>\n",
       "      <td>0.385081</td>\n",
       "      <td>0.512553</td>\n",
       "      <td>0.493359</td>\n",
       "      <td>0.482833</td>\n",
       "      <td>0.492594</td>\n",
       "      <td>0.494502</td>\n",
       "      <td>0.522828</td>\n",
       "      <td>0.52861</td>\n",
       "      <td>0.549816</td>\n",
       "      <td>0.588063</td>\n",
       "      <td>0.480101</td>\n",
       "      <td>0.445719</td>\n",
       "      <td>0.497166</td>\n",
       "      <td>0.519292</td>\n",
       "      <td>0.418418</td>\n",
       "      <td>0.44815</td>\n",
       "      <td>0.473901</td>\n",
       "      <td>0.438927</td>\n",
       "      <td>0.475202</td>\n",
       "      <td>0.470996</td>\n",
       "      <td>0.430156</td>\n",
       "      <td>0.444851</td>\n",
       "      <td>0.459973</td>\n",
       "      <td>0.473024</td>\n",
       "      <td>0.512455</td>\n",
       "      <td>0.523507</td>\n",
       "      <td>0.517281</td>\n",
       "      <td>0.531381</td>\n",
       "      <td>0.417101</td>\n",
       "      <td>0.422209</td>\n",
       "      <td>0.400345</td>\n",
       "      <td>0.402054</td>\n",
       "    </tr>\n",
       "    <tr>\n",
       "      <th>78</th>\n",
       "      <td>A742</td>\n",
       "      <td>0.483189</td>\n",
       "      <td>0.469406</td>\n",
       "      <td>0.443972</td>\n",
       "      <td>0.423047</td>\n",
       "      <td>0.570584</td>\n",
       "      <td>0.537709</td>\n",
       "      <td>0.546633</td>\n",
       "      <td>0.567473</td>\n",
       "      <td>0.590283</td>\n",
       "      <td>0.580416</td>\n",
       "      <td>0.612663</td>\n",
       "      <td>0.480447</td>\n",
       "      <td>0.483968</td>\n",
       "      <td>0.582716</td>\n",
       "      <td>0.57702</td>\n",
       "      <td>0.528987</td>\n",
       "      <td>0.544999</td>\n",
       "      <td>0.419609</td>\n",
       "      <td>0.416429</td>\n",
       "      <td>0.522587</td>\n",
       "      <td>0.534746</td>\n",
       "      <td>0.508869</td>\n",
       "      <td>0.505789</td>\n",
       "      <td>0.505221</td>\n",
       "      <td>0.534578</td>\n",
       "      <td>0.520305</td>\n",
       "      <td>0.5688</td>\n",
       "      <td>0.571369</td>\n",
       "      <td>0.507159</td>\n",
       "      <td>0.474027</td>\n",
       "      <td>0.503255</td>\n",
       "      <td>0.489415</td>\n",
       "      <td>0.440788</td>\n",
       "      <td>0.462988</td>\n",
       "      <td>0.503223</td>\n",
       "      <td>0.497272</td>\n",
       "      <td>0.496173</td>\n",
       "      <td>0.511754</td>\n",
       "      <td>0.466353</td>\n",
       "      <td>0.457508</td>\n",
       "      <td>0.443572</td>\n",
       "      <td>0.440949</td>\n",
       "      <td>0.504921</td>\n",
       "      <td>0.533152</td>\n",
       "      <td>0.531473</td>\n",
       "      <td>0.53335</td>\n",
       "      <td>0.441705</td>\n",
       "      <td>0.462498</td>\n",
       "      <td>0.430555</td>\n",
       "      <td>0.418507</td>\n",
       "    </tr>\n",
       "    <tr>\n",
       "      <th>79</th>\n",
       "      <td>A743</td>\n",
       "      <td>0.490554</td>\n",
       "      <td>0.482816</td>\n",
       "      <td>0.418164</td>\n",
       "      <td>0.423128</td>\n",
       "      <td>0.543219</td>\n",
       "      <td>0.549017</td>\n",
       "      <td>0.597025</td>\n",
       "      <td>0.564309</td>\n",
       "      <td>0.574423</td>\n",
       "      <td>0.598671</td>\n",
       "      <td>0.650636</td>\n",
       "      <td>0.423503</td>\n",
       "      <td>0.442657</td>\n",
       "      <td>0.604585</td>\n",
       "      <td>0.575862</td>\n",
       "      <td>0.552222</td>\n",
       "      <td>0.559138</td>\n",
       "      <td>0.423974</td>\n",
       "      <td>0.422085</td>\n",
       "      <td>0.494245</td>\n",
       "      <td>0.480023</td>\n",
       "      <td>0.464895</td>\n",
       "      <td>0.481315</td>\n",
       "      <td>0.478561</td>\n",
       "      <td>0.523209</td>\n",
       "      <td>0.522047</td>\n",
       "      <td>0.573934</td>\n",
       "      <td>0.573379</td>\n",
       "      <td>0.466032</td>\n",
       "      <td>0.440442</td>\n",
       "      <td>0.508</td>\n",
       "      <td>0.49803</td>\n",
       "      <td>0.469925</td>\n",
       "      <td>0.496497</td>\n",
       "      <td>0.465457</td>\n",
       "      <td>0.474777</td>\n",
       "      <td>0.488764</td>\n",
       "      <td>0.491291</td>\n",
       "      <td>0.407249</td>\n",
       "      <td>0.423175</td>\n",
       "      <td>0.466847</td>\n",
       "      <td>0.46812</td>\n",
       "      <td>0.531695</td>\n",
       "      <td>0.523884</td>\n",
       "      <td>0.523244</td>\n",
       "      <td>0.529769</td>\n",
       "      <td>0.447748</td>\n",
       "      <td>0.442277</td>\n",
       "      <td>0.435849</td>\n",
       "      <td>0.440397</td>\n",
       "    </tr>\n",
       "    <tr>\n",
       "      <th>80</th>\n",
       "      <td>A744</td>\n",
       "      <td>0.474681</td>\n",
       "      <td>0.447718</td>\n",
       "      <td>0.407816</td>\n",
       "      <td>0.417792</td>\n",
       "      <td>0.557366</td>\n",
       "      <td>0.551403</td>\n",
       "      <td>0.562941</td>\n",
       "      <td>0.577641</td>\n",
       "      <td>0.559703</td>\n",
       "      <td>0.567361</td>\n",
       "      <td>0.623358</td>\n",
       "      <td>0.491726</td>\n",
       "      <td>0.476101</td>\n",
       "      <td>0.549539</td>\n",
       "      <td>0.528824</td>\n",
       "      <td>0.513138</td>\n",
       "      <td>0.527966</td>\n",
       "      <td>0.413584</td>\n",
       "      <td>0.406823</td>\n",
       "      <td>0.497789</td>\n",
       "      <td>0.496441</td>\n",
       "      <td>0.489906</td>\n",
       "      <td>0.472831</td>\n",
       "      <td>0.492186</td>\n",
       "      <td>0.525947</td>\n",
       "      <td>0.495383</td>\n",
       "      <td>0.537026</td>\n",
       "      <td>0.555631</td>\n",
       "      <td>0.449706</td>\n",
       "      <td>0.43986</td>\n",
       "      <td>0.488473</td>\n",
       "      <td>0.515571</td>\n",
       "      <td>0.430856</td>\n",
       "      <td>0.450507</td>\n",
       "      <td>0.482428</td>\n",
       "      <td>0.450216</td>\n",
       "      <td>0.447365</td>\n",
       "      <td>0.47787</td>\n",
       "      <td>0.456513</td>\n",
       "      <td>0.443026</td>\n",
       "      <td>0.431108</td>\n",
       "      <td>0.460188</td>\n",
       "      <td>0.478882</td>\n",
       "      <td>0.508963</td>\n",
       "      <td>0.521154</td>\n",
       "      <td>0.502525</td>\n",
       "      <td>0.437581</td>\n",
       "      <td>0.430283</td>\n",
       "      <td>0.412286</td>\n",
       "      <td>0.441189</td>\n",
       "    </tr>\n",
       "    <tr>\n",
       "      <th>81</th>\n",
       "      <td>A746</td>\n",
       "      <td>0.4841</td>\n",
       "      <td>0.471358</td>\n",
       "      <td>0.435002</td>\n",
       "      <td>0.442548</td>\n",
       "      <td>0.54649</td>\n",
       "      <td>0.547603</td>\n",
       "      <td>0.559439</td>\n",
       "      <td>0.541468</td>\n",
       "      <td>0.609628</td>\n",
       "      <td>0.597672</td>\n",
       "      <td>0.630451</td>\n",
       "      <td>0.467944</td>\n",
       "      <td>0.451841</td>\n",
       "      <td>0.610395</td>\n",
       "      <td>0.585753</td>\n",
       "      <td>0.558014</td>\n",
       "      <td>0.557723</td>\n",
       "      <td>0.424935</td>\n",
       "      <td>0.39657</td>\n",
       "      <td>0.487137</td>\n",
       "      <td>0.485812</td>\n",
       "      <td>0.506717</td>\n",
       "      <td>0.454107</td>\n",
       "      <td>0.497043</td>\n",
       "      <td>0.528494</td>\n",
       "      <td>0.521418</td>\n",
       "      <td>0.603294</td>\n",
       "      <td>0.633645</td>\n",
       "      <td>0.477563</td>\n",
       "      <td>0.443671</td>\n",
       "      <td>0.468522</td>\n",
       "      <td>0.50815</td>\n",
       "      <td>0.433225</td>\n",
       "      <td>0.470773</td>\n",
       "      <td>0.441662</td>\n",
       "      <td>0.453699</td>\n",
       "      <td>0.513691</td>\n",
       "      <td>0.52196</td>\n",
       "      <td>0.430742</td>\n",
       "      <td>0.423648</td>\n",
       "      <td>0.498457</td>\n",
       "      <td>0.490696</td>\n",
       "      <td>0.54326</td>\n",
       "      <td>0.546817</td>\n",
       "      <td>0.53432</td>\n",
       "      <td>0.514164</td>\n",
       "      <td>0.413368</td>\n",
       "      <td>0.446782</td>\n",
       "      <td>0.454796</td>\n",
       "      <td>0.471734</td>\n",
       "    </tr>\n",
       "    <tr>\n",
       "      <th>82</th>\n",
       "      <td>A749</td>\n",
       "      <td>0.454215</td>\n",
       "      <td>0.433877</td>\n",
       "      <td>0.40656</td>\n",
       "      <td>0.41197</td>\n",
       "      <td>0.522369</td>\n",
       "      <td>0.509469</td>\n",
       "      <td>0.507693</td>\n",
       "      <td>0.530241</td>\n",
       "      <td>0.5379</td>\n",
       "      <td>0.559373</td>\n",
       "      <td>0.596651</td>\n",
       "      <td>0.447071</td>\n",
       "      <td>0.413116</td>\n",
       "      <td>0.552445</td>\n",
       "      <td>0.56841</td>\n",
       "      <td>0.507242</td>\n",
       "      <td>0.553817</td>\n",
       "      <td>0.386728</td>\n",
       "      <td>0.365869</td>\n",
       "      <td>0.468669</td>\n",
       "      <td>0.462628</td>\n",
       "      <td>0.479489</td>\n",
       "      <td>0.47466</td>\n",
       "      <td>0.451284</td>\n",
       "      <td>0.486255</td>\n",
       "      <td>0.482124</td>\n",
       "      <td>0.542701</td>\n",
       "      <td>0.573743</td>\n",
       "      <td>0.443297</td>\n",
       "      <td>0.434616</td>\n",
       "      <td>0.488919</td>\n",
       "      <td>0.498182</td>\n",
       "      <td>0.442208</td>\n",
       "      <td>0.431188</td>\n",
       "      <td>0.444344</td>\n",
       "      <td>0.433894</td>\n",
       "      <td>0.474616</td>\n",
       "      <td>0.496028</td>\n",
       "      <td>0.41385</td>\n",
       "      <td>0.404717</td>\n",
       "      <td>0.42084</td>\n",
       "      <td>0.487615</td>\n",
       "      <td>0.476062</td>\n",
       "      <td>0.504246</td>\n",
       "      <td>0.482691</td>\n",
       "      <td>0.483045</td>\n",
       "      <td>0.419674</td>\n",
       "      <td>0.418996</td>\n",
       "      <td>0.37705</td>\n",
       "      <td>0.429705</td>\n",
       "    </tr>\n",
       "    <tr>\n",
       "      <th>83</th>\n",
       "      <td>A992</td>\n",
       "      <td>0.480515</td>\n",
       "      <td>0.438746</td>\n",
       "      <td>0.452076</td>\n",
       "      <td>0.461739</td>\n",
       "      <td>0.539863</td>\n",
       "      <td>0.555206</td>\n",
       "      <td>0.568423</td>\n",
       "      <td>0.553715</td>\n",
       "      <td>0.588281</td>\n",
       "      <td>0.603597</td>\n",
       "      <td>0.632935</td>\n",
       "      <td>0.447867</td>\n",
       "      <td>0.442179</td>\n",
       "      <td>0.580021</td>\n",
       "      <td>0.603128</td>\n",
       "      <td>0.554654</td>\n",
       "      <td>0.541069</td>\n",
       "      <td>0.455722</td>\n",
       "      <td>0.433675</td>\n",
       "      <td>0.491999</td>\n",
       "      <td>0.499121</td>\n",
       "      <td>0.501269</td>\n",
       "      <td>0.463985</td>\n",
       "      <td>0.472076</td>\n",
       "      <td>0.530287</td>\n",
       "      <td>0.517845</td>\n",
       "      <td>0.591332</td>\n",
       "      <td>0.611731</td>\n",
       "      <td>0.4891</td>\n",
       "      <td>0.450538</td>\n",
       "      <td>0.492228</td>\n",
       "      <td>0.527999</td>\n",
       "      <td>0.474966</td>\n",
       "      <td>0.491423</td>\n",
       "      <td>0.459037</td>\n",
       "      <td>0.46386</td>\n",
       "      <td>0.501501</td>\n",
       "      <td>0.535228</td>\n",
       "      <td>0.446028</td>\n",
       "      <td>0.4613</td>\n",
       "      <td>0.471673</td>\n",
       "      <td>0.496458</td>\n",
       "      <td>0.527178</td>\n",
       "      <td>0.561757</td>\n",
       "      <td>0.512616</td>\n",
       "      <td>0.514541</td>\n",
       "      <td>0.429475</td>\n",
       "      <td>0.444989</td>\n",
       "      <td>0.430643</td>\n",
       "      <td>0.42855</td>\n",
       "    </tr>\n",
       "    <tr>\n",
       "      <th>84</th>\n",
       "      <td>A993</td>\n",
       "      <td>0.478821</td>\n",
       "      <td>0.428259</td>\n",
       "      <td>0.406445</td>\n",
       "      <td>0.438119</td>\n",
       "      <td>0.523059</td>\n",
       "      <td>0.519275</td>\n",
       "      <td>0.550187</td>\n",
       "      <td>0.558166</td>\n",
       "      <td>0.553539</td>\n",
       "      <td>0.567436</td>\n",
       "      <td>0.609128</td>\n",
       "      <td>0.439528</td>\n",
       "      <td>0.404536</td>\n",
       "      <td>0.576728</td>\n",
       "      <td>0.598154</td>\n",
       "      <td>0.519756</td>\n",
       "      <td>0.592167</td>\n",
       "      <td>0.441737</td>\n",
       "      <td>0.43899</td>\n",
       "      <td>0.461948</td>\n",
       "      <td>0.449616</td>\n",
       "      <td>0.451154</td>\n",
       "      <td>0.437868</td>\n",
       "      <td>0.512899</td>\n",
       "      <td>0.467597</td>\n",
       "      <td>0.475531</td>\n",
       "      <td>0.544512</td>\n",
       "      <td>0.549609</td>\n",
       "      <td>0.45568</td>\n",
       "      <td>0.444218</td>\n",
       "      <td>0.460386</td>\n",
       "      <td>0.465975</td>\n",
       "      <td>0.428639</td>\n",
       "      <td>0.445364</td>\n",
       "      <td>0.483335</td>\n",
       "      <td>0.4491</td>\n",
       "      <td>0.477625</td>\n",
       "      <td>0.532895</td>\n",
       "      <td>0.40216</td>\n",
       "      <td>0.403694</td>\n",
       "      <td>0.442752</td>\n",
       "      <td>0.478324</td>\n",
       "      <td>0.489287</td>\n",
       "      <td>0.481554</td>\n",
       "      <td>0.458545</td>\n",
       "      <td>0.457671</td>\n",
       "      <td>0.412251</td>\n",
       "      <td>0.422685</td>\n",
       "      <td>0.432111</td>\n",
       "      <td>0.424333</td>\n",
       "    </tr>\n",
       "    <tr>\n",
       "      <th>85</th>\n",
       "      <td>A994</td>\n",
       "      <td>0.465935</td>\n",
       "      <td>0.442684</td>\n",
       "      <td>0.418146</td>\n",
       "      <td>0.422801</td>\n",
       "      <td>0.522024</td>\n",
       "      <td>0.519514</td>\n",
       "      <td>0.557376</td>\n",
       "      <td>0.566135</td>\n",
       "      <td>0.583763</td>\n",
       "      <td>0.574277</td>\n",
       "      <td>0.620453</td>\n",
       "      <td>0.446814</td>\n",
       "      <td>0.442126</td>\n",
       "      <td>0.0</td>\n",
       "      <td>0.582919</td>\n",
       "      <td>0.521755</td>\n",
       "      <td>0.577246</td>\n",
       "      <td>0.437906</td>\n",
       "      <td>0.424344</td>\n",
       "      <td>0.480342</td>\n",
       "      <td>0.47441</td>\n",
       "      <td>0.483314</td>\n",
       "      <td>0.48154</td>\n",
       "      <td>0.478562</td>\n",
       "      <td>0.489125</td>\n",
       "      <td>0.482618</td>\n",
       "      <td>0.417776</td>\n",
       "      <td>0.59046</td>\n",
       "      <td>0.514403</td>\n",
       "      <td>0.442707</td>\n",
       "      <td>0.475451</td>\n",
       "      <td>0.483838</td>\n",
       "      <td>0.424801</td>\n",
       "      <td>0.473184</td>\n",
       "      <td>0.484447</td>\n",
       "      <td>0.444706</td>\n",
       "      <td>0.467406</td>\n",
       "      <td>0.48587</td>\n",
       "      <td>0.446076</td>\n",
       "      <td>0.429003</td>\n",
       "      <td>0.47086</td>\n",
       "      <td>0.454671</td>\n",
       "      <td>0.505822</td>\n",
       "      <td>0.500311</td>\n",
       "      <td>0.49497</td>\n",
       "      <td>0.47612</td>\n",
       "      <td>0.428739</td>\n",
       "      <td>0.421911</td>\n",
       "      <td>0.400243</td>\n",
       "      <td>0.418948</td>\n",
       "    </tr>\n",
       "    <tr>\n",
       "      <th>86</th>\n",
       "      <td>A995</td>\n",
       "      <td>0.50906</td>\n",
       "      <td>0.447712</td>\n",
       "      <td>0.417073</td>\n",
       "      <td>0.446492</td>\n",
       "      <td>0.536328</td>\n",
       "      <td>0.554083</td>\n",
       "      <td>0.593343</td>\n",
       "      <td>0.564106</td>\n",
       "      <td>0.584494</td>\n",
       "      <td>0.575962</td>\n",
       "      <td>0.641488</td>\n",
       "      <td>0.486089</td>\n",
       "      <td>0.482529</td>\n",
       "      <td>0.615113</td>\n",
       "      <td>0.597142</td>\n",
       "      <td>0.526467</td>\n",
       "      <td>0.549968</td>\n",
       "      <td>0.437579</td>\n",
       "      <td>0.42827</td>\n",
       "      <td>0.493353</td>\n",
       "      <td>0.49109</td>\n",
       "      <td>0.480714</td>\n",
       "      <td>0.470179</td>\n",
       "      <td>0.505652</td>\n",
       "      <td>0.47708</td>\n",
       "      <td>0.469802</td>\n",
       "      <td>0.562352</td>\n",
       "      <td>0.58545</td>\n",
       "      <td>0.470322</td>\n",
       "      <td>0.449845</td>\n",
       "      <td>0.509906</td>\n",
       "      <td>0.499742</td>\n",
       "      <td>0.410421</td>\n",
       "      <td>0.46827</td>\n",
       "      <td>0.480748</td>\n",
       "      <td>0.440369</td>\n",
       "      <td>0.494183</td>\n",
       "      <td>0.514096</td>\n",
       "      <td>0.435809</td>\n",
       "      <td>0.422359</td>\n",
       "      <td>0.465932</td>\n",
       "      <td>0.478983</td>\n",
       "      <td>0.49425</td>\n",
       "      <td>0.529458</td>\n",
       "      <td>0.479048</td>\n",
       "      <td>0.492927</td>\n",
       "      <td>0.412585</td>\n",
       "      <td>0.420021</td>\n",
       "      <td>0.413341</td>\n",
       "      <td>0.432371</td>\n",
       "    </tr>\n",
       "  </tbody>\n",
       "</table>\n",
       "</div>"
      ],
      "text/plain": [
       "   Subject   AF_left  AF_right  ATR_left ATR_right      CC_1      CC_2  \\\n",
       "0     A217  0.468963  0.461633  0.389679  0.417515  0.491955  0.515585   \n",
       "1     A222  0.489558  0.452553  0.451614  0.446098   0.52672  0.535175   \n",
       "2     A223  0.457346  0.481592  0.411065  0.412823  0.524249  0.527781   \n",
       "3     A225  0.444737  0.454042  0.395934    0.4078  0.491396  0.515098   \n",
       "4     A228  0.478088  0.453747  0.437857  0.445976  0.547128   0.55052   \n",
       "5     A230    0.4845  0.492817  0.387741  0.418913  0.526433  0.525003   \n",
       "6     A232  0.430368  0.436779  0.391045  0.392609  0.540731  0.516251   \n",
       "7     A233   0.46837  0.459335  0.423961  0.425536  0.580726  0.544787   \n",
       "8     A234  0.467518  0.452373  0.443516   0.47247  0.516402  0.545105   \n",
       "9     A237   0.47387  0.464609  0.426031  0.423547  0.584448  0.535556   \n",
       "10    A238  0.440797  0.450766  0.389115   0.39051  0.504808  0.517084   \n",
       "11    A240   0.46281  0.463174  0.430201  0.425207  0.552263  0.530087   \n",
       "12    A246  0.449293  0.430823  0.453403  0.420844  0.535803  0.513006   \n",
       "13    A250  0.468189  0.459021  0.417525  0.441093  0.513786  0.496076   \n",
       "14    A253  0.459626  0.431532  0.363648  0.374437  0.519691  0.516571   \n",
       "15    A255  0.493668  0.472586  0.424229  0.456029   0.54118  0.549719   \n",
       "16    A257  0.492196  0.515686  0.438159  0.452478  0.563041  0.564145   \n",
       "17    A258  0.467509  0.462466  0.404451  0.400044  0.560421  0.531738   \n",
       "18    A260  0.464269  0.475608  0.402791     0.419  0.506594  0.536121   \n",
       "19    A262  0.483448    0.4645  0.417995  0.455515  0.565353  0.549632   \n",
       "20    A266  0.451709  0.432636     0.445  0.435682  0.561319  0.554859   \n",
       "21    A271  0.432983  0.410221  0.402855  0.408744  0.525221   0.51711   \n",
       "22    A280  0.416716   0.42694  0.417543  0.443973  0.511375  0.531778   \n",
       "23    A281  0.458093  0.457401  0.418111  0.415305  0.535134  0.539469   \n",
       "24    A283  0.465367  0.438163  0.407455  0.422945  0.524179  0.523799   \n",
       "25    A285  0.434835  0.442189  0.379896  0.400573   0.48599  0.510471   \n",
       "26    A286  0.474013  0.454503  0.412665  0.406114  0.593508  0.530298   \n",
       "27    A291  0.487215  0.477645  0.446377  0.445197  0.522455  0.539105   \n",
       "28    A293  0.404189  0.414788  0.372617  0.396635   0.48525  0.515341   \n",
       "29    A294  0.454389  0.460958  0.415803  0.445793  0.523369  0.518998   \n",
       "30    A548  0.486729  0.474597  0.410841  0.393765   0.52053  0.531935   \n",
       "31    A553  0.473413  0.429165  0.440123  0.449211  0.580528  0.550093   \n",
       "32    A554  0.466172  0.459797  0.423122  0.426997  0.569948  0.535867   \n",
       "33    A555  0.469799  0.450533  0.398952  0.419769  0.510171  0.513802   \n",
       "34    A556  0.462871  0.438191  0.426543  0.462664  0.525431  0.539343   \n",
       "35    A592  0.454715  0.443592  0.423658   0.41993  0.539264  0.521424   \n",
       "36    A609  0.445958  0.415418  0.394833  0.388093  0.506571  0.495257   \n",
       "37    A611  0.456144  0.458141  0.412884  0.423807  0.535447  0.512735   \n",
       "38    A619  0.457532  0.443074  0.400616  0.433966  0.542596   0.55524   \n",
       "39    A620  0.460178  0.456078  0.424377  0.429943  0.558372  0.525942   \n",
       "40    A621  0.436952  0.430451  0.424337  0.424664  0.491487  0.527368   \n",
       "41    A622  0.463491  0.443084  0.389375  0.407843  0.521322   0.52958   \n",
       "42    A643  0.505755  0.492036  0.429868  0.437506  0.558878  0.540994   \n",
       "43    A646  0.461595  0.439435  0.396953  0.409615  0.488216  0.533185   \n",
       "44    A650  0.465886  0.446355  0.421152  0.407546   0.53942  0.522236   \n",
       "45    A651  0.464124  0.442015  0.409708  0.440481  0.519443  0.526138   \n",
       "46    A653  0.482068  0.459622   0.42604  0.424672  0.561155  0.550148   \n",
       "47    A656  0.426883  0.402775  0.417572  0.397371  0.497349  0.489958   \n",
       "48    A660  0.458335  0.417229  0.402553  0.421004  0.500297  0.525618   \n",
       "49    A661   0.46255  0.416849  0.398032  0.424069  0.482063   0.50643   \n",
       "50    A663  0.488559  0.439138  0.457689  0.440005  0.550405  0.552713   \n",
       "51    A664      0.48  0.473033  0.426912  0.430697  0.563971  0.555558   \n",
       "52    A665  0.453735  0.429888  0.407309  0.426235  0.542799  0.545539   \n",
       "53    A680  0.477508  0.487688  0.425294  0.433068  0.563311  0.547341   \n",
       "54    A682  0.483416  0.464279  0.432959  0.436914  0.562763  0.541863   \n",
       "55    A686   0.50512  0.495983  0.410418  0.426313  0.540157  0.532918   \n",
       "56    A687  0.480064  0.454598   0.42131  0.440486  0.545486  0.519897   \n",
       "57    A688  0.435994  0.433304   0.39113  0.403668  0.511229  0.498286   \n",
       "58    A689  0.463087  0.466266  0.400682  0.400687  0.507335  0.526094   \n",
       "59    A692  0.494451  0.466493  0.453725  0.494011  0.548365  0.568947   \n",
       "60    A694   0.44917  0.415049  0.423685  0.462825  0.517694  0.529326   \n",
       "61    A695  0.482703  0.469956  0.437241  0.443798  0.551825  0.536309   \n",
       "62    A696  0.487889  0.450906  0.423009  0.418837  0.541036  0.545274   \n",
       "63    A698  0.487619   0.46806  0.438247  0.460742  0.546383  0.534844   \n",
       "64    A704   0.44669  0.435913  0.400109  0.404972  0.514287  0.524957   \n",
       "65    A707  0.489323  0.439748  0.401546   0.41539  0.498331  0.528299   \n",
       "66    A708  0.484041  0.482883  0.449843  0.469107  0.578182  0.573941   \n",
       "67    A715   0.47754  0.464566  0.429401  0.418805  0.540096   0.52731   \n",
       "68    A717  0.443252  0.447717  0.432944   0.41934  0.492181  0.518587   \n",
       "69    A718   0.46249  0.427705   0.40636  0.410134  0.497926  0.512198   \n",
       "70    A720   0.49394  0.456349  0.429356  0.456236  0.529877  0.543105   \n",
       "71    A721  0.484377  0.450867   0.42589  0.440519  0.556683  0.542633   \n",
       "72    A723  0.457578  0.434237  0.399804  0.421942  0.500986  0.552619   \n",
       "73    A724  0.478159  0.467124  0.423411  0.447751  0.506502  0.511339   \n",
       "74    A726  0.472902  0.466268  0.442968  0.458714  0.531424  0.536004   \n",
       "75    A729  0.495711  0.471806  0.425969   0.42576  0.509447  0.561618   \n",
       "76    A733  0.479677  0.454587  0.422785   0.42412  0.521591  0.549886   \n",
       "77    A739  0.457949  0.420642   0.41671  0.442464  0.510466  0.534156   \n",
       "78    A742  0.483189  0.469406  0.443972  0.423047  0.570584  0.537709   \n",
       "79    A743  0.490554  0.482816  0.418164  0.423128  0.543219  0.549017   \n",
       "80    A744  0.474681  0.447718  0.407816  0.417792  0.557366  0.551403   \n",
       "81    A746    0.4841  0.471358  0.435002  0.442548   0.54649  0.547603   \n",
       "82    A749  0.454215  0.433877   0.40656   0.41197  0.522369  0.509469   \n",
       "83    A992  0.480515  0.438746  0.452076  0.461739  0.539863  0.555206   \n",
       "84    A993  0.478821  0.428259  0.406445  0.438119  0.523059  0.519275   \n",
       "85    A994  0.465935  0.442684  0.418146  0.422801  0.522024  0.519514   \n",
       "86    A995   0.50906  0.447712  0.417073  0.446492  0.536328  0.554083   \n",
       "\n",
       "        CC_3      CC_4      CC_5      CC_6      CC_7   CG_left  CG_right  \\\n",
       "0   0.529172  0.551143  0.562383  0.562578  0.611376  0.457272  0.469396   \n",
       "1   0.540944  0.562155  0.553998  0.547171  0.545471  0.417078   0.43093   \n",
       "2    0.56074  0.565387   0.54283  0.546547   0.58929  0.465431  0.466349   \n",
       "3   0.525785  0.539193  0.577194  0.578721  0.641262  0.493755  0.426354   \n",
       "4   0.568068  0.575193  0.561112  0.579231  0.614927  0.437916  0.459401   \n",
       "5   0.557804   0.57152  0.586368   0.57288  0.619185  0.467993  0.477755   \n",
       "6   0.547351  0.565751  0.577135  0.573701  0.613564  0.448012  0.465513   \n",
       "7   0.563392  0.593803  0.583345  0.568936  0.607526  0.468509  0.452362   \n",
       "8   0.538999  0.560083  0.558317  0.566455  0.596828  0.445064  0.476875   \n",
       "9    0.54698  0.557952  0.552966  0.553974  0.594263  0.441647  0.463399   \n",
       "10  0.545058  0.555676  0.537946  0.552669  0.617569  0.429037  0.429536   \n",
       "11  0.555207  0.565694  0.568944   0.57466  0.620211  0.475055  0.479371   \n",
       "12  0.506356  0.554423   0.54686  0.562228  0.598012  0.432273  0.448887   \n",
       "13  0.521575  0.532437  0.522284  0.566321  0.568941  0.425016  0.428193   \n",
       "14  0.531104  0.549839  0.566927  0.539268  0.592923  0.424563  0.456221   \n",
       "15  0.595565  0.567137  0.556487  0.576347  0.567544  0.455262   0.46078   \n",
       "16  0.588395  0.600997  0.490334  0.590662  0.631833   0.44489  0.469829   \n",
       "17  0.580922  0.582969  0.592956   0.58394  0.637208  0.461556  0.475192   \n",
       "18  0.567903  0.569566  0.445041   0.57243  0.605575  0.439915  0.481583   \n",
       "19  0.524312  0.547933  0.562991  0.567768  0.615342   0.45399  0.468956   \n",
       "20  0.570187   0.57525  0.557713  0.564857  0.620511  0.449143  0.455841   \n",
       "21  0.546296  0.540221  0.526089  0.542615  0.580402   0.45395  0.466743   \n",
       "22  0.533044  0.545767  0.581449  0.581206  0.695495  0.462901  0.436376   \n",
       "23  0.572648  0.589841  0.595813  0.566825  0.576063   0.46898  0.467636   \n",
       "24  0.548399  0.559501   0.56387  0.557206  0.595843  0.445895  0.408033   \n",
       "25   0.54623  0.554163  0.553345  0.549479  0.584076  0.417549  0.412539   \n",
       "26  0.535567  0.579961  0.577558  0.571698  0.612349  0.442042  0.453482   \n",
       "27   0.56216  0.576356  0.580975  0.588654  0.578884  0.452655  0.474937   \n",
       "28  0.549484  0.561157  0.536847  0.541511  0.583627  0.375167  0.404328   \n",
       "29  0.516283  0.545164  0.536239  0.539458  0.609781  0.400826  0.458239   \n",
       "30  0.547838  0.565918  0.578287  0.591462   0.63795  0.457792  0.457465   \n",
       "31  0.549182  0.560879   0.56173  0.571873  0.592193  0.445731  0.435326   \n",
       "32   0.54784  0.566075  0.565724  0.569879   0.56847  0.468007  0.464083   \n",
       "33  0.515562  0.545734  0.563227  0.568928  0.599926  0.440867  0.430342   \n",
       "34  0.541742  0.562855  0.580687  0.573447  0.627814  0.462992  0.443424   \n",
       "35   0.54882   0.55379  0.544797  0.554965  0.612948  0.412376  0.439878   \n",
       "36  0.509777  0.536998  0.539415  0.535487  0.587221  0.393234  0.399162   \n",
       "37  0.492212  0.548216  0.530705  0.561348  0.597853  0.448101   0.45815   \n",
       "38  0.561176  0.575544  0.604891  0.588503  0.626481  0.460762  0.465071   \n",
       "39  0.539539   0.55679  0.563721  0.557503  0.566841  0.447404  0.462201   \n",
       "40  0.528313   0.52354  0.544351  0.558467  0.631789  0.426509  0.426039   \n",
       "41   0.54914  0.561409  0.572162  0.568062  0.629472  0.452227  0.425696   \n",
       "42  0.562605  0.591705   0.59609  0.597772  0.634391  0.491965  0.479049   \n",
       "43   0.54262  0.555718  0.564256  0.567156  0.633444  0.477224  0.487405   \n",
       "44  0.541472  0.576107   0.58802  0.580687  0.624447  0.464637  0.473008   \n",
       "45  0.550444  0.534068   0.57332  0.588559  0.649168  0.422038  0.428326   \n",
       "46  0.569607  0.571029  0.574901  0.577345  0.634473  0.438227  0.417182   \n",
       "47  0.477654  0.494038  0.526806  0.544319  0.651877  0.373014    0.3948   \n",
       "48  0.541941  0.551016  0.574991   0.58152  0.598533  0.402361  0.413149   \n",
       "49  0.530114  0.511938  0.546629  0.544902  0.614632  0.445425   0.43635   \n",
       "50   0.55317  0.566292  0.541169  0.576308  0.555734  0.460613  0.466617   \n",
       "51  0.554587  0.569935   0.57692  0.576295  0.618623  0.476465  0.454543   \n",
       "52  0.569309  0.548272  0.542736   0.57549  0.621206  0.459981  0.443961   \n",
       "53  0.549549  0.572492   0.56734  0.577091  0.596049  0.471583   0.44902   \n",
       "54  0.544832  0.581274  0.586459  0.578257  0.578616  0.464839  0.488065   \n",
       "55  0.555266  0.549878  0.549708  0.583434  0.652336  0.458323  0.446594   \n",
       "56  0.547331  0.554113  0.583068  0.610108  0.659243  0.493096  0.486785   \n",
       "57  0.515071  0.534842  0.571139  0.540078   0.58447  0.369392  0.393339   \n",
       "58  0.554735  0.571394  0.583357  0.586894  0.645986  0.454948  0.433777   \n",
       "59  0.583396  0.569444  0.597044  0.615308  0.669871  0.538272  0.477535   \n",
       "60  0.544683  0.542066  0.525687  0.552061  0.606644   0.47269  0.429519   \n",
       "61  0.533024  0.574249  0.568052  0.562645  0.625789   0.47602  0.468589   \n",
       "62  0.546345  0.568592  0.569462  0.577029   0.60379  0.417521  0.429725   \n",
       "63  0.542616  0.534388  0.599383  0.583469  0.630488  0.481655  0.461858   \n",
       "64   0.53828  0.554664  0.536843  0.552502  0.609799  0.415964  0.440369   \n",
       "65  0.537871  0.545026  0.565575  0.577378  0.600625  0.440874  0.439167   \n",
       "66  0.590816  0.594951  0.602185  0.602848  0.627711  0.503246    0.4627   \n",
       "67   0.52157  0.568058  0.575041    0.5718  0.621615  0.467154  0.456638   \n",
       "68   0.51163  0.538454  0.509532  0.554261   0.54541  0.462422  0.465603   \n",
       "69  0.555747  0.551823  0.588442  0.579666  0.619303  0.433575  0.455473   \n",
       "70   0.53898  0.585335  0.559272  0.552173  0.618104   0.45098  0.427416   \n",
       "71  0.553516  0.562544  0.567041  0.570769  0.581852  0.464725  0.466894   \n",
       "72  0.576455  0.574627  0.564102  0.571267  0.642292  0.439867  0.449204   \n",
       "73  0.550367  0.582747   0.56946  0.610723  0.692362  0.473253  0.460778   \n",
       "74  0.565061  0.563499   0.57065  0.589278  0.617053  0.468842  0.472169   \n",
       "75  0.567747   0.57256  0.589513  0.583716  0.612102  0.485427  0.462562   \n",
       "76  0.578272    0.5678  0.579061  0.580668  0.615414  0.461415  0.467011   \n",
       "77  0.541566  0.535224  0.565415  0.595567  0.645088   0.48034  0.464887   \n",
       "78  0.546633  0.567473  0.590283  0.580416  0.612663  0.480447  0.483968   \n",
       "79  0.597025  0.564309  0.574423  0.598671  0.650636  0.423503  0.442657   \n",
       "80  0.562941  0.577641  0.559703  0.567361  0.623358  0.491726  0.476101   \n",
       "81  0.559439  0.541468  0.609628  0.597672  0.630451  0.467944  0.451841   \n",
       "82  0.507693  0.530241    0.5379  0.559373  0.596651  0.447071  0.413116   \n",
       "83  0.568423  0.553715  0.588281  0.603597  0.632935  0.447867  0.442179   \n",
       "84  0.550187  0.558166  0.553539  0.567436  0.609128  0.439528  0.404536   \n",
       "85  0.557376  0.566135  0.583763  0.574277  0.620453  0.446814  0.442126   \n",
       "86  0.593343  0.564106  0.584494  0.575962  0.641488  0.486089  0.482529   \n",
       "\n",
       "    CST_left CST_right  FPT_left FPT_right  ICP_left ICP_right  IFO_left  \\\n",
       "0   0.598744  0.563699   0.50373  0.522753  0.392174  0.417686  0.455425   \n",
       "1   0.591601  0.568663  0.565113  0.539151  0.430386  0.433853  0.484355   \n",
       "2   0.565681  0.551067  0.513953   0.50358   0.41631  0.420126  0.495114   \n",
       "3        0.0  0.546285  0.484827  0.522896  0.379121  0.408479  0.440372   \n",
       "4   0.571199  0.565458  0.531532  0.539423  0.381905  0.369471  0.486676   \n",
       "5   0.618892  0.595376  0.539543  0.545293  0.421962  0.419497  0.484751   \n",
       "6   0.559781  0.552478  0.517911  0.504968  0.401454  0.400356  0.450057   \n",
       "7   0.567839  0.572154  0.532106  0.544914   0.41914    0.4217  0.480946   \n",
       "8   0.588584  0.578962  0.538737  0.579158  0.468563  0.466667  0.503426   \n",
       "9   0.567132  0.560802  0.544198  0.527428  0.434218  0.440793  0.497639   \n",
       "10  0.539716  0.515951  0.501124  0.511824  0.423332  0.425234    0.4782   \n",
       "11  0.569726  0.543243   0.54339  0.524821    0.4166  0.416177  0.508546   \n",
       "12   0.56638  0.555646  0.528455    0.5188  0.401354  0.444945  0.485736   \n",
       "13  0.554203  0.566508  0.515262    0.5146  0.420423  0.426088  0.480385   \n",
       "14  0.546037  0.568517  0.510084  0.518066  0.420066  0.419327  0.456014   \n",
       "15  0.555188   0.54507  0.491651  0.519774  0.405083  0.398782  0.492809   \n",
       "16   0.64754   0.60426  0.571347  0.542784  0.362717  0.373331  0.541135   \n",
       "17  0.568002  0.554465  0.529975  0.512285  0.423397   0.43394  0.491824   \n",
       "18  0.532564  0.517505  0.483538   0.51005   0.39412  0.407894  0.476547   \n",
       "19  0.577902  0.618899  0.532081  0.581306  0.408527   0.41416  0.523572   \n",
       "20  0.575462  0.568564  0.518272  0.528928  0.413404  0.407774  0.506582   \n",
       "21  0.534558  0.543404  0.506361  0.514451  0.408761  0.406606   0.47341   \n",
       "22   0.61843  0.583241  0.511463  0.522594  0.389505  0.398701  0.425577   \n",
       "23  0.615651  0.583065  0.559261  0.544128  0.395578  0.415206  0.483618   \n",
       "24  0.524731  0.558227  0.511718  0.526383  0.417949  0.413105  0.447438   \n",
       "25  0.576485   0.53521   0.49536  0.480569  0.391486  0.373458   0.42401   \n",
       "26  0.597639  0.578394  0.530028  0.522899  0.432008  0.420233  0.494632   \n",
       "27  0.580901  0.565398  0.548427   0.53654  0.427314  0.428067  0.498456   \n",
       "28   0.54309  0.534187   0.46191  0.485169  0.377122  0.386966  0.471875   \n",
       "29  0.607155  0.630391  0.555943  0.580696  0.460992  0.457094  0.410921   \n",
       "30  0.574944  0.591692  0.508188  0.554475  0.418634  0.415451  0.499727   \n",
       "31  0.560579  0.565298  0.510655  0.569137   0.39056  0.379989  0.509968   \n",
       "32  0.578611  0.587687  0.526177  0.540241  0.460229  0.509743  0.480941   \n",
       "33  0.572417  0.567841   0.53025  0.538299  0.453795  0.444276  0.472427   \n",
       "34  0.573114  0.574256  0.524539  0.564781  0.441807  0.435922  0.422579   \n",
       "35  0.535399  0.541866  0.507432  0.520494  0.420729  0.420725  0.482399   \n",
       "36  0.573389  0.589205  0.508525  0.537795  0.438409  0.427595  0.457265   \n",
       "37   0.56272   0.55213  0.539743  0.528383  0.438705  0.446223  0.471489   \n",
       "38  0.634725  0.626625  0.550474  0.558892  0.428184  0.397625  0.491688   \n",
       "39  0.595893  0.627552  0.560414  0.567345  0.453931  0.403186  0.486301   \n",
       "40  0.594731  0.601049  0.540786  0.558407  0.434656  0.418181  0.466908   \n",
       "41  0.595316  0.587527   0.54947  0.554473  0.426635  0.410551  0.465841   \n",
       "42  0.576766  0.583213  0.525406  0.540395  0.441338  0.429099   0.52305   \n",
       "43  0.571386  0.540602  0.522418  0.523589  0.424241    0.4149  0.477003   \n",
       "44  0.546608   0.54339  0.494475  0.511761   0.44461  0.436592  0.482981   \n",
       "45  0.574134  0.566852  0.507444  0.559393  0.437162  0.408904  0.454399   \n",
       "46  0.587698  0.579485  0.542906   0.55561  0.393112  0.406341   0.48788   \n",
       "47  0.574458   0.50437  0.526471  0.501621  0.406027  0.415437  0.495984   \n",
       "48  0.553543   0.54547  0.503728   0.56084  0.378727  0.391232  0.442901   \n",
       "49  0.564767   0.56615  0.527944  0.544129  0.446545  0.428428  0.449481   \n",
       "50  0.613053  0.580645  0.570061  0.536676  0.432681  0.427009  0.491641   \n",
       "51  0.556681  0.552074  0.524118  0.527652  0.433314  0.443141  0.508847   \n",
       "52  0.624109  0.598803  0.543655  0.549891  0.465546  0.450753  0.477192   \n",
       "53  0.596512  0.583835  0.538551  0.552611  0.452704  0.437766  0.502346   \n",
       "54  0.572268  0.564451  0.523332  0.535632  0.456144  0.447332  0.512391   \n",
       "55  0.605606  0.607528  0.533543  0.543076  0.406919  0.392188  0.447742   \n",
       "56  0.491512  0.553704  0.494759  0.564712  0.392902  0.395846  0.427839   \n",
       "57  0.592586  0.572362  0.503716  0.491881  0.426253  0.411465  0.487173   \n",
       "58  0.567056  0.548182  0.522867  0.517961  0.430663  0.440557  0.475702   \n",
       "59  0.562625  0.553859   0.56173  0.590847  0.408618  0.430905       0.0   \n",
       "60  0.549277  0.577555    0.5186  0.563081  0.439503  0.402927  0.513713   \n",
       "61  0.610644   0.60909  0.568354  0.571349  0.475767  0.436056  0.503214   \n",
       "62  0.595253  0.573982  0.542128  0.526762  0.439581  0.432091  0.487539   \n",
       "63  0.585086  0.582205  0.543173  0.554669  0.442078  0.424114  0.494666   \n",
       "64  0.570735  0.562628  0.525851  0.525328  0.407191   0.40786  0.489906   \n",
       "65  0.587357  0.584762  0.510056  0.551276  0.424937  0.428952  0.494413   \n",
       "66   0.60077  0.579953  0.561803  0.552624  0.432794  0.426894  0.481701   \n",
       "67  0.546964  0.562795  0.502583  0.519556  0.411197  0.399544  0.532281   \n",
       "68  0.578245  0.569297  0.530273  0.516597  0.418172  0.389914  0.481176   \n",
       "69  0.565047  0.597394   0.52882  0.528405  0.396818  0.416851  0.473769   \n",
       "70  0.580048  0.607965  0.536539  0.578421  0.483127  0.442821  0.491122   \n",
       "71  0.571775  0.574699  0.532651  0.558699  0.458302  0.448364  0.462079   \n",
       "72  0.552263  0.575572  0.531076  0.540292  0.442449  0.429879  0.456059   \n",
       "73  0.523153  0.496519  0.493226  0.494346  0.416928  0.443942  0.456535   \n",
       "74  0.600072  0.599881  0.588844  0.573664   0.43794  0.435549  0.489008   \n",
       "75  0.596372  0.601141  0.546327   0.55974  0.438409  0.431472  0.516226   \n",
       "76  0.564553   0.54159  0.529696  0.527124  0.413851  0.411348  0.507431   \n",
       "77   0.54095  0.552399  0.523046   0.55242  0.395653  0.385081  0.512553   \n",
       "78  0.582716   0.57702  0.528987  0.544999  0.419609  0.416429  0.522587   \n",
       "79  0.604585  0.575862  0.552222  0.559138  0.423974  0.422085  0.494245   \n",
       "80  0.549539  0.528824  0.513138  0.527966  0.413584  0.406823  0.497789   \n",
       "81  0.610395  0.585753  0.558014  0.557723  0.424935   0.39657  0.487137   \n",
       "82  0.552445   0.56841  0.507242  0.553817  0.386728  0.365869  0.468669   \n",
       "83  0.580021  0.603128  0.554654  0.541069  0.455722  0.433675  0.491999   \n",
       "84  0.576728  0.598154  0.519756  0.592167  0.441737   0.43899  0.461948   \n",
       "85       0.0  0.582919  0.521755  0.577246  0.437906  0.424344  0.480342   \n",
       "86  0.615113  0.597142  0.526467  0.549968  0.437579   0.42827  0.493353   \n",
       "\n",
       "   IFO_right  ILF_left ILF_right       MCP   OR_left  OR_right POPT_left  \\\n",
       "0   0.489264  0.487238  0.457646  0.511925   0.45038   0.45149  0.601379   \n",
       "1   0.484962  0.466876  0.457851  0.487253  0.499654  0.507591  0.574457   \n",
       "2   0.490775  0.490242  0.493738  0.479832  0.493557  0.498446  0.538839   \n",
       "3   0.441169  0.450232  0.442817  0.506221  0.452881  0.472672  0.561147   \n",
       "4   0.490979  0.468814  0.490148  0.510576  0.534758  0.501424  0.570973   \n",
       "5   0.484492  0.489795  0.476675  0.503435  0.521216  0.516258  0.584667   \n",
       "6   0.465734  0.438989  0.454418   0.45669  0.495742  0.482785  0.569779   \n",
       "7   0.483022  0.461628  0.481247  0.482719  0.460948  0.481618  0.528318   \n",
       "8   0.489619   0.47804  0.489412  0.511804  0.500599  0.507519  0.583892   \n",
       "9   0.490204  0.517786  0.509003  0.485394  0.534137  0.530328  0.543171   \n",
       "10  0.490939  0.463895  0.466474    0.4676   0.49876  0.513709  0.541374   \n",
       "11  0.520105  0.495104  0.505833  0.496416   0.51496  0.504845  0.563936   \n",
       "12  0.485758  0.470321  0.444227   0.49889  0.493999  0.492068   0.53623   \n",
       "13  0.482129  0.476866  0.482617  0.518503  0.506036  0.498582  0.577592   \n",
       "14  0.464049  0.469515  0.474424  0.482158  0.500874   0.48529  0.535109   \n",
       "15  0.458801  0.431787  0.468499  0.475848  0.489573  0.514938  0.552357   \n",
       "16  0.501072  0.501358  0.485336  0.487459  0.518144  0.488322  0.604895   \n",
       "17  0.492675  0.482382  0.471966  0.482184  0.497365  0.486737  0.556163   \n",
       "18  0.487831  0.453269  0.466017  0.478586  0.514862  0.521069  0.561072   \n",
       "19  0.513042  0.475066  0.465909  0.498129  0.508207  0.508964  0.560866   \n",
       "20  0.492005  0.450738  0.465452  0.495075  0.524915  0.527079  0.559065   \n",
       "21  0.472289  0.438154  0.419759  0.486528  0.460846  0.487102  0.534038   \n",
       "22  0.450021       0.0  0.433544  0.506441  0.480969  0.486661  0.550504   \n",
       "23  0.489097  0.472642  0.483652  0.491734  0.481799  0.494372  0.568702   \n",
       "24  0.466204  0.433964  0.428911  0.501649  0.482367  0.499966   0.56497   \n",
       "25   0.45066  0.449132  0.433058  0.485098   0.49571  0.478529  0.542928   \n",
       "26  0.509372  0.491235  0.481176   0.50844  0.497636   0.47019  0.566026   \n",
       "27  0.502592  0.524695  0.517333  0.502312   0.53754  0.528748  0.563333   \n",
       "28  0.478308  0.431074  0.432522  0.447499  0.457429  0.459959  0.532309   \n",
       "29  0.414271  0.446416  0.475601  0.491985  0.436529  0.478755  0.594878   \n",
       "30   0.49919  0.486925  0.483543  0.459998  0.492558  0.514035   0.55137   \n",
       "31  0.497586  0.467549  0.485427  0.415094  0.505067  0.486827  0.552466   \n",
       "32  0.494556  0.491771  0.505177  0.557995  0.515214  0.540851  0.557545   \n",
       "33  0.481638  0.497233  0.479816  0.477027  0.495916  0.494174  0.573407   \n",
       "34  0.448281  0.448565  0.459229  0.473244  0.494294  0.490047   0.55477   \n",
       "35  0.495204  0.444205  0.452259  0.456803  0.482061  0.475384  0.540215   \n",
       "36  0.476264  0.475158   0.43579  0.485227   0.50776  0.481346  0.546198   \n",
       "37  0.489168  0.462634  0.452087    0.4927  0.467062  0.478645  0.552875   \n",
       "38  0.492368  0.517824  0.497117  0.480994  0.467262  0.489656  0.586634   \n",
       "39  0.484763  0.478871  0.474705  0.494995  0.501906  0.515304  0.563739   \n",
       "40   0.47396  0.436023  0.471378  0.527356  0.477557  0.446995  0.577437   \n",
       "41  0.466467  0.458501  0.429739  0.491637  0.496463  0.509414  0.569197   \n",
       "42  0.518446  0.493345  0.473773  0.534845  0.541309  0.549003  0.584827   \n",
       "43  0.474494  0.513344  0.492733  0.493884  0.522584   0.53329  0.554848   \n",
       "44    0.4936    0.4598  0.486637  0.518706   0.51232  0.514986  0.549859   \n",
       "45   0.44337  0.474464  0.454764  0.458216  0.493073  0.491397  0.537447   \n",
       "46   0.47813  0.477747  0.472995  0.490682  0.509625  0.486475  0.573122   \n",
       "47  0.476618  0.483497  0.437562  0.450873  0.447987  0.410828  0.531164   \n",
       "48  0.450029  0.449874   0.44336  0.487829   0.52441  0.473008  0.547821   \n",
       "49  0.443046  0.425249  0.449062  0.493112  0.491176  0.503373  0.560835   \n",
       "50  0.465005  0.486575  0.455355   0.49527  0.476995  0.505666   0.58378   \n",
       "51  0.491939  0.493381   0.44923  0.537623  0.527807  0.527868  0.541538   \n",
       "52   0.47211   0.47593   0.45909  0.518233  0.491679  0.525045  0.572599   \n",
       "53  0.488855  0.488168  0.469048  0.522351   0.53615  0.506041  0.572945   \n",
       "54  0.504926  0.486948  0.479049  0.506273  0.527948  0.515179  0.560966   \n",
       "55  0.463119  0.463693  0.435415   0.47654   0.48173  0.504512  0.573731   \n",
       "56  0.472394  0.450227  0.484038  0.483141   0.46574  0.466136  0.541018   \n",
       "57   0.47841  0.468828  0.464871  0.487342  0.500988  0.489208  0.593848   \n",
       "58  0.476148  0.488759  0.475207  0.495418  0.496273  0.496527  0.556125   \n",
       "59  0.466527   0.51354  0.457064  0.500641   0.52098  0.523836  0.588851   \n",
       "60  0.477059  0.485833  0.450645  0.455264  0.485464  0.488623  0.543479   \n",
       "61  0.498748  0.495368  0.493635  0.519099  0.545798  0.520054  0.582879   \n",
       "62  0.489023  0.492453   0.46822  0.495793  0.509359   0.49027  0.586647   \n",
       "63  0.513676  0.516485  0.478637  0.505868  0.482756  0.467037  0.582579   \n",
       "64  0.463926  0.477087  0.471756  0.450689  0.505426  0.515621  0.542201   \n",
       "65  0.498926  0.504475  0.469598   0.50429  0.484117  0.498989  0.571275   \n",
       "66  0.470645  0.544052  0.515373  0.549838  0.524705  0.537509  0.600035   \n",
       "67  0.536246   0.53267  0.516603   0.47538  0.504767  0.519202  0.510812   \n",
       "68  0.477944  0.458512  0.434599  0.464075  0.491978  0.494807  0.556184   \n",
       "69  0.468857  0.493479   0.49027  0.471488  0.486937   0.46698  0.570517   \n",
       "70  0.484398  0.471713  0.475766  0.521256  0.500708  0.477689  0.550926   \n",
       "71     0.483   0.48419  0.477206  0.508883    0.5043  0.506321   0.58124   \n",
       "72  0.441824  0.465156  0.431431   0.52107  0.484815  0.484845  0.550269   \n",
       "73  0.409335  0.513164  0.468214  0.496108  0.511364  0.430181  0.573692   \n",
       "74   0.48221  0.470316  0.465662  0.485033   0.47687  0.487751  0.608214   \n",
       "75  0.524065  0.477541  0.464907     0.474  0.486936  0.492988  0.557221   \n",
       "76  0.501285  0.492452  0.442188   0.47661  0.520767  0.503045  0.555064   \n",
       "77  0.493359  0.482833  0.492594  0.494502  0.522828   0.52861  0.549816   \n",
       "78  0.534746  0.508869  0.505789  0.505221  0.534578  0.520305    0.5688   \n",
       "79  0.480023  0.464895  0.481315  0.478561  0.523209  0.522047  0.573934   \n",
       "80  0.496441  0.489906  0.472831  0.492186  0.525947  0.495383  0.537026   \n",
       "81  0.485812  0.506717  0.454107  0.497043  0.528494  0.521418  0.603294   \n",
       "82  0.462628  0.479489   0.47466  0.451284  0.486255  0.482124  0.542701   \n",
       "83  0.499121  0.501269  0.463985  0.472076  0.530287  0.517845  0.591332   \n",
       "84  0.449616  0.451154  0.437868  0.512899  0.467597  0.475531  0.544512   \n",
       "85   0.47441  0.483314   0.48154  0.478562  0.489125  0.482618  0.417776   \n",
       "86   0.49109  0.480714  0.470179  0.505652   0.47708  0.469802  0.562352   \n",
       "\n",
       "   POPT_right  SCP_left SCP_right SLF_I_left SLF_I_right SLF_II_left  \\\n",
       "0    0.581255  0.445319  0.435261   0.496612    0.519913    0.450483   \n",
       "1    0.578123  0.453371  0.443098   0.482047    0.496835    0.483797   \n",
       "2    0.531757   0.44936   0.44264   0.486707    0.510947    0.430168   \n",
       "3    0.544846  0.457495  0.434554   0.463724    0.491054    0.479617   \n",
       "4    0.568538  0.484075    0.4696   0.478712    0.479246    0.457306   \n",
       "5    0.597916  0.463498  0.447662   0.499817    0.522707    0.481415   \n",
       "6    0.556471  0.440422  0.427064    0.45499    0.487707    0.416574   \n",
       "7    0.563493  0.475938  0.472721   0.483282    0.487456    0.443358   \n",
       "8    0.576706  0.476912  0.472223   0.487058    0.476091    0.442338   \n",
       "9    0.544318  0.487702   0.49096   0.468407    0.490566    0.454473   \n",
       "10   0.528687  0.475848   0.47968   0.454043    0.469437    0.434093   \n",
       "11   0.540757  0.479196  0.469731   0.464557    0.486527    0.425422   \n",
       "12    0.54652  0.453115  0.459437   0.477943    0.483462    0.451208   \n",
       "13   0.553196  0.451134  0.439247   0.455179    0.469521     0.44106   \n",
       "14   0.552221  0.480093    0.4618   0.474283    0.485598    0.415759   \n",
       "15   0.569905  0.430355  0.415907   0.465058    0.481432    0.468462   \n",
       "16   0.591135  0.454642  0.454355   0.529212    0.526239    0.463613   \n",
       "17   0.546823  0.482297  0.458669   0.499901    0.486546    0.418145   \n",
       "18   0.562975  0.456976  0.445836    0.46768    0.483199    0.441418   \n",
       "19   0.592671   0.48039  0.459778    0.48724    0.513665    0.465316   \n",
       "20   0.545909  0.516022  0.468739   0.503064    0.487353    0.414309   \n",
       "21   0.539354  0.451608  0.429528   0.454498    0.451955    0.414881   \n",
       "22   0.559723  0.406108  0.405866   0.445508    0.480754    0.427507   \n",
       "23    0.55815  0.459173  0.467045   0.508974    0.494575    0.451864   \n",
       "24   0.560776  0.455905   0.42456   0.472431    0.473383    0.423124   \n",
       "25    0.55401  0.409161  0.385181    0.45666    0.477048    0.399778   \n",
       "26    0.56075  0.469497  0.451884    0.50077    0.501939    0.447037   \n",
       "27   0.559717  0.483761  0.477651   0.493245     0.52128    0.474448   \n",
       "28   0.519698   0.41468  0.388782   0.431688    0.467975    0.391315   \n",
       "29   0.609708  0.463468  0.454661     0.4784     0.48515    0.451478   \n",
       "30   0.590151  0.504014  0.478141   0.522609    0.498171    0.459362   \n",
       "31   0.552421  0.473577  0.460721   0.479776    0.491168    0.415171   \n",
       "32   0.580937  0.467583  0.468941   0.491878    0.495019    0.435135   \n",
       "33   0.581481  0.469607  0.442615   0.512853    0.498829    0.438675   \n",
       "34   0.573418  0.493846  0.463669   0.450746    0.456284    0.459275   \n",
       "35   0.568602  0.458383  0.448102   0.480534    0.479429    0.445234   \n",
       "36   0.582036  0.469714  0.448693   0.484952    0.459015    0.412939   \n",
       "37   0.545208  0.479803  0.476488   0.474141    0.485478    0.445167   \n",
       "38   0.599605  0.452614  0.436558   0.499832    0.504476    0.448037   \n",
       "39   0.616464  0.465421  0.435479   0.506735    0.474333    0.472981   \n",
       "40   0.581169  0.451232  0.430873   0.458909    0.503234    0.407891   \n",
       "41   0.590285  0.457711  0.442309   0.510425    0.530868     0.45871   \n",
       "42   0.600574  0.439209  0.424512   0.510192     0.50691    0.426067   \n",
       "43   0.570363  0.459428   0.45126   0.508302    0.468113    0.440866   \n",
       "44   0.550184  0.467622  0.451389   0.487995    0.504899    0.420421   \n",
       "45   0.588874  0.425773  0.410032   0.472586    0.476505      0.4475   \n",
       "46   0.584451  0.461872  0.437766   0.506954    0.479785    0.439874   \n",
       "47   0.514745  0.425922  0.424991   0.444613    0.452415    0.401384   \n",
       "48   0.562956  0.439558   0.41631   0.485526    0.464468    0.441897   \n",
       "49   0.588236  0.458267  0.449653   0.487512    0.465359    0.423128   \n",
       "50   0.585267  0.454559  0.446136   0.492113    0.500048    0.479933   \n",
       "51   0.556267  0.486042  0.486065    0.49988    0.498294     0.44511   \n",
       "52   0.575242  0.477126  0.437276   0.496791     0.45609    0.415412   \n",
       "53   0.581949    0.4734  0.458106   0.525724    0.492299     0.45787   \n",
       "54   0.587172  0.482333  0.493215   0.523616    0.499566    0.464501   \n",
       "55   0.557533  0.462034  0.413687   0.483685    0.477791    0.453506   \n",
       "56   0.558687  0.446423  0.444471   0.504293    0.490632    0.484147   \n",
       "57   0.569117  0.424169  0.411804   0.459149    0.444395    0.401425   \n",
       "58   0.601799  0.491312  0.460191   0.472529    0.479919     0.42742   \n",
       "59   0.602486  0.483731  0.458828   0.494079    0.501692    0.489616   \n",
       "60   0.572001  0.476352  0.438532   0.477298    0.468697    0.395175   \n",
       "61    0.59055  0.473327  0.451483   0.508405    0.482549    0.449795   \n",
       "62   0.592329    0.4609  0.439397   0.498528    0.495112    0.467144   \n",
       "63    0.58896  0.450782  0.435238   0.487947    0.491456    0.464971   \n",
       "64   0.569773  0.452556  0.453067   0.473075    0.476841    0.422689   \n",
       "65   0.594853  0.430137  0.417782   0.520694    0.492083    0.484931   \n",
       "66   0.613612  0.460188  0.434473   0.519383    0.518002    0.486226   \n",
       "67   0.554721  0.442919  0.434406   0.500695    0.499896    0.432345   \n",
       "68   0.550567  0.460262  0.468499   0.471394     0.45493    0.412629   \n",
       "69   0.583944  0.461561   0.46463   0.493135    0.512352    0.431887   \n",
       "70   0.585341  0.489657  0.457464   0.497499    0.536011    0.464992   \n",
       "71   0.575456  0.489514  0.475882   0.477552    0.500722    0.466528   \n",
       "72   0.594793  0.472142  0.441764   0.476912    0.484659    0.421556   \n",
       "73   0.541131  0.416241  0.440069   0.492566    0.497671     0.44757   \n",
       "74   0.606014  0.438831  0.419297   0.474066    0.474208    0.417739   \n",
       "75   0.593045   0.46154  0.447918   0.503354    0.520585    0.464686   \n",
       "76   0.546246  0.454009  0.431335   0.495742    0.479119    0.455489   \n",
       "77   0.588063  0.480101  0.445719   0.497166    0.519292    0.418418   \n",
       "78   0.571369  0.507159  0.474027   0.503255    0.489415    0.440788   \n",
       "79   0.573379  0.466032  0.440442      0.508     0.49803    0.469925   \n",
       "80   0.555631  0.449706   0.43986   0.488473    0.515571    0.430856   \n",
       "81   0.633645  0.477563  0.443671   0.468522     0.50815    0.433225   \n",
       "82   0.573743  0.443297  0.434616   0.488919    0.498182    0.442208   \n",
       "83   0.611731    0.4891  0.450538   0.492228    0.527999    0.474966   \n",
       "84   0.549609   0.45568  0.444218   0.460386    0.465975    0.428639   \n",
       "85    0.59046  0.514403  0.442707   0.475451    0.483838    0.424801   \n",
       "86    0.58545  0.470322  0.449845   0.509906    0.499742    0.410421   \n",
       "\n",
       "   SLF_II_right SLF_III_left SLF_III_right  STR_left STR_right   UF_left  \\\n",
       "0        0.4741     0.468927      0.449593   0.50536  0.484358  0.407916   \n",
       "1      0.495138     0.470902      0.457696  0.492876  0.477945  0.427234   \n",
       "2      0.468716     0.474926      0.464262  0.492035  0.456042  0.441122   \n",
       "3      0.491026     0.439131      0.431069  0.504882  0.488211  0.415551   \n",
       "4      0.470236     0.492765      0.467112  0.478361   0.49265  0.432052   \n",
       "5      0.475625     0.472187      0.476219  0.535379  0.507945  0.451392   \n",
       "6      0.441555     0.446451      0.440996   0.51329  0.488679  0.406734   \n",
       "7      0.446308      0.49152       0.47292  0.485702  0.509651  0.438497   \n",
       "8      0.501809     0.437986      0.466107   0.48662  0.490124  0.449868   \n",
       "9      0.456398     0.473395      0.470434  0.491458  0.479576  0.424618   \n",
       "10     0.441227     0.481523      0.468018  0.475208  0.447296  0.395384   \n",
       "11     0.454013      0.48088       0.45642  0.515788  0.464606  0.462832   \n",
       "12     0.447276     0.449085      0.437756  0.491402  0.478759   0.43247   \n",
       "13     0.439567     0.457574       0.45817  0.458944  0.459376  0.428997   \n",
       "14     0.429066     0.446722       0.44235   0.48689  0.495724  0.425486   \n",
       "15     0.494999     0.486582       0.48782  0.490677  0.479095  0.443748   \n",
       "16     0.498371      0.48533      0.486835  0.568569  0.508984  0.436814   \n",
       "17     0.447807     0.478205      0.477636  0.508875  0.469439  0.435953   \n",
       "18     0.462492     0.464386      0.499516  0.507475  0.464323  0.429955   \n",
       "19     0.486282     0.449046      0.467426  0.490496  0.511568  0.461179   \n",
       "20     0.448044     0.499441       0.47667  0.473461  0.490193  0.413058   \n",
       "21     0.419943     0.451492       0.43063  0.443092  0.439126  0.421912   \n",
       "22     0.497321     0.436479      0.472634  0.500944  0.441876  0.458902   \n",
       "23      0.45546     0.458124      0.463097  0.567887  0.520278  0.426386   \n",
       "24     0.458775     0.476812      0.472152   0.48001  0.478194  0.418836   \n",
       "25      0.43992     0.430621      0.426701  0.509123   0.45223  0.376481   \n",
       "26     0.468137     0.475678      0.454713  0.502985  0.486474  0.405498   \n",
       "27     0.491419     0.497605      0.485971  0.523893  0.492433  0.404236   \n",
       "28     0.431513     0.431044       0.44632  0.504002  0.452218  0.395194   \n",
       "29     0.454785      0.40909      0.417885  0.503432  0.528882  0.406279   \n",
       "30     0.461159      0.48543      0.471868  0.478288  0.519008  0.418012   \n",
       "31     0.449239     0.449198      0.447948  0.469005  0.491171  0.447717   \n",
       "32     0.463781     0.477992      0.479378   0.49224  0.478797  0.425506   \n",
       "33     0.450236     0.444534      0.433277  0.467309  0.492429  0.431098   \n",
       "34      0.45307     0.468843       0.46181   0.44981  0.525808  0.402283   \n",
       "35     0.461756     0.469358      0.451304  0.457455  0.473813  0.439079   \n",
       "36     0.433237     0.453416      0.411045  0.454345  0.505214  0.439026   \n",
       "37     0.453327     0.452232      0.451156  0.471061  0.452797  0.426774   \n",
       "38     0.488001     0.452018      0.451853  0.512144   0.52326  0.436855   \n",
       "39     0.449077     0.479303      0.474156  0.499336  0.499671  0.411966   \n",
       "40     0.430349     0.451187      0.440668  0.458747  0.496076  0.417435   \n",
       "41     0.455456     0.455985      0.442273  0.476852   0.50209  0.410849   \n",
       "42     0.471909     0.500075      0.498053  0.504361  0.520887  0.452546   \n",
       "43     0.463738     0.478868      0.459039  0.510459  0.476569  0.418873   \n",
       "44     0.449598     0.499276      0.459077  0.477186  0.474519  0.417443   \n",
       "45     0.450316     0.461751      0.421756  0.452472   0.52325  0.414061   \n",
       "46     0.501439     0.494907      0.462626  0.496641  0.522039  0.448258   \n",
       "47     0.406194     0.362509        0.3812   0.44678  0.451791  0.413354   \n",
       "48     0.452535     0.454047      0.427233  0.452761  0.497156  0.389812   \n",
       "49     0.427114     0.453396       0.39963  0.483047  0.492334  0.394539   \n",
       "50     0.472259     0.477123      0.464448  0.457823  0.475136  0.454141   \n",
       "51     0.467805     0.489254      0.468904  0.483642  0.478835  0.444825   \n",
       "52      0.43456     0.463428      0.467844  0.494916  0.493942  0.453071   \n",
       "53     0.483544     0.501045      0.464681  0.519822  0.486766  0.453044   \n",
       "54     0.487988     0.488522       0.45815  0.498789  0.494794  0.447743   \n",
       "55     0.478817     0.476674      0.465583  0.455819  0.496565  0.462638   \n",
       "56     0.475559     0.465302      0.451848   0.45125  0.494692  0.431968   \n",
       "57     0.393887      0.43939      0.467755   0.50756  0.466427  0.401782   \n",
       "58      0.44249     0.473471      0.456323  0.472709  0.483986  0.414797   \n",
       "59     0.487312     0.488502      0.446454  0.461939  0.534451  0.466465   \n",
       "60       0.4201     0.455694      0.445675  0.443713  0.470558  0.453502   \n",
       "61     0.454787     0.497986      0.474488  0.487724  0.527954  0.448307   \n",
       "62     0.479997     0.457766      0.453403  0.513139  0.489421  0.426898   \n",
       "63     0.490569      0.50869       0.48581  0.498245  0.512665  0.510424   \n",
       "64     0.438005     0.454336      0.439809  0.453384  0.482435  0.405358   \n",
       "65     0.465197      0.46225      0.459479  0.490849  0.503904  0.429803   \n",
       "66     0.493556     0.486016      0.483355   0.50416  0.513914  0.445645   \n",
       "67     0.458446     0.505135      0.498069  0.476748  0.493142  0.429027   \n",
       "68      0.44612      0.42455      0.418184  0.467797  0.458496  0.419538   \n",
       "69     0.449182     0.471605      0.459326  0.467873  0.498686  0.425463   \n",
       "70     0.499548     0.496991      0.478575  0.456423  0.523149  0.442036   \n",
       "71     0.473347     0.454956      0.459646  0.494904  0.498378  0.415114   \n",
       "72     0.441692     0.476208      0.460721  0.460236  0.502983   0.40328   \n",
       "73     0.455158     0.478673      0.463669  0.491364  0.445764  0.429969   \n",
       "74     0.450923      0.47543      0.459526  0.501017  0.484613  0.448039   \n",
       "75     0.493097     0.487065      0.467447   0.48121  0.516285  0.408006   \n",
       "76     0.468361     0.499539      0.481582   0.50003  0.473458  0.415946   \n",
       "77      0.44815     0.473901      0.438927  0.475202  0.470996  0.430156   \n",
       "78     0.462988     0.503223      0.497272  0.496173  0.511754  0.466353   \n",
       "79     0.496497     0.465457      0.474777  0.488764  0.491291  0.407249   \n",
       "80     0.450507     0.482428      0.450216  0.447365   0.47787  0.456513   \n",
       "81     0.470773     0.441662      0.453699  0.513691   0.52196  0.430742   \n",
       "82     0.431188     0.444344      0.433894  0.474616  0.496028   0.41385   \n",
       "83     0.491423     0.459037       0.46386  0.501501  0.535228  0.446028   \n",
       "84     0.445364     0.483335        0.4491  0.477625  0.532895   0.40216   \n",
       "85     0.473184     0.484447      0.444706  0.467406   0.48587  0.446076   \n",
       "86      0.46827     0.480748      0.440369  0.494183  0.514096  0.435809   \n",
       "\n",
       "    UF_right T_PREM_left T_PREM_right T_PAR_left T_PAR_right T_OCC_left  \\\n",
       "0   0.439578    0.458762     0.441596    0.53073    0.515384   0.452087   \n",
       "1   0.431092    0.497244     0.455738   0.514017    0.497762   0.503734   \n",
       "2   0.443644    0.447899     0.426514   0.494439    0.482133   0.495037   \n",
       "3   0.434419    0.461518     0.491342   0.509415    0.502602   0.437382   \n",
       "4   0.439133    0.488342     0.502209   0.516346    0.511177   0.531843   \n",
       "5   0.440599    0.458433     0.470509   0.524434    0.513684   0.513241   \n",
       "6   0.407056    0.445796     0.416812   0.503234    0.484729   0.484122   \n",
       "7   0.430378    0.450467     0.460967   0.450257    0.493314   0.469947   \n",
       "8   0.462347    0.485028     0.485808   0.530588    0.510956   0.494119   \n",
       "9    0.41975    0.452015     0.427564   0.493704    0.485532   0.519736   \n",
       "10  0.392274    0.447341     0.442131   0.479807    0.468226   0.502138   \n",
       "11  0.447926     0.45544     0.455815   0.526946    0.473881   0.510769   \n",
       "12  0.425617    0.467499     0.431412   0.484764    0.471602   0.492089   \n",
       "13  0.435362    0.454117     0.477638   0.508288    0.488626    0.48926   \n",
       "14  0.424245    0.425279     0.425708   0.462645    0.461605   0.496752   \n",
       "15  0.447184    0.507648      0.49485   0.523894    0.502378   0.494664   \n",
       "16  0.463114    0.485971     0.482044   0.545958    0.511053   0.529083   \n",
       "17  0.447838    0.442162     0.424468   0.501662    0.486761   0.494749   \n",
       "18  0.428861    0.445581       0.4448    0.51342    0.478298   0.495156   \n",
       "19  0.446982    0.462258     0.475074   0.492965    0.521702   0.513446   \n",
       "20  0.408725    0.447649       0.4608   0.499731    0.490744   0.517484   \n",
       "21  0.415643    0.434321     0.461856   0.463663    0.442498   0.470982   \n",
       "22  0.454553    0.466591     0.454023   0.528645    0.495673   0.468257   \n",
       "23  0.407785    0.482196     0.480609   0.506886    0.486765   0.478963   \n",
       "24  0.405144    0.442738     0.458735   0.485504    0.488609   0.489014   \n",
       "25  0.399237    0.425047     0.430032   0.485711    0.480185   0.471004   \n",
       "26  0.414048    0.431213     0.423496   0.498375    0.496139   0.492314   \n",
       "27  0.407831    0.480952      0.45849   0.500136    0.488912   0.532305   \n",
       "28  0.422921    0.419795     0.403359   0.474283     0.44815   0.454134   \n",
       "29  0.405918    0.488738     0.520817   0.512147    0.536265   0.416449   \n",
       "30  0.386493    0.423587     0.464807   0.493225    0.507308   0.486165   \n",
       "31  0.431166    0.448552     0.479347   0.491129    0.506951   0.493138   \n",
       "32  0.425636    0.451202      0.43293   0.503562     0.51659   0.518257   \n",
       "33  0.406157    0.456086     0.450114   0.497925    0.516592   0.501593   \n",
       "34  0.402776    0.455856      0.50131   0.477948    0.502443   0.494932   \n",
       "35  0.438852    0.456426      0.45328   0.497905    0.500693    0.50312   \n",
       "36  0.410947    0.434749     0.446236   0.476672    0.506448   0.510192   \n",
       "37  0.428172    0.448852     0.422594   0.474535    0.472748   0.463415   \n",
       "38  0.439317    0.453743     0.472564   0.510497    0.528276   0.484041   \n",
       "39  0.435675     0.45963      0.46237   0.491633    0.504184   0.498699   \n",
       "40  0.396534    0.442087     0.425791   0.493959    0.532302   0.468274   \n",
       "41   0.39831    0.443322     0.474738   0.503752    0.515994   0.499003   \n",
       "42  0.463095    0.467606     0.455402   0.545782    0.536813   0.550079   \n",
       "43  0.396455    0.439615     0.432556   0.512428    0.499374   0.509397   \n",
       "44  0.399982    0.431975     0.441146   0.504195    0.503432   0.503599   \n",
       "45  0.407535    0.470914     0.491104   0.470798    0.556825   0.489717   \n",
       "46  0.439275    0.470221     0.475871    0.49519    0.540413   0.521519   \n",
       "47  0.402032    0.452841     0.440005   0.480958    0.508449   0.443504   \n",
       "48  0.383128    0.426564     0.461428   0.482832    0.514167   0.506423   \n",
       "49  0.398553    0.467362     0.470098   0.492355    0.506164   0.492215   \n",
       "50  0.451441    0.479801     0.463024   0.491806    0.523076   0.476028   \n",
       "51  0.401895    0.442817     0.436693    0.48623    0.496535   0.524661   \n",
       "52  0.435307    0.454466     0.474287   0.520165    0.529964   0.497688   \n",
       "53  0.431984    0.445558     0.453613   0.530922    0.513773   0.538421   \n",
       "54  0.411849    0.448458     0.469228   0.511987    0.521276   0.527723   \n",
       "55   0.44488    0.436131     0.478453   0.513412    0.529551    0.46642   \n",
       "56  0.452445    0.450714     0.503025   0.487409    0.537847   0.387973   \n",
       "57  0.394264    0.440278     0.434223   0.532545    0.487545   0.495766   \n",
       "58  0.406622    0.455016     0.421235   0.472544    0.499644   0.500748   \n",
       "59  0.447984    0.468992     0.507076   0.523362    0.559315   0.495763   \n",
       "60  0.429793    0.461936     0.477592   0.476948    0.503925   0.501412   \n",
       "61  0.434863    0.467535     0.473447   0.516213    0.527132   0.536549   \n",
       "62  0.434277    0.474668     0.474549   0.518813    0.519803   0.519691   \n",
       "63  0.480642    0.476472     0.469856   0.525024    0.529668   0.488263   \n",
       "64  0.416714    0.451795     0.445755   0.475465    0.494989   0.507756   \n",
       "65  0.424822    0.451301     0.448319   0.510066    0.537189   0.500462   \n",
       "66  0.426432    0.490732     0.488613   0.556673    0.552776   0.519914   \n",
       "67  0.417857    0.438016     0.443816   0.475271    0.503864   0.504098   \n",
       "68  0.407075    0.473484     0.436941   0.480428     0.49318   0.493348   \n",
       "69  0.398321    0.434157     0.455178   0.489354    0.533861   0.496943   \n",
       "70  0.436863    0.454448     0.476459   0.507151    0.522383   0.500671   \n",
       "71  0.417281    0.456995     0.471276   0.522284    0.510391   0.517663   \n",
       "72  0.422536    0.455226      0.49239   0.472402    0.522554   0.490031   \n",
       "73  0.435391    0.477214     0.471558    0.52652    0.514776    0.45258   \n",
       "74  0.438575     0.47963      0.48773   0.520068    0.511685   0.485874   \n",
       "75  0.431369    0.468319     0.475158   0.490719    0.531549   0.496903   \n",
       "76   0.41479    0.460349     0.458694   0.503496     0.48755   0.525872   \n",
       "77  0.444851    0.459973     0.473024   0.512455    0.523507   0.517281   \n",
       "78  0.457508    0.443572     0.440949   0.504921    0.533152   0.531473   \n",
       "79  0.423175    0.466847      0.46812   0.531695    0.523884   0.523244   \n",
       "80  0.443026    0.431108     0.460188   0.478882    0.508963   0.521154   \n",
       "81  0.423648    0.498457     0.490696    0.54326    0.546817    0.53432   \n",
       "82  0.404717     0.42084     0.487615   0.476062    0.504246   0.482691   \n",
       "83    0.4613    0.471673     0.496458   0.527178    0.561757   0.512616   \n",
       "84  0.403694    0.442752     0.478324   0.489287    0.481554   0.458545   \n",
       "85  0.429003     0.47086     0.454671   0.505822    0.500311    0.49497   \n",
       "86  0.422359    0.465932     0.478983    0.49425    0.529458   0.479048   \n",
       "\n",
       "   T_OCC_right ST_FO_left ST_FO_right ST_PREM_left ST_PREM_right  \n",
       "0     0.464919   0.407723    0.425993     0.426287      0.434601  \n",
       "1      0.50915   0.446618     0.44881     0.409958      0.435302  \n",
       "2     0.496586   0.414226     0.44346     0.398844       0.41443  \n",
       "3     0.496046   0.413949    0.427909     0.386759      0.417997  \n",
       "4     0.494574    0.42832    0.459303     0.434517        0.4867  \n",
       "5     0.511801   0.433742    0.437906     0.414579      0.435837  \n",
       "6     0.482448   0.410727    0.418386     0.401324       0.41426  \n",
       "7     0.474368   0.413563    0.430746     0.416954      0.447619  \n",
       "8     0.514149   0.454833    0.463624     0.401631      0.424186  \n",
       "9      0.52693   0.446688    0.430683     0.426564      0.416593  \n",
       "10    0.509094   0.367903     0.38189     0.387351      0.407248  \n",
       "11    0.500999   0.431981    0.457844     0.412317      0.426727  \n",
       "12    0.488195   0.444522    0.456492     0.408063      0.420468  \n",
       "13    0.488052   0.408922    0.421906     0.401623      0.406442  \n",
       "14    0.480962   0.382962    0.428938     0.412894      0.410353  \n",
       "15    0.520501   0.434936    0.427998     0.446439      0.433714  \n",
       "16    0.489087   0.433575    0.461597     0.450259      0.441968  \n",
       "17    0.487603   0.416166    0.430223     0.408201      0.427084  \n",
       "18    0.527384   0.403607    0.439759     0.418597      0.462339  \n",
       "19    0.508483      0.448     0.46817     0.438329      0.456842  \n",
       "20    0.522069    0.42183    0.449619     0.434352      0.437445  \n",
       "21    0.484712   0.414899    0.406388     0.411581      0.419383  \n",
       "22    0.508562   0.449016    0.477842     0.413986      0.434216  \n",
       "23    0.488817   0.398857    0.384655     0.408116      0.426961  \n",
       "24    0.497522   0.387369    0.411369     0.395398      0.404121  \n",
       "25    0.478727   0.376817    0.376362     0.366635      0.401186  \n",
       "26    0.474352   0.429199    0.473706     0.411182      0.424511  \n",
       "27    0.521652   0.408574     0.43048     0.440577      0.442941  \n",
       "28    0.454289   0.375593    0.396221     0.379147      0.396184  \n",
       "29    0.484637   0.399006    0.416769     0.433303      0.435595  \n",
       "30    0.511928   0.387858    0.397584     0.420813      0.431725  \n",
       "31    0.475864   0.441222    0.457168     0.395822      0.422316  \n",
       "32    0.538553   0.434081     0.45065     0.421732      0.444234  \n",
       "33    0.492773   0.391112    0.384539     0.413888      0.416923  \n",
       "34    0.487202   0.405194    0.414249     0.408391      0.412497  \n",
       "35    0.480168    0.44787    0.446104     0.416521      0.421823  \n",
       "36    0.480548    0.40164    0.407702     0.398535      0.398709  \n",
       "37    0.481064   0.432652    0.456459     0.386872      0.398104  \n",
       "38    0.502529   0.435629    0.451048     0.414428      0.435066  \n",
       "39    0.506581   0.411698    0.421099     0.420929      0.438981  \n",
       "40    0.468563   0.426634    0.415657     0.380855      0.396494  \n",
       "41    0.503808   0.396942    0.406844     0.410811      0.432489  \n",
       "42    0.546507   0.445888    0.469609     0.413259       0.42855  \n",
       "43    0.536024    0.38632    0.405296     0.402204      0.397675  \n",
       "44    0.512566   0.418584    0.429374     0.399645      0.411072  \n",
       "45    0.507319   0.421636    0.422964     0.407089      0.396185  \n",
       "46    0.503536   0.448905    0.436608     0.437376      0.435949  \n",
       "47    0.419794   0.432084    0.465149       0.4033      0.399119  \n",
       "48    0.467422   0.383296    0.397905     0.398909      0.397392  \n",
       "49    0.500345   0.413643    0.402902     0.417837      0.414943  \n",
       "50    0.510184    0.45651     0.48429      0.41662      0.399272  \n",
       "51    0.524149   0.430256    0.440409     0.413561        0.4389  \n",
       "52    0.513017   0.396831    0.430239     0.439341       0.41353  \n",
       "53    0.510539   0.443068    0.441227     0.413552      0.409253  \n",
       "54     0.52219    0.45086    0.440812     0.399251      0.427968  \n",
       "55    0.500664   0.428219    0.424007     0.386247       0.41285  \n",
       "56    0.485056   0.407871    0.450594     0.420183      0.414195  \n",
       "57    0.487962   0.391869    0.388202     0.399534      0.400892  \n",
       "58    0.496194   0.368549    0.391351     0.418845      0.415911  \n",
       "59    0.527258   0.472003    0.437231     0.431182      0.442639  \n",
       "60    0.485599   0.422499    0.427742     0.422216      0.416403  \n",
       "61    0.519594   0.417622    0.422588     0.423195      0.412841  \n",
       "62    0.499654   0.421032    0.454382      0.43977      0.426477  \n",
       "63    0.497105   0.482516    0.469013     0.427993      0.432698  \n",
       "64    0.507642   0.393057      0.4009     0.396267      0.422552  \n",
       "65    0.492718   0.419433    0.453621     0.401542      0.410218  \n",
       "66    0.541732   0.459229    0.482285      0.45485      0.455667  \n",
       "67    0.517181   0.419252    0.435381     0.411761      0.415131  \n",
       "68     0.49726   0.401276      0.3948     0.404145      0.400988  \n",
       "69    0.499195   0.397619    0.351308     0.406229      0.422863  \n",
       "70     0.47873    0.43483    0.434264      0.41366      0.426837  \n",
       "71    0.505822   0.418912    0.461684     0.427304      0.436528  \n",
       "72     0.47347   0.421167     0.42683     0.432834      0.446323  \n",
       "73    0.473528    0.38447    0.423516     0.442055      0.433326  \n",
       "74    0.500086   0.430436    0.428603     0.420288      0.422173  \n",
       "75     0.49453   0.387087    0.420623     0.410711      0.429935  \n",
       "76     0.49695   0.406991    0.405683     0.430757      0.416361  \n",
       "77    0.531381   0.417101    0.422209     0.400345      0.402054  \n",
       "78     0.53335   0.441705    0.462498     0.430555      0.418507  \n",
       "79    0.529769   0.447748    0.442277     0.435849      0.440397  \n",
       "80    0.502525   0.437581    0.430283     0.412286      0.441189  \n",
       "81    0.514164   0.413368    0.446782     0.454796      0.471734  \n",
       "82    0.483045   0.419674    0.418996      0.37705      0.429705  \n",
       "83    0.514541   0.429475    0.444989     0.430643       0.42855  \n",
       "84    0.457671   0.412251    0.422685     0.432111      0.424333  \n",
       "85     0.47612   0.428739    0.421911     0.400243      0.418948  \n",
       "86    0.492927   0.412585    0.420021     0.413341      0.432371  "
      ]
     },
     "execution_count": 13,
     "metadata": {},
     "output_type": "execute_result"
    }
   ],
   "source": [
    "fa_df"
   ]
  },
  {
   "cell_type": "code",
   "execution_count": 21,
   "id": "exact-sheet",
   "metadata": {},
   "outputs": [
    {
     "name": "stdout",
     "output_type": "stream",
     "text": [
      "DWI data shape: (83, 51)\n",
      "Behav data shape: (83, 54)\n"
     ]
    },
    {
     "name": "stderr",
     "output_type": "stream",
     "text": [
      "/gpfs/milgram/project/gee_dylan/lms233/conda_envs/mybrainiak/lib/python3.7/site-packages/ipykernel_launcher.py:4: SettingWithCopyWarning: \n",
      "A value is trying to be set on a copy of a slice from a DataFrame.\n",
      "Try using .loc[row_indexer,col_indexer] = value instead\n",
      "\n",
      "See the caveats in the documentation: https://pandas.pydata.org/pandas-docs/stable/user_guide/indexing.html#returning-a-view-versus-a-copy\n",
      "  after removing the cwd from sys.path.\n",
      "/gpfs/milgram/project/gee_dylan/lms233/conda_envs/mybrainiak/lib/python3.7/site-packages/ipykernel_launcher.py:5: SettingWithCopyWarning: \n",
      "A value is trying to be set on a copy of a slice from a DataFrame.\n",
      "Try using .loc[row_indexer,col_indexer] = value instead\n",
      "\n",
      "See the caveats in the documentation: https://pandas.pydata.org/pandas-docs/stable/user_guide/indexing.html#returning-a-view-versus-a-copy\n",
      "  \"\"\"\n"
     ]
    }
   ],
   "source": [
    "#Compute tract means\n",
    "peak_df, fa_df = compute_tract_means(bx_df) #Input is bxdf so that subjects will be in same order\n",
    "mean_peaks = peak_df.replace(0.0, np.nan).dropna(how='any', axis=0).reset_index().drop('index', axis=1)\n",
    "mean_fa = fa_df.replace(0.0, np.nan).dropna(how='any', axis=0).reset_index().drop('index', axis=1)\n",
    "\n",
    "#Regress age, sex, and diagnostic group from dti\n",
    "bx_df = pd.merge(mean_fa['Subject'], bx_df).reset_index().drop('index', axis=1)\n",
    "\n",
    "resid_peaks_mat = regress_covariates(mean_peaks, bx_df.sort_values(by='Subject'))\n",
    "resid_fa_mat = regress_covariates(mean_fa, bx_df.sort_values(by='Subject'))\n",
    "\n",
    "resid_peaks_df = pd.DataFrame(pd.concat([mean_peaks['Subject'], pd.DataFrame(resid_peaks_mat, \n",
    "                                                                             columns = mean_peaks.columns[1:101])], \n",
    "                                        axis=1))\n",
    "resid_fa_df = pd.DataFrame(pd.concat([mean_fa['Subject'], pd.DataFrame(resid_fa_mat, \n",
    "                                                                             columns = mean_fa.columns[1:101])], \n",
    "                                        axis=1))\n",
    "\n",
    "print(\"DWI data shape: {}\".format(resid_fa_df.shape))\n",
    "\n",
    "#Merge with long dfs\n",
    "# long_thr_df_dwi = pd.merge(long_thr_df, resid_df, on='Subject', how = 'right')\n",
    "# long_dep_df_dwi = pd.merge(long_dep_df, resid_df, on='Subject', how = 'right')\n",
    "# long_all_df_dwi = pd.merge(long_all_df, resid_df, on='Subject', how = 'right')\n",
    "\n",
    "# #Extract specific tracts\n",
    "# left_uf = resid_fa_df[:, 38]\n",
    "# right_uf = resid_fa_mat[:, 39]\n",
    "\n",
    "# #Prepare bx data for CCA\n",
    "bx_mat = bx_df.drop(['threat_Summed_Threat','all_Summed_All', 'diagnostic_group', 'asr_age', 'sex', 'Subject'], \n",
    "                    axis=1).replace(np.nan, 0) #.to_numpy()\n",
    "\n",
    "#Merge bx\n",
    "ri_data_m = pd.merge(bx_df['Subject'], ri_data_avg, on = 'Subject', how='left')\n",
    "bx_df_avg = ri_data_m.sort_values(by='Subject').replace(np.nan, 0).drop('Subject', axis=1)\n",
    "bx_mat_avg = bx_df_avg.to_numpy()\n",
    "print(\"Behav data shape: {}\".format(bx_mat_avg.shape))\n",
    "\n",
    "bx_all = bx_df[['all_Summed_All']].replace(np.nan, 0).to_numpy().reshape(len(bx_df), )\n",
    "\n",
    "subids = mean_fa['Subject']\n",
    "\n",
    "#Write to CSV\n",
    "# bx_df.to_csv('~/PreDiss_Behav_Data_n{}_{}.csv'.format(len(bx_df), today))\n",
    "# audrey_dti = resid_fa_df[[\"Subject\", \"UF_left\", \"UF_right\"]]\n",
    "# audrey_dti.to_csv('~/AH_Senior_Thesis_DTI_UF_data.csv')\n",
    "bx_df.to_csv(datapath + '/LS_PreDiss_Sample_n{}_{}.csv'.format(len(bx_df), today))"
   ]
  },
  {
   "cell_type": "code",
   "execution_count": 12,
   "id": "adaptive-cambridge",
   "metadata": {},
   "outputs": [],
   "source": [
    "# audrey_dti = mean_fa[[\"Subject\", \"UF_left\", \"UF_right\"]]\n",
    "# audrey_dti.to_csv('~/AH_Thesis_DTI_FA_2021-04-03.csv')"
   ]
  },
  {
   "cell_type": "code",
   "execution_count": 13,
   "id": "structural-verification",
   "metadata": {},
   "outputs": [],
   "source": [
    "#Create bins for ages\n",
    "bx_df_avg['Early Childhood Threat'] = bx_df_avg.loc[:,\"threat_avg_sev\":\"threat_avg_sev.4\"].astype(float).sum(axis=1)\n",
    "bx_df_avg['Middle Childhood Threat'] = bx_df_avg.loc[:,\"threat_avg_sev.5\":\"threat_avg_sev.9\"].astype(float).sum(axis=1)\n",
    "bx_df_avg['Early Adolescence Threat'] = bx_df_avg.loc[:,\"threat_avg_sev.10\":\"threat_avg_sev.14\"].astype(float).sum(axis=1)\n",
    "bx_df_avg['Late Adolescence Threat'] = bx_df_avg.loc[:,\"threat_avg_sev.15\":\"threat_avg_sev.19\"].astype(float).sum(axis=1)\n",
    "\n",
    "bx_df_avg['Early Childhood Deprivation'] = bx_df_avg.loc[:,\"dep_avg_sev\":\"dep_avg_sev.4\"].astype(float).sum(axis=1)\n",
    "bx_df_avg['Middle Childhood Deprivation'] = bx_df_avg.loc[:,\"dep_avg_sev.5\":\"dep_avg_sev.9\"].astype(float).sum(axis=1)\n",
    "bx_df_avg['Early Adolescence Deprivation'] = bx_df_avg.loc[:,\"dep_avg_sev.10\":\"dep_avg_sev.14\"].astype(float).sum(axis=1)\n",
    "bx_df_avg['Late Adolescence Deprivation'] = bx_df_avg.loc[:,\"dep_avg_sev.15\":\"dep_avg_sev.19\"].astype(float).sum(axis=1)\n",
    "\n",
    "binned_bx = bx_df_avg.loc[:,'Early Childhood Threat':'Late Adolescence Deprivation']\n",
    "binned_bx_df = pd.concat([bx_df['Subject'], binned_bx], axis=1)\n",
    "binned_bx_mat = binned_bx.to_numpy()"
   ]
  },
  {
   "cell_type": "markdown",
   "id": "temporal-companion",
   "metadata": {},
   "source": [
    "### Visualization"
   ]
  },
  {
   "cell_type": "code",
   "execution_count": 14,
   "id": "centered-amino",
   "metadata": {},
   "outputs": [],
   "source": [
    "long_df = pd.melt(resid_fa_df, id_vars = 'Subject', var_name = 'Tract', value_name = 'Value')\n",
    "plotdf_long = pd.merge(long_df, bx_df)\n",
    "plotdf_wide = pd.merge(resid_fa_df, bx_df)\n",
    "\n",
    "# Clean outliers\n",
    "cleaned = plotdf_wide[plotdf_wide['UF_left'] > -0.3]\n",
    "cleaned = cleaned[cleaned['all_Summed_All'] < 700]"
   ]
  },
  {
   "cell_type": "code",
   "execution_count": 15,
   "id": "suspended-buffalo",
   "metadata": {},
   "outputs": [
    {
     "data": {
      "text/plain": [
       "<AxesSubplot:xlabel='threat_Summed_Threat', ylabel='UF_right'>"
      ]
     },
     "execution_count": 15,
     "metadata": {},
     "output_type": "execute_result"
    },
    {
     "data": {
      "image/png": "[encoded data removed]",
      "text/plain": [
       "<Figure size 432x288 with 1 Axes>"
      ]
     },
     "metadata": {
      "needs_background": "light"
     },
     "output_type": "display_data"
    }
   ],
   "source": [
    "#Boxplots\n",
    "sns.regplot(x=cleaned['threat_Summed_Threat'], y = cleaned['UF_left'])\n",
    "sns.regplot(x=cleaned['threat_Summed_Threat'], y = cleaned['UF_right'])"
   ]
  },
  {
   "cell_type": "code",
   "execution_count": 16,
   "id": "bacterial-mattress",
   "metadata": {},
   "outputs": [
    {
     "data": {
      "text/plain": [
       "<AxesSubplot:xlabel='sex', ylabel='UF_right'>"
      ]
     },
     "execution_count": 16,
     "metadata": {},
     "output_type": "execute_result"
    },
    {
     "data": {
      "image/png": "[encoded data removed]",
      "text/plain": [
       "<Figure size 432x288 with 1 Axes>"
      ]
     },
     "metadata": {
      "needs_background": "light"
     },
     "output_type": "display_data"
    }
   ],
   "source": [
    "sns.boxplot(x=cleaned['sex'], y = cleaned['UF_right'])"
   ]
  },
  {
   "cell_type": "markdown",
   "id": "broadband-privacy",
   "metadata": {},
   "source": [
    "### Demographics\n",
    "\n",
    "Female: 1.0\n",
    "Male: 0.0"
   ]
  },
  {
   "cell_type": "code",
   "execution_count": 17,
   "id": "entertaining-hawaii",
   "metadata": {},
   "outputs": [
    {
     "name": "stdout",
     "output_type": "stream",
     "text": [
      "66.265% Female; 33.735% Male\n"
     ]
    }
   ],
   "source": [
    "grouped_df = bx_df.groupby('sex').count()\n",
    "print(\"{}% Female; {}% Male\".format(round(grouped_df['asr_age'][1]/len(bx_df)*100, 3), \n",
    "                                    round(grouped_df['asr_age'][0]/len(bx_df)*100, 3)))"
   ]
  },
  {
   "cell_type": "markdown",
   "id": "atomic-degree",
   "metadata": {},
   "source": [
    "### CCA Analysis\n",
    "\n",
    "Settled on 7 CCA components and 5 clusters using elbow plots"
   ]
  },
  {
   "cell_type": "code",
   "execution_count": 18,
   "id": "automated-highlight",
   "metadata": {},
   "outputs": [],
   "source": [
    "from sklearn.cross_decomposition import CCA\n",
    "from sklearn.cluster import KMeans\n",
    "import rcca\n",
    "from cca_zoo import wrappers\n",
    "from cca_zoo import data\n",
    "from sklearn.model_selection import KFold, train_test_split"
   ]
  },
  {
   "cell_type": "code",
   "execution_count": 19,
   "id": "olive-netherlands",
   "metadata": {},
   "outputs": [],
   "source": [
    "# Set input data, and train/test splits\n",
    "\n",
    "sub_skf = bx_df['Subject']\n",
    "in_xmat = binned_bx_mat\n",
    "in_ymat = resid_fa_mat\n",
    "\n",
    "#Train/test data\n",
    "X_train, X_test, y_train, y_test = train_test_split(in_xmat, in_ymat, test_size=0.33, random_state=0)"
   ]
  },
  {
   "cell_type": "code",
   "execution_count": 20,
   "id": "conditional-violence",
   "metadata": {},
   "outputs": [],
   "source": [
    "# Settings\n",
    "\n",
    "# The number of latent dimensions across models\n",
    "latent_dims = 2\n",
    "# The number of folds used for cross-validation/hyperparameter tuning\n",
    "cv_folds = 3\n",
    "# For running hyperparameter tuning in parallel (0 if not)\n",
    "jobs = 2\n",
    "# Number of iterations for iterative algorithms\n",
    "max_iter = 10\n",
    "# number of epochs for deep models\n",
    "epochs = 50"
   ]
  },
  {
   "cell_type": "code",
   "execution_count": 21,
   "id": "occasional-strip",
   "metadata": {},
   "outputs": [
    {
     "name": "stdout",
     "output_type": "stream",
     "text": [
      "Trying 2 components\n",
      "Trying 3 components\n",
      "Trying 4 components\n",
      "Trying 5 components\n",
      "[[2, array([0.80595315, 0.80533155])], [3, array([0.80596404, 0.8053124 , 0.54872034])], [4, array([0.80595716, 0.8053322 , 0.54858331, 0.61147788])], [5, array([0.80596151, 0.80532577, 0.54866959, 0.61142141, 0.56721026])]]\n"
     ]
    }
   ],
   "source": [
    "### (Regularized) Generalized CCA via alternating least squares (can pass more than 2 views)\n",
    "results = []\n",
    "\n",
    "for i in range(2, 6):\n",
    "    print('Trying {} components'.format(i))\n",
    "    latent_dims = i\n",
    "    ecca = wrappers.ElasticCCA(latent_dims=latent_dims, max_iter=max_iter,c=[0.0001,0.0001],l1_ratio=[0.1,0.1])\n",
    "    ecca.fit(in_xmat, in_ymat)\n",
    "    ecca_results = ecca.train_correlations\n",
    "    results.append([i, ecca_results[0,1]])\n",
    "    ecca_results = np.stack((ecca.train_correlations[0, 1], ecca.predict_corr(X_test, y_test)[0, 1]))\n",
    "print(results)"
   ]
  },
  {
   "cell_type": "code",
   "execution_count": 22,
   "id": "spatial-event",
   "metadata": {},
   "outputs": [
    {
     "data": {
      "text/plain": [
       "Text(0, 0.5, 'Correlation Coefficient')"
      ]
     },
     "execution_count": 22,
     "metadata": {},
     "output_type": "execute_result"
    },
    {
     "data": {
      "image/png": "[encoded data removed]",
      "text/plain": [
       "<Figure size 432x288 with 1 Axes>"
      ]
     },
     "metadata": {
      "needs_background": "light"
     },
     "output_type": "display_data"
    }
   ],
   "source": [
    "ecca_mainmodel = wrappers.ElasticCCA(latent_dims=6, max_iter=max_iter,c=[0.0001,0.0001],l1_ratio=[0.1,0.1])\n",
    "ecca_mainmodel.fit(in_xmat, in_ymat)\n",
    "res_real = ecca_mainmodel.train_correlations[0, 1]\n",
    "res_real_df = pd.DataFrame(res_real).reset_index()\n",
    "p = sns.barplot(x = res_real_df['index'], y = res_real_df[0])\n",
    "p.set_xlabel('Number of Components')\n",
    "p.set_ylabel('Correlation Coefficient')"
   ]
  },
  {
   "cell_type": "code",
   "execution_count": 23,
   "id": "confident-married",
   "metadata": {},
   "outputs": [],
   "source": [
    "# Compute null distribution with shuffled data\n",
    "from sklearn.utils import resample\n",
    "import copy\n",
    "\n",
    "num_perm = 50\n",
    "results = []\n",
    "for i in range(0, num_perm):\n",
    "    ecca_shuff = wrappers.ElasticCCA(latent_dims=6, max_iter=max_iter,c=[0.0001,0.0001],l1_ratio=[0.1,0.1])\n",
    "    shuffled_xmat = resample(in_xmat, random_state = i, replace = False, n_samples = len(in_xmat))\n",
    "    ecca_shuff.fit(shuffled_xmat, in_ymat)\n",
    "    results.append(ecca_shuff.train_correlations[0, 1])\n"
   ]
  },
  {
   "cell_type": "code",
   "execution_count": 24,
   "id": "acoustic-hammer",
   "metadata": {},
   "outputs": [
    {
     "name": "stdout",
     "output_type": "stream",
     "text": [
      "Component 0: p=0.66\n",
      "Component 1: p=0.04\n",
      "Component 2: p=0.54\n",
      "Component 3: p=0.22\n",
      "Component 4: p=0.12\n",
      "Component 5: p=0.06\n"
     ]
    }
   ],
   "source": [
    "# Calculate permuted test results\n",
    "for i in range(0, 6):\n",
    "    real = res_real[i]\n",
    "    shuff = pd.DataFrame(results).iloc[:,i].to_numpy()\n",
    "    pval = len(np.where(shuff>=real)[0])/num_perm\n",
    "    print('Component {}: p={}'.format(i, round(pval,3)))"
   ]
  },
  {
   "cell_type": "code",
   "execution_count": 25,
   "id": "little-apache",
   "metadata": {},
   "outputs": [
    {
     "data": {
      "text/plain": [
       "Text(0.5, 1.0, 'Shuffled Results')"
      ]
     },
     "execution_count": 25,
     "metadata": {},
     "output_type": "execute_result"
    },
    {
     "data": {
      "image/png": "[encoded data removed]",
      "text/plain": [
       "<Figure size 432x288 with 1 Axes>"
      ]
     },
     "metadata": {
      "needs_background": "light"
     },
     "output_type": "display_data"
    }
   ],
   "source": [
    "res = pd.DataFrame(results).mean(axis=0).transpose().reset_index()\n",
    "p = sns.barplot(x = res['index'], y = res[0])\n",
    "p.set_title('Shuffled Results')"
   ]
  },
  {
   "cell_type": "code",
   "execution_count": 26,
   "id": "pressing-enterprise",
   "metadata": {},
   "outputs": [],
   "source": [
    "# Examine associations\n",
    "cca_X, cca_y = ecca_mainmodel.transform(in_xmat, in_ymat)\n",
    "all_cca_XY = np.concatenate([cca_X, cca_y], axis=1)\n",
    "cca_results = pd.DataFrame(all_cca_XY, columns = ['CCA_X1', 'CCA_X2', 'CCA_X3', 'CCA_X4',\n",
    "                                                  'CCA_X5', 'CCA_X6', 'CCA_Y1', 'CCA_Y2', 'CCA_Y3',\n",
    "                                                  'CCA_Y4', 'CCA_Y5', 'CCA_Y6'])\n",
    "cca_resdf = pd.concat([bx_df['Subject'], cca_results], axis=1)\n",
    "cca_mdf = pd.merge(resid_fa_df, cca_resdf, on = 'Subject')"
   ]
  },
  {
   "cell_type": "code",
   "execution_count": 27,
   "id": "norwegian-prague",
   "metadata": {},
   "outputs": [],
   "source": [
    "# #Plot associations\n",
    "# plt.figure(figsize=(10,8))\n",
    "# sns.scatterplot(x=\"CCA_X5\",\n",
    "#                 y=\"UF_left\", \n",
    "#                 hue=\"sex\", data=cca_mdf)\n",
    "# plt.title('First Pair of Canonical Covariates')"
   ]
  },
  {
   "cell_type": "code",
   "execution_count": 28,
   "id": "gothic-korea",
   "metadata": {},
   "outputs": [],
   "source": [
    "# # Examine in conjunction with other variables\n",
    "\n",
    "# sns.boxplot(x=\"Species\",\n",
    "#                 y=\"CCX_1\", \n",
    "#                data=cc_res)\n",
    "# sns.stripplot(x=\"Species\",\n",
    "#                 y=\"CCX_1\", \n",
    "#                  data=cc_res)"
   ]
  },
  {
   "cell_type": "code",
   "execution_count": 29,
   "id": "banner-blogger",
   "metadata": {},
   "outputs": [],
   "source": [
    "outputs = []\n",
    "in_xmat = bx_mat_avg\n",
    "in_ymat = resid_fa_mat\n",
    "n_iters = 10\n",
    "\n",
    "for i in range(1, n_iters):\n",
    "    ecca_clust = wrappers.ElasticCCA(latent_dims=6, max_iter=max_iter,c=[0.0001,0.0001],l1_ratio=[0.1,0.1])\n",
    "    ecca_clust.fit(in_xmat, in_ymat)\n",
    "    res = pd.DataFrame(ecca_clust.train_correlations[0, 1]).reset_index()\n",
    "\n",
    "    out_bx, out_dwi = ecca_clust.transform(in_xmat, in_ymat);\n",
    "    all_data = np.concatenate([out_bx, out_dwi], axis=1)\n",
    "        \n",
    "#     for j in range(1, 20):\n",
    "    cluster= KMeans(n_clusters = i, random_state=0)\n",
    "    cluster.fit(all_data);\n",
    "    outputs.append([i, cluster.inertia_])\n"
   ]
  },
  {
   "cell_type": "code",
   "execution_count": 30,
   "id": "agreed-cemetery",
   "metadata": {},
   "outputs": [],
   "source": [
    "elbow_df = pd.DataFrame(outputs, columns = ['i', 'inertia']).reset_index()"
   ]
  },
  {
   "cell_type": "code",
   "execution_count": 31,
   "id": "veterinary-technology",
   "metadata": {},
   "outputs": [
    {
     "name": "stderr",
     "output_type": "stream",
     "text": [
      "/gpfs/milgram/project/gee_dylan/lms233/conda_envs/mybrainiak/lib/python3.7/site-packages/seaborn/_decorators.py:43: FutureWarning: Pass the following variables as keyword args: x, y. From version 0.12, the only valid positional argument will be `data`, and passing other arguments without an explicit keyword will result in an error or misinterpretation.\n",
      "  FutureWarning\n"
     ]
    },
    {
     "data": {
      "image/png": "[encoded data removed]",
      "text/plain": [
       "<Figure size 1152x288 with 1 Axes>"
      ]
     },
     "metadata": {
      "needs_background": "light"
     },
     "output_type": "display_data"
    }
   ],
   "source": [
    "import matplotlib.pyplot as plt\n",
    "\n",
    "fig, ax = plt.subplots()\n",
    "p1 = sns.lineplot(elbow_df['i'], elbow_df['inertia'])\n",
    "plt.xticks(np.arange(0, n_iters, 1));\n",
    "fig.set_size_inches(16, 4)\n",
    "ax.set_axisbelow(True)\n",
    "ax.xaxis.grid(color='gray', linestyle='dashed')\n",
    "ax.yaxis.grid(color='gray', linestyle='dashed')"
   ]
  },
  {
   "cell_type": "code",
   "execution_count": 32,
   "id": "streaming-solid",
   "metadata": {},
   "outputs": [
    {
     "data": {
      "text/plain": [
       "SpectralClustering(n_clusters=3, random_state=1)"
      ]
     },
     "execution_count": 32,
     "metadata": {},
     "output_type": "execute_result"
    }
   ],
   "source": [
    "from sklearn.cluster import SpectralClustering\n",
    "\n",
    "# Final transformation\n",
    "ecca = wrappers.ElasticCCA(latent_dims= 5, max_iter=max_iter,c=[0.0001,0.0001],l1_ratio=[0.1,0.1])\n",
    "ecca.fit(in_xmat, in_ymat)\n",
    "res = pd.DataFrame(ecca.train_correlations[0, 1]).reset_index()\n",
    "\n",
    "out_bx, out_dwi = ecca.transform(in_xmat, in_ymat);\n",
    "all_data = np.concatenate([out_bx, out_dwi], axis=1)\n",
    "\n",
    "cluster= SpectralClustering(n_clusters = 3, random_state=1)\n",
    "cluster.fit(all_data)"
   ]
  },
  {
   "cell_type": "code",
   "execution_count": 33,
   "id": "enclosed-alexander",
   "metadata": {},
   "outputs": [
    {
     "name": "stdout",
     "output_type": "stream",
     "text": [
      "(83, 318)\n",
      "62\n",
      "8\n",
      "13\n",
      "0\n"
     ]
    }
   ],
   "source": [
    "#Add results to dataframe\n",
    "res_df = bx_df\n",
    "res_df['cluster_id'] = cluster.labels_\n",
    "all_df1 = pd.merge(mean_fa, res_df, on = 'Subject', how = 'left')\n",
    "all_df = pd.merge(all_df1, binned_bx_df, on = 'Subject')\n",
    "print(all_df.shape)\n",
    "\n",
    "#Separate by cluster\n",
    "clust1 = all_df[all_df['cluster_id'] == 0]\n",
    "clust2 = all_df[all_df['cluster_id'] == 1]\n",
    "clust3 = all_df[all_df['cluster_id'] == 2]\n",
    "clust4 = all_df[all_df['cluster_id'] == 3]\n",
    "# clust5 = all_df[all_df['cluster_id'] == 4]\n",
    "\n",
    "print(len(clust1))\n",
    "print(len(clust2))\n",
    "print(len(clust3))\n",
    "print(len(clust4))\n"
   ]
  },
  {
   "cell_type": "code",
   "execution_count": 34,
   "id": "atlantic-brooks",
   "metadata": {},
   "outputs": [
    {
     "name": "stdout",
     "output_type": "stream",
     "text": [
      "Cluster 0 vs cluster 0 Early Childhood Threat: 0.0, 1.0\n",
      "Cluster 0 vs cluster 0 Middle Childhood Threat: 0.0, 1.0\n",
      "Cluster 0 vs cluster 0 Adolescence Threat: 0.0, 1.0\n",
      "Cluster 0 vs cluster 0 Teen Threat: 0.0, 1.0\n",
      "Cluster 0 vs cluster 0 Early Childhood Dep: nan, nan\n",
      "Cluster 0 vs cluster 0 Middle Childhood Dep: 0.0, 1.0\n",
      "Cluster 0 vs cluster 0 Adolescence Dep: nan, nan\n",
      "Cluster 0 vs cluster 0 Teen Dep: 0.0, 1.0\n",
      "Cluster 0 vs cluster 0 LUF: 0.0, 1.0\n",
      "Cluster 0 vs cluster 0 RUF: 0.0, 1.0\n",
      "   \n",
      "   \n",
      "   \n",
      "Cluster 0 vs cluster 1 Early Childhood Threat: -2.594, 0.012\n",
      "Cluster 0 vs cluster 1 Middle Childhood Threat: -0.73, 0.468\n",
      "Cluster 0 vs cluster 1 Adolescence Threat: -2.252, 0.028\n",
      "Cluster 0 vs cluster 1 Teen Threat: -2.847, 0.006\n",
      "Cluster 0 vs cluster 1 Early Childhood Dep: nan, nan\n",
      "Cluster 0 vs cluster 1 Middle Childhood Dep: 0.357, 0.722\n",
      "Cluster 0 vs cluster 1 Adolescence Dep: -6.925, 0.0\n",
      "Cluster 0 vs cluster 1 Teen Dep: -4.983, 0.0\n",
      "Cluster 0 vs cluster 1 LUF: 0.478714, 0.634\n",
      "Cluster 0 vs cluster 1 RUF: 0.735068, 0.465\n",
      "   \n",
      "   \n",
      "   \n",
      "Cluster 0 vs cluster 2 Early Childhood Threat: -3.008, 0.004\n",
      "Cluster 0 vs cluster 2 Middle Childhood Threat: -3.189, 0.002\n",
      "Cluster 0 vs cluster 2 Adolescence Threat: -3.706, 0.0\n",
      "Cluster 0 vs cluster 2 Teen Threat: -5.907, 0.0\n",
      "Cluster 0 vs cluster 2 Early Childhood Dep: -2.243, 0.028\n",
      "Cluster 0 vs cluster 2 Middle Childhood Dep: -3.609, 0.001\n",
      "Cluster 0 vs cluster 2 Adolescence Dep: -3.395, 0.001\n",
      "Cluster 0 vs cluster 2 Teen Dep: -4.709, 0.0\n",
      "Cluster 0 vs cluster 2 LUF: -0.659612, 0.512\n",
      "Cluster 0 vs cluster 2 RUF: -0.610898, 0.543\n",
      "   \n",
      "   \n",
      "   \n",
      "Cluster 1 vs cluster 0 Early Childhood Threat: 2.594, 0.012\n",
      "Cluster 1 vs cluster 0 Middle Childhood Threat: 0.73, 0.468\n",
      "Cluster 1 vs cluster 0 Adolescence Threat: 2.252, 0.028\n",
      "Cluster 1 vs cluster 0 Teen Threat: 2.847, 0.006\n",
      "Cluster 1 vs cluster 0 Early Childhood Dep: nan, nan\n",
      "Cluster 1 vs cluster 0 Middle Childhood Dep: -0.357, 0.722\n",
      "Cluster 1 vs cluster 0 Adolescence Dep: 6.925, 0.0\n",
      "Cluster 1 vs cluster 0 Teen Dep: 4.983, 0.0\n",
      "Cluster 1 vs cluster 0 LUF: -0.478714, 0.634\n",
      "Cluster 1 vs cluster 0 RUF: -0.735068, 0.465\n",
      "   \n",
      "   \n",
      "   \n",
      "Cluster 1 vs cluster 1 Early Childhood Threat: 0.0, 1.0\n",
      "Cluster 1 vs cluster 1 Middle Childhood Threat: 0.0, 1.0\n",
      "Cluster 1 vs cluster 1 Adolescence Threat: 0.0, 1.0\n",
      "Cluster 1 vs cluster 1 Teen Threat: 0.0, 1.0\n",
      "Cluster 1 vs cluster 1 Early Childhood Dep: nan, nan\n",
      "Cluster 1 vs cluster 1 Middle Childhood Dep: nan, nan\n",
      "Cluster 1 vs cluster 1 Adolescence Dep: 0.0, 1.0\n",
      "Cluster 1 vs cluster 1 Teen Dep: 0.0, 1.0\n",
      "Cluster 1 vs cluster 1 LUF: 0.0, 1.0\n",
      "Cluster 1 vs cluster 1 RUF: 0.0, 1.0\n",
      "   \n",
      "   \n",
      "   \n",
      "Cluster 1 vs cluster 2 Early Childhood Threat: -0.96, 0.349\n",
      "Cluster 1 vs cluster 2 Middle Childhood Threat: -1.049, 0.308\n",
      "Cluster 1 vs cluster 2 Adolescence Threat: -0.9, 0.379\n",
      "Cluster 1 vs cluster 2 Teen Threat: -1.397, 0.178\n",
      "Cluster 1 vs cluster 2 Early Childhood Dep: -0.777, 0.447\n",
      "Cluster 1 vs cluster 2 Middle Childhood Dep: -1.278, 0.217\n",
      "Cluster 1 vs cluster 2 Adolescence Dep: -0.159, 0.875\n",
      "Cluster 1 vs cluster 2 Teen Dep: 0.019, 0.985\n",
      "Cluster 1 vs cluster 2 LUF: -1.059183, 0.303\n",
      "Cluster 1 vs cluster 2 RUF: -1.107799, 0.282\n",
      "   \n",
      "   \n",
      "   \n",
      "Cluster 2 vs cluster 0 Early Childhood Threat: 3.008, 0.004\n",
      "Cluster 2 vs cluster 0 Middle Childhood Threat: 3.189, 0.002\n",
      "Cluster 2 vs cluster 0 Adolescence Threat: 3.706, 0.0\n",
      "Cluster 2 vs cluster 0 Teen Threat: 5.907, 0.0\n",
      "Cluster 2 vs cluster 0 Early Childhood Dep: 2.243, 0.028\n",
      "Cluster 2 vs cluster 0 Middle Childhood Dep: 3.609, 0.001\n",
      "Cluster 2 vs cluster 0 Adolescence Dep: 3.395, 0.001\n",
      "Cluster 2 vs cluster 0 Teen Dep: 4.709, 0.0\n",
      "Cluster 2 vs cluster 0 LUF: 0.659612, 0.512\n",
      "Cluster 2 vs cluster 0 RUF: 0.610898, 0.543\n",
      "   \n",
      "   \n",
      "   \n",
      "Cluster 2 vs cluster 1 Early Childhood Threat: 0.96, 0.349\n",
      "Cluster 2 vs cluster 1 Middle Childhood Threat: 1.049, 0.308\n",
      "Cluster 2 vs cluster 1 Adolescence Threat: 0.9, 0.379\n",
      "Cluster 2 vs cluster 1 Teen Threat: 1.397, 0.178\n",
      "Cluster 2 vs cluster 1 Early Childhood Dep: 0.777, 0.447\n",
      "Cluster 2 vs cluster 1 Middle Childhood Dep: 1.278, 0.217\n",
      "Cluster 2 vs cluster 1 Adolescence Dep: 0.159, 0.875\n",
      "Cluster 2 vs cluster 1 Teen Dep: -0.019, 0.985\n",
      "Cluster 2 vs cluster 1 LUF: 1.059183, 0.303\n",
      "Cluster 2 vs cluster 1 RUF: 1.107799, 0.282\n",
      "   \n",
      "   \n",
      "   \n",
      "Cluster 2 vs cluster 2 Early Childhood Threat: 0.0, 1.0\n",
      "Cluster 2 vs cluster 2 Middle Childhood Threat: 0.0, 1.0\n",
      "Cluster 2 vs cluster 2 Adolescence Threat: 0.0, 1.0\n",
      "Cluster 2 vs cluster 2 Teen Threat: 0.0, 1.0\n",
      "Cluster 2 vs cluster 2 Early Childhood Dep: 0.0, 1.0\n",
      "Cluster 2 vs cluster 2 Middle Childhood Dep: 0.0, 1.0\n",
      "Cluster 2 vs cluster 2 Adolescence Dep: 0.0, 1.0\n",
      "Cluster 2 vs cluster 2 Teen Dep: 0.0, 1.0\n",
      "Cluster 2 vs cluster 2 LUF: 0.0, 1.0\n",
      "Cluster 2 vs cluster 2 RUF: 0.0, 1.0\n",
      "   \n",
      "   \n",
      "   \n"
     ]
    }
   ],
   "source": [
    "\n",
    "from scipy.stats import ttest_ind\n",
    "for i in range(0, 3):\n",
    "    for j in range(0, 3):\n",
    "        clusta = all_df[all_df['cluster_id'] == i]\n",
    "        clustb = all_df[all_df['cluster_id'] == j]\n",
    "        # Test diffs across stress\n",
    "        r1, p1 = ttest_ind(clusta['Early Childhood Threat'], clustb['Early Childhood Threat'], nan_policy='omit')\n",
    "        r2, p2 = ttest_ind(clusta['Middle Childhood Threat'], clustb['Middle Childhood Threat'], nan_policy='omit')\n",
    "        r3, p3 = ttest_ind(clusta['Early Adolescence Threat'], clustb['Early Adolescence Threat'], nan_policy='omit')\n",
    "        r4, p4 = ttest_ind(clusta['Late Adolescence Threat'], clustb['Late Adolescence Threat'], nan_policy='omit')\n",
    "        \n",
    "        r5, p5 = ttest_ind(clusta['Early Childhood Deprivation'], clustb['Early Childhood Deprivation'], nan_policy='omit')\n",
    "        r6, p6 = ttest_ind(clusta['Middle Childhood Deprivation'], clustb['Middle Childhood Deprivation'], nan_policy='omit')\n",
    "        r7, p7 = ttest_ind(clusta['Early Adolescence Deprivation'], clustb['Early Adolescence Deprivation'], nan_policy='omit')\n",
    "        r8, p8 = ttest_ind(clusta['Late Adolescence Deprivation'], clustb['Late Adolescence Deprivation'], nan_policy='omit')\n",
    "        \n",
    "        #Test diffs across wm structure\n",
    "        r9, p9 = ttest_ind(clusta['UF_right'], clustb['UF_right'])\n",
    "        r10, p10 = ttest_ind(clusta['UF_left'], clustb['UF_left'])\n",
    "\n",
    "        #Print results\n",
    "        print('Cluster {} vs cluster {} Early Childhood Threat: {}, {}'.format(i, j,round(r1, 3), round(p1, 3)))\n",
    "        print('Cluster {} vs cluster {} Middle Childhood Threat: {}, {}'.format(i, j,round(r2, 3), round(p2, 3)))\n",
    "        print('Cluster {} vs cluster {} Adolescence Threat: {}, {}'.format(i, j,round(r3, 3), round(p3, 3)))\n",
    "        print('Cluster {} vs cluster {} Teen Threat: {}, {}'.format(i, j,round(r4, 3), round(p4, 3)))\n",
    "        \n",
    "        print('Cluster {} vs cluster {} Early Childhood Dep: {}, {}'.format(i, j,round(r5, 3), round(p5, 3)))\n",
    "        print('Cluster {} vs cluster {} Middle Childhood Dep: {}, {}'.format(i, j,round(r6, 3), round(p6, 3)))\n",
    "        print('Cluster {} vs cluster {} Adolescence Dep: {}, {}'.format(i, j,round(r7, 3), round(p7, 3)))\n",
    "        print('Cluster {} vs cluster {} Teen Dep: {}, {}'.format(i, j,round(r8, 3), round(p8, 3)))\n",
    "        \n",
    "        print('Cluster {} vs cluster {} LUF: {}, {}'.format(i, j,round(r9, 6), round(p9, 3)))\n",
    "        print('Cluster {} vs cluster {} RUF: {}, {}'.format(i, j,round(r10, 6), round(p10, 3)))\n",
    "        print('   ')\n",
    "        print('   ')\n",
    "        print('   ')"
   ]
  },
  {
   "cell_type": "code",
   "execution_count": 35,
   "id": "cooperative-creature",
   "metadata": {},
   "outputs": [],
   "source": [
    "#Tract naming\n",
    "tract_dict = {'AF_left':'Arcuate fascicle left',\n",
    "              'AF_right':'Arcuate fascicle right',\n",
    "              'ATR_left':'Anterior Thalamic Radiation left',\n",
    "              'ATR_right':'Anterior Thalamic Radiation right',\n",
    "              'CA':'Commissure Anterior',\n",
    "              'CC_1':'Corpus Callosum Rostrum',\n",
    "              'CC_2':'Corpus Callosum Genu',\n",
    "              'CC_3':'Corpus Callosum Rostral body (Premotor)',\n",
    "              'CC_4':'Corpus Callosum Anterior midbody (Primary Motor)',\n",
    "              'CC_5':'Corpus Callosum Posterior midbody (Primary Somatosensory)',\n",
    "              'CC_6':'Corpus Callosum Isthmus',\n",
    "              'CC_7':'Corpus Callosum Splenium',\n",
    "              'CG_left':'Cingulum left',\n",
    "              'CG_right':'Cingulum right',\n",
    "              'CST_left':'Corticospinal tract left',\n",
    "              'CST_right':'Corticospinal tract right',\n",
    "              'MLF_left': 'Middle longitudinal fascicle left',\n",
    "              'MLF_right':'Middle longitudinal fascicle right',\n",
    "              'FPT_left':'Fronto-pontine tract left',\n",
    "              'FPT_right':'Fronto-pontine tract right',\n",
    "              'FX_left':'Fornix left',\n",
    "              'FX_right':'Fornix right',\n",
    "              'ICP_left':'Inferior cerebellar peduncle left',\n",
    "              'ICP_right':'Inferior cerebellar peduncle right',\n",
    "              'IFO_left':'Inferior occipito-frontal fascicle left', \n",
    "              'IFO_right':'Inferior occipito-frontal fascicle right', \n",
    "              'ILF_left':'Inferior longitudinal fascicle left',\n",
    "              'ILF_right':'Inferior longitudinal fascicle right',\n",
    "              'MCP':'Middle cerebellar peduncle',\n",
    "              'OR_left': 'Optic radiation left', \n",
    "              'OR_right': 'Optic radiation right', \n",
    "              'POPT_left': 'Parieto‐occipital pontine left',\n",
    "              'POPT_right':'Parieto‐occipital pontine right',\n",
    "              'SCP_left':'Superior cerebellar peduncle left',\n",
    "              'SCP_right':'Superior cerebellar peduncle right',\n",
    "              'SLF_I_left':'Superior longitudinal fascicle I left',\n",
    "              'SLF_I_right':'Superior longitudinal fascicle I right',\n",
    "              'SLF_II_left':'Superior longitudinal fascicle II left',\n",
    "              'SLF_II_right':'Superior longitudinal fascicle II right',\n",
    "              'SLF_III_left': 'Superior longitudinal fascicle III left',\n",
    "              'SLF_III_right':'Superior longitudinal fascicle III right',\n",
    "              'STR_left':'Superior Thalamic Radiation left',\n",
    "              'STR_right':'Superior Thalamic Radiation right',\n",
    "              'UF_left': 'Uncinate fascicle left',\n",
    "              'UF_right': 'Uncinate fascicle right',\n",
    "              'CC':'Corpus Callosum - all',\n",
    "              'T_PREF_left':'Thalamo-prefrontal left',\n",
    "              'T_PREF_right':'Thalamo-prefrontal right',\n",
    "              'T_PREM_left':'Thalamo-premotor left',\n",
    "              'T_PREM_right':'Thalamo-premotor right',\n",
    "              'T_PREC_left':'Thalamo-precentral left',\n",
    "              'T_PREC_right':'Thalamo-precentral right',\n",
    "              'T_POSTC_left':'Thalamo-postcentral left',\n",
    "              'T_POSTC_right':'Thalamo-postcentral right',\n",
    "              'T_PAR_left':'Thalamo-parietal left',\n",
    "              'T_PAR_right':'Thalamo-parietal right',\n",
    "              'T_OCC_left':'Thalamo-occipital left',\n",
    "              'T_OCC_right':'Thalamo-occipital right',\n",
    "              'ST_FO_left':'Striato-fronto-orbital left',\n",
    "              'ST_FO_right':'Striato-fronto-orbital right',\n",
    "              'ST_PREF_left':'Striato-prefrontal left',\n",
    "              'ST_PREF_right':'Striato-prefrontal right',\n",
    "              'ST_PREM_left':'Striato-premotor left',\n",
    "              'ST_PREM_right':'Striato-premotor right',\n",
    "              'ST_PREC_left':'Striato-precentral left',\n",
    "              'ST_PREC_right':'Striato-precentral right',\n",
    "              'ST_POSTC_left':'Striato-postcentral left',\n",
    "              'ST_POSTC_right':'Striato-postcentral right',\n",
    "              'ST_PAR_left':'Striato-parietal left',\n",
    "              'ST_PAR_right':'Striato-parietal right',\n",
    "              'ST_OCC_left':'Striato-occipital left',\n",
    "              'ST_OCC_right':'Striato-occipital right'}\n",
    "\n",
    "tract_dict_nohems = copy.deepcopy(tract_dict)\n",
    "for key, value in tract_dict_nohems.items():\n",
    "    # Remove left/right\n",
    "    tract_dict_nohems[key] = value.replace('left','').replace('right','')"
   ]
  },
  {
   "cell_type": "code",
   "execution_count": 72,
   "id": "first-romania",
   "metadata": {},
   "outputs": [],
   "source": [
    "# Spider Plots\n",
    "\n",
    "# Stress DF\n",
    "spider_df = all_df.loc[:,'Early Childhood Threat':'Late Adolescence Deprivation']\n",
    "spider_df['Group'] = all_df['cluster_id']\n",
    "spider_df['Group'] = spider_df['Group'] +1\n",
    "spider_df_grouped = pd.melt(spider_df, id_vars = 'Group', var_name = 'Exposure', value_name = 'Value')\n",
    "spider_plottingdf = spider_df_grouped.groupby(['Exposure', 'Group']).mean().reset_index()\n",
    "\n",
    "# DWI DF\n",
    "spider_dwi = resid_fa_df.drop('Subject', axis=1)\n",
    "spider_dwi['Group'] = all_df['cluster_id']\n",
    "\n",
    "#Replace column names\n",
    "spider_dwi.shape\n",
    "newcols = pd.Series(spider_dwi.columns).replace(tract_dict)\n",
    "spider_dwi.columns = newcols\n",
    "spider_dwi['Group'] = spider_dwi['Group'] +1\n",
    "plot_dwi = spider_dwi.melt(id_vars = 'Group', var_name = 'Tract', value_name = 'Value')\n",
    "dwi_plottingdf = plot_dwi.groupby(['Tract', 'Group']).mean().reset_index()\n",
    "\n",
    "#Split into LR hemis\n",
    "hemi = []\n",
    "for i in range(0, len(dwi_plottingdf)):\n",
    "    x =  dwi_plottingdf['Tract'][i]\n",
    "    hemi.append(x.split(' ')[-1])\n",
    "    \n",
    "dwi_plottingdf['Hemi'] = hemi\n",
    "left_plottingdf = dwi_plottingdf[dwi_plottingdf['Hemi'] == 'left']\n",
    "right_plottingdf = dwi_plottingdf[dwi_plottingdf['Hemi'] == 'right']\n",
    "center_plottingdf = dwi_plottingdf[dwi_plottingdf['Hemi'] != 'right']\n",
    "center_plottingdf = center_plottingdf[center_plottingdf['Hemi'] != 'left']\n",
    "\n",
    "#All; separate into clusters\n",
    "clust_plot1 = spider_plottingdf[spider_plottingdf['Group'] == 0] #.reindex([6, 10, 2, 14, 4, 8, 0, 12])\n",
    "clust_plot2 = spider_plottingdf[spider_plottingdf['Group'] == 1] #.reindex([7, 11, 3, 15, 5, 9, 1, 13])\n",
    "clust_plot3 = spider_plottingdf[spider_plottingdf['Group'] == 2] #.reindex([8, 12, 4, 16, 6, 10, 2, 14])\n",
    "\n",
    "dwi_plot1 = dwi_plottingdf[dwi_plottingdf['Group'] == 0] #.reindex([6, 10, 2, 14, 4, 8, 0, 12])\n",
    "dwi_plot2 = dwi_plottingdf[dwi_plottingdf['Group'] == 1] #.reindex([7, 11, 3, 15, 5, 9, 1, 13])\n",
    "dwi_plot3 = dwi_plottingdf[dwi_plottingdf['Group'] == 2] #.reindex([8, 12, 4, 16, 6, 10, 2, 14])"
   ]
  },
  {
   "cell_type": "code",
   "execution_count": 68,
   "id": "brutal-savings",
   "metadata": {},
   "outputs": [],
   "source": [
    "# Anova to test diffs in tracts\n",
    "from scipy.stats import f_oneway\n",
    "\n",
    "g1 = spider_dwi[spider_dwi['Group'] == 1].drop('Group', axis=1).to_numpy()\n",
    "g2 = spider_dwi[spider_dwi['Group'] == 2].drop('Group', axis=1).to_numpy()\n",
    "g3 = spider_dwi[spider_dwi['Group'] == 3].drop('Group', axis=1).to_numpy()\n",
    "\n",
    "dwistat, dwip = f_oneway(g1, g2, g3, axis=0)\n",
    "\n",
    "gs1 = spider_df[spider_df['Group'] == 1].drop('Group', axis=1).to_numpy()\n",
    "gs2 = spider_df[spider_df['Group'] == 2].drop('Group', axis=1).to_numpy()\n",
    "gs3 = spider_df[spider_df['Group'] == 3].drop('Group', axis=1).to_numpy()\n",
    "\n",
    "stressstat, stressp = f_oneway(gs1, gs2, gs3, axis=0)"
   ]
  },
  {
   "cell_type": "code",
   "execution_count": 69,
   "id": "desperate-split",
   "metadata": {},
   "outputs": [
    {
     "data": {
      "text/html": [
       "<div>\n",
       "<style scoped>\n",
       "    .dataframe tbody tr th:only-of-type {\n",
       "        vertical-align: middle;\n",
       "    }\n",
       "\n",
       "    .dataframe tbody tr th {\n",
       "        vertical-align: top;\n",
       "    }\n",
       "\n",
       "    .dataframe thead th {\n",
       "        text-align: right;\n",
       "    }\n",
       "</style>\n",
       "<table border=\"1\" class=\"dataframe\">\n",
       "  <thead>\n",
       "    <tr style=\"text-align: right;\">\n",
       "      <th></th>\n",
       "      <th>f-stat</th>\n",
       "      <th>p-value</th>\n",
       "      <th>fdr-corrected</th>\n",
       "    </tr>\n",
       "  </thead>\n",
       "  <tbody>\n",
       "    <tr>\n",
       "      <th>Fronto-pontine tract left</th>\n",
       "      <td>8.085075</td>\n",
       "      <td>0.000634</td>\n",
       "      <td>0.031693</td>\n",
       "    </tr>\n",
       "    <tr>\n",
       "      <th>Cingulum right</th>\n",
       "      <td>7.247361</td>\n",
       "      <td>0.001280</td>\n",
       "      <td>0.032006</td>\n",
       "    </tr>\n",
       "    <tr>\n",
       "      <th>Corticospinal tract left</th>\n",
       "      <td>5.149952</td>\n",
       "      <td>0.007872</td>\n",
       "      <td>0.082441</td>\n",
       "    </tr>\n",
       "    <tr>\n",
       "      <th>Superior cerebellar peduncle right</th>\n",
       "      <td>5.315986</td>\n",
       "      <td>0.006797</td>\n",
       "      <td>0.082441</td>\n",
       "    </tr>\n",
       "    <tr>\n",
       "      <th>Thalamo-premotor left</th>\n",
       "      <td>5.097909</td>\n",
       "      <td>0.008244</td>\n",
       "      <td>0.082441</td>\n",
       "    </tr>\n",
       "    <tr>\n",
       "      <th>Thalamo-parietal right</th>\n",
       "      <td>4.499412</td>\n",
       "      <td>0.014068</td>\n",
       "      <td>0.117232</td>\n",
       "    </tr>\n",
       "    <tr>\n",
       "      <th>Anterior Thalamic Radiation left</th>\n",
       "      <td>3.925795</td>\n",
       "      <td>0.023638</td>\n",
       "      <td>0.168844</td>\n",
       "    </tr>\n",
       "    <tr>\n",
       "      <th>Anterior Thalamic Radiation right</th>\n",
       "      <td>3.778982</td>\n",
       "      <td>0.027025</td>\n",
       "      <td>0.168909</td>\n",
       "    </tr>\n",
       "    <tr>\n",
       "      <th>Parieto‐occipital pontine right</th>\n",
       "      <td>3.476378</td>\n",
       "      <td>0.035667</td>\n",
       "      <td>0.187341</td>\n",
       "    </tr>\n",
       "    <tr>\n",
       "      <th>Thalamo-premotor right</th>\n",
       "      <td>3.319518</td>\n",
       "      <td>0.041215</td>\n",
       "      <td>0.187341</td>\n",
       "    </tr>\n",
       "    <tr>\n",
       "      <th>Striato-fronto-orbital right</th>\n",
       "      <td>3.329179</td>\n",
       "      <td>0.040849</td>\n",
       "      <td>0.187341</td>\n",
       "    </tr>\n",
       "    <tr>\n",
       "      <th>Superior longitudinal fascicle I left</th>\n",
       "      <td>3.106944</td>\n",
       "      <td>0.050178</td>\n",
       "      <td>0.199887</td>\n",
       "    </tr>\n",
       "  </tbody>\n",
       "</table>\n",
       "</div>"
      ],
      "text/plain": [
       "                                         f-stat   p-value  fdr-corrected\n",
       "Fronto-pontine tract left              8.085075  0.000634       0.031693\n",
       "Cingulum right                         7.247361  0.001280       0.032006\n",
       "Corticospinal tract left               5.149952  0.007872       0.082441\n",
       "Superior cerebellar peduncle right     5.315986  0.006797       0.082441\n",
       "Thalamo-premotor left                  5.097909  0.008244       0.082441\n",
       "Thalamo-parietal right                 4.499412  0.014068       0.117232\n",
       "Anterior Thalamic Radiation left       3.925795  0.023638       0.168844\n",
       "Anterior Thalamic Radiation right      3.778982  0.027025       0.168909\n",
       "Parieto‐occipital pontine right        3.476378  0.035667       0.187341\n",
       "Thalamo-premotor right                 3.319518  0.041215       0.187341\n",
       "Striato-fronto-orbital right           3.329179  0.040849       0.187341\n",
       "Superior longitudinal fascicle I left  3.106944  0.050178       0.199887"
      ]
     },
     "execution_count": 69,
     "metadata": {},
     "output_type": "execute_result"
    }
   ],
   "source": [
    "anova_res_dwi = pd.DataFrame(dwistat, index = spider_dwi.columns[0:50], columns = ['f-stat'])\n",
    "anova_res_dwi['p-value'] = dwip\n",
    "anova_res_dwi['fdr-corrected'] = fdrcorr(anova_res_dwi['p-value'].T, alpha=0.05, method='indep', is_sorted=False)[1]\n",
    "anova_res_dwi[anova_res_dwi['p-value'] < 0.051].sort_values(by='fdr-corrected')\n",
    "\n",
    "# anova_res_stress = pd.DataFrame(stressstat, index = spider_df.columns[0:8], columns = ['f-stat'])\n",
    "# anova_res_stress['p-value'] = stressp\n",
    "# anova_res_stress['fdr-corrected'] = fdrcorr(anova_res_stress['p-value'].T, alpha=0.05, method='indep', is_sorted=False)[1]\n",
    "# anova_res_stress[anova_res_stress['p-value'] < 0.051]"
   ]
  },
  {
   "cell_type": "code",
   "execution_count": 79,
   "id": "rotary-favor",
   "metadata": {},
   "outputs": [],
   "source": [
    "spider_plottingdf = spider_plottingdf.reindex([6, 7, 8, 9, 10, 11,\n",
    "                                               18, 19, 20, 21, 22, 23, \n",
    "                                               0, 1, 2, 3, 4, 5, \n",
    "                                               12, 13, 14, 15,16, 17]).reset_index().drop('index', axis=1)"
   ]
  },
  {
   "cell_type": "code",
   "execution_count": 80,
   "id": "limiting-ribbon",
   "metadata": {},
   "outputs": [
    {
     "data": {
      "application/vnd.plotly.v1+json": {
       "config": {
        "plotlyServerURL": "https://plot.ly"
       },
       "data": [
        {
         "hovertemplate": "Group=1<br>Value=%{r}<br>Exposure=%{theta}<extra></extra>",
         "legendgroup": "1",
         "line": {
          "color": "rgb(136, 204, 238)",
          "dash": "solid"
         },
         "mode": "lines",
         "name": "1",
         "r": [
          0,
          0.04838709677419355,
          0.12903225806451613,
          1.1129032258064515,
          0,
          2.2983870967741935,
          0.3870967741935484,
          4.120967741935484,
          0
         ],
         "showlegend": true,
         "subplot": "polar",
         "theta": [
          "Early Childhood Deprivation",
          "Early Childhood Threat",
          "Middle Childhood Deprivation",
          "Middle Childhood Threat",
          "Early Adolescence Deprivation",
          "Early Adolescence Threat",
          "Late Adolescence Deprivation",
          "Late Adolescence Threat",
          "Early Childhood Deprivation"
         ],
         "type": "scatterpolar"
        },
        {
         "hovertemplate": "Group=2<br>Value=%{r}<br>Exposure=%{theta}<extra></extra>",
         "legendgroup": "2",
         "line": {
          "color": "rgb(204, 102, 119)",
          "dash": "solid"
         },
         "mode": "lines",
         "name": "2",
         "r": [
          0,
          1,
          0,
          2.25,
          5.9375,
          8,
          10.5625,
          13.6875,
          0
         ],
         "showlegend": true,
         "subplot": "polar",
         "theta": [
          "Early Childhood Deprivation",
          "Early Childhood Threat",
          "Middle Childhood Deprivation",
          "Middle Childhood Threat",
          "Early Adolescence Deprivation",
          "Early Adolescence Threat",
          "Late Adolescence Deprivation",
          "Late Adolescence Threat",
          "Early Childhood Deprivation"
         ],
         "type": "scatterpolar"
        },
        {
         "hovertemplate": "Group=3<br>Value=%{r}<br>Exposure=%{theta}<extra></extra>",
         "legendgroup": "3",
         "line": {
          "color": "rgb(221, 204, 119)",
          "dash": "solid"
         },
         "mode": "lines",
         "name": "3",
         "r": [
          4.615384615384615,
          12.461538461538462,
          8.615384615384615,
          14.23076923076923,
          6.923076923076923,
          18.923076923076923,
          10.423076923076923,
          29.25,
          4.615384615384615
         ],
         "showlegend": true,
         "subplot": "polar",
         "theta": [
          "Early Childhood Deprivation",
          "Early Childhood Threat",
          "Middle Childhood Deprivation",
          "Middle Childhood Threat",
          "Early Adolescence Deprivation",
          "Early Adolescence Threat",
          "Late Adolescence Deprivation",
          "Late Adolescence Threat",
          "Early Childhood Deprivation"
         ],
         "type": "scatterpolar"
        }
       ],
       "layout": {
        "legend": {
         "title": {
          "text": "Group"
         },
         "tracegroupgap": 0
        },
        "margin": {
         "t": 60
        },
        "polar": {
         "angularaxis": {
          "direction": "clockwise",
          "rotation": 90
         },
         "domain": {
          "x": [
           0,
           1
          ],
          "y": [
           0,
           1
          ]
         }
        },
        "template": {
         "data": {
          "bar": [
           {
            "error_x": {
             "color": "#2a3f5f"
            },
            "error_y": {
             "color": "#2a3f5f"
            },
            "marker": {
             "line": {
              "color": "#E5ECF6",
              "width": 0.5
             }
            },
            "type": "bar"
           }
          ],
          "barpolar": [
           {
            "marker": {
             "line": {
              "color": "#E5ECF6",
              "width": 0.5
             }
            },
            "type": "barpolar"
           }
          ],
          "carpet": [
           {
            "aaxis": {
             "endlinecolor": "#2a3f5f",
             "gridcolor": "white",
             "linecolor": "white",
             "minorgridcolor": "white",
             "startlinecolor": "#2a3f5f"
            },
            "baxis": {
             "endlinecolor": "#2a3f5f",
             "gridcolor": "white",
             "linecolor": "white",
             "minorgridcolor": "white",
             "startlinecolor": "#2a3f5f"
            },
            "type": "carpet"
           }
          ],
          "choropleth": [
           {
            "colorbar": {
             "outlinewidth": 0,
             "ticks": ""
            },
            "type": "choropleth"
           }
          ],
          "contour": [
           {
            "colorbar": {
             "outlinewidth": 0,
             "ticks": ""
            },
            "colorscale": [
             [
              0,
              "#0d0887"
             ],
             [
              0.1111111111111111,
              "#46039f"
             ],
             [
              0.2222222222222222,
              "#7201a8"
             ],
             [
              0.3333333333333333,
              "#9c179e"
             ],
             [
              0.4444444444444444,
              "#bd3786"
             ],
             [
              0.5555555555555556,
              "#d8576b"
             ],
             [
              0.6666666666666666,
              "#ed7953"
             ],
             [
              0.7777777777777778,
              "#fb9f3a"
             ],
             [
              0.8888888888888888,
              "#fdca26"
             ],
             [
              1,
              "#f0f921"
             ]
            ],
            "type": "contour"
           }
          ],
          "contourcarpet": [
           {
            "colorbar": {
             "outlinewidth": 0,
             "ticks": ""
            },
            "type": "contourcarpet"
           }
          ],
          "heatmap": [
           {
            "colorbar": {
             "outlinewidth": 0,
             "ticks": ""
            },
            "colorscale": [
             [
              0,
              "#0d0887"
             ],
             [
              0.1111111111111111,
              "#46039f"
             ],
             [
              0.2222222222222222,
              "#7201a8"
             ],
             [
              0.3333333333333333,
              "#9c179e"
             ],
             [
              0.4444444444444444,
              "#bd3786"
             ],
             [
              0.5555555555555556,
              "#d8576b"
             ],
             [
              0.6666666666666666,
              "#ed7953"
             ],
             [
              0.7777777777777778,
              "#fb9f3a"
             ],
             [
              0.8888888888888888,
              "#fdca26"
             ],
             [
              1,
              "#f0f921"
             ]
            ],
            "type": "heatmap"
           }
          ],
          "heatmapgl": [
           {
            "colorbar": {
             "outlinewidth": 0,
             "ticks": ""
            },
            "colorscale": [
             [
              0,
              "#0d0887"
             ],
             [
              0.1111111111111111,
              "#46039f"
             ],
             [
              0.2222222222222222,
              "#7201a8"
             ],
             [
              0.3333333333333333,
              "#9c179e"
             ],
             [
              0.4444444444444444,
              "#bd3786"
             ],
             [
              0.5555555555555556,
              "#d8576b"
             ],
             [
              0.6666666666666666,
              "#ed7953"
             ],
             [
              0.7777777777777778,
              "#fb9f3a"
             ],
             [
              0.8888888888888888,
              "#fdca26"
             ],
             [
              1,
              "#f0f921"
             ]
            ],
            "type": "heatmapgl"
           }
          ],
          "histogram": [
           {
            "marker": {
             "colorbar": {
              "outlinewidth": 0,
              "ticks": ""
             }
            },
            "type": "histogram"
           }
          ],
          "histogram2d": [
           {
            "colorbar": {
             "outlinewidth": 0,
             "ticks": ""
            },
            "colorscale": [
             [
              0,
              "#0d0887"
             ],
             [
              0.1111111111111111,
              "#46039f"
             ],
             [
              0.2222222222222222,
              "#7201a8"
             ],
             [
              0.3333333333333333,
              "#9c179e"
             ],
             [
              0.4444444444444444,
              "#bd3786"
             ],
             [
              0.5555555555555556,
              "#d8576b"
             ],
             [
              0.6666666666666666,
              "#ed7953"
             ],
             [
              0.7777777777777778,
              "#fb9f3a"
             ],
             [
              0.8888888888888888,
              "#fdca26"
             ],
             [
              1,
              "#f0f921"
             ]
            ],
            "type": "histogram2d"
           }
          ],
          "histogram2dcontour": [
           {
            "colorbar": {
             "outlinewidth": 0,
             "ticks": ""
            },
            "colorscale": [
             [
              0,
              "#0d0887"
             ],
             [
              0.1111111111111111,
              "#46039f"
             ],
             [
              0.2222222222222222,
              "#7201a8"
             ],
             [
              0.3333333333333333,
              "#9c179e"
             ],
             [
              0.4444444444444444,
              "#bd3786"
             ],
             [
              0.5555555555555556,
              "#d8576b"
             ],
             [
              0.6666666666666666,
              "#ed7953"
             ],
             [
              0.7777777777777778,
              "#fb9f3a"
             ],
             [
              0.8888888888888888,
              "#fdca26"
             ],
             [
              1,
              "#f0f921"
             ]
            ],
            "type": "histogram2dcontour"
           }
          ],
          "mesh3d": [
           {
            "colorbar": {
             "outlinewidth": 0,
             "ticks": ""
            },
            "type": "mesh3d"
           }
          ],
          "parcoords": [
           {
            "line": {
             "colorbar": {
              "outlinewidth": 0,
              "ticks": ""
             }
            },
            "type": "parcoords"
           }
          ],
          "pie": [
           {
            "automargin": true,
            "type": "pie"
           }
          ],
          "scatter": [
           {
            "marker": {
             "colorbar": {
              "outlinewidth": 0,
              "ticks": ""
             }
            },
            "type": "scatter"
           }
          ],
          "scatter3d": [
           {
            "line": {
             "colorbar": {
              "outlinewidth": 0,
              "ticks": ""
             }
            },
            "marker": {
             "colorbar": {
              "outlinewidth": 0,
              "ticks": ""
             }
            },
            "type": "scatter3d"
           }
          ],
          "scattercarpet": [
           {
            "marker": {
             "colorbar": {
              "outlinewidth": 0,
              "ticks": ""
             }
            },
            "type": "scattercarpet"
           }
          ],
          "scattergeo": [
           {
            "marker": {
             "colorbar": {
              "outlinewidth": 0,
              "ticks": ""
             }
            },
            "type": "scattergeo"
           }
          ],
          "scattergl": [
           {
            "marker": {
             "colorbar": {
              "outlinewidth": 0,
              "ticks": ""
             }
            },
            "type": "scattergl"
           }
          ],
          "scattermapbox": [
           {
            "marker": {
             "colorbar": {
              "outlinewidth": 0,
              "ticks": ""
             }
            },
            "type": "scattermapbox"
           }
          ],
          "scatterpolar": [
           {
            "marker": {
             "colorbar": {
              "outlinewidth": 0,
              "ticks": ""
             }
            },
            "type": "scatterpolar"
           }
          ],
          "scatterpolargl": [
           {
            "marker": {
             "colorbar": {
              "outlinewidth": 0,
              "ticks": ""
             }
            },
            "type": "scatterpolargl"
           }
          ],
          "scatterternary": [
           {
            "marker": {
             "colorbar": {
              "outlinewidth": 0,
              "ticks": ""
             }
            },
            "type": "scatterternary"
           }
          ],
          "surface": [
           {
            "colorbar": {
             "outlinewidth": 0,
             "ticks": ""
            },
            "colorscale": [
             [
              0,
              "#0d0887"
             ],
             [
              0.1111111111111111,
              "#46039f"
             ],
             [
              0.2222222222222222,
              "#7201a8"
             ],
             [
              0.3333333333333333,
              "#9c179e"
             ],
             [
              0.4444444444444444,
              "#bd3786"
             ],
             [
              0.5555555555555556,
              "#d8576b"
             ],
             [
              0.6666666666666666,
              "#ed7953"
             ],
             [
              0.7777777777777778,
              "#fb9f3a"
             ],
             [
              0.8888888888888888,
              "#fdca26"
             ],
             [
              1,
              "#f0f921"
             ]
            ],
            "type": "surface"
           }
          ],
          "table": [
           {
            "cells": {
             "fill": {
              "color": "#EBF0F8"
             },
             "line": {
              "color": "white"
             }
            },
            "header": {
             "fill": {
              "color": "#C8D4E3"
             },
             "line": {
              "color": "white"
             }
            },
            "type": "table"
           }
          ]
         },
         "layout": {
          "annotationdefaults": {
           "arrowcolor": "#2a3f5f",
           "arrowhead": 0,
           "arrowwidth": 1
          },
          "autotypenumbers": "strict",
          "coloraxis": {
           "colorbar": {
            "outlinewidth": 0,
            "ticks": ""
           }
          },
          "colorscale": {
           "diverging": [
            [
             0,
             "#8e0152"
            ],
            [
             0.1,
             "#c51b7d"
            ],
            [
             0.2,
             "#de77ae"
            ],
            [
             0.3,
             "#f1b6da"
            ],
            [
             0.4,
             "#fde0ef"
            ],
            [
             0.5,
             "#f7f7f7"
            ],
            [
             0.6,
             "#e6f5d0"
            ],
            [
             0.7,
             "#b8e186"
            ],
            [
             0.8,
             "#7fbc41"
            ],
            [
             0.9,
             "#4d9221"
            ],
            [
             1,
             "#276419"
            ]
           ],
           "sequential": [
            [
             0,
             "#0d0887"
            ],
            [
             0.1111111111111111,
             "#46039f"
            ],
            [
             0.2222222222222222,
             "#7201a8"
            ],
            [
             0.3333333333333333,
             "#9c179e"
            ],
            [
             0.4444444444444444,
             "#bd3786"
            ],
            [
             0.5555555555555556,
             "#d8576b"
            ],
            [
             0.6666666666666666,
             "#ed7953"
            ],
            [
             0.7777777777777778,
             "#fb9f3a"
            ],
            [
             0.8888888888888888,
             "#fdca26"
            ],
            [
             1,
             "#f0f921"
            ]
           ],
           "sequentialminus": [
            [
             0,
             "#0d0887"
            ],
            [
             0.1111111111111111,
             "#46039f"
            ],
            [
             0.2222222222222222,
             "#7201a8"
            ],
            [
             0.3333333333333333,
             "#9c179e"
            ],
            [
             0.4444444444444444,
             "#bd3786"
            ],
            [
             0.5555555555555556,
             "#d8576b"
            ],
            [
             0.6666666666666666,
             "#ed7953"
            ],
            [
             0.7777777777777778,
             "#fb9f3a"
            ],
            [
             0.8888888888888888,
             "#fdca26"
            ],
            [
             1,
             "#f0f921"
            ]
           ]
          },
          "colorway": [
           "#636efa",
           "#EF553B",
           "#00cc96",
           "#ab63fa",
           "#FFA15A",
           "#19d3f3",
           "#FF6692",
           "#B6E880",
           "#FF97FF",
           "#FECB52"
          ],
          "font": {
           "color": "#2a3f5f"
          },
          "geo": {
           "bgcolor": "white",
           "lakecolor": "white",
           "landcolor": "#E5ECF6",
           "showlakes": true,
           "showland": true,
           "subunitcolor": "white"
          },
          "hoverlabel": {
           "align": "left"
          },
          "hovermode": "closest",
          "mapbox": {
           "style": "light"
          },
          "paper_bgcolor": "white",
          "plot_bgcolor": "#E5ECF6",
          "polar": {
           "angularaxis": {
            "gridcolor": "white",
            "linecolor": "white",
            "ticks": ""
           },
           "bgcolor": "#E5ECF6",
           "radialaxis": {
            "gridcolor": "white",
            "linecolor": "white",
            "ticks": ""
           }
          },
          "scene": {
           "xaxis": {
            "backgroundcolor": "#E5ECF6",
            "gridcolor": "white",
            "gridwidth": 2,
            "linecolor": "white",
            "showbackground": true,
            "ticks": "",
            "zerolinecolor": "white"
           },
           "yaxis": {
            "backgroundcolor": "#E5ECF6",
            "gridcolor": "white",
            "gridwidth": 2,
            "linecolor": "white",
            "showbackground": true,
            "ticks": "",
            "zerolinecolor": "white"
           },
           "zaxis": {
            "backgroundcolor": "#E5ECF6",
            "gridcolor": "white",
            "gridwidth": 2,
            "linecolor": "white",
            "showbackground": true,
            "ticks": "",
            "zerolinecolor": "white"
           }
          },
          "shapedefaults": {
           "line": {
            "color": "#2a3f5f"
           }
          },
          "ternary": {
           "aaxis": {
            "gridcolor": "white",
            "linecolor": "white",
            "ticks": ""
           },
           "baxis": {
            "gridcolor": "white",
            "linecolor": "white",
            "ticks": ""
           },
           "bgcolor": "#E5ECF6",
           "caxis": {
            "gridcolor": "white",
            "linecolor": "white",
            "ticks": ""
           }
          },
          "title": {
           "x": 0.05
          },
          "xaxis": {
           "automargin": true,
           "gridcolor": "white",
           "linecolor": "white",
           "ticks": "",
           "title": {
            "standoff": 15
           },
           "zerolinecolor": "white",
           "zerolinewidth": 2
          },
          "yaxis": {
           "automargin": true,
           "gridcolor": "white",
           "linecolor": "white",
           "ticks": "",
           "title": {
            "standoff": 15
           },
           "zerolinecolor": "white",
           "zerolinewidth": 2
          }
         }
        }
       }
      },
      "text/html": [
       "<div>                            <div id=\"d66735de-77dc-467a-b390-a96ee2491e50\" class=\"plotly-graph-div\" style=\"height:525px; width:100%;\"></div>            <script type=\"text/javascript\">                require([\"plotly\"], function(Plotly) {                    window.PLOTLYENV=window.PLOTLYENV || {};                                    if (document.getElementById(\"d66735de-77dc-467a-b390-a96ee2491e50\")) {                    Plotly.newPlot(                        \"d66735de-77dc-467a-b390-a96ee2491e50\",                        [{\"hovertemplate\": \"Group=1<br>Value=%{r}<br>Exposure=%{theta}<extra></extra>\", \"legendgroup\": \"1\", \"line\": {\"color\": \"rgb(136, 204, 238)\", \"dash\": \"solid\"}, \"mode\": \"lines\", \"name\": \"1\", \"r\": [0.0, 0.04838709677419355, 0.12903225806451613, 1.1129032258064515, 0.0, 2.2983870967741935, 0.3870967741935484, 4.120967741935484, 0.0], \"showlegend\": true, \"subplot\": \"polar\", \"theta\": [\"Early Childhood Deprivation\", \"Early Childhood Threat\", \"Middle Childhood Deprivation\", \"Middle Childhood Threat\", \"Early Adolescence Deprivation\", \"Early Adolescence Threat\", \"Late Adolescence Deprivation\", \"Late Adolescence Threat\", \"Early Childhood Deprivation\"], \"type\": \"scatterpolar\"}, {\"hovertemplate\": \"Group=2<br>Value=%{r}<br>Exposure=%{theta}<extra></extra>\", \"legendgroup\": \"2\", \"line\": {\"color\": \"rgb(204, 102, 119)\", \"dash\": \"solid\"}, \"mode\": \"lines\", \"name\": \"2\", \"r\": [0.0, 1.0, 0.0, 2.25, 5.9375, 8.0, 10.5625, 13.6875, 0.0], \"showlegend\": true, \"subplot\": \"polar\", \"theta\": [\"Early Childhood Deprivation\", \"Early Childhood Threat\", \"Middle Childhood Deprivation\", \"Middle Childhood Threat\", \"Early Adolescence Deprivation\", \"Early Adolescence Threat\", \"Late Adolescence Deprivation\", \"Late Adolescence Threat\", \"Early Childhood Deprivation\"], \"type\": \"scatterpolar\"}, {\"hovertemplate\": \"Group=3<br>Value=%{r}<br>Exposure=%{theta}<extra></extra>\", \"legendgroup\": \"3\", \"line\": {\"color\": \"rgb(221, 204, 119)\", \"dash\": \"solid\"}, \"mode\": \"lines\", \"name\": \"3\", \"r\": [4.615384615384615, 12.461538461538462, 8.615384615384615, 14.23076923076923, 6.923076923076923, 18.923076923076923, 10.423076923076923, 29.25, 4.615384615384615], \"showlegend\": true, \"subplot\": \"polar\", \"theta\": [\"Early Childhood Deprivation\", \"Early Childhood Threat\", \"Middle Childhood Deprivation\", \"Middle Childhood Threat\", \"Early Adolescence Deprivation\", \"Early Adolescence Threat\", \"Late Adolescence Deprivation\", \"Late Adolescence Threat\", \"Early Childhood Deprivation\"], \"type\": \"scatterpolar\"}],                        {\"legend\": {\"title\": {\"text\": \"Group\"}, \"tracegroupgap\": 0}, \"margin\": {\"t\": 60}, \"polar\": {\"angularaxis\": {\"direction\": \"clockwise\", \"rotation\": 90}, \"domain\": {\"x\": [0.0, 1.0], \"y\": [0.0, 1.0]}}, \"template\": {\"data\": {\"bar\": [{\"error_x\": {\"color\": \"#2a3f5f\"}, \"error_y\": {\"color\": \"#2a3f5f\"}, \"marker\": {\"line\": {\"color\": \"#E5ECF6\", \"width\": 0.5}}, \"type\": \"bar\"}], \"barpolar\": [{\"marker\": {\"line\": {\"color\": \"#E5ECF6\", \"width\": 0.5}}, \"type\": \"barpolar\"}], \"carpet\": [{\"aaxis\": {\"endlinecolor\": \"#2a3f5f\", \"gridcolor\": \"white\", \"linecolor\": \"white\", \"minorgridcolor\": \"white\", \"startlinecolor\": \"#2a3f5f\"}, \"baxis\": {\"endlinecolor\": \"#2a3f5f\", \"gridcolor\": \"white\", \"linecolor\": \"white\", \"minorgridcolor\": \"white\", \"startlinecolor\": \"#2a3f5f\"}, \"type\": \"carpet\"}], \"choropleth\": [{\"colorbar\": {\"outlinewidth\": 0, \"ticks\": \"\"}, \"type\": \"choropleth\"}], \"contour\": [{\"colorbar\": {\"outlinewidth\": 0, \"ticks\": \"\"}, \"colorscale\": [[0.0, \"#0d0887\"], [0.1111111111111111, \"#46039f\"], [0.2222222222222222, \"#7201a8\"], [0.3333333333333333, \"#9c179e\"], [0.4444444444444444, \"#bd3786\"], [0.5555555555555556, \"#d8576b\"], [0.6666666666666666, \"#ed7953\"], [0.7777777777777778, \"#fb9f3a\"], [0.8888888888888888, \"#fdca26\"], [1.0, \"#f0f921\"]], \"type\": \"contour\"}], \"contourcarpet\": [{\"colorbar\": {\"outlinewidth\": 0, \"ticks\": \"\"}, \"type\": \"contourcarpet\"}], \"heatmap\": [{\"colorbar\": {\"outlinewidth\": 0, \"ticks\": \"\"}, \"colorscale\": [[0.0, \"#0d0887\"], [0.1111111111111111, \"#46039f\"], [0.2222222222222222, \"#7201a8\"], [0.3333333333333333, \"#9c179e\"], [0.4444444444444444, \"#bd3786\"], [0.5555555555555556, \"#d8576b\"], [0.6666666666666666, \"#ed7953\"], [0.7777777777777778, \"#fb9f3a\"], [0.8888888888888888, \"#fdca26\"], [1.0, \"#f0f921\"]], \"type\": \"heatmap\"}], \"heatmapgl\": [{\"colorbar\": {\"outlinewidth\": 0, \"ticks\": \"\"}, \"colorscale\": [[0.0, \"#0d0887\"], [0.1111111111111111, \"#46039f\"], [0.2222222222222222, \"#7201a8\"], [0.3333333333333333, \"#9c179e\"], [0.4444444444444444, \"#bd3786\"], [0.5555555555555556, \"#d8576b\"], [0.6666666666666666, \"#ed7953\"], [0.7777777777777778, \"#fb9f3a\"], [0.8888888888888888, \"#fdca26\"], [1.0, \"#f0f921\"]], \"type\": \"heatmapgl\"}], \"histogram\": [{\"marker\": {\"colorbar\": {\"outlinewidth\": 0, \"ticks\": \"\"}}, \"type\": \"histogram\"}], \"histogram2d\": [{\"colorbar\": {\"outlinewidth\": 0, \"ticks\": \"\"}, \"colorscale\": [[0.0, \"#0d0887\"], [0.1111111111111111, \"#46039f\"], [0.2222222222222222, \"#7201a8\"], [0.3333333333333333, \"#9c179e\"], [0.4444444444444444, \"#bd3786\"], [0.5555555555555556, \"#d8576b\"], [0.6666666666666666, \"#ed7953\"], [0.7777777777777778, \"#fb9f3a\"], [0.8888888888888888, \"#fdca26\"], [1.0, \"#f0f921\"]], \"type\": \"histogram2d\"}], \"histogram2dcontour\": [{\"colorbar\": {\"outlinewidth\": 0, \"ticks\": \"\"}, \"colorscale\": [[0.0, \"#0d0887\"], [0.1111111111111111, \"#46039f\"], [0.2222222222222222, \"#7201a8\"], [0.3333333333333333, \"#9c179e\"], [0.4444444444444444, \"#bd3786\"], [0.5555555555555556, \"#d8576b\"], [0.6666666666666666, \"#ed7953\"], [0.7777777777777778, \"#fb9f3a\"], [0.8888888888888888, \"#fdca26\"], [1.0, \"#f0f921\"]], \"type\": \"histogram2dcontour\"}], \"mesh3d\": [{\"colorbar\": {\"outlinewidth\": 0, \"ticks\": \"\"}, \"type\": \"mesh3d\"}], \"parcoords\": [{\"line\": {\"colorbar\": {\"outlinewidth\": 0, \"ticks\": \"\"}}, \"type\": \"parcoords\"}], \"pie\": [{\"automargin\": true, \"type\": \"pie\"}], \"scatter\": [{\"marker\": {\"colorbar\": {\"outlinewidth\": 0, \"ticks\": \"\"}}, \"type\": \"scatter\"}], \"scatter3d\": [{\"line\": {\"colorbar\": {\"outlinewidth\": 0, \"ticks\": \"\"}}, \"marker\": {\"colorbar\": {\"outlinewidth\": 0, \"ticks\": \"\"}}, \"type\": \"scatter3d\"}], \"scattercarpet\": [{\"marker\": {\"colorbar\": {\"outlinewidth\": 0, \"ticks\": \"\"}}, \"type\": \"scattercarpet\"}], \"scattergeo\": [{\"marker\": {\"colorbar\": {\"outlinewidth\": 0, \"ticks\": \"\"}}, \"type\": \"scattergeo\"}], \"scattergl\": [{\"marker\": {\"colorbar\": {\"outlinewidth\": 0, \"ticks\": \"\"}}, \"type\": \"scattergl\"}], \"scattermapbox\": [{\"marker\": {\"colorbar\": {\"outlinewidth\": 0, \"ticks\": \"\"}}, \"type\": \"scattermapbox\"}], \"scatterpolar\": [{\"marker\": {\"colorbar\": {\"outlinewidth\": 0, \"ticks\": \"\"}}, \"type\": \"scatterpolar\"}], \"scatterpolargl\": [{\"marker\": {\"colorbar\": {\"outlinewidth\": 0, \"ticks\": \"\"}}, \"type\": \"scatterpolargl\"}], \"scatterternary\": [{\"marker\": {\"colorbar\": {\"outlinewidth\": 0, \"ticks\": \"\"}}, \"type\": \"scatterternary\"}], \"surface\": [{\"colorbar\": {\"outlinewidth\": 0, \"ticks\": \"\"}, \"colorscale\": [[0.0, \"#0d0887\"], [0.1111111111111111, \"#46039f\"], [0.2222222222222222, \"#7201a8\"], [0.3333333333333333, \"#9c179e\"], [0.4444444444444444, \"#bd3786\"], [0.5555555555555556, \"#d8576b\"], [0.6666666666666666, \"#ed7953\"], [0.7777777777777778, \"#fb9f3a\"], [0.8888888888888888, \"#fdca26\"], [1.0, \"#f0f921\"]], \"type\": \"surface\"}], \"table\": [{\"cells\": {\"fill\": {\"color\": \"#EBF0F8\"}, \"line\": {\"color\": \"white\"}}, \"header\": {\"fill\": {\"color\": \"#C8D4E3\"}, \"line\": {\"color\": \"white\"}}, \"type\": \"table\"}]}, \"layout\": {\"annotationdefaults\": {\"arrowcolor\": \"#2a3f5f\", \"arrowhead\": 0, \"arrowwidth\": 1}, \"autotypenumbers\": \"strict\", \"coloraxis\": {\"colorbar\": {\"outlinewidth\": 0, \"ticks\": \"\"}}, \"colorscale\": {\"diverging\": [[0, \"#8e0152\"], [0.1, \"#c51b7d\"], [0.2, \"#de77ae\"], [0.3, \"#f1b6da\"], [0.4, \"#fde0ef\"], [0.5, \"#f7f7f7\"], [0.6, \"#e6f5d0\"], [0.7, \"#b8e186\"], [0.8, \"#7fbc41\"], [0.9, \"#4d9221\"], [1, \"#276419\"]], \"sequential\": [[0.0, \"#0d0887\"], [0.1111111111111111, \"#46039f\"], [0.2222222222222222, \"#7201a8\"], [0.3333333333333333, \"#9c179e\"], [0.4444444444444444, \"#bd3786\"], [0.5555555555555556, \"#d8576b\"], [0.6666666666666666, \"#ed7953\"], [0.7777777777777778, \"#fb9f3a\"], [0.8888888888888888, \"#fdca26\"], [1.0, \"#f0f921\"]], \"sequentialminus\": [[0.0, \"#0d0887\"], [0.1111111111111111, \"#46039f\"], [0.2222222222222222, \"#7201a8\"], [0.3333333333333333, \"#9c179e\"], [0.4444444444444444, \"#bd3786\"], [0.5555555555555556, \"#d8576b\"], [0.6666666666666666, \"#ed7953\"], [0.7777777777777778, \"#fb9f3a\"], [0.8888888888888888, \"#fdca26\"], [1.0, \"#f0f921\"]]}, \"colorway\": [\"#636efa\", \"#EF553B\", \"#00cc96\", \"#ab63fa\", \"#FFA15A\", \"#19d3f3\", \"#FF6692\", \"#B6E880\", \"#FF97FF\", \"#FECB52\"], \"font\": {\"color\": \"#2a3f5f\"}, \"geo\": {\"bgcolor\": \"white\", \"lakecolor\": \"white\", \"landcolor\": \"#E5ECF6\", \"showlakes\": true, \"showland\": true, \"subunitcolor\": \"white\"}, \"hoverlabel\": {\"align\": \"left\"}, \"hovermode\": \"closest\", \"mapbox\": {\"style\": \"light\"}, \"paper_bgcolor\": \"white\", \"plot_bgcolor\": \"#E5ECF6\", \"polar\": {\"angularaxis\": {\"gridcolor\": \"white\", \"linecolor\": \"white\", \"ticks\": \"\"}, \"bgcolor\": \"#E5ECF6\", \"radialaxis\": {\"gridcolor\": \"white\", \"linecolor\": \"white\", \"ticks\": \"\"}}, \"scene\": {\"xaxis\": {\"backgroundcolor\": \"#E5ECF6\", \"gridcolor\": \"white\", \"gridwidth\": 2, \"linecolor\": \"white\", \"showbackground\": true, \"ticks\": \"\", \"zerolinecolor\": \"white\"}, \"yaxis\": {\"backgroundcolor\": \"#E5ECF6\", \"gridcolor\": \"white\", \"gridwidth\": 2, \"linecolor\": \"white\", \"showbackground\": true, \"ticks\": \"\", \"zerolinecolor\": \"white\"}, \"zaxis\": {\"backgroundcolor\": \"#E5ECF6\", \"gridcolor\": \"white\", \"gridwidth\": 2, \"linecolor\": \"white\", \"showbackground\": true, \"ticks\": \"\", \"zerolinecolor\": \"white\"}}, \"shapedefaults\": {\"line\": {\"color\": \"#2a3f5f\"}}, \"ternary\": {\"aaxis\": {\"gridcolor\": \"white\", \"linecolor\": \"white\", \"ticks\": \"\"}, \"baxis\": {\"gridcolor\": \"white\", \"linecolor\": \"white\", \"ticks\": \"\"}, \"bgcolor\": \"#E5ECF6\", \"caxis\": {\"gridcolor\": \"white\", \"linecolor\": \"white\", \"ticks\": \"\"}}, \"title\": {\"x\": 0.05}, \"xaxis\": {\"automargin\": true, \"gridcolor\": \"white\", \"linecolor\": \"white\", \"ticks\": \"\", \"title\": {\"standoff\": 15}, \"zerolinecolor\": \"white\", \"zerolinewidth\": 2}, \"yaxis\": {\"automargin\": true, \"gridcolor\": \"white\", \"linecolor\": \"white\", \"ticks\": \"\", \"title\": {\"standoff\": 15}, \"zerolinecolor\": \"white\", \"zerolinewidth\": 2}}}},                        {\"responsive\": true}                    ).then(function(){\n",
       "                            \n",
       "var gd = document.getElementById('d66735de-77dc-467a-b390-a96ee2491e50');\n",
       "var x = new MutationObserver(function (mutations, observer) {{\n",
       "        var display = window.getComputedStyle(gd).display;\n",
       "        if (!display || display === 'none') {{\n",
       "            console.log([gd, 'removed!']);\n",
       "            Plotly.purge(gd);\n",
       "            observer.disconnect();\n",
       "        }}\n",
       "}});\n",
       "\n",
       "// Listen for the removal of the full notebook cells\n",
       "var notebookContainer = gd.closest('#notebook-container');\n",
       "if (notebookContainer) {{\n",
       "    x.observe(notebookContainer, {childList: true});\n",
       "}}\n",
       "\n",
       "// Listen for the clearing of the current output cell\n",
       "var outputEl = gd.closest('.output');\n",
       "if (outputEl) {{\n",
       "    x.observe(outputEl, {childList: true});\n",
       "}}\n",
       "\n",
       "                        })                };                });            </script>        </div>"
      ]
     },
     "metadata": {},
     "output_type": "display_data"
    }
   ],
   "source": [
    "# Spider Plots\n",
    "import plotly.express as px\n",
    "\n",
    "fig = px.line_polar(spider_plottingdf, r='Value', theta=\"Exposure\", color=\"Group\", line_close=True,\n",
    "                    color_discrete_sequence=px.colors.qualitative.Safe)\n",
    "fig.show()\n"
   ]
  },
  {
   "cell_type": "code",
   "execution_count": 40,
   "id": "comparative-castle",
   "metadata": {},
   "outputs": [
    {
     "name": "stderr",
     "output_type": "stream",
     "text": [
      "/gpfs/milgram/project/gee_dylan/lms233/conda_envs/mybrainiak/lib/python3.7/site-packages/ipykernel_launcher.py:4: SettingWithCopyWarning:\n",
      "\n",
      "\n",
      "A value is trying to be set on a copy of a slice from a DataFrame.\n",
      "Try using .loc[row_indexer,col_indexer] = value instead\n",
      "\n",
      "See the caveats in the documentation: https://pandas.pydata.org/pandas-docs/stable/user_guide/indexing.html#returning-a-view-versus-a-copy\n",
      "\n"
     ]
    },
    {
     "data": {
      "application/vnd.plotly.v1+json": {
       "config": {
        "plotlyServerURL": "https://plot.ly"
       },
       "data": [
        {
         "hovertemplate": "Group=1<br>Value=%{r}<br>Tract=%{theta}<extra></extra>",
         "legendgroup": "1",
         "line": {
          "color": "rgb(136, 204, 238)",
          "dash": "solid"
         },
         "mode": "lines",
         "name": "1",
         "r": [
          -0.0016790683870597234,
          -0.0007749260568413177,
          0.0029909053600695986,
          -0.0026454683044679424,
          -0.0016431978969693522,
          -0.0008150347229970827,
          -0.0003892135405190796,
          0.0001123456430334332,
          0.002589653018414792,
          -0.0016105831514075233,
          -0.0017898687552296727,
          -0.0001499664096736342,
          0.0014623361014492625,
          0.002425575566597173,
          0.0026544917755453178,
          -0.0007270874167392819,
          0.0019161669832043473,
          0.002077851296202814,
          -0.0006946211865656412,
          -0.0014021262369528443,
          -0.0003256474359976427,
          -0.0016790683870597234
         ],
         "showlegend": true,
         "subplot": "polar",
         "theta": [
          "Anterior Thalamic Radiation ",
          "Arcuate fascicle ",
          "Cingulum ",
          "Corticospinal  ",
          "Fronto-pontine  ",
          "Inferior cerebellar peduncle ",
          "Inferior longitudinal fascicle ",
          "Inferior occipito-frontal fascicle ",
          "Optic radiation ",
          "Parieto‐occipital pontine ",
          "Striato-fronto-orbital ",
          "Striato-premotor ",
          "Superior Thalamic Radiation ",
          "Superior cerebellar peduncle ",
          "Superior longitudinal fascicle I ",
          "Superior longitudinal fascicle II ",
          "Superior longitudinal fascicle III ",
          "Thalamo-occipital ",
          "Thalamo-parietal ",
          "Thalamo-premotor ",
          "Uncinate fascicle ",
          "Anterior Thalamic Radiation "
         ],
         "type": "scatterpolar"
        },
        {
         "hovertemplate": "Group=2<br>Value=%{r}<br>Tract=%{theta}<extra></extra>",
         "legendgroup": "2",
         "line": {
          "color": "rgb(204, 102, 119)",
          "dash": "solid"
         },
         "mode": "lines",
         "name": "2",
         "r": [
          -0.007288514277347571,
          -0.0028668815070111084,
          -0.018663625001713473,
          -0.011164474344912204,
          -0.016958487979356285,
          0.0003169789486465735,
          -0.008859820867139108,
          0.0050817570582743915,
          -0.008962770715058563,
          -0.00619431289003991,
          -0.006976136865421756,
          -0.004310101630987925,
          -0.004217669244255283,
          -0.01034172783516625,
          -0.013750243493764441,
          -0.01014658420026053,
          0.0012900503039556255,
          -0.009352618839816168,
          -0.003392915937412186,
          -0.010564789198603028,
          -0.004232240831969748,
          -0.007288514277347571
         ],
         "showlegend": true,
         "subplot": "polar",
         "theta": [
          "Anterior Thalamic Radiation ",
          "Arcuate fascicle ",
          "Cingulum ",
          "Corticospinal  ",
          "Fronto-pontine  ",
          "Inferior cerebellar peduncle ",
          "Inferior longitudinal fascicle ",
          "Inferior occipito-frontal fascicle ",
          "Optic radiation ",
          "Parieto‐occipital pontine ",
          "Striato-fronto-orbital ",
          "Striato-premotor ",
          "Superior Thalamic Radiation ",
          "Superior cerebellar peduncle ",
          "Superior longitudinal fascicle I ",
          "Superior longitudinal fascicle II ",
          "Superior longitudinal fascicle III ",
          "Thalamo-occipital ",
          "Thalamo-parietal ",
          "Thalamo-premotor ",
          "Uncinate fascicle ",
          "Anterior Thalamic Radiation "
         ],
         "type": "scatterpolar"
        },
        {
         "hovertemplate": "Group=3<br>Value=%{r}<br>Tract=%{theta}<extra></extra>",
         "legendgroup": "3",
         "line": {
          "color": "rgb(221, 204, 119)",
          "dash": "solid"
         },
         "mode": "lines",
         "name": "3",
         "r": [
          0.012493104170496615,
          0.005460035967709626,
          -0.0027790101777410833,
          0.019487294587406338,
          0.018272782572841595,
          0.0036920247105094875,
          0.007308446649943794,
          -0.003663037410329669,
          -0.006835101647789255,
          0.01149312757750439,
          0.012829304442121974,
          0.003367594649818267,
          -0.004378729564294765,
          -0.0052039894190547085,
          -0.004198195548747832,
          0.009711699495377386,
          -0.009932519645410053,
          -0.0041542945881595066,
          0.005400757005103225,
          0.013188472329221866,
          0.004157543668275711,
          0.012493104170496615
         ],
         "showlegend": true,
         "subplot": "polar",
         "theta": [
          "Anterior Thalamic Radiation ",
          "Arcuate fascicle ",
          "Cingulum ",
          "Corticospinal  ",
          "Fronto-pontine  ",
          "Inferior cerebellar peduncle ",
          "Inferior longitudinal fascicle ",
          "Inferior occipito-frontal fascicle ",
          "Optic radiation ",
          "Parieto‐occipital pontine ",
          "Striato-fronto-orbital ",
          "Striato-premotor ",
          "Superior Thalamic Radiation ",
          "Superior cerebellar peduncle ",
          "Superior longitudinal fascicle I ",
          "Superior longitudinal fascicle II ",
          "Superior longitudinal fascicle III ",
          "Thalamo-occipital ",
          "Thalamo-parietal ",
          "Thalamo-premotor ",
          "Uncinate fascicle ",
          "Anterior Thalamic Radiation "
         ],
         "type": "scatterpolar"
        }
       ],
       "layout": {
        "legend": {
         "title": {
          "text": "Group"
         },
         "tracegroupgap": 0
        },
        "margin": {
         "t": 60
        },
        "polar": {
         "angularaxis": {
          "direction": "clockwise",
          "rotation": 90
         },
         "domain": {
          "x": [
           0,
           1
          ],
          "y": [
           0,
           1
          ]
         },
         "radialaxis": {
          "range": [
           -0.025,
           0.025
          ],
          "tickangle": 45
         }
        },
        "template": {
         "data": {
          "bar": [
           {
            "error_x": {
             "color": "#2a3f5f"
            },
            "error_y": {
             "color": "#2a3f5f"
            },
            "marker": {
             "line": {
              "color": "#E5ECF6",
              "width": 0.5
             }
            },
            "type": "bar"
           }
          ],
          "barpolar": [
           {
            "marker": {
             "line": {
              "color": "#E5ECF6",
              "width": 0.5
             }
            },
            "type": "barpolar"
           }
          ],
          "carpet": [
           {
            "aaxis": {
             "endlinecolor": "#2a3f5f",
             "gridcolor": "white",
             "linecolor": "white",
             "minorgridcolor": "white",
             "startlinecolor": "#2a3f5f"
            },
            "baxis": {
             "endlinecolor": "#2a3f5f",
             "gridcolor": "white",
             "linecolor": "white",
             "minorgridcolor": "white",
             "startlinecolor": "#2a3f5f"
            },
            "type": "carpet"
           }
          ],
          "choropleth": [
           {
            "colorbar": {
             "outlinewidth": 0,
             "ticks": ""
            },
            "type": "choropleth"
           }
          ],
          "contour": [
           {
            "colorbar": {
             "outlinewidth": 0,
             "ticks": ""
            },
            "colorscale": [
             [
              0,
              "#0d0887"
             ],
             [
              0.1111111111111111,
              "#46039f"
             ],
             [
              0.2222222222222222,
              "#7201a8"
             ],
             [
              0.3333333333333333,
              "#9c179e"
             ],
             [
              0.4444444444444444,
              "#bd3786"
             ],
             [
              0.5555555555555556,
              "#d8576b"
             ],
             [
              0.6666666666666666,
              "#ed7953"
             ],
             [
              0.7777777777777778,
              "#fb9f3a"
             ],
             [
              0.8888888888888888,
              "#fdca26"
             ],
             [
              1,
              "#f0f921"
             ]
            ],
            "type": "contour"
           }
          ],
          "contourcarpet": [
           {
            "colorbar": {
             "outlinewidth": 0,
             "ticks": ""
            },
            "type": "contourcarpet"
           }
          ],
          "heatmap": [
           {
            "colorbar": {
             "outlinewidth": 0,
             "ticks": ""
            },
            "colorscale": [
             [
              0,
              "#0d0887"
             ],
             [
              0.1111111111111111,
              "#46039f"
             ],
             [
              0.2222222222222222,
              "#7201a8"
             ],
             [
              0.3333333333333333,
              "#9c179e"
             ],
             [
              0.4444444444444444,
              "#bd3786"
             ],
             [
              0.5555555555555556,
              "#d8576b"
             ],
             [
              0.6666666666666666,
              "#ed7953"
             ],
             [
              0.7777777777777778,
              "#fb9f3a"
             ],
             [
              0.8888888888888888,
              "#fdca26"
             ],
             [
              1,
              "#f0f921"
             ]
            ],
            "type": "heatmap"
           }
          ],
          "heatmapgl": [
           {
            "colorbar": {
             "outlinewidth": 0,
             "ticks": ""
            },
            "colorscale": [
             [
              0,
              "#0d0887"
             ],
             [
              0.1111111111111111,
              "#46039f"
             ],
             [
              0.2222222222222222,
              "#7201a8"
             ],
             [
              0.3333333333333333,
              "#9c179e"
             ],
             [
              0.4444444444444444,
              "#bd3786"
             ],
             [
              0.5555555555555556,
              "#d8576b"
             ],
             [
              0.6666666666666666,
              "#ed7953"
             ],
             [
              0.7777777777777778,
              "#fb9f3a"
             ],
             [
              0.8888888888888888,
              "#fdca26"
             ],
             [
              1,
              "#f0f921"
             ]
            ],
            "type": "heatmapgl"
           }
          ],
          "histogram": [
           {
            "marker": {
             "colorbar": {
              "outlinewidth": 0,
              "ticks": ""
             }
            },
            "type": "histogram"
           }
          ],
          "histogram2d": [
           {
            "colorbar": {
             "outlinewidth": 0,
             "ticks": ""
            },
            "colorscale": [
             [
              0,
              "#0d0887"
             ],
             [
              0.1111111111111111,
              "#46039f"
             ],
             [
              0.2222222222222222,
              "#7201a8"
             ],
             [
              0.3333333333333333,
              "#9c179e"
             ],
             [
              0.4444444444444444,
              "#bd3786"
             ],
             [
              0.5555555555555556,
              "#d8576b"
             ],
             [
              0.6666666666666666,
              "#ed7953"
             ],
             [
              0.7777777777777778,
              "#fb9f3a"
             ],
             [
              0.8888888888888888,
              "#fdca26"
             ],
             [
              1,
              "#f0f921"
             ]
            ],
            "type": "histogram2d"
           }
          ],
          "histogram2dcontour": [
           {
            "colorbar": {
             "outlinewidth": 0,
             "ticks": ""
            },
            "colorscale": [
             [
              0,
              "#0d0887"
             ],
             [
              0.1111111111111111,
              "#46039f"
             ],
             [
              0.2222222222222222,
              "#7201a8"
             ],
             [
              0.3333333333333333,
              "#9c179e"
             ],
             [
              0.4444444444444444,
              "#bd3786"
             ],
             [
              0.5555555555555556,
              "#d8576b"
             ],
             [
              0.6666666666666666,
              "#ed7953"
             ],
             [
              0.7777777777777778,
              "#fb9f3a"
             ],
             [
              0.8888888888888888,
              "#fdca26"
             ],
             [
              1,
              "#f0f921"
             ]
            ],
            "type": "histogram2dcontour"
           }
          ],
          "mesh3d": [
           {
            "colorbar": {
             "outlinewidth": 0,
             "ticks": ""
            },
            "type": "mesh3d"
           }
          ],
          "parcoords": [
           {
            "line": {
             "colorbar": {
              "outlinewidth": 0,
              "ticks": ""
             }
            },
            "type": "parcoords"
           }
          ],
          "pie": [
           {
            "automargin": true,
            "type": "pie"
           }
          ],
          "scatter": [
           {
            "marker": {
             "colorbar": {
              "outlinewidth": 0,
              "ticks": ""
             }
            },
            "type": "scatter"
           }
          ],
          "scatter3d": [
           {
            "line": {
             "colorbar": {
              "outlinewidth": 0,
              "ticks": ""
             }
            },
            "marker": {
             "colorbar": {
              "outlinewidth": 0,
              "ticks": ""
             }
            },
            "type": "scatter3d"
           }
          ],
          "scattercarpet": [
           {
            "marker": {
             "colorbar": {
              "outlinewidth": 0,
              "ticks": ""
             }
            },
            "type": "scattercarpet"
           }
          ],
          "scattergeo": [
           {
            "marker": {
             "colorbar": {
              "outlinewidth": 0,
              "ticks": ""
             }
            },
            "type": "scattergeo"
           }
          ],
          "scattergl": [
           {
            "marker": {
             "colorbar": {
              "outlinewidth": 0,
              "ticks": ""
             }
            },
            "type": "scattergl"
           }
          ],
          "scattermapbox": [
           {
            "marker": {
             "colorbar": {
              "outlinewidth": 0,
              "ticks": ""
             }
            },
            "type": "scattermapbox"
           }
          ],
          "scatterpolar": [
           {
            "marker": {
             "colorbar": {
              "outlinewidth": 0,
              "ticks": ""
             }
            },
            "type": "scatterpolar"
           }
          ],
          "scatterpolargl": [
           {
            "marker": {
             "colorbar": {
              "outlinewidth": 0,
              "ticks": ""
             }
            },
            "type": "scatterpolargl"
           }
          ],
          "scatterternary": [
           {
            "marker": {
             "colorbar": {
              "outlinewidth": 0,
              "ticks": ""
             }
            },
            "type": "scatterternary"
           }
          ],
          "surface": [
           {
            "colorbar": {
             "outlinewidth": 0,
             "ticks": ""
            },
            "colorscale": [
             [
              0,
              "#0d0887"
             ],
             [
              0.1111111111111111,
              "#46039f"
             ],
             [
              0.2222222222222222,
              "#7201a8"
             ],
             [
              0.3333333333333333,
              "#9c179e"
             ],
             [
              0.4444444444444444,
              "#bd3786"
             ],
             [
              0.5555555555555556,
              "#d8576b"
             ],
             [
              0.6666666666666666,
              "#ed7953"
             ],
             [
              0.7777777777777778,
              "#fb9f3a"
             ],
             [
              0.8888888888888888,
              "#fdca26"
             ],
             [
              1,
              "#f0f921"
             ]
            ],
            "type": "surface"
           }
          ],
          "table": [
           {
            "cells": {
             "fill": {
              "color": "#EBF0F8"
             },
             "line": {
              "color": "white"
             }
            },
            "header": {
             "fill": {
              "color": "#C8D4E3"
             },
             "line": {
              "color": "white"
             }
            },
            "type": "table"
           }
          ]
         },
         "layout": {
          "annotationdefaults": {
           "arrowcolor": "#2a3f5f",
           "arrowhead": 0,
           "arrowwidth": 1
          },
          "autotypenumbers": "strict",
          "coloraxis": {
           "colorbar": {
            "outlinewidth": 0,
            "ticks": ""
           }
          },
          "colorscale": {
           "diverging": [
            [
             0,
             "#8e0152"
            ],
            [
             0.1,
             "#c51b7d"
            ],
            [
             0.2,
             "#de77ae"
            ],
            [
             0.3,
             "#f1b6da"
            ],
            [
             0.4,
             "#fde0ef"
            ],
            [
             0.5,
             "#f7f7f7"
            ],
            [
             0.6,
             "#e6f5d0"
            ],
            [
             0.7,
             "#b8e186"
            ],
            [
             0.8,
             "#7fbc41"
            ],
            [
             0.9,
             "#4d9221"
            ],
            [
             1,
             "#276419"
            ]
           ],
           "sequential": [
            [
             0,
             "#0d0887"
            ],
            [
             0.1111111111111111,
             "#46039f"
            ],
            [
             0.2222222222222222,
             "#7201a8"
            ],
            [
             0.3333333333333333,
             "#9c179e"
            ],
            [
             0.4444444444444444,
             "#bd3786"
            ],
            [
             0.5555555555555556,
             "#d8576b"
            ],
            [
             0.6666666666666666,
             "#ed7953"
            ],
            [
             0.7777777777777778,
             "#fb9f3a"
            ],
            [
             0.8888888888888888,
             "#fdca26"
            ],
            [
             1,
             "#f0f921"
            ]
           ],
           "sequentialminus": [
            [
             0,
             "#0d0887"
            ],
            [
             0.1111111111111111,
             "#46039f"
            ],
            [
             0.2222222222222222,
             "#7201a8"
            ],
            [
             0.3333333333333333,
             "#9c179e"
            ],
            [
             0.4444444444444444,
             "#bd3786"
            ],
            [
             0.5555555555555556,
             "#d8576b"
            ],
            [
             0.6666666666666666,
             "#ed7953"
            ],
            [
             0.7777777777777778,
             "#fb9f3a"
            ],
            [
             0.8888888888888888,
             "#fdca26"
            ],
            [
             1,
             "#f0f921"
            ]
           ]
          },
          "colorway": [
           "#636efa",
           "#EF553B",
           "#00cc96",
           "#ab63fa",
           "#FFA15A",
           "#19d3f3",
           "#FF6692",
           "#B6E880",
           "#FF97FF",
           "#FECB52"
          ],
          "font": {
           "color": "#2a3f5f"
          },
          "geo": {
           "bgcolor": "white",
           "lakecolor": "white",
           "landcolor": "#E5ECF6",
           "showlakes": true,
           "showland": true,
           "subunitcolor": "white"
          },
          "hoverlabel": {
           "align": "left"
          },
          "hovermode": "closest",
          "mapbox": {
           "style": "light"
          },
          "paper_bgcolor": "white",
          "plot_bgcolor": "#E5ECF6",
          "polar": {
           "angularaxis": {
            "gridcolor": "white",
            "linecolor": "white",
            "ticks": ""
           },
           "bgcolor": "#E5ECF6",
           "radialaxis": {
            "gridcolor": "white",
            "linecolor": "white",
            "ticks": ""
           }
          },
          "scene": {
           "xaxis": {
            "backgroundcolor": "#E5ECF6",
            "gridcolor": "white",
            "gridwidth": 2,
            "linecolor": "white",
            "showbackground": true,
            "ticks": "",
            "zerolinecolor": "white"
           },
           "yaxis": {
            "backgroundcolor": "#E5ECF6",
            "gridcolor": "white",
            "gridwidth": 2,
            "linecolor": "white",
            "showbackground": true,
            "ticks": "",
            "zerolinecolor": "white"
           },
           "zaxis": {
            "backgroundcolor": "#E5ECF6",
            "gridcolor": "white",
            "gridwidth": 2,
            "linecolor": "white",
            "showbackground": true,
            "ticks": "",
            "zerolinecolor": "white"
           }
          },
          "shapedefaults": {
           "line": {
            "color": "#2a3f5f"
           }
          },
          "ternary": {
           "aaxis": {
            "gridcolor": "white",
            "linecolor": "white",
            "ticks": ""
           },
           "baxis": {
            "gridcolor": "white",
            "linecolor": "white",
            "ticks": ""
           },
           "bgcolor": "#E5ECF6",
           "caxis": {
            "gridcolor": "white",
            "linecolor": "white",
            "ticks": ""
           }
          },
          "title": {
           "x": 0.05
          },
          "xaxis": {
           "automargin": true,
           "gridcolor": "white",
           "linecolor": "white",
           "ticks": "",
           "title": {
            "standoff": 15
           },
           "zerolinecolor": "white",
           "zerolinewidth": 2
          },
          "yaxis": {
           "automargin": true,
           "gridcolor": "white",
           "linecolor": "white",
           "ticks": "",
           "title": {
            "standoff": 15
           },
           "zerolinecolor": "white",
           "zerolinewidth": 2
          }
         }
        }
       }
      },
      "text/html": [
       "<div>                            <div id=\"41cf984a-c365-41ba-8811-5514bdcaf714\" class=\"plotly-graph-div\" style=\"height:525px; width:100%;\"></div>            <script type=\"text/javascript\">                require([\"plotly\"], function(Plotly) {                    window.PLOTLYENV=window.PLOTLYENV || {};                                    if (document.getElementById(\"41cf984a-c365-41ba-8811-5514bdcaf714\")) {                    Plotly.newPlot(                        \"41cf984a-c365-41ba-8811-5514bdcaf714\",                        [{\"hovertemplate\": \"Group=1<br>Value=%{r}<br>Tract=%{theta}<extra></extra>\", \"legendgroup\": \"1\", \"line\": {\"color\": \"rgb(136, 204, 238)\", \"dash\": \"solid\"}, \"mode\": \"lines\", \"name\": \"1\", \"r\": [-0.0016790683870597234, -0.0007749260568413177, 0.0029909053600695986, -0.0026454683044679424, -0.0016431978969693522, -0.0008150347229970827, -0.0003892135405190796, 0.0001123456430334332, 0.002589653018414792, -0.0016105831514075233, -0.0017898687552296727, -0.0001499664096736342, 0.0014623361014492625, 0.002425575566597173, 0.0026544917755453178, -0.0007270874167392819, 0.0019161669832043473, 0.002077851296202814, -0.0006946211865656412, -0.0014021262369528443, -0.0003256474359976427, -0.0016790683870597234], \"showlegend\": true, \"subplot\": \"polar\", \"theta\": [\"Anterior Thalamic Radiation \", \"Arcuate fascicle \", \"Cingulum \", \"Corticospinal  \", \"Fronto-pontine  \", \"Inferior cerebellar peduncle \", \"Inferior longitudinal fascicle \", \"Inferior occipito-frontal fascicle \", \"Optic radiation \", \"Parieto\\u2010occipital pontine \", \"Striato-fronto-orbital \", \"Striato-premotor \", \"Superior Thalamic Radiation \", \"Superior cerebellar peduncle \", \"Superior longitudinal fascicle I \", \"Superior longitudinal fascicle II \", \"Superior longitudinal fascicle III \", \"Thalamo-occipital \", \"Thalamo-parietal \", \"Thalamo-premotor \", \"Uncinate fascicle \", \"Anterior Thalamic Radiation \"], \"type\": \"scatterpolar\"}, {\"hovertemplate\": \"Group=2<br>Value=%{r}<br>Tract=%{theta}<extra></extra>\", \"legendgroup\": \"2\", \"line\": {\"color\": \"rgb(204, 102, 119)\", \"dash\": \"solid\"}, \"mode\": \"lines\", \"name\": \"2\", \"r\": [-0.007288514277347571, -0.0028668815070111084, -0.018663625001713473, -0.011164474344912204, -0.016958487979356285, 0.0003169789486465735, -0.008859820867139108, 0.0050817570582743915, -0.008962770715058563, -0.00619431289003991, -0.006976136865421756, -0.004310101630987925, -0.004217669244255283, -0.01034172783516625, -0.013750243493764441, -0.01014658420026053, 0.0012900503039556255, -0.009352618839816168, -0.003392915937412186, -0.010564789198603028, -0.004232240831969748, -0.007288514277347571], \"showlegend\": true, \"subplot\": \"polar\", \"theta\": [\"Anterior Thalamic Radiation \", \"Arcuate fascicle \", \"Cingulum \", \"Corticospinal  \", \"Fronto-pontine  \", \"Inferior cerebellar peduncle \", \"Inferior longitudinal fascicle \", \"Inferior occipito-frontal fascicle \", \"Optic radiation \", \"Parieto\\u2010occipital pontine \", \"Striato-fronto-orbital \", \"Striato-premotor \", \"Superior Thalamic Radiation \", \"Superior cerebellar peduncle \", \"Superior longitudinal fascicle I \", \"Superior longitudinal fascicle II \", \"Superior longitudinal fascicle III \", \"Thalamo-occipital \", \"Thalamo-parietal \", \"Thalamo-premotor \", \"Uncinate fascicle \", \"Anterior Thalamic Radiation \"], \"type\": \"scatterpolar\"}, {\"hovertemplate\": \"Group=3<br>Value=%{r}<br>Tract=%{theta}<extra></extra>\", \"legendgroup\": \"3\", \"line\": {\"color\": \"rgb(221, 204, 119)\", \"dash\": \"solid\"}, \"mode\": \"lines\", \"name\": \"3\", \"r\": [0.012493104170496615, 0.005460035967709626, -0.0027790101777410833, 0.019487294587406338, 0.018272782572841595, 0.0036920247105094875, 0.007308446649943794, -0.003663037410329669, -0.006835101647789255, 0.01149312757750439, 0.012829304442121974, 0.003367594649818267, -0.004378729564294765, -0.0052039894190547085, -0.004198195548747832, 0.009711699495377386, -0.009932519645410053, -0.0041542945881595066, 0.005400757005103225, 0.013188472329221866, 0.004157543668275711, 0.012493104170496615], \"showlegend\": true, \"subplot\": \"polar\", \"theta\": [\"Anterior Thalamic Radiation \", \"Arcuate fascicle \", \"Cingulum \", \"Corticospinal  \", \"Fronto-pontine  \", \"Inferior cerebellar peduncle \", \"Inferior longitudinal fascicle \", \"Inferior occipito-frontal fascicle \", \"Optic radiation \", \"Parieto\\u2010occipital pontine \", \"Striato-fronto-orbital \", \"Striato-premotor \", \"Superior Thalamic Radiation \", \"Superior cerebellar peduncle \", \"Superior longitudinal fascicle I \", \"Superior longitudinal fascicle II \", \"Superior longitudinal fascicle III \", \"Thalamo-occipital \", \"Thalamo-parietal \", \"Thalamo-premotor \", \"Uncinate fascicle \", \"Anterior Thalamic Radiation \"], \"type\": \"scatterpolar\"}],                        {\"legend\": {\"title\": {\"text\": \"Group\"}, \"tracegroupgap\": 0}, \"margin\": {\"t\": 60}, \"polar\": {\"angularaxis\": {\"direction\": \"clockwise\", \"rotation\": 90}, \"domain\": {\"x\": [0.0, 1.0], \"y\": [0.0, 1.0]}, \"radialaxis\": {\"range\": [-0.025, 0.025], \"tickangle\": 45}}, \"template\": {\"data\": {\"bar\": [{\"error_x\": {\"color\": \"#2a3f5f\"}, \"error_y\": {\"color\": \"#2a3f5f\"}, \"marker\": {\"line\": {\"color\": \"#E5ECF6\", \"width\": 0.5}}, \"type\": \"bar\"}], \"barpolar\": [{\"marker\": {\"line\": {\"color\": \"#E5ECF6\", \"width\": 0.5}}, \"type\": \"barpolar\"}], \"carpet\": [{\"aaxis\": {\"endlinecolor\": \"#2a3f5f\", \"gridcolor\": \"white\", \"linecolor\": \"white\", \"minorgridcolor\": \"white\", \"startlinecolor\": \"#2a3f5f\"}, \"baxis\": {\"endlinecolor\": \"#2a3f5f\", \"gridcolor\": \"white\", \"linecolor\": \"white\", \"minorgridcolor\": \"white\", \"startlinecolor\": \"#2a3f5f\"}, \"type\": \"carpet\"}], \"choropleth\": [{\"colorbar\": {\"outlinewidth\": 0, \"ticks\": \"\"}, \"type\": \"choropleth\"}], \"contour\": [{\"colorbar\": {\"outlinewidth\": 0, \"ticks\": \"\"}, \"colorscale\": [[0.0, \"#0d0887\"], [0.1111111111111111, \"#46039f\"], [0.2222222222222222, \"#7201a8\"], [0.3333333333333333, \"#9c179e\"], [0.4444444444444444, \"#bd3786\"], [0.5555555555555556, \"#d8576b\"], [0.6666666666666666, \"#ed7953\"], [0.7777777777777778, \"#fb9f3a\"], [0.8888888888888888, \"#fdca26\"], [1.0, \"#f0f921\"]], \"type\": \"contour\"}], \"contourcarpet\": [{\"colorbar\": {\"outlinewidth\": 0, \"ticks\": \"\"}, \"type\": \"contourcarpet\"}], \"heatmap\": [{\"colorbar\": {\"outlinewidth\": 0, \"ticks\": \"\"}, \"colorscale\": [[0.0, \"#0d0887\"], [0.1111111111111111, \"#46039f\"], [0.2222222222222222, \"#7201a8\"], [0.3333333333333333, \"#9c179e\"], [0.4444444444444444, \"#bd3786\"], [0.5555555555555556, \"#d8576b\"], [0.6666666666666666, \"#ed7953\"], [0.7777777777777778, \"#fb9f3a\"], [0.8888888888888888, \"#fdca26\"], [1.0, \"#f0f921\"]], \"type\": \"heatmap\"}], \"heatmapgl\": [{\"colorbar\": {\"outlinewidth\": 0, \"ticks\": \"\"}, \"colorscale\": [[0.0, \"#0d0887\"], [0.1111111111111111, \"#46039f\"], [0.2222222222222222, \"#7201a8\"], [0.3333333333333333, \"#9c179e\"], [0.4444444444444444, \"#bd3786\"], [0.5555555555555556, \"#d8576b\"], [0.6666666666666666, \"#ed7953\"], [0.7777777777777778, \"#fb9f3a\"], [0.8888888888888888, \"#fdca26\"], [1.0, \"#f0f921\"]], \"type\": \"heatmapgl\"}], \"histogram\": [{\"marker\": {\"colorbar\": {\"outlinewidth\": 0, \"ticks\": \"\"}}, \"type\": \"histogram\"}], \"histogram2d\": [{\"colorbar\": {\"outlinewidth\": 0, \"ticks\": \"\"}, \"colorscale\": [[0.0, \"#0d0887\"], [0.1111111111111111, \"#46039f\"], [0.2222222222222222, \"#7201a8\"], [0.3333333333333333, \"#9c179e\"], [0.4444444444444444, \"#bd3786\"], [0.5555555555555556, \"#d8576b\"], [0.6666666666666666, \"#ed7953\"], [0.7777777777777778, \"#fb9f3a\"], [0.8888888888888888, \"#fdca26\"], [1.0, \"#f0f921\"]], \"type\": \"histogram2d\"}], \"histogram2dcontour\": [{\"colorbar\": {\"outlinewidth\": 0, \"ticks\": \"\"}, \"colorscale\": [[0.0, \"#0d0887\"], [0.1111111111111111, \"#46039f\"], [0.2222222222222222, \"#7201a8\"], [0.3333333333333333, \"#9c179e\"], [0.4444444444444444, \"#bd3786\"], [0.5555555555555556, \"#d8576b\"], [0.6666666666666666, \"#ed7953\"], [0.7777777777777778, \"#fb9f3a\"], [0.8888888888888888, \"#fdca26\"], [1.0, \"#f0f921\"]], \"type\": \"histogram2dcontour\"}], \"mesh3d\": [{\"colorbar\": {\"outlinewidth\": 0, \"ticks\": \"\"}, \"type\": \"mesh3d\"}], \"parcoords\": [{\"line\": {\"colorbar\": {\"outlinewidth\": 0, \"ticks\": \"\"}}, \"type\": \"parcoords\"}], \"pie\": [{\"automargin\": true, \"type\": \"pie\"}], \"scatter\": [{\"marker\": {\"colorbar\": {\"outlinewidth\": 0, \"ticks\": \"\"}}, \"type\": \"scatter\"}], \"scatter3d\": [{\"line\": {\"colorbar\": {\"outlinewidth\": 0, \"ticks\": \"\"}}, \"marker\": {\"colorbar\": {\"outlinewidth\": 0, \"ticks\": \"\"}}, \"type\": \"scatter3d\"}], \"scattercarpet\": [{\"marker\": {\"colorbar\": {\"outlinewidth\": 0, \"ticks\": \"\"}}, \"type\": \"scattercarpet\"}], \"scattergeo\": [{\"marker\": {\"colorbar\": {\"outlinewidth\": 0, \"ticks\": \"\"}}, \"type\": \"scattergeo\"}], \"scattergl\": [{\"marker\": {\"colorbar\": {\"outlinewidth\": 0, \"ticks\": \"\"}}, \"type\": \"scattergl\"}], \"scattermapbox\": [{\"marker\": {\"colorbar\": {\"outlinewidth\": 0, \"ticks\": \"\"}}, \"type\": \"scattermapbox\"}], \"scatterpolar\": [{\"marker\": {\"colorbar\": {\"outlinewidth\": 0, \"ticks\": \"\"}}, \"type\": \"scatterpolar\"}], \"scatterpolargl\": [{\"marker\": {\"colorbar\": {\"outlinewidth\": 0, \"ticks\": \"\"}}, \"type\": \"scatterpolargl\"}], \"scatterternary\": [{\"marker\": {\"colorbar\": {\"outlinewidth\": 0, \"ticks\": \"\"}}, \"type\": \"scatterternary\"}], \"surface\": [{\"colorbar\": {\"outlinewidth\": 0, \"ticks\": \"\"}, \"colorscale\": [[0.0, \"#0d0887\"], [0.1111111111111111, \"#46039f\"], [0.2222222222222222, \"#7201a8\"], [0.3333333333333333, \"#9c179e\"], [0.4444444444444444, \"#bd3786\"], [0.5555555555555556, \"#d8576b\"], [0.6666666666666666, \"#ed7953\"], [0.7777777777777778, \"#fb9f3a\"], [0.8888888888888888, \"#fdca26\"], [1.0, \"#f0f921\"]], \"type\": \"surface\"}], \"table\": [{\"cells\": {\"fill\": {\"color\": \"#EBF0F8\"}, \"line\": {\"color\": \"white\"}}, \"header\": {\"fill\": {\"color\": \"#C8D4E3\"}, \"line\": {\"color\": \"white\"}}, \"type\": \"table\"}]}, \"layout\": {\"annotationdefaults\": {\"arrowcolor\": \"#2a3f5f\", \"arrowhead\": 0, \"arrowwidth\": 1}, \"autotypenumbers\": \"strict\", \"coloraxis\": {\"colorbar\": {\"outlinewidth\": 0, \"ticks\": \"\"}}, \"colorscale\": {\"diverging\": [[0, \"#8e0152\"], [0.1, \"#c51b7d\"], [0.2, \"#de77ae\"], [0.3, \"#f1b6da\"], [0.4, \"#fde0ef\"], [0.5, \"#f7f7f7\"], [0.6, \"#e6f5d0\"], [0.7, \"#b8e186\"], [0.8, \"#7fbc41\"], [0.9, \"#4d9221\"], [1, \"#276419\"]], \"sequential\": [[0.0, \"#0d0887\"], [0.1111111111111111, \"#46039f\"], [0.2222222222222222, \"#7201a8\"], [0.3333333333333333, \"#9c179e\"], [0.4444444444444444, \"#bd3786\"], [0.5555555555555556, \"#d8576b\"], [0.6666666666666666, \"#ed7953\"], [0.7777777777777778, \"#fb9f3a\"], [0.8888888888888888, \"#fdca26\"], [1.0, \"#f0f921\"]], \"sequentialminus\": [[0.0, \"#0d0887\"], [0.1111111111111111, \"#46039f\"], [0.2222222222222222, \"#7201a8\"], [0.3333333333333333, \"#9c179e\"], [0.4444444444444444, \"#bd3786\"], [0.5555555555555556, \"#d8576b\"], [0.6666666666666666, \"#ed7953\"], [0.7777777777777778, \"#fb9f3a\"], [0.8888888888888888, \"#fdca26\"], [1.0, \"#f0f921\"]]}, \"colorway\": [\"#636efa\", \"#EF553B\", \"#00cc96\", \"#ab63fa\", \"#FFA15A\", \"#19d3f3\", \"#FF6692\", \"#B6E880\", \"#FF97FF\", \"#FECB52\"], \"font\": {\"color\": \"#2a3f5f\"}, \"geo\": {\"bgcolor\": \"white\", \"lakecolor\": \"white\", \"landcolor\": \"#E5ECF6\", \"showlakes\": true, \"showland\": true, \"subunitcolor\": \"white\"}, \"hoverlabel\": {\"align\": \"left\"}, \"hovermode\": \"closest\", \"mapbox\": {\"style\": \"light\"}, \"paper_bgcolor\": \"white\", \"plot_bgcolor\": \"#E5ECF6\", \"polar\": {\"angularaxis\": {\"gridcolor\": \"white\", \"linecolor\": \"white\", \"ticks\": \"\"}, \"bgcolor\": \"#E5ECF6\", \"radialaxis\": {\"gridcolor\": \"white\", \"linecolor\": \"white\", \"ticks\": \"\"}}, \"scene\": {\"xaxis\": {\"backgroundcolor\": \"#E5ECF6\", \"gridcolor\": \"white\", \"gridwidth\": 2, \"linecolor\": \"white\", \"showbackground\": true, \"ticks\": \"\", \"zerolinecolor\": \"white\"}, \"yaxis\": {\"backgroundcolor\": \"#E5ECF6\", \"gridcolor\": \"white\", \"gridwidth\": 2, \"linecolor\": \"white\", \"showbackground\": true, \"ticks\": \"\", \"zerolinecolor\": \"white\"}, \"zaxis\": {\"backgroundcolor\": \"#E5ECF6\", \"gridcolor\": \"white\", \"gridwidth\": 2, \"linecolor\": \"white\", \"showbackground\": true, \"ticks\": \"\", \"zerolinecolor\": \"white\"}}, \"shapedefaults\": {\"line\": {\"color\": \"#2a3f5f\"}}, \"ternary\": {\"aaxis\": {\"gridcolor\": \"white\", \"linecolor\": \"white\", \"ticks\": \"\"}, \"baxis\": {\"gridcolor\": \"white\", \"linecolor\": \"white\", \"ticks\": \"\"}, \"bgcolor\": \"#E5ECF6\", \"caxis\": {\"gridcolor\": \"white\", \"linecolor\": \"white\", \"ticks\": \"\"}}, \"title\": {\"x\": 0.05}, \"xaxis\": {\"automargin\": true, \"gridcolor\": \"white\", \"linecolor\": \"white\", \"ticks\": \"\", \"title\": {\"standoff\": 15}, \"zerolinecolor\": \"white\", \"zerolinewidth\": 2}, \"yaxis\": {\"automargin\": true, \"gridcolor\": \"white\", \"linecolor\": \"white\", \"ticks\": \"\", \"title\": {\"standoff\": 15}, \"zerolinecolor\": \"white\", \"zerolinewidth\": 2}}}},                        {\"responsive\": true}                    ).then(function(){\n",
       "                            \n",
       "var gd = document.getElementById('41cf984a-c365-41ba-8811-5514bdcaf714');\n",
       "var x = new MutationObserver(function (mutations, observer) {{\n",
       "        var display = window.getComputedStyle(gd).display;\n",
       "        if (!display || display === 'none') {{\n",
       "            console.log([gd, 'removed!']);\n",
       "            Plotly.purge(gd);\n",
       "            observer.disconnect();\n",
       "        }}\n",
       "}});\n",
       "\n",
       "// Listen for the removal of the full notebook cells\n",
       "var notebookContainer = gd.closest('#notebook-container');\n",
       "if (notebookContainer) {{\n",
       "    x.observe(notebookContainer, {childList: true});\n",
       "}}\n",
       "\n",
       "// Listen for the clearing of the current output cell\n",
       "var outputEl = gd.closest('.output');\n",
       "if (outputEl) {{\n",
       "    x.observe(outputEl, {childList: true});\n",
       "}}\n",
       "\n",
       "                        })                };                });            </script>        </div>"
      ]
     },
     "metadata": {},
     "output_type": "display_data"
    }
   ],
   "source": [
    "# Spider Plots\n",
    "import plotly.graph_objects as go\n",
    "\n",
    "left_plottingdf['Tract'] = left_plottingdf['Tract'].str.replace('left', '').str.replace('tract', '')\n",
    "\n",
    "fig = px.line_polar(left_plottingdf, r='Value', theta=\"Tract\", color=\"Group\", line_close=True,\n",
    "                    color_discrete_sequence=px.colors.qualitative.Safe, range_r=[-0.025, 0.025])\n",
    "fig.update_polars(radialaxis_tickangle=45)\n",
    "# fig.update_polars(angularaxis_rotation=45)\n",
    "# fig.update_polars(angularaxis_uirevision=45)\n",
    "# fig.update_polars(angularaxis_tickangle=45)\n",
    "fig.show()\n"
   ]
  },
  {
   "cell_type": "code",
   "execution_count": 41,
   "id": "stupid-stage",
   "metadata": {},
   "outputs": [
    {
     "name": "stderr",
     "output_type": "stream",
     "text": [
      "/gpfs/milgram/project/gee_dylan/lms233/conda_envs/mybrainiak/lib/python3.7/site-packages/ipykernel_launcher.py:3: SettingWithCopyWarning:\n",
      "\n",
      "\n",
      "A value is trying to be set on a copy of a slice from a DataFrame.\n",
      "Try using .loc[row_indexer,col_indexer] = value instead\n",
      "\n",
      "See the caveats in the documentation: https://pandas.pydata.org/pandas-docs/stable/user_guide/indexing.html#returning-a-view-versus-a-copy\n",
      "\n"
     ]
    },
    {
     "data": {
      "application/vnd.plotly.v1+json": {
       "config": {
        "plotlyServerURL": "https://plot.ly"
       },
       "data": [
        {
         "hovertemplate": "Group=1<br>Value=%{r}<br>Tract=%{theta}<extra></extra>",
         "legendgroup": "1",
         "line": {
          "color": "rgb(136, 204, 238)",
          "dash": "solid"
         },
         "mode": "lines",
         "name": "1",
         "r": [
          -0.0031477238563630524,
          0.0006629428870404909,
          0.0043579315711588075,
          -0.0034093141001222877,
          -0.002139700700723651,
          0.001453894548211653,
          0.0015613854980861424,
          0.0010981325090084015,
          0.001190483582176601,
          -0.0014754655409797378,
          -0.0024464182702984864,
          0.0005626931397076813,
          -0.0013948627998630282,
          0.004046981352279354,
          0.0014262232657852726,
          -0.0002518570745911384,
          -9.586354799723162e-05,
          0.0016732231712600649,
          -0.0012531800730060105,
          -0.002636538265555567,
          -0.0004706009391761654,
          -0.0031477238563630524
         ],
         "showlegend": true,
         "subplot": "polar",
         "theta": [
          "Anterior Thalamic Radiation ",
          "Arcuate fascicle ",
          "Cingulum ",
          "Corticospinal  ",
          "Fronto-pontine  ",
          "Inferior cerebellar peduncle ",
          "Inferior longitudinal fascicle ",
          "Inferior occipito-frontal fascicle ",
          "Optic radiation ",
          "Parieto‐occipital pontine ",
          "Striato-fronto-orbital ",
          "Striato-premotor ",
          "Superior Thalamic Radiation ",
          "Superior cerebellar peduncle ",
          "Superior longitudinal fascicle I ",
          "Superior longitudinal fascicle II ",
          "Superior longitudinal fascicle III ",
          "Thalamo-occipital ",
          "Thalamo-parietal ",
          "Thalamo-premotor ",
          "Uncinate fascicle ",
          "Anterior Thalamic Radiation "
         ],
         "type": "scatterpolar"
        },
        {
         "hovertemplate": "Group=2<br>Value=%{r}<br>Tract=%{theta}<extra></extra>",
         "legendgroup": "2",
         "line": {
          "color": "rgb(204, 102, 119)",
          "dash": "solid"
         },
         "mode": "lines",
         "name": "2",
         "r": [
          0.0038123101063824785,
          -0.004984741289658028,
          -0.025071763323617623,
          0.00860242832978951,
          -0.0018917071429066373,
          -0.0023454596436508837,
          -0.006942530151564347,
          0.002703792186551486,
          -0.006307822731903348,
          -0.010566922482798752,
          -0.007279148043824249,
          -0.0068982837388105525,
          -0.0007076070939520812,
          -0.013927695831714035,
          -0.005883237363444656,
          -0.006164968673864374,
          0.010081362114495361,
          -0.011971907138921024,
          -0.013874205894302646,
          -0.003968593794197124,
          -0.0029687636074209184,
          0.0038123101063824785
         ],
         "showlegend": true,
         "subplot": "polar",
         "theta": [
          "Anterior Thalamic Radiation ",
          "Arcuate fascicle ",
          "Cingulum ",
          "Corticospinal  ",
          "Fronto-pontine  ",
          "Inferior cerebellar peduncle ",
          "Inferior longitudinal fascicle ",
          "Inferior occipito-frontal fascicle ",
          "Optic radiation ",
          "Parieto‐occipital pontine ",
          "Striato-fronto-orbital ",
          "Striato-premotor ",
          "Superior Thalamic Radiation ",
          "Superior cerebellar peduncle ",
          "Superior longitudinal fascicle I ",
          "Superior longitudinal fascicle II ",
          "Superior longitudinal fascicle III ",
          "Thalamo-occipital ",
          "Thalamo-parietal ",
          "Thalamo-premotor ",
          "Uncinate fascicle ",
          "Anterior Thalamic Radiation "
         ],
         "type": "scatterpolar"
        },
        {
         "hovertemplate": "Group=3<br>Value=%{r}<br>Tract=%{theta}<extra></extra>",
         "legendgroup": "3",
         "line": {
          "color": "rgb(221, 204, 119)",
          "dash": "solid"
         },
         "mode": "lines",
         "name": "3",
         "r": [
          0.012666184480263559,
          -9.419451378990849e-05,
          -0.0053552039094555155,
          0.01096600365917192,
          0.011368853891392246,
          -0.005490598833840834,
          -0.0031742815129874656,
          -0.00690111946545785,
          -0.0017959538645955743,
          0.013539557184855059,
          0.016147009008391368,
          0.001561484249891464,
          0.007087873103315797,
          -0.01073009824520179,
          -0.0031815341208584844,
          0.00499499138581029,
          -0.005746719764627526,
          -0.0006126599620598958,
          0.014514677821597748,
          0.01501647098600006,
          0.004071335929866616,
          0.012666184480263559
         ],
         "showlegend": true,
         "subplot": "polar",
         "theta": [
          "Anterior Thalamic Radiation ",
          "Arcuate fascicle ",
          "Cingulum ",
          "Corticospinal  ",
          "Fronto-pontine  ",
          "Inferior cerebellar peduncle ",
          "Inferior longitudinal fascicle ",
          "Inferior occipito-frontal fascicle ",
          "Optic radiation ",
          "Parieto‐occipital pontine ",
          "Striato-fronto-orbital ",
          "Striato-premotor ",
          "Superior Thalamic Radiation ",
          "Superior cerebellar peduncle ",
          "Superior longitudinal fascicle I ",
          "Superior longitudinal fascicle II ",
          "Superior longitudinal fascicle III ",
          "Thalamo-occipital ",
          "Thalamo-parietal ",
          "Thalamo-premotor ",
          "Uncinate fascicle ",
          "Anterior Thalamic Radiation "
         ],
         "type": "scatterpolar"
        }
       ],
       "layout": {
        "legend": {
         "title": {
          "text": "Group"
         },
         "tracegroupgap": 0
        },
        "margin": {
         "t": 60
        },
        "polar": {
         "angularaxis": {
          "direction": "clockwise",
          "rotation": 90
         },
         "domain": {
          "x": [
           0,
           1
          ],
          "y": [
           0,
           1
          ]
         },
         "radialaxis": {
          "range": [
           -0.025,
           0.025
          ],
          "tickangle": 45
         }
        },
        "template": {
         "data": {
          "bar": [
           {
            "error_x": {
             "color": "#2a3f5f"
            },
            "error_y": {
             "color": "#2a3f5f"
            },
            "marker": {
             "line": {
              "color": "#E5ECF6",
              "width": 0.5
             }
            },
            "type": "bar"
           }
          ],
          "barpolar": [
           {
            "marker": {
             "line": {
              "color": "#E5ECF6",
              "width": 0.5
             }
            },
            "type": "barpolar"
           }
          ],
          "carpet": [
           {
            "aaxis": {
             "endlinecolor": "#2a3f5f",
             "gridcolor": "white",
             "linecolor": "white",
             "minorgridcolor": "white",
             "startlinecolor": "#2a3f5f"
            },
            "baxis": {
             "endlinecolor": "#2a3f5f",
             "gridcolor": "white",
             "linecolor": "white",
             "minorgridcolor": "white",
             "startlinecolor": "#2a3f5f"
            },
            "type": "carpet"
           }
          ],
          "choropleth": [
           {
            "colorbar": {
             "outlinewidth": 0,
             "ticks": ""
            },
            "type": "choropleth"
           }
          ],
          "contour": [
           {
            "colorbar": {
             "outlinewidth": 0,
             "ticks": ""
            },
            "colorscale": [
             [
              0,
              "#0d0887"
             ],
             [
              0.1111111111111111,
              "#46039f"
             ],
             [
              0.2222222222222222,
              "#7201a8"
             ],
             [
              0.3333333333333333,
              "#9c179e"
             ],
             [
              0.4444444444444444,
              "#bd3786"
             ],
             [
              0.5555555555555556,
              "#d8576b"
             ],
             [
              0.6666666666666666,
              "#ed7953"
             ],
             [
              0.7777777777777778,
              "#fb9f3a"
             ],
             [
              0.8888888888888888,
              "#fdca26"
             ],
             [
              1,
              "#f0f921"
             ]
            ],
            "type": "contour"
           }
          ],
          "contourcarpet": [
           {
            "colorbar": {
             "outlinewidth": 0,
             "ticks": ""
            },
            "type": "contourcarpet"
           }
          ],
          "heatmap": [
           {
            "colorbar": {
             "outlinewidth": 0,
             "ticks": ""
            },
            "colorscale": [
             [
              0,
              "#0d0887"
             ],
             [
              0.1111111111111111,
              "#46039f"
             ],
             [
              0.2222222222222222,
              "#7201a8"
             ],
             [
              0.3333333333333333,
              "#9c179e"
             ],
             [
              0.4444444444444444,
              "#bd3786"
             ],
             [
              0.5555555555555556,
              "#d8576b"
             ],
             [
              0.6666666666666666,
              "#ed7953"
             ],
             [
              0.7777777777777778,
              "#fb9f3a"
             ],
             [
              0.8888888888888888,
              "#fdca26"
             ],
             [
              1,
              "#f0f921"
             ]
            ],
            "type": "heatmap"
           }
          ],
          "heatmapgl": [
           {
            "colorbar": {
             "outlinewidth": 0,
             "ticks": ""
            },
            "colorscale": [
             [
              0,
              "#0d0887"
             ],
             [
              0.1111111111111111,
              "#46039f"
             ],
             [
              0.2222222222222222,
              "#7201a8"
             ],
             [
              0.3333333333333333,
              "#9c179e"
             ],
             [
              0.4444444444444444,
              "#bd3786"
             ],
             [
              0.5555555555555556,
              "#d8576b"
             ],
             [
              0.6666666666666666,
              "#ed7953"
             ],
             [
              0.7777777777777778,
              "#fb9f3a"
             ],
             [
              0.8888888888888888,
              "#fdca26"
             ],
             [
              1,
              "#f0f921"
             ]
            ],
            "type": "heatmapgl"
           }
          ],
          "histogram": [
           {
            "marker": {
             "colorbar": {
              "outlinewidth": 0,
              "ticks": ""
             }
            },
            "type": "histogram"
           }
          ],
          "histogram2d": [
           {
            "colorbar": {
             "outlinewidth": 0,
             "ticks": ""
            },
            "colorscale": [
             [
              0,
              "#0d0887"
             ],
             [
              0.1111111111111111,
              "#46039f"
             ],
             [
              0.2222222222222222,
              "#7201a8"
             ],
             [
              0.3333333333333333,
              "#9c179e"
             ],
             [
              0.4444444444444444,
              "#bd3786"
             ],
             [
              0.5555555555555556,
              "#d8576b"
             ],
             [
              0.6666666666666666,
              "#ed7953"
             ],
             [
              0.7777777777777778,
              "#fb9f3a"
             ],
             [
              0.8888888888888888,
              "#fdca26"
             ],
             [
              1,
              "#f0f921"
             ]
            ],
            "type": "histogram2d"
           }
          ],
          "histogram2dcontour": [
           {
            "colorbar": {
             "outlinewidth": 0,
             "ticks": ""
            },
            "colorscale": [
             [
              0,
              "#0d0887"
             ],
             [
              0.1111111111111111,
              "#46039f"
             ],
             [
              0.2222222222222222,
              "#7201a8"
             ],
             [
              0.3333333333333333,
              "#9c179e"
             ],
             [
              0.4444444444444444,
              "#bd3786"
             ],
             [
              0.5555555555555556,
              "#d8576b"
             ],
             [
              0.6666666666666666,
              "#ed7953"
             ],
             [
              0.7777777777777778,
              "#fb9f3a"
             ],
             [
              0.8888888888888888,
              "#fdca26"
             ],
             [
              1,
              "#f0f921"
             ]
            ],
            "type": "histogram2dcontour"
           }
          ],
          "mesh3d": [
           {
            "colorbar": {
             "outlinewidth": 0,
             "ticks": ""
            },
            "type": "mesh3d"
           }
          ],
          "parcoords": [
           {
            "line": {
             "colorbar": {
              "outlinewidth": 0,
              "ticks": ""
             }
            },
            "type": "parcoords"
           }
          ],
          "pie": [
           {
            "automargin": true,
            "type": "pie"
           }
          ],
          "scatter": [
           {
            "marker": {
             "colorbar": {
              "outlinewidth": 0,
              "ticks": ""
             }
            },
            "type": "scatter"
           }
          ],
          "scatter3d": [
           {
            "line": {
             "colorbar": {
              "outlinewidth": 0,
              "ticks": ""
             }
            },
            "marker": {
             "colorbar": {
              "outlinewidth": 0,
              "ticks": ""
             }
            },
            "type": "scatter3d"
           }
          ],
          "scattercarpet": [
           {
            "marker": {
             "colorbar": {
              "outlinewidth": 0,
              "ticks": ""
             }
            },
            "type": "scattercarpet"
           }
          ],
          "scattergeo": [
           {
            "marker": {
             "colorbar": {
              "outlinewidth": 0,
              "ticks": ""
             }
            },
            "type": "scattergeo"
           }
          ],
          "scattergl": [
           {
            "marker": {
             "colorbar": {
              "outlinewidth": 0,
              "ticks": ""
             }
            },
            "type": "scattergl"
           }
          ],
          "scattermapbox": [
           {
            "marker": {
             "colorbar": {
              "outlinewidth": 0,
              "ticks": ""
             }
            },
            "type": "scattermapbox"
           }
          ],
          "scatterpolar": [
           {
            "marker": {
             "colorbar": {
              "outlinewidth": 0,
              "ticks": ""
             }
            },
            "type": "scatterpolar"
           }
          ],
          "scatterpolargl": [
           {
            "marker": {
             "colorbar": {
              "outlinewidth": 0,
              "ticks": ""
             }
            },
            "type": "scatterpolargl"
           }
          ],
          "scatterternary": [
           {
            "marker": {
             "colorbar": {
              "outlinewidth": 0,
              "ticks": ""
             }
            },
            "type": "scatterternary"
           }
          ],
          "surface": [
           {
            "colorbar": {
             "outlinewidth": 0,
             "ticks": ""
            },
            "colorscale": [
             [
              0,
              "#0d0887"
             ],
             [
              0.1111111111111111,
              "#46039f"
             ],
             [
              0.2222222222222222,
              "#7201a8"
             ],
             [
              0.3333333333333333,
              "#9c179e"
             ],
             [
              0.4444444444444444,
              "#bd3786"
             ],
             [
              0.5555555555555556,
              "#d8576b"
             ],
             [
              0.6666666666666666,
              "#ed7953"
             ],
             [
              0.7777777777777778,
              "#fb9f3a"
             ],
             [
              0.8888888888888888,
              "#fdca26"
             ],
             [
              1,
              "#f0f921"
             ]
            ],
            "type": "surface"
           }
          ],
          "table": [
           {
            "cells": {
             "fill": {
              "color": "#EBF0F8"
             },
             "line": {
              "color": "white"
             }
            },
            "header": {
             "fill": {
              "color": "#C8D4E3"
             },
             "line": {
              "color": "white"
             }
            },
            "type": "table"
           }
          ]
         },
         "layout": {
          "annotationdefaults": {
           "arrowcolor": "#2a3f5f",
           "arrowhead": 0,
           "arrowwidth": 1
          },
          "autotypenumbers": "strict",
          "coloraxis": {
           "colorbar": {
            "outlinewidth": 0,
            "ticks": ""
           }
          },
          "colorscale": {
           "diverging": [
            [
             0,
             "#8e0152"
            ],
            [
             0.1,
             "#c51b7d"
            ],
            [
             0.2,
             "#de77ae"
            ],
            [
             0.3,
             "#f1b6da"
            ],
            [
             0.4,
             "#fde0ef"
            ],
            [
             0.5,
             "#f7f7f7"
            ],
            [
             0.6,
             "#e6f5d0"
            ],
            [
             0.7,
             "#b8e186"
            ],
            [
             0.8,
             "#7fbc41"
            ],
            [
             0.9,
             "#4d9221"
            ],
            [
             1,
             "#276419"
            ]
           ],
           "sequential": [
            [
             0,
             "#0d0887"
            ],
            [
             0.1111111111111111,
             "#46039f"
            ],
            [
             0.2222222222222222,
             "#7201a8"
            ],
            [
             0.3333333333333333,
             "#9c179e"
            ],
            [
             0.4444444444444444,
             "#bd3786"
            ],
            [
             0.5555555555555556,
             "#d8576b"
            ],
            [
             0.6666666666666666,
             "#ed7953"
            ],
            [
             0.7777777777777778,
             "#fb9f3a"
            ],
            [
             0.8888888888888888,
             "#fdca26"
            ],
            [
             1,
             "#f0f921"
            ]
           ],
           "sequentialminus": [
            [
             0,
             "#0d0887"
            ],
            [
             0.1111111111111111,
             "#46039f"
            ],
            [
             0.2222222222222222,
             "#7201a8"
            ],
            [
             0.3333333333333333,
             "#9c179e"
            ],
            [
             0.4444444444444444,
             "#bd3786"
            ],
            [
             0.5555555555555556,
             "#d8576b"
            ],
            [
             0.6666666666666666,
             "#ed7953"
            ],
            [
             0.7777777777777778,
             "#fb9f3a"
            ],
            [
             0.8888888888888888,
             "#fdca26"
            ],
            [
             1,
             "#f0f921"
            ]
           ]
          },
          "colorway": [
           "#636efa",
           "#EF553B",
           "#00cc96",
           "#ab63fa",
           "#FFA15A",
           "#19d3f3",
           "#FF6692",
           "#B6E880",
           "#FF97FF",
           "#FECB52"
          ],
          "font": {
           "color": "#2a3f5f"
          },
          "geo": {
           "bgcolor": "white",
           "lakecolor": "white",
           "landcolor": "#E5ECF6",
           "showlakes": true,
           "showland": true,
           "subunitcolor": "white"
          },
          "hoverlabel": {
           "align": "left"
          },
          "hovermode": "closest",
          "mapbox": {
           "style": "light"
          },
          "paper_bgcolor": "white",
          "plot_bgcolor": "#E5ECF6",
          "polar": {
           "angularaxis": {
            "gridcolor": "white",
            "linecolor": "white",
            "ticks": ""
           },
           "bgcolor": "#E5ECF6",
           "radialaxis": {
            "gridcolor": "white",
            "linecolor": "white",
            "ticks": ""
           }
          },
          "scene": {
           "xaxis": {
            "backgroundcolor": "#E5ECF6",
            "gridcolor": "white",
            "gridwidth": 2,
            "linecolor": "white",
            "showbackground": true,
            "ticks": "",
            "zerolinecolor": "white"
           },
           "yaxis": {
            "backgroundcolor": "#E5ECF6",
            "gridcolor": "white",
            "gridwidth": 2,
            "linecolor": "white",
            "showbackground": true,
            "ticks": "",
            "zerolinecolor": "white"
           },
           "zaxis": {
            "backgroundcolor": "#E5ECF6",
            "gridcolor": "white",
            "gridwidth": 2,
            "linecolor": "white",
            "showbackground": true,
            "ticks": "",
            "zerolinecolor": "white"
           }
          },
          "shapedefaults": {
           "line": {
            "color": "#2a3f5f"
           }
          },
          "ternary": {
           "aaxis": {
            "gridcolor": "white",
            "linecolor": "white",
            "ticks": ""
           },
           "baxis": {
            "gridcolor": "white",
            "linecolor": "white",
            "ticks": ""
           },
           "bgcolor": "#E5ECF6",
           "caxis": {
            "gridcolor": "white",
            "linecolor": "white",
            "ticks": ""
           }
          },
          "title": {
           "x": 0.05
          },
          "xaxis": {
           "automargin": true,
           "gridcolor": "white",
           "linecolor": "white",
           "ticks": "",
           "title": {
            "standoff": 15
           },
           "zerolinecolor": "white",
           "zerolinewidth": 2
          },
          "yaxis": {
           "automargin": true,
           "gridcolor": "white",
           "linecolor": "white",
           "ticks": "",
           "title": {
            "standoff": 15
           },
           "zerolinecolor": "white",
           "zerolinewidth": 2
          }
         }
        }
       }
      },
      "text/html": [
       "<div>                            <div id=\"887bfc2c-8161-4f4b-a745-17c7f3613a9c\" class=\"plotly-graph-div\" style=\"height:525px; width:100%;\"></div>            <script type=\"text/javascript\">                require([\"plotly\"], function(Plotly) {                    window.PLOTLYENV=window.PLOTLYENV || {};                                    if (document.getElementById(\"887bfc2c-8161-4f4b-a745-17c7f3613a9c\")) {                    Plotly.newPlot(                        \"887bfc2c-8161-4f4b-a745-17c7f3613a9c\",                        [{\"hovertemplate\": \"Group=1<br>Value=%{r}<br>Tract=%{theta}<extra></extra>\", \"legendgroup\": \"1\", \"line\": {\"color\": \"rgb(136, 204, 238)\", \"dash\": \"solid\"}, \"mode\": \"lines\", \"name\": \"1\", \"r\": [-0.0031477238563630524, 0.0006629428870404909, 0.0043579315711588075, -0.0034093141001222877, -0.002139700700723651, 0.001453894548211653, 0.0015613854980861424, 0.0010981325090084015, 0.001190483582176601, -0.0014754655409797378, -0.0024464182702984864, 0.0005626931397076813, -0.0013948627998630282, 0.004046981352279354, 0.0014262232657852726, -0.0002518570745911384, -9.586354799723162e-05, 0.0016732231712600649, -0.0012531800730060105, -0.002636538265555567, -0.0004706009391761654, -0.0031477238563630524], \"showlegend\": true, \"subplot\": \"polar\", \"theta\": [\"Anterior Thalamic Radiation \", \"Arcuate fascicle \", \"Cingulum \", \"Corticospinal  \", \"Fronto-pontine  \", \"Inferior cerebellar peduncle \", \"Inferior longitudinal fascicle \", \"Inferior occipito-frontal fascicle \", \"Optic radiation \", \"Parieto\\u2010occipital pontine \", \"Striato-fronto-orbital \", \"Striato-premotor \", \"Superior Thalamic Radiation \", \"Superior cerebellar peduncle \", \"Superior longitudinal fascicle I \", \"Superior longitudinal fascicle II \", \"Superior longitudinal fascicle III \", \"Thalamo-occipital \", \"Thalamo-parietal \", \"Thalamo-premotor \", \"Uncinate fascicle \", \"Anterior Thalamic Radiation \"], \"type\": \"scatterpolar\"}, {\"hovertemplate\": \"Group=2<br>Value=%{r}<br>Tract=%{theta}<extra></extra>\", \"legendgroup\": \"2\", \"line\": {\"color\": \"rgb(204, 102, 119)\", \"dash\": \"solid\"}, \"mode\": \"lines\", \"name\": \"2\", \"r\": [0.0038123101063824785, -0.004984741289658028, -0.025071763323617623, 0.00860242832978951, -0.0018917071429066373, -0.0023454596436508837, -0.006942530151564347, 0.002703792186551486, -0.006307822731903348, -0.010566922482798752, -0.007279148043824249, -0.0068982837388105525, -0.0007076070939520812, -0.013927695831714035, -0.005883237363444656, -0.006164968673864374, 0.010081362114495361, -0.011971907138921024, -0.013874205894302646, -0.003968593794197124, -0.0029687636074209184, 0.0038123101063824785], \"showlegend\": true, \"subplot\": \"polar\", \"theta\": [\"Anterior Thalamic Radiation \", \"Arcuate fascicle \", \"Cingulum \", \"Corticospinal  \", \"Fronto-pontine  \", \"Inferior cerebellar peduncle \", \"Inferior longitudinal fascicle \", \"Inferior occipito-frontal fascicle \", \"Optic radiation \", \"Parieto\\u2010occipital pontine \", \"Striato-fronto-orbital \", \"Striato-premotor \", \"Superior Thalamic Radiation \", \"Superior cerebellar peduncle \", \"Superior longitudinal fascicle I \", \"Superior longitudinal fascicle II \", \"Superior longitudinal fascicle III \", \"Thalamo-occipital \", \"Thalamo-parietal \", \"Thalamo-premotor \", \"Uncinate fascicle \", \"Anterior Thalamic Radiation \"], \"type\": \"scatterpolar\"}, {\"hovertemplate\": \"Group=3<br>Value=%{r}<br>Tract=%{theta}<extra></extra>\", \"legendgroup\": \"3\", \"line\": {\"color\": \"rgb(221, 204, 119)\", \"dash\": \"solid\"}, \"mode\": \"lines\", \"name\": \"3\", \"r\": [0.012666184480263559, -9.419451378990849e-05, -0.0053552039094555155, 0.01096600365917192, 0.011368853891392246, -0.005490598833840834, -0.0031742815129874656, -0.00690111946545785, -0.0017959538645955743, 0.013539557184855059, 0.016147009008391368, 0.001561484249891464, 0.007087873103315797, -0.01073009824520179, -0.0031815341208584844, 0.00499499138581029, -0.005746719764627526, -0.0006126599620598958, 0.014514677821597748, 0.01501647098600006, 0.004071335929866616, 0.012666184480263559], \"showlegend\": true, \"subplot\": \"polar\", \"theta\": [\"Anterior Thalamic Radiation \", \"Arcuate fascicle \", \"Cingulum \", \"Corticospinal  \", \"Fronto-pontine  \", \"Inferior cerebellar peduncle \", \"Inferior longitudinal fascicle \", \"Inferior occipito-frontal fascicle \", \"Optic radiation \", \"Parieto\\u2010occipital pontine \", \"Striato-fronto-orbital \", \"Striato-premotor \", \"Superior Thalamic Radiation \", \"Superior cerebellar peduncle \", \"Superior longitudinal fascicle I \", \"Superior longitudinal fascicle II \", \"Superior longitudinal fascicle III \", \"Thalamo-occipital \", \"Thalamo-parietal \", \"Thalamo-premotor \", \"Uncinate fascicle \", \"Anterior Thalamic Radiation \"], \"type\": \"scatterpolar\"}],                        {\"legend\": {\"title\": {\"text\": \"Group\"}, \"tracegroupgap\": 0}, \"margin\": {\"t\": 60}, \"polar\": {\"angularaxis\": {\"direction\": \"clockwise\", \"rotation\": 90}, \"domain\": {\"x\": [0.0, 1.0], \"y\": [0.0, 1.0]}, \"radialaxis\": {\"range\": [-0.025, 0.025], \"tickangle\": 45}}, \"template\": {\"data\": {\"bar\": [{\"error_x\": {\"color\": \"#2a3f5f\"}, \"error_y\": {\"color\": \"#2a3f5f\"}, \"marker\": {\"line\": {\"color\": \"#E5ECF6\", \"width\": 0.5}}, \"type\": \"bar\"}], \"barpolar\": [{\"marker\": {\"line\": {\"color\": \"#E5ECF6\", \"width\": 0.5}}, \"type\": \"barpolar\"}], \"carpet\": [{\"aaxis\": {\"endlinecolor\": \"#2a3f5f\", \"gridcolor\": \"white\", \"linecolor\": \"white\", \"minorgridcolor\": \"white\", \"startlinecolor\": \"#2a3f5f\"}, \"baxis\": {\"endlinecolor\": \"#2a3f5f\", \"gridcolor\": \"white\", \"linecolor\": \"white\", \"minorgridcolor\": \"white\", \"startlinecolor\": \"#2a3f5f\"}, \"type\": \"carpet\"}], \"choropleth\": [{\"colorbar\": {\"outlinewidth\": 0, \"ticks\": \"\"}, \"type\": \"choropleth\"}], \"contour\": [{\"colorbar\": {\"outlinewidth\": 0, \"ticks\": \"\"}, \"colorscale\": [[0.0, \"#0d0887\"], [0.1111111111111111, \"#46039f\"], [0.2222222222222222, \"#7201a8\"], [0.3333333333333333, \"#9c179e\"], [0.4444444444444444, \"#bd3786\"], [0.5555555555555556, \"#d8576b\"], [0.6666666666666666, \"#ed7953\"], [0.7777777777777778, \"#fb9f3a\"], [0.8888888888888888, \"#fdca26\"], [1.0, \"#f0f921\"]], \"type\": \"contour\"}], \"contourcarpet\": [{\"colorbar\": {\"outlinewidth\": 0, \"ticks\": \"\"}, \"type\": \"contourcarpet\"}], \"heatmap\": [{\"colorbar\": {\"outlinewidth\": 0, \"ticks\": \"\"}, \"colorscale\": [[0.0, \"#0d0887\"], [0.1111111111111111, \"#46039f\"], [0.2222222222222222, \"#7201a8\"], [0.3333333333333333, \"#9c179e\"], [0.4444444444444444, \"#bd3786\"], [0.5555555555555556, \"#d8576b\"], [0.6666666666666666, \"#ed7953\"], [0.7777777777777778, \"#fb9f3a\"], [0.8888888888888888, \"#fdca26\"], [1.0, \"#f0f921\"]], \"type\": \"heatmap\"}], \"heatmapgl\": [{\"colorbar\": {\"outlinewidth\": 0, \"ticks\": \"\"}, \"colorscale\": [[0.0, \"#0d0887\"], [0.1111111111111111, \"#46039f\"], [0.2222222222222222, \"#7201a8\"], [0.3333333333333333, \"#9c179e\"], [0.4444444444444444, \"#bd3786\"], [0.5555555555555556, \"#d8576b\"], [0.6666666666666666, \"#ed7953\"], [0.7777777777777778, \"#fb9f3a\"], [0.8888888888888888, \"#fdca26\"], [1.0, \"#f0f921\"]], \"type\": \"heatmapgl\"}], \"histogram\": [{\"marker\": {\"colorbar\": {\"outlinewidth\": 0, \"ticks\": \"\"}}, \"type\": \"histogram\"}], \"histogram2d\": [{\"colorbar\": {\"outlinewidth\": 0, \"ticks\": \"\"}, \"colorscale\": [[0.0, \"#0d0887\"], [0.1111111111111111, \"#46039f\"], [0.2222222222222222, \"#7201a8\"], [0.3333333333333333, \"#9c179e\"], [0.4444444444444444, \"#bd3786\"], [0.5555555555555556, \"#d8576b\"], [0.6666666666666666, \"#ed7953\"], [0.7777777777777778, \"#fb9f3a\"], [0.8888888888888888, \"#fdca26\"], [1.0, \"#f0f921\"]], \"type\": \"histogram2d\"}], \"histogram2dcontour\": [{\"colorbar\": {\"outlinewidth\": 0, \"ticks\": \"\"}, \"colorscale\": [[0.0, \"#0d0887\"], [0.1111111111111111, \"#46039f\"], [0.2222222222222222, \"#7201a8\"], [0.3333333333333333, \"#9c179e\"], [0.4444444444444444, \"#bd3786\"], [0.5555555555555556, \"#d8576b\"], [0.6666666666666666, \"#ed7953\"], [0.7777777777777778, \"#fb9f3a\"], [0.8888888888888888, \"#fdca26\"], [1.0, \"#f0f921\"]], \"type\": \"histogram2dcontour\"}], \"mesh3d\": [{\"colorbar\": {\"outlinewidth\": 0, \"ticks\": \"\"}, \"type\": \"mesh3d\"}], \"parcoords\": [{\"line\": {\"colorbar\": {\"outlinewidth\": 0, \"ticks\": \"\"}}, \"type\": \"parcoords\"}], \"pie\": [{\"automargin\": true, \"type\": \"pie\"}], \"scatter\": [{\"marker\": {\"colorbar\": {\"outlinewidth\": 0, \"ticks\": \"\"}}, \"type\": \"scatter\"}], \"scatter3d\": [{\"line\": {\"colorbar\": {\"outlinewidth\": 0, \"ticks\": \"\"}}, \"marker\": {\"colorbar\": {\"outlinewidth\": 0, \"ticks\": \"\"}}, \"type\": \"scatter3d\"}], \"scattercarpet\": [{\"marker\": {\"colorbar\": {\"outlinewidth\": 0, \"ticks\": \"\"}}, \"type\": \"scattercarpet\"}], \"scattergeo\": [{\"marker\": {\"colorbar\": {\"outlinewidth\": 0, \"ticks\": \"\"}}, \"type\": \"scattergeo\"}], \"scattergl\": [{\"marker\": {\"colorbar\": {\"outlinewidth\": 0, \"ticks\": \"\"}}, \"type\": \"scattergl\"}], \"scattermapbox\": [{\"marker\": {\"colorbar\": {\"outlinewidth\": 0, \"ticks\": \"\"}}, \"type\": \"scattermapbox\"}], \"scatterpolar\": [{\"marker\": {\"colorbar\": {\"outlinewidth\": 0, \"ticks\": \"\"}}, \"type\": \"scatterpolar\"}], \"scatterpolargl\": [{\"marker\": {\"colorbar\": {\"outlinewidth\": 0, \"ticks\": \"\"}}, \"type\": \"scatterpolargl\"}], \"scatterternary\": [{\"marker\": {\"colorbar\": {\"outlinewidth\": 0, \"ticks\": \"\"}}, \"type\": \"scatterternary\"}], \"surface\": [{\"colorbar\": {\"outlinewidth\": 0, \"ticks\": \"\"}, \"colorscale\": [[0.0, \"#0d0887\"], [0.1111111111111111, \"#46039f\"], [0.2222222222222222, \"#7201a8\"], [0.3333333333333333, \"#9c179e\"], [0.4444444444444444, \"#bd3786\"], [0.5555555555555556, \"#d8576b\"], [0.6666666666666666, \"#ed7953\"], [0.7777777777777778, \"#fb9f3a\"], [0.8888888888888888, \"#fdca26\"], [1.0, \"#f0f921\"]], \"type\": \"surface\"}], \"table\": [{\"cells\": {\"fill\": {\"color\": \"#EBF0F8\"}, \"line\": {\"color\": \"white\"}}, \"header\": {\"fill\": {\"color\": \"#C8D4E3\"}, \"line\": {\"color\": \"white\"}}, \"type\": \"table\"}]}, \"layout\": {\"annotationdefaults\": {\"arrowcolor\": \"#2a3f5f\", \"arrowhead\": 0, \"arrowwidth\": 1}, \"autotypenumbers\": \"strict\", \"coloraxis\": {\"colorbar\": {\"outlinewidth\": 0, \"ticks\": \"\"}}, \"colorscale\": {\"diverging\": [[0, \"#8e0152\"], [0.1, \"#c51b7d\"], [0.2, \"#de77ae\"], [0.3, \"#f1b6da\"], [0.4, \"#fde0ef\"], [0.5, \"#f7f7f7\"], [0.6, \"#e6f5d0\"], [0.7, \"#b8e186\"], [0.8, \"#7fbc41\"], [0.9, \"#4d9221\"], [1, \"#276419\"]], \"sequential\": [[0.0, \"#0d0887\"], [0.1111111111111111, \"#46039f\"], [0.2222222222222222, \"#7201a8\"], [0.3333333333333333, \"#9c179e\"], [0.4444444444444444, \"#bd3786\"], [0.5555555555555556, \"#d8576b\"], [0.6666666666666666, \"#ed7953\"], [0.7777777777777778, \"#fb9f3a\"], [0.8888888888888888, \"#fdca26\"], [1.0, \"#f0f921\"]], \"sequentialminus\": [[0.0, \"#0d0887\"], [0.1111111111111111, \"#46039f\"], [0.2222222222222222, \"#7201a8\"], [0.3333333333333333, \"#9c179e\"], [0.4444444444444444, \"#bd3786\"], [0.5555555555555556, \"#d8576b\"], [0.6666666666666666, \"#ed7953\"], [0.7777777777777778, \"#fb9f3a\"], [0.8888888888888888, \"#fdca26\"], [1.0, \"#f0f921\"]]}, \"colorway\": [\"#636efa\", \"#EF553B\", \"#00cc96\", \"#ab63fa\", \"#FFA15A\", \"#19d3f3\", \"#FF6692\", \"#B6E880\", \"#FF97FF\", \"#FECB52\"], \"font\": {\"color\": \"#2a3f5f\"}, \"geo\": {\"bgcolor\": \"white\", \"lakecolor\": \"white\", \"landcolor\": \"#E5ECF6\", \"showlakes\": true, \"showland\": true, \"subunitcolor\": \"white\"}, \"hoverlabel\": {\"align\": \"left\"}, \"hovermode\": \"closest\", \"mapbox\": {\"style\": \"light\"}, \"paper_bgcolor\": \"white\", \"plot_bgcolor\": \"#E5ECF6\", \"polar\": {\"angularaxis\": {\"gridcolor\": \"white\", \"linecolor\": \"white\", \"ticks\": \"\"}, \"bgcolor\": \"#E5ECF6\", \"radialaxis\": {\"gridcolor\": \"white\", \"linecolor\": \"white\", \"ticks\": \"\"}}, \"scene\": {\"xaxis\": {\"backgroundcolor\": \"#E5ECF6\", \"gridcolor\": \"white\", \"gridwidth\": 2, \"linecolor\": \"white\", \"showbackground\": true, \"ticks\": \"\", \"zerolinecolor\": \"white\"}, \"yaxis\": {\"backgroundcolor\": \"#E5ECF6\", \"gridcolor\": \"white\", \"gridwidth\": 2, \"linecolor\": \"white\", \"showbackground\": true, \"ticks\": \"\", \"zerolinecolor\": \"white\"}, \"zaxis\": {\"backgroundcolor\": \"#E5ECF6\", \"gridcolor\": \"white\", \"gridwidth\": 2, \"linecolor\": \"white\", \"showbackground\": true, \"ticks\": \"\", \"zerolinecolor\": \"white\"}}, \"shapedefaults\": {\"line\": {\"color\": \"#2a3f5f\"}}, \"ternary\": {\"aaxis\": {\"gridcolor\": \"white\", \"linecolor\": \"white\", \"ticks\": \"\"}, \"baxis\": {\"gridcolor\": \"white\", \"linecolor\": \"white\", \"ticks\": \"\"}, \"bgcolor\": \"#E5ECF6\", \"caxis\": {\"gridcolor\": \"white\", \"linecolor\": \"white\", \"ticks\": \"\"}}, \"title\": {\"x\": 0.05}, \"xaxis\": {\"automargin\": true, \"gridcolor\": \"white\", \"linecolor\": \"white\", \"ticks\": \"\", \"title\": {\"standoff\": 15}, \"zerolinecolor\": \"white\", \"zerolinewidth\": 2}, \"yaxis\": {\"automargin\": true, \"gridcolor\": \"white\", \"linecolor\": \"white\", \"ticks\": \"\", \"title\": {\"standoff\": 15}, \"zerolinecolor\": \"white\", \"zerolinewidth\": 2}}}},                        {\"responsive\": true}                    ).then(function(){\n",
       "                            \n",
       "var gd = document.getElementById('887bfc2c-8161-4f4b-a745-17c7f3613a9c');\n",
       "var x = new MutationObserver(function (mutations, observer) {{\n",
       "        var display = window.getComputedStyle(gd).display;\n",
       "        if (!display || display === 'none') {{\n",
       "            console.log([gd, 'removed!']);\n",
       "            Plotly.purge(gd);\n",
       "            observer.disconnect();\n",
       "        }}\n",
       "}});\n",
       "\n",
       "// Listen for the removal of the full notebook cells\n",
       "var notebookContainer = gd.closest('#notebook-container');\n",
       "if (notebookContainer) {{\n",
       "    x.observe(notebookContainer, {childList: true});\n",
       "}}\n",
       "\n",
       "// Listen for the clearing of the current output cell\n",
       "var outputEl = gd.closest('.output');\n",
       "if (outputEl) {{\n",
       "    x.observe(outputEl, {childList: true});\n",
       "}}\n",
       "\n",
       "                        })                };                });            </script>        </div>"
      ]
     },
     "metadata": {},
     "output_type": "display_data"
    }
   ],
   "source": [
    "# Spider Plots\n",
    "import plotly.graph_objects as go\n",
    "right_plottingdf['Tract'] = right_plottingdf['Tract'].str.replace('right', '').str.replace('tract', '')\n",
    "fig = px.line_polar(right_plottingdf, r='Value', theta=\"Tract\", color=\"Group\", line_close=True,\n",
    "                    color_discrete_sequence=px.colors.qualitative.Safe, range_r=[-0.025, 0.025])\n",
    "fig.update_polars(radialaxis_tickangle=45)\n",
    "# fig.update_polars(angularaxis_rotation=45)\n",
    "# fig.update_polars(angularaxis_uirevision=45)\n",
    "# fig.update_polars(angularaxis_tickangle=45)\n",
    "fig.show()\n"
   ]
  },
  {
   "cell_type": "code",
   "execution_count": 42,
   "id": "intermediate-lounge",
   "metadata": {},
   "outputs": [
    {
     "data": {
      "application/vnd.plotly.v1+json": {
       "config": {
        "plotlyServerURL": "https://plot.ly"
       },
       "data": [
        {
         "hovertemplate": "Group=1<br>Value=%{r}<br>Tract=%{theta}<extra></extra>",
         "legendgroup": "1",
         "line": {
          "color": "rgb(136, 204, 238)",
          "dash": "solid"
         },
         "mode": "lines",
         "name": "1",
         "r": [
          0.0011497906247469442,
          -0.0001567639183469439,
          0.000357851586442182,
          -0.0005531708965559986,
          0.001527625241241074,
          -0.001034840351409417,
          0.001511859773597495,
          0.0012715844785781837,
          0.0011497906247469442
         ],
         "showlegend": true,
         "subplot": "polar",
         "theta": [
          "Corpus Callosum Anterior midbody (Primary Motor)",
          "Corpus Callosum Genu",
          "Corpus Callosum Isthmus",
          "Corpus Callosum Posterior midbody (Primary Somatosensory)",
          "Corpus Callosum Rostral body (Premotor)",
          "Corpus Callosum Rostrum",
          "Corpus Callosum Splenium",
          "Middle cerebellar peduncle",
          "Corpus Callosum Anterior midbody (Primary Motor)"
         ],
         "type": "scatterpolar"
        },
        {
         "hovertemplate": "Group=2<br>Value=%{r}<br>Tract=%{theta}<extra></extra>",
         "legendgroup": "2",
         "line": {
          "color": "rgb(204, 102, 119)",
          "dash": "solid"
         },
         "mode": "lines",
         "name": "2",
         "r": [
          -0.0029820818821705702,
          -0.009956836034928904,
          -0.012287440443239109,
          -0.006966846334193172,
          -0.012602608036022395,
          -0.006982178549102436,
          -0.011612264433442307,
          0.005733660168215263,
          -0.0029820818821705702
         ],
         "showlegend": true,
         "subplot": "polar",
         "theta": [
          "Corpus Callosum Anterior midbody (Primary Motor)",
          "Corpus Callosum Genu",
          "Corpus Callosum Isthmus",
          "Corpus Callosum Posterior midbody (Primary Somatosensory)",
          "Corpus Callosum Rostral body (Premotor)",
          "Corpus Callosum Rostrum",
          "Corpus Callosum Splenium",
          "Middle cerebellar peduncle",
          "Corpus Callosum Anterior midbody (Primary Motor)"
         ],
         "type": "scatterpolar"
        },
        {
         "hovertemplate": "Group=3<br>Value=%{r}<br>Tract=%{theta}<extra></extra>",
         "legendgroup": "3",
         "line": {
          "color": "rgb(221, 204, 119)",
          "dash": "solid"
         },
         "mode": "lines",
         "name": "3",
         "r": [
          -0.0036484895136124204,
          0.006874927016685666,
          0.005854825014343645,
          0.006925489712306426,
          0.0004698537947076659,
          0.009232117706167135,
          -6.439926888728981e-05,
          -0.009592886078277322,
          -0.0036484895136124204
         ],
         "showlegend": true,
         "subplot": "polar",
         "theta": [
          "Corpus Callosum Anterior midbody (Primary Motor)",
          "Corpus Callosum Genu",
          "Corpus Callosum Isthmus",
          "Corpus Callosum Posterior midbody (Primary Somatosensory)",
          "Corpus Callosum Rostral body (Premotor)",
          "Corpus Callosum Rostrum",
          "Corpus Callosum Splenium",
          "Middle cerebellar peduncle",
          "Corpus Callosum Anterior midbody (Primary Motor)"
         ],
         "type": "scatterpolar"
        }
       ],
       "layout": {
        "legend": {
         "title": {
          "text": "Group"
         },
         "tracegroupgap": 0
        },
        "margin": {
         "t": 60
        },
        "polar": {
         "angularaxis": {
          "direction": "clockwise",
          "rotation": 90
         },
         "domain": {
          "x": [
           0,
           1
          ],
          "y": [
           0,
           1
          ]
         },
         "radialaxis": {
          "range": [
           -0.025,
           0.025
          ],
          "tickangle": 45
         }
        },
        "template": {
         "data": {
          "bar": [
           {
            "error_x": {
             "color": "#2a3f5f"
            },
            "error_y": {
             "color": "#2a3f5f"
            },
            "marker": {
             "line": {
              "color": "#E5ECF6",
              "width": 0.5
             }
            },
            "type": "bar"
           }
          ],
          "barpolar": [
           {
            "marker": {
             "line": {
              "color": "#E5ECF6",
              "width": 0.5
             }
            },
            "type": "barpolar"
           }
          ],
          "carpet": [
           {
            "aaxis": {
             "endlinecolor": "#2a3f5f",
             "gridcolor": "white",
             "linecolor": "white",
             "minorgridcolor": "white",
             "startlinecolor": "#2a3f5f"
            },
            "baxis": {
             "endlinecolor": "#2a3f5f",
             "gridcolor": "white",
             "linecolor": "white",
             "minorgridcolor": "white",
             "startlinecolor": "#2a3f5f"
            },
            "type": "carpet"
           }
          ],
          "choropleth": [
           {
            "colorbar": {
             "outlinewidth": 0,
             "ticks": ""
            },
            "type": "choropleth"
           }
          ],
          "contour": [
           {
            "colorbar": {
             "outlinewidth": 0,
             "ticks": ""
            },
            "colorscale": [
             [
              0,
              "#0d0887"
             ],
             [
              0.1111111111111111,
              "#46039f"
             ],
             [
              0.2222222222222222,
              "#7201a8"
             ],
             [
              0.3333333333333333,
              "#9c179e"
             ],
             [
              0.4444444444444444,
              "#bd3786"
             ],
             [
              0.5555555555555556,
              "#d8576b"
             ],
             [
              0.6666666666666666,
              "#ed7953"
             ],
             [
              0.7777777777777778,
              "#fb9f3a"
             ],
             [
              0.8888888888888888,
              "#fdca26"
             ],
             [
              1,
              "#f0f921"
             ]
            ],
            "type": "contour"
           }
          ],
          "contourcarpet": [
           {
            "colorbar": {
             "outlinewidth": 0,
             "ticks": ""
            },
            "type": "contourcarpet"
           }
          ],
          "heatmap": [
           {
            "colorbar": {
             "outlinewidth": 0,
             "ticks": ""
            },
            "colorscale": [
             [
              0,
              "#0d0887"
             ],
             [
              0.1111111111111111,
              "#46039f"
             ],
             [
              0.2222222222222222,
              "#7201a8"
             ],
             [
              0.3333333333333333,
              "#9c179e"
             ],
             [
              0.4444444444444444,
              "#bd3786"
             ],
             [
              0.5555555555555556,
              "#d8576b"
             ],
             [
              0.6666666666666666,
              "#ed7953"
             ],
             [
              0.7777777777777778,
              "#fb9f3a"
             ],
             [
              0.8888888888888888,
              "#fdca26"
             ],
             [
              1,
              "#f0f921"
             ]
            ],
            "type": "heatmap"
           }
          ],
          "heatmapgl": [
           {
            "colorbar": {
             "outlinewidth": 0,
             "ticks": ""
            },
            "colorscale": [
             [
              0,
              "#0d0887"
             ],
             [
              0.1111111111111111,
              "#46039f"
             ],
             [
              0.2222222222222222,
              "#7201a8"
             ],
             [
              0.3333333333333333,
              "#9c179e"
             ],
             [
              0.4444444444444444,
              "#bd3786"
             ],
             [
              0.5555555555555556,
              "#d8576b"
             ],
             [
              0.6666666666666666,
              "#ed7953"
             ],
             [
              0.7777777777777778,
              "#fb9f3a"
             ],
             [
              0.8888888888888888,
              "#fdca26"
             ],
             [
              1,
              "#f0f921"
             ]
            ],
            "type": "heatmapgl"
           }
          ],
          "histogram": [
           {
            "marker": {
             "colorbar": {
              "outlinewidth": 0,
              "ticks": ""
             }
            },
            "type": "histogram"
           }
          ],
          "histogram2d": [
           {
            "colorbar": {
             "outlinewidth": 0,
             "ticks": ""
            },
            "colorscale": [
             [
              0,
              "#0d0887"
             ],
             [
              0.1111111111111111,
              "#46039f"
             ],
             [
              0.2222222222222222,
              "#7201a8"
             ],
             [
              0.3333333333333333,
              "#9c179e"
             ],
             [
              0.4444444444444444,
              "#bd3786"
             ],
             [
              0.5555555555555556,
              "#d8576b"
             ],
             [
              0.6666666666666666,
              "#ed7953"
             ],
             [
              0.7777777777777778,
              "#fb9f3a"
             ],
             [
              0.8888888888888888,
              "#fdca26"
             ],
             [
              1,
              "#f0f921"
             ]
            ],
            "type": "histogram2d"
           }
          ],
          "histogram2dcontour": [
           {
            "colorbar": {
             "outlinewidth": 0,
             "ticks": ""
            },
            "colorscale": [
             [
              0,
              "#0d0887"
             ],
             [
              0.1111111111111111,
              "#46039f"
             ],
             [
              0.2222222222222222,
              "#7201a8"
             ],
             [
              0.3333333333333333,
              "#9c179e"
             ],
             [
              0.4444444444444444,
              "#bd3786"
             ],
             [
              0.5555555555555556,
              "#d8576b"
             ],
             [
              0.6666666666666666,
              "#ed7953"
             ],
             [
              0.7777777777777778,
              "#fb9f3a"
             ],
             [
              0.8888888888888888,
              "#fdca26"
             ],
             [
              1,
              "#f0f921"
             ]
            ],
            "type": "histogram2dcontour"
           }
          ],
          "mesh3d": [
           {
            "colorbar": {
             "outlinewidth": 0,
             "ticks": ""
            },
            "type": "mesh3d"
           }
          ],
          "parcoords": [
           {
            "line": {
             "colorbar": {
              "outlinewidth": 0,
              "ticks": ""
             }
            },
            "type": "parcoords"
           }
          ],
          "pie": [
           {
            "automargin": true,
            "type": "pie"
           }
          ],
          "scatter": [
           {
            "marker": {
             "colorbar": {
              "outlinewidth": 0,
              "ticks": ""
             }
            },
            "type": "scatter"
           }
          ],
          "scatter3d": [
           {
            "line": {
             "colorbar": {
              "outlinewidth": 0,
              "ticks": ""
             }
            },
            "marker": {
             "colorbar": {
              "outlinewidth": 0,
              "ticks": ""
             }
            },
            "type": "scatter3d"
           }
          ],
          "scattercarpet": [
           {
            "marker": {
             "colorbar": {
              "outlinewidth": 0,
              "ticks": ""
             }
            },
            "type": "scattercarpet"
           }
          ],
          "scattergeo": [
           {
            "marker": {
             "colorbar": {
              "outlinewidth": 0,
              "ticks": ""
             }
            },
            "type": "scattergeo"
           }
          ],
          "scattergl": [
           {
            "marker": {
             "colorbar": {
              "outlinewidth": 0,
              "ticks": ""
             }
            },
            "type": "scattergl"
           }
          ],
          "scattermapbox": [
           {
            "marker": {
             "colorbar": {
              "outlinewidth": 0,
              "ticks": ""
             }
            },
            "type": "scattermapbox"
           }
          ],
          "scatterpolar": [
           {
            "marker": {
             "colorbar": {
              "outlinewidth": 0,
              "ticks": ""
             }
            },
            "type": "scatterpolar"
           }
          ],
          "scatterpolargl": [
           {
            "marker": {
             "colorbar": {
              "outlinewidth": 0,
              "ticks": ""
             }
            },
            "type": "scatterpolargl"
           }
          ],
          "scatterternary": [
           {
            "marker": {
             "colorbar": {
              "outlinewidth": 0,
              "ticks": ""
             }
            },
            "type": "scatterternary"
           }
          ],
          "surface": [
           {
            "colorbar": {
             "outlinewidth": 0,
             "ticks": ""
            },
            "colorscale": [
             [
              0,
              "#0d0887"
             ],
             [
              0.1111111111111111,
              "#46039f"
             ],
             [
              0.2222222222222222,
              "#7201a8"
             ],
             [
              0.3333333333333333,
              "#9c179e"
             ],
             [
              0.4444444444444444,
              "#bd3786"
             ],
             [
              0.5555555555555556,
              "#d8576b"
             ],
             [
              0.6666666666666666,
              "#ed7953"
             ],
             [
              0.7777777777777778,
              "#fb9f3a"
             ],
             [
              0.8888888888888888,
              "#fdca26"
             ],
             [
              1,
              "#f0f921"
             ]
            ],
            "type": "surface"
           }
          ],
          "table": [
           {
            "cells": {
             "fill": {
              "color": "#EBF0F8"
             },
             "line": {
              "color": "white"
             }
            },
            "header": {
             "fill": {
              "color": "#C8D4E3"
             },
             "line": {
              "color": "white"
             }
            },
            "type": "table"
           }
          ]
         },
         "layout": {
          "annotationdefaults": {
           "arrowcolor": "#2a3f5f",
           "arrowhead": 0,
           "arrowwidth": 1
          },
          "autotypenumbers": "strict",
          "coloraxis": {
           "colorbar": {
            "outlinewidth": 0,
            "ticks": ""
           }
          },
          "colorscale": {
           "diverging": [
            [
             0,
             "#8e0152"
            ],
            [
             0.1,
             "#c51b7d"
            ],
            [
             0.2,
             "#de77ae"
            ],
            [
             0.3,
             "#f1b6da"
            ],
            [
             0.4,
             "#fde0ef"
            ],
            [
             0.5,
             "#f7f7f7"
            ],
            [
             0.6,
             "#e6f5d0"
            ],
            [
             0.7,
             "#b8e186"
            ],
            [
             0.8,
             "#7fbc41"
            ],
            [
             0.9,
             "#4d9221"
            ],
            [
             1,
             "#276419"
            ]
           ],
           "sequential": [
            [
             0,
             "#0d0887"
            ],
            [
             0.1111111111111111,
             "#46039f"
            ],
            [
             0.2222222222222222,
             "#7201a8"
            ],
            [
             0.3333333333333333,
             "#9c179e"
            ],
            [
             0.4444444444444444,
             "#bd3786"
            ],
            [
             0.5555555555555556,
             "#d8576b"
            ],
            [
             0.6666666666666666,
             "#ed7953"
            ],
            [
             0.7777777777777778,
             "#fb9f3a"
            ],
            [
             0.8888888888888888,
             "#fdca26"
            ],
            [
             1,
             "#f0f921"
            ]
           ],
           "sequentialminus": [
            [
             0,
             "#0d0887"
            ],
            [
             0.1111111111111111,
             "#46039f"
            ],
            [
             0.2222222222222222,
             "#7201a8"
            ],
            [
             0.3333333333333333,
             "#9c179e"
            ],
            [
             0.4444444444444444,
             "#bd3786"
            ],
            [
             0.5555555555555556,
             "#d8576b"
            ],
            [
             0.6666666666666666,
             "#ed7953"
            ],
            [
             0.7777777777777778,
             "#fb9f3a"
            ],
            [
             0.8888888888888888,
             "#fdca26"
            ],
            [
             1,
             "#f0f921"
            ]
           ]
          },
          "colorway": [
           "#636efa",
           "#EF553B",
           "#00cc96",
           "#ab63fa",
           "#FFA15A",
           "#19d3f3",
           "#FF6692",
           "#B6E880",
           "#FF97FF",
           "#FECB52"
          ],
          "font": {
           "color": "#2a3f5f"
          },
          "geo": {
           "bgcolor": "white",
           "lakecolor": "white",
           "landcolor": "#E5ECF6",
           "showlakes": true,
           "showland": true,
           "subunitcolor": "white"
          },
          "hoverlabel": {
           "align": "left"
          },
          "hovermode": "closest",
          "mapbox": {
           "style": "light"
          },
          "paper_bgcolor": "white",
          "plot_bgcolor": "#E5ECF6",
          "polar": {
           "angularaxis": {
            "gridcolor": "white",
            "linecolor": "white",
            "ticks": ""
           },
           "bgcolor": "#E5ECF6",
           "radialaxis": {
            "gridcolor": "white",
            "linecolor": "white",
            "ticks": ""
           }
          },
          "scene": {
           "xaxis": {
            "backgroundcolor": "#E5ECF6",
            "gridcolor": "white",
            "gridwidth": 2,
            "linecolor": "white",
            "showbackground": true,
            "ticks": "",
            "zerolinecolor": "white"
           },
           "yaxis": {
            "backgroundcolor": "#E5ECF6",
            "gridcolor": "white",
            "gridwidth": 2,
            "linecolor": "white",
            "showbackground": true,
            "ticks": "",
            "zerolinecolor": "white"
           },
           "zaxis": {
            "backgroundcolor": "#E5ECF6",
            "gridcolor": "white",
            "gridwidth": 2,
            "linecolor": "white",
            "showbackground": true,
            "ticks": "",
            "zerolinecolor": "white"
           }
          },
          "shapedefaults": {
           "line": {
            "color": "#2a3f5f"
           }
          },
          "ternary": {
           "aaxis": {
            "gridcolor": "white",
            "linecolor": "white",
            "ticks": ""
           },
           "baxis": {
            "gridcolor": "white",
            "linecolor": "white",
            "ticks": ""
           },
           "bgcolor": "#E5ECF6",
           "caxis": {
            "gridcolor": "white",
            "linecolor": "white",
            "ticks": ""
           }
          },
          "title": {
           "x": 0.05
          },
          "xaxis": {
           "automargin": true,
           "gridcolor": "white",
           "linecolor": "white",
           "ticks": "",
           "title": {
            "standoff": 15
           },
           "zerolinecolor": "white",
           "zerolinewidth": 2
          },
          "yaxis": {
           "automargin": true,
           "gridcolor": "white",
           "linecolor": "white",
           "ticks": "",
           "title": {
            "standoff": 15
           },
           "zerolinecolor": "white",
           "zerolinewidth": 2
          }
         }
        }
       }
      },
      "text/html": [
       "<div>                            <div id=\"a60851f2-b0f0-4b1f-8dbd-d589cc324c65\" class=\"plotly-graph-div\" style=\"height:525px; width:100%;\"></div>            <script type=\"text/javascript\">                require([\"plotly\"], function(Plotly) {                    window.PLOTLYENV=window.PLOTLYENV || {};                                    if (document.getElementById(\"a60851f2-b0f0-4b1f-8dbd-d589cc324c65\")) {                    Plotly.newPlot(                        \"a60851f2-b0f0-4b1f-8dbd-d589cc324c65\",                        [{\"hovertemplate\": \"Group=1<br>Value=%{r}<br>Tract=%{theta}<extra></extra>\", \"legendgroup\": \"1\", \"line\": {\"color\": \"rgb(136, 204, 238)\", \"dash\": \"solid\"}, \"mode\": \"lines\", \"name\": \"1\", \"r\": [0.0011497906247469442, -0.0001567639183469439, 0.000357851586442182, -0.0005531708965559986, 0.001527625241241074, -0.001034840351409417, 0.001511859773597495, 0.0012715844785781837, 0.0011497906247469442], \"showlegend\": true, \"subplot\": \"polar\", \"theta\": [\"Corpus Callosum Anterior midbody (Primary Motor)\", \"Corpus Callosum Genu\", \"Corpus Callosum Isthmus\", \"Corpus Callosum Posterior midbody (Primary Somatosensory)\", \"Corpus Callosum Rostral body (Premotor)\", \"Corpus Callosum Rostrum\", \"Corpus Callosum Splenium\", \"Middle cerebellar peduncle\", \"Corpus Callosum Anterior midbody (Primary Motor)\"], \"type\": \"scatterpolar\"}, {\"hovertemplate\": \"Group=2<br>Value=%{r}<br>Tract=%{theta}<extra></extra>\", \"legendgroup\": \"2\", \"line\": {\"color\": \"rgb(204, 102, 119)\", \"dash\": \"solid\"}, \"mode\": \"lines\", \"name\": \"2\", \"r\": [-0.0029820818821705702, -0.009956836034928904, -0.012287440443239109, -0.006966846334193172, -0.012602608036022395, -0.006982178549102436, -0.011612264433442307, 0.005733660168215263, -0.0029820818821705702], \"showlegend\": true, \"subplot\": \"polar\", \"theta\": [\"Corpus Callosum Anterior midbody (Primary Motor)\", \"Corpus Callosum Genu\", \"Corpus Callosum Isthmus\", \"Corpus Callosum Posterior midbody (Primary Somatosensory)\", \"Corpus Callosum Rostral body (Premotor)\", \"Corpus Callosum Rostrum\", \"Corpus Callosum Splenium\", \"Middle cerebellar peduncle\", \"Corpus Callosum Anterior midbody (Primary Motor)\"], \"type\": \"scatterpolar\"}, {\"hovertemplate\": \"Group=3<br>Value=%{r}<br>Tract=%{theta}<extra></extra>\", \"legendgroup\": \"3\", \"line\": {\"color\": \"rgb(221, 204, 119)\", \"dash\": \"solid\"}, \"mode\": \"lines\", \"name\": \"3\", \"r\": [-0.0036484895136124204, 0.006874927016685666, 0.005854825014343645, 0.006925489712306426, 0.0004698537947076659, 0.009232117706167135, -6.439926888728981e-05, -0.009592886078277322, -0.0036484895136124204], \"showlegend\": true, \"subplot\": \"polar\", \"theta\": [\"Corpus Callosum Anterior midbody (Primary Motor)\", \"Corpus Callosum Genu\", \"Corpus Callosum Isthmus\", \"Corpus Callosum Posterior midbody (Primary Somatosensory)\", \"Corpus Callosum Rostral body (Premotor)\", \"Corpus Callosum Rostrum\", \"Corpus Callosum Splenium\", \"Middle cerebellar peduncle\", \"Corpus Callosum Anterior midbody (Primary Motor)\"], \"type\": \"scatterpolar\"}],                        {\"legend\": {\"title\": {\"text\": \"Group\"}, \"tracegroupgap\": 0}, \"margin\": {\"t\": 60}, \"polar\": {\"angularaxis\": {\"direction\": \"clockwise\", \"rotation\": 90}, \"domain\": {\"x\": [0.0, 1.0], \"y\": [0.0, 1.0]}, \"radialaxis\": {\"range\": [-0.025, 0.025], \"tickangle\": 45}}, \"template\": {\"data\": {\"bar\": [{\"error_x\": {\"color\": \"#2a3f5f\"}, \"error_y\": {\"color\": \"#2a3f5f\"}, \"marker\": {\"line\": {\"color\": \"#E5ECF6\", \"width\": 0.5}}, \"type\": \"bar\"}], \"barpolar\": [{\"marker\": {\"line\": {\"color\": \"#E5ECF6\", \"width\": 0.5}}, \"type\": \"barpolar\"}], \"carpet\": [{\"aaxis\": {\"endlinecolor\": \"#2a3f5f\", \"gridcolor\": \"white\", \"linecolor\": \"white\", \"minorgridcolor\": \"white\", \"startlinecolor\": \"#2a3f5f\"}, \"baxis\": {\"endlinecolor\": \"#2a3f5f\", \"gridcolor\": \"white\", \"linecolor\": \"white\", \"minorgridcolor\": \"white\", \"startlinecolor\": \"#2a3f5f\"}, \"type\": \"carpet\"}], \"choropleth\": [{\"colorbar\": {\"outlinewidth\": 0, \"ticks\": \"\"}, \"type\": \"choropleth\"}], \"contour\": [{\"colorbar\": {\"outlinewidth\": 0, \"ticks\": \"\"}, \"colorscale\": [[0.0, \"#0d0887\"], [0.1111111111111111, \"#46039f\"], [0.2222222222222222, \"#7201a8\"], [0.3333333333333333, \"#9c179e\"], [0.4444444444444444, \"#bd3786\"], [0.5555555555555556, \"#d8576b\"], [0.6666666666666666, \"#ed7953\"], [0.7777777777777778, \"#fb9f3a\"], [0.8888888888888888, \"#fdca26\"], [1.0, \"#f0f921\"]], \"type\": \"contour\"}], \"contourcarpet\": [{\"colorbar\": {\"outlinewidth\": 0, \"ticks\": \"\"}, \"type\": \"contourcarpet\"}], \"heatmap\": [{\"colorbar\": {\"outlinewidth\": 0, \"ticks\": \"\"}, \"colorscale\": [[0.0, \"#0d0887\"], [0.1111111111111111, \"#46039f\"], [0.2222222222222222, \"#7201a8\"], [0.3333333333333333, \"#9c179e\"], [0.4444444444444444, \"#bd3786\"], [0.5555555555555556, \"#d8576b\"], [0.6666666666666666, \"#ed7953\"], [0.7777777777777778, \"#fb9f3a\"], [0.8888888888888888, \"#fdca26\"], [1.0, \"#f0f921\"]], \"type\": \"heatmap\"}], \"heatmapgl\": [{\"colorbar\": {\"outlinewidth\": 0, \"ticks\": \"\"}, \"colorscale\": [[0.0, \"#0d0887\"], [0.1111111111111111, \"#46039f\"], [0.2222222222222222, \"#7201a8\"], [0.3333333333333333, \"#9c179e\"], [0.4444444444444444, \"#bd3786\"], [0.5555555555555556, \"#d8576b\"], [0.6666666666666666, \"#ed7953\"], [0.7777777777777778, \"#fb9f3a\"], [0.8888888888888888, \"#fdca26\"], [1.0, \"#f0f921\"]], \"type\": \"heatmapgl\"}], \"histogram\": [{\"marker\": {\"colorbar\": {\"outlinewidth\": 0, \"ticks\": \"\"}}, \"type\": \"histogram\"}], \"histogram2d\": [{\"colorbar\": {\"outlinewidth\": 0, \"ticks\": \"\"}, \"colorscale\": [[0.0, \"#0d0887\"], [0.1111111111111111, \"#46039f\"], [0.2222222222222222, \"#7201a8\"], [0.3333333333333333, \"#9c179e\"], [0.4444444444444444, \"#bd3786\"], [0.5555555555555556, \"#d8576b\"], [0.6666666666666666, \"#ed7953\"], [0.7777777777777778, \"#fb9f3a\"], [0.8888888888888888, \"#fdca26\"], [1.0, \"#f0f921\"]], \"type\": \"histogram2d\"}], \"histogram2dcontour\": [{\"colorbar\": {\"outlinewidth\": 0, \"ticks\": \"\"}, \"colorscale\": [[0.0, \"#0d0887\"], [0.1111111111111111, \"#46039f\"], [0.2222222222222222, \"#7201a8\"], [0.3333333333333333, \"#9c179e\"], [0.4444444444444444, \"#bd3786\"], [0.5555555555555556, \"#d8576b\"], [0.6666666666666666, \"#ed7953\"], [0.7777777777777778, \"#fb9f3a\"], [0.8888888888888888, \"#fdca26\"], [1.0, \"#f0f921\"]], \"type\": \"histogram2dcontour\"}], \"mesh3d\": [{\"colorbar\": {\"outlinewidth\": 0, \"ticks\": \"\"}, \"type\": \"mesh3d\"}], \"parcoords\": [{\"line\": {\"colorbar\": {\"outlinewidth\": 0, \"ticks\": \"\"}}, \"type\": \"parcoords\"}], \"pie\": [{\"automargin\": true, \"type\": \"pie\"}], \"scatter\": [{\"marker\": {\"colorbar\": {\"outlinewidth\": 0, \"ticks\": \"\"}}, \"type\": \"scatter\"}], \"scatter3d\": [{\"line\": {\"colorbar\": {\"outlinewidth\": 0, \"ticks\": \"\"}}, \"marker\": {\"colorbar\": {\"outlinewidth\": 0, \"ticks\": \"\"}}, \"type\": \"scatter3d\"}], \"scattercarpet\": [{\"marker\": {\"colorbar\": {\"outlinewidth\": 0, \"ticks\": \"\"}}, \"type\": \"scattercarpet\"}], \"scattergeo\": [{\"marker\": {\"colorbar\": {\"outlinewidth\": 0, \"ticks\": \"\"}}, \"type\": \"scattergeo\"}], \"scattergl\": [{\"marker\": {\"colorbar\": {\"outlinewidth\": 0, \"ticks\": \"\"}}, \"type\": \"scattergl\"}], \"scattermapbox\": [{\"marker\": {\"colorbar\": {\"outlinewidth\": 0, \"ticks\": \"\"}}, \"type\": \"scattermapbox\"}], \"scatterpolar\": [{\"marker\": {\"colorbar\": {\"outlinewidth\": 0, \"ticks\": \"\"}}, \"type\": \"scatterpolar\"}], \"scatterpolargl\": [{\"marker\": {\"colorbar\": {\"outlinewidth\": 0, \"ticks\": \"\"}}, \"type\": \"scatterpolargl\"}], \"scatterternary\": [{\"marker\": {\"colorbar\": {\"outlinewidth\": 0, \"ticks\": \"\"}}, \"type\": \"scatterternary\"}], \"surface\": [{\"colorbar\": {\"outlinewidth\": 0, \"ticks\": \"\"}, \"colorscale\": [[0.0, \"#0d0887\"], [0.1111111111111111, \"#46039f\"], [0.2222222222222222, \"#7201a8\"], [0.3333333333333333, \"#9c179e\"], [0.4444444444444444, \"#bd3786\"], [0.5555555555555556, \"#d8576b\"], [0.6666666666666666, \"#ed7953\"], [0.7777777777777778, \"#fb9f3a\"], [0.8888888888888888, \"#fdca26\"], [1.0, \"#f0f921\"]], \"type\": \"surface\"}], \"table\": [{\"cells\": {\"fill\": {\"color\": \"#EBF0F8\"}, \"line\": {\"color\": \"white\"}}, \"header\": {\"fill\": {\"color\": \"#C8D4E3\"}, \"line\": {\"color\": \"white\"}}, \"type\": \"table\"}]}, \"layout\": {\"annotationdefaults\": {\"arrowcolor\": \"#2a3f5f\", \"arrowhead\": 0, \"arrowwidth\": 1}, \"autotypenumbers\": \"strict\", \"coloraxis\": {\"colorbar\": {\"outlinewidth\": 0, \"ticks\": \"\"}}, \"colorscale\": {\"diverging\": [[0, \"#8e0152\"], [0.1, \"#c51b7d\"], [0.2, \"#de77ae\"], [0.3, \"#f1b6da\"], [0.4, \"#fde0ef\"], [0.5, \"#f7f7f7\"], [0.6, \"#e6f5d0\"], [0.7, \"#b8e186\"], [0.8, \"#7fbc41\"], [0.9, \"#4d9221\"], [1, \"#276419\"]], \"sequential\": [[0.0, \"#0d0887\"], [0.1111111111111111, \"#46039f\"], [0.2222222222222222, \"#7201a8\"], [0.3333333333333333, \"#9c179e\"], [0.4444444444444444, \"#bd3786\"], [0.5555555555555556, \"#d8576b\"], [0.6666666666666666, \"#ed7953\"], [0.7777777777777778, \"#fb9f3a\"], [0.8888888888888888, \"#fdca26\"], [1.0, \"#f0f921\"]], \"sequentialminus\": [[0.0, \"#0d0887\"], [0.1111111111111111, \"#46039f\"], [0.2222222222222222, \"#7201a8\"], [0.3333333333333333, \"#9c179e\"], [0.4444444444444444, \"#bd3786\"], [0.5555555555555556, \"#d8576b\"], [0.6666666666666666, \"#ed7953\"], [0.7777777777777778, \"#fb9f3a\"], [0.8888888888888888, \"#fdca26\"], [1.0, \"#f0f921\"]]}, \"colorway\": [\"#636efa\", \"#EF553B\", \"#00cc96\", \"#ab63fa\", \"#FFA15A\", \"#19d3f3\", \"#FF6692\", \"#B6E880\", \"#FF97FF\", \"#FECB52\"], \"font\": {\"color\": \"#2a3f5f\"}, \"geo\": {\"bgcolor\": \"white\", \"lakecolor\": \"white\", \"landcolor\": \"#E5ECF6\", \"showlakes\": true, \"showland\": true, \"subunitcolor\": \"white\"}, \"hoverlabel\": {\"align\": \"left\"}, \"hovermode\": \"closest\", \"mapbox\": {\"style\": \"light\"}, \"paper_bgcolor\": \"white\", \"plot_bgcolor\": \"#E5ECF6\", \"polar\": {\"angularaxis\": {\"gridcolor\": \"white\", \"linecolor\": \"white\", \"ticks\": \"\"}, \"bgcolor\": \"#E5ECF6\", \"radialaxis\": {\"gridcolor\": \"white\", \"linecolor\": \"white\", \"ticks\": \"\"}}, \"scene\": {\"xaxis\": {\"backgroundcolor\": \"#E5ECF6\", \"gridcolor\": \"white\", \"gridwidth\": 2, \"linecolor\": \"white\", \"showbackground\": true, \"ticks\": \"\", \"zerolinecolor\": \"white\"}, \"yaxis\": {\"backgroundcolor\": \"#E5ECF6\", \"gridcolor\": \"white\", \"gridwidth\": 2, \"linecolor\": \"white\", \"showbackground\": true, \"ticks\": \"\", \"zerolinecolor\": \"white\"}, \"zaxis\": {\"backgroundcolor\": \"#E5ECF6\", \"gridcolor\": \"white\", \"gridwidth\": 2, \"linecolor\": \"white\", \"showbackground\": true, \"ticks\": \"\", \"zerolinecolor\": \"white\"}}, \"shapedefaults\": {\"line\": {\"color\": \"#2a3f5f\"}}, \"ternary\": {\"aaxis\": {\"gridcolor\": \"white\", \"linecolor\": \"white\", \"ticks\": \"\"}, \"baxis\": {\"gridcolor\": \"white\", \"linecolor\": \"white\", \"ticks\": \"\"}, \"bgcolor\": \"#E5ECF6\", \"caxis\": {\"gridcolor\": \"white\", \"linecolor\": \"white\", \"ticks\": \"\"}}, \"title\": {\"x\": 0.05}, \"xaxis\": {\"automargin\": true, \"gridcolor\": \"white\", \"linecolor\": \"white\", \"ticks\": \"\", \"title\": {\"standoff\": 15}, \"zerolinecolor\": \"white\", \"zerolinewidth\": 2}, \"yaxis\": {\"automargin\": true, \"gridcolor\": \"white\", \"linecolor\": \"white\", \"ticks\": \"\", \"title\": {\"standoff\": 15}, \"zerolinecolor\": \"white\", \"zerolinewidth\": 2}}}},                        {\"responsive\": true}                    ).then(function(){\n",
       "                            \n",
       "var gd = document.getElementById('a60851f2-b0f0-4b1f-8dbd-d589cc324c65');\n",
       "var x = new MutationObserver(function (mutations, observer) {{\n",
       "        var display = window.getComputedStyle(gd).display;\n",
       "        if (!display || display === 'none') {{\n",
       "            console.log([gd, 'removed!']);\n",
       "            Plotly.purge(gd);\n",
       "            observer.disconnect();\n",
       "        }}\n",
       "}});\n",
       "\n",
       "// Listen for the removal of the full notebook cells\n",
       "var notebookContainer = gd.closest('#notebook-container');\n",
       "if (notebookContainer) {{\n",
       "    x.observe(notebookContainer, {childList: true});\n",
       "}}\n",
       "\n",
       "// Listen for the clearing of the current output cell\n",
       "var outputEl = gd.closest('.output');\n",
       "if (outputEl) {{\n",
       "    x.observe(outputEl, {childList: true});\n",
       "}}\n",
       "\n",
       "                        })                };                });            </script>        </div>"
      ]
     },
     "metadata": {},
     "output_type": "display_data"
    }
   ],
   "source": [
    "# Spider Plots\n",
    "import plotly.graph_objects as go\n",
    "\n",
    "fig = px.line_polar(center_plottingdf, r='Value', theta=\"Tract\", color=\"Group\", line_close=True,\n",
    "                    color_discrete_sequence=px.colors.qualitative.Safe, range_r=[-0.025, 0.025])\n",
    "fig.update_polars(radialaxis_tickangle=45)\n",
    "# fig.update_polars(angularaxis_rotation=45)\n",
    "# fig.update_polars(angularaxis_uirevision=45)\n",
    "# fig.update_polars(angularaxis_tickangle=45)\n",
    "fig.show()\n"
   ]
  },
  {
   "cell_type": "code",
   "execution_count": 43,
   "id": "viral-replacement",
   "metadata": {},
   "outputs": [],
   "source": [
    "# long_df = pd.melt(resid_df, id_vars = 'Subject', var_name = 'Tract', value_name = 'Value')\n",
    "# plotdf_long = pd.merge(long_df, all_df)\n",
    "# plotdf_wide = pd.merge(resid_df, all_df)\n",
    "\n",
    "# #RI long df\n",
    "# long_clust = pd.merge(ri_data_avg, all_df[['Subject', 'cluster_id']], how='right')\n",
    "# threat_clust = long_clust[['Subject', 'cluster_id', 'threat_avg_sev', 'threat_avg_sev.1', 'threat_avg_sev.2',\n",
    "#        'threat_avg_sev.3', 'threat_avg_sev.4', 'threat_avg_sev.5',\n",
    "#        'threat_avg_sev.6', 'threat_avg_sev.7', 'threat_avg_sev.8',\n",
    "#        'threat_avg_sev.9', 'threat_avg_sev.10', 'threat_avg_sev.11',\n",
    "#        'threat_avg_sev.12', 'threat_avg_sev.13', 'threat_avg_sev.14',\n",
    "#        'threat_avg_sev.15', 'threat_avg_sev.16', 'threat_avg_sev.17',\n",
    "#        'threat_avg_sev.18', 'threat_avg_sev.19', 'threat_avg_sev.20',\n",
    "#        'threat_avg_sev.21', 'threat_avg_sev.22', 'threat_avg_sev.23',\n",
    "#        'threat_avg_sev.24', 'threat_avg_sev.25', 'threat_avg_sev.26',\n",
    "#        'threat_avg_sev.27', 'threat_avg_sev.28', 'threat_avg_sev.29']]\n",
    "\n",
    "# thr_columns = ['Subject', 'cluster_id', 'Age 0', 'Age 1', 'Age 2', 'Age 3',\n",
    "#        'Age 4', 'Age 5', 'Age 6', 'Age 7', 'Age 8', 'Age 9', 'Age 10', 'Age 11',\n",
    "#        'Age 12', 'Age 13', 'Age 14', 'Age 15',\n",
    "#        'Age 16', 'Age 17', 'Age 18', 'Age 19',\n",
    "#        'Age 20', 'Age 21', 'Age 22', 'Age 23',\n",
    "#        'Age 24', 'Age 25', 'Age 26', 'Age 27', 'Age 28', 'Age 29']\n",
    "# threat_clust.columns = thr_columns\n",
    "\n",
    "# dep_clust = long_clust[['Subject', 'cluster_id', 'dep_avg_sev', 'dep_avg_sev.1', 'dep_avg_sev.2', 'dep_avg_sev.3',\n",
    "#        'dep_avg_sev.4', 'dep_avg_sev.5', 'dep_avg_sev.6', 'dep_avg_sev.7',\n",
    "#        'dep_avg_sev.8', 'dep_avg_sev.9', 'dep_avg_sev.10', 'dep_avg_sev.11',\n",
    "#        'dep_avg_sev.12', 'dep_avg_sev.13', 'dep_avg_sev.14', 'dep_avg_sev.15',\n",
    "#        'dep_avg_sev.16', 'dep_avg_sev.17', 'dep_avg_sev.18', 'dep_avg_sev.19',\n",
    "#        'dep_avg_sev.20', 'dep_avg_sev.21', 'dep_avg_sev.22', 'dep_avg_sev.23']]\n",
    "\n",
    "# dep_columns = ['Subject', 'cluster_id', 'Age 0', 'Age 1', 'Age 2', 'Age 3',\n",
    "#        'Age 4', 'Age 5', 'Age 6', 'Age 7', 'Age 8', 'Age 9', 'Age 10', 'Age 11',\n",
    "#        'Age 12', 'Age 13', 'Age 14', 'Age 15',\n",
    "#        'Age 16', 'Age 17', 'Age 18', 'Age 19',\n",
    "#        'Age 20', 'Age 21', 'Age 22', 'Age 23']\n",
    "# dep_clust.columns = dep_columns\n",
    "\n",
    "# thr_long = pd.melt(threat_clust, id_vars = ['Subject', 'cluster_id'], var_name = 'Age of Exposure', value_name = 'Number of Exposures')\n",
    "# dep_long = pd.melt(dep_clust, id_vars = ['Subject', 'cluster_id'], var_name = 'Age of Exposure', value_name = 'Number of Exposures')\n",
    "\n",
    "# #Separate into clusters\n",
    "# thr_long_clust1 = thr_long[thr_long['cluster_id'] == 0]\n",
    "# dep_long_clust1 = dep_long[dep_long['cluster_id'] == 0]\n",
    "\n",
    "# thr_long_clust2 = thr_long[thr_long['cluster_id'] == 1]\n",
    "# dep_long_clust2 = dep_long[dep_long['cluster_id'] == 1]\n",
    "\n",
    "# thr_long_clust3 = thr_long[thr_long['cluster_id'] == 2]\n",
    "# dep_long_clust3 = dep_long[dep_long['cluster_id'] == 2]"
   ]
  },
  {
   "cell_type": "code",
   "execution_count": 44,
   "id": "radical-capacity",
   "metadata": {},
   "outputs": [],
   "source": [
    "# import matplotlib.pyplot as plt\n",
    "# fig, [ax1, ax2] = plt.subplots(2, 1)\n",
    "# fig.set_size_inches(16, 10);\n",
    "# ax1 = sns.barplot(x = thr_long_clust1['Age of Exposure'], y = thr_long_clust1['Number of Exposures'],\n",
    "#                  ax = ax1)\n",
    "# xlabels = ax1.get_xticklabels();\n",
    "# ax1.set_xticklabels(xlabels, rotation=45);\n",
    "# ax1.set_yticks(range(0, 30, 5));\n",
    "# ax1.set_title('Experiences of Threat Across Cluster 1')\n",
    "\n",
    "# ax2 = sns.barplot(x = thr_long_clust2['Age of Exposure'], y = thr_long_clust2['Number of Exposures'],\n",
    "#                  ax=ax2)\n",
    "# xlabels = ax2.get_xticklabels();\n",
    "# ax2.set_xticklabels(xlabels, rotation=45);\n",
    "# ax2.set_yticks(range(0, 30, 5));\n",
    "# ax2.set_title('Experiences of Threat Across Cluster 2')\n",
    "# fig.tight_layout()\n",
    "\n",
    "# # ax3 = sns.barplot(x = thr_long_clust3['Age of Exposure'], y = thr_long_clust3['Number of Exposures'],\n",
    "# #                  ax=ax3)\n",
    "# # xlabels = ax3.get_xticklabels();\n",
    "# # ax3.set_xticklabels(xlabels, rotation=45);\n",
    "# # ax3.set_yticks(range(0, 30, 5));\n",
    "# # ax3.set_title('Experiences of Threat Across Cluster 3')\n",
    "# # fig.tight_layout()"
   ]
  },
  {
   "cell_type": "code",
   "execution_count": 45,
   "id": "desirable-isaac",
   "metadata": {},
   "outputs": [],
   "source": [
    "# import matplotlib.pyplot as plt\n",
    "# fig, [ax1, ax2] = plt.subplots(2, 1)\n",
    "# fig.set_size_inches(16, 10);\n",
    "# xlabels = ax.get_xticklabels();\n",
    "# ax1 = sns.barplot(x = dep_long_clust1['Age of Exposure'], y = dep_long_clust1['Number of Exposures'],\n",
    "#                  ax = ax1)\n",
    "# xlabels = ax1.get_xticklabels();\n",
    "# ax1.set_xticklabels(xlabels, rotation=45);\n",
    "# ax1.set_yticks(range(0, 30, 5))\n",
    "# ax1.set_title('Experiences of Deprivation Across Cluster 1')\n",
    "\n",
    "# ax2 = sns.barplot(x = dep_long_clust2['Age of Exposure'], y = dep_long_clust2['Number of Exposures'],\n",
    "#                  ax=ax2)\n",
    "# xlabels = ax2.get_xticklabels();\n",
    "# ax2.set_yticks(range(0, 30, 5)) \n",
    "# ax2.set_xticklabels(xlabels, rotation=45);\n",
    "# fig.tight_layout()\n",
    "# ax2.set_title('Experiences of Deprivation Across Cluster 2')\n",
    "\n",
    "# # ax3 = sns.barplot(x = dep_long_clust3['Age of Exposure'], y = dep_long_clust2['Number of Exposures'],\n",
    "# #                  ax=ax3)\n",
    "# # xlabels = ax2.get_xticklabels();\n",
    "# # ax3.set_yticks(range(0, 30, 5)) \n",
    "# # ax3.set_xticklabels(xlabels, rotation=45);\n",
    "# # fig.tight_layout()\n",
    "# # ax3.set_title('Experiences of Deprivation Across Cluster 3')"
   ]
  },
  {
   "cell_type": "code",
   "execution_count": null,
   "id": "atmospheric-substance",
   "metadata": {},
   "outputs": [],
   "source": []
  },
  {
   "cell_type": "code",
   "execution_count": null,
   "id": "cathedral-yeast",
   "metadata": {},
   "outputs": [],
   "source": []
  },
  {
   "cell_type": "markdown",
   "id": "appropriate-combine",
   "metadata": {},
   "source": [
    "### OLS/LME Analysis"
   ]
  },
  {
   "cell_type": "code",
   "execution_count": 46,
   "id": "spiritual-walnut",
   "metadata": {},
   "outputs": [],
   "source": [
    "yvar = 'UF_left'\n",
    "# long_thr_df_dwi"
   ]
  },
  {
   "cell_type": "code",
   "execution_count": 47,
   "id": "honey-enemy",
   "metadata": {},
   "outputs": [
    {
     "name": "stdout",
     "output_type": "stream",
     "text": [
      "               Mixed Linear Model Regression Results\n",
      "===================================================================\n",
      "Model:                 MixedLM     Dependent Variable:     UF_left \n",
      "No. Observations:      83          Method:                 REML    \n",
      "No. Groups:            83          Scale:                  0.0002  \n",
      "Min. group size:       1           Log-Likelihood:         166.5192\n",
      "Max. group size:       1           Converged:              Yes     \n",
      "Mean group size:       1.0                                         \n",
      "-------------------------------------------------------------------\n",
      "                         Coef.  Std.Err.   z    P>|z| [0.025 0.975]\n",
      "-------------------------------------------------------------------\n",
      "Intercept                -0.012    0.006 -1.883 0.060 -0.024  0.000\n",
      "threat_Summed_Threat     -0.000    0.000 -0.030 0.976 -0.000  0.000\n",
      "sex                      -0.000    0.006 -0.040 0.968 -0.011  0.011\n",
      "threat_Summed_Threat:sex  0.000    0.000  0.354 0.723 -0.000  0.000\n",
      "asr_age                   0.000    0.000  1.139 0.255 -0.000  0.000\n",
      "diagnostic_group          0.005    0.003  1.603 0.109 -0.001  0.012\n",
      "Subject Var               0.000                                    \n",
      "===================================================================\n",
      "\n"
     ]
    },
    {
     "name": "stderr",
     "output_type": "stream",
     "text": [
      "/gpfs/milgram/project/gee_dylan/lms233/conda_envs/mybrainiak/lib/python3.7/site-packages/statsmodels/regression/mixed_linear_model.py:2237: ConvergenceWarning:\n",
      "\n",
      "The MLE may be on the boundary of the parameter space.\n",
      "\n",
      "/gpfs/milgram/project/gee_dylan/lms233/conda_envs/mybrainiak/lib/python3.7/site-packages/statsmodels/regression/mixed_linear_model.py:2261: ConvergenceWarning:\n",
      "\n",
      "The Hessian matrix at the estimated parameter values is not positive definite.\n",
      "\n"
     ]
    }
   ],
   "source": [
    "lme_mod = sm.MixedLM.from_formula(\"{} ~ threat_Summed_Threat * sex + asr_age + sex + diagnostic_group\".format(yvar), \n",
    "                                 re_formula=\"1\", \n",
    "                groups=\"Subject\", data=plotdf_wide.replace(np.nan, 0))\n",
    "results = lme_mod.fit()\n",
    "print(results.summary())"
   ]
  },
  {
   "cell_type": "code",
   "execution_count": 48,
   "id": "little-trout",
   "metadata": {},
   "outputs": [
    {
     "ename": "NameError",
     "evalue": "name 'right_uf' is not defined",
     "output_type": "error",
     "traceback": [
      "\u001b[0;31m---------------------------------------------------------------------------\u001b[0m",
      "\u001b[0;31mNameError\u001b[0m                                 Traceback (most recent call last)",
      "\u001b[0;32m<ipython-input-48-0cd44c3b5303>\u001b[0m in \u001b[0;36m<module>\u001b[0;34m\u001b[0m\n\u001b[1;32m      1\u001b[0m \u001b[0mregressors\u001b[0m \u001b[0;34m=\u001b[0m \u001b[0mbx_df\u001b[0m\u001b[0;34m[\u001b[0m\u001b[0;34m[\u001b[0m\u001b[0;34m'asr_age'\u001b[0m\u001b[0;34m,\u001b[0m \u001b[0;34m'sex'\u001b[0m\u001b[0;34m,\u001b[0m \u001b[0;34m'diagnostic_group'\u001b[0m\u001b[0;34m,\u001b[0m \u001b[0;34m'all_Summed_All'\u001b[0m\u001b[0;34m]\u001b[0m\u001b[0;34m]\u001b[0m\u001b[0;34m.\u001b[0m\u001b[0mreplace\u001b[0m\u001b[0;34m(\u001b[0m\u001b[0mnp\u001b[0m\u001b[0;34m.\u001b[0m\u001b[0mnan\u001b[0m\u001b[0;34m,\u001b[0m \u001b[0;36m0\u001b[0m\u001b[0;34m)\u001b[0m\u001b[0;34m\u001b[0m\u001b[0;34m\u001b[0m\u001b[0m\n\u001b[0;32m----> 2\u001b[0;31m \u001b[0mmodel\u001b[0m \u001b[0;34m=\u001b[0m \u001b[0msm\u001b[0m\u001b[0;34m.\u001b[0m\u001b[0mOLS\u001b[0m\u001b[0;34m(\u001b[0m\u001b[0mendog\u001b[0m \u001b[0;34m=\u001b[0m \u001b[0mright_uf\u001b[0m\u001b[0;34m,\u001b[0m \u001b[0mexog\u001b[0m\u001b[0;34m=\u001b[0m\u001b[0mregressors\u001b[0m\u001b[0;34m)\u001b[0m\u001b[0;34m\u001b[0m\u001b[0;34m\u001b[0m\u001b[0m\n\u001b[0m\u001b[1;32m      3\u001b[0m \u001b[0mresult\u001b[0m \u001b[0;34m=\u001b[0m \u001b[0mmodel\u001b[0m\u001b[0;34m.\u001b[0m\u001b[0mfit\u001b[0m\u001b[0;34m(\u001b[0m\u001b[0;34m)\u001b[0m\u001b[0;34m\u001b[0m\u001b[0;34m\u001b[0m\u001b[0m\n\u001b[1;32m      4\u001b[0m \u001b[0mprint\u001b[0m\u001b[0;34m(\u001b[0m\u001b[0mresult\u001b[0m\u001b[0;34m.\u001b[0m\u001b[0msummary\u001b[0m\u001b[0;34m(\u001b[0m\u001b[0;34m)\u001b[0m\u001b[0;34m)\u001b[0m\u001b[0;34m\u001b[0m\u001b[0;34m\u001b[0m\u001b[0m\n",
      "\u001b[0;31mNameError\u001b[0m: name 'right_uf' is not defined"
     ]
    }
   ],
   "source": [
    "regressors = bx_df[['asr_age', 'sex', 'diagnostic_group', 'all_Summed_All']].replace(np.nan, 0)\n",
    "model = sm.OLS(endog = right_uf, exog=regressors)\n",
    "result = model.fit()\n",
    "print(result.summary())"
   ]
  },
  {
   "cell_type": "markdown",
   "id": "australian-clear",
   "metadata": {},
   "source": [
    "### Ridge Regression Analysis"
   ]
  },
  {
   "cell_type": "code",
   "execution_count": null,
   "id": "isolated-liquid",
   "metadata": {},
   "outputs": [],
   "source": [
    "from sklearn.model_selection import GridSearchCV, train_test_split\n",
    "from sklearn.svm import SVR\n",
    "from sklearn.linear_model import Ridge\n",
    "from scipy.stats import spearmanr\n",
    "\n",
    "def perform_cv(subids, neural_data, bx_data):\n",
    "    numbers1 = pd.Series(range(0, len(neural_data))).to_numpy()\n",
    "    reg_corr = []\n",
    "    reg_p = []\n",
    "    r2 = []\n",
    "    for i in range(0, 50):\n",
    "        X_train, X_test, y_train, y_test = train_test_split(neural_data, bx_data, test_size=0.33, random_state=i)\n",
    "\n",
    "        # Train the model \n",
    "        regression = Ridge(normalize = True, alpha=1.0)\n",
    "        regfit = regression.fit(X_train, y_train)\n",
    "\n",
    "        # Test the model\n",
    "        score = regfit.predict(X_test)\n",
    "        corr, p = spearmanr(score, y_test)\n",
    "        reg_corr.append(corr)\n",
    "        reg_p.append(p)\n",
    "        print('Correlation between train and test: {}'.format(corr))\n",
    "        print('P-value: {}'.format(p))\n",
    "        score = regfit.score(X_test, y_test)\n",
    "        r2.append(score)\n",
    "    return reg_corr, reg_p, r2"
   ]
  }
 ],
 "metadata": {
  "kernelspec": {
   "display_name": "Python 3",
   "language": "python",
   "name": "python3"
  },
  "language_info": {
   "codemirror_mode": {
    "name": "ipython",
    "version": 3
   },
   "file_extension": ".py",
   "mimetype": "text/x-python",
   "name": "python",
   "nbconvert_exporter": "python",
   "pygments_lexer": "ipython3",
   "version": "3.7.9"
  }
 },
 "nbformat": 4,
 "nbformat_minor": 5
}
