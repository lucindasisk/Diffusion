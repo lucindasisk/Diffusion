{
 "cells": [
  {
   "cell_type": "code",
   "execution_count": null,
   "id": "built-player",
   "metadata": {},
   "outputs": [],
   "source": [
    "import pandas as pd\n",
    "import numpy as np\n",
    "from datetime import date\n",
    "import statsmodels.api as sm\n",
    "import seaborn as sns\n",
    "from glob import glob\n",
    "import copy\n",
    "from statsmodels.stats.multitest import fdrcorrection as fdrcorr\n",
    "pd.options.display.max_rows = 999\n",
    "pd.options.display.max_columns = 999\n",
    "\n",
    "today=str(date.today())"
   ]
  },
  {
   "cell_type": "code",
   "execution_count": null,
   "id": "scenic-brake",
   "metadata": {},
   "outputs": [],
   "source": [
    "# Data paths\n",
    "candpath = '/gpfs/milgram/pi/gee_dylan/candlab'\n",
    "datapath = candpath + '/analyses/shapes/dwi/data'\n",
    "\n",
    "# Import subjects\n",
    "subs = ri_sublist = pd.read_csv(datapath + '/../subjectlist_preDiss_motion0.75_n107_2021-03-29.csv', names = ['index', 'Subject'], header = 0)\n",
    "print('Number Subject: {}'.format(len(subs)))\n",
    "\n",
    "#DTI Column Names\n",
    "colnames_dti = ['AF_left', 'AF_right', 'ATR_left', 'ATR_right', 'CC_1', 'CC_2', 'CC_3',\n",
    "       'CC_4', 'CC_5', 'CC_6', 'CC_7', 'CG_left', 'CG_right', 'CST_left',\n",
    "       'CST_right', 'FPT_left', 'FPT_right', 'ICP_left', 'ICP_right',\n",
    "       'IFO_left', 'IFO_right', 'ILF_left', 'ILF_right', 'MCP', 'OR_left',\n",
    "       'OR_right', 'POPT_left', 'POPT_right', 'SCP_left', 'SCP_right',\n",
    "       'SLF_I_left', 'SLF_I_right', 'SLF_II_left', 'SLF_II_right',\n",
    "       'SLF_III_left', 'SLF_III_right', 'STR_left', 'STR_right', 'UF_left',\n",
    "       'UF_right', 'T_PREM_left', 'T_PREM_right', 'T_PAR_left', 'T_PAR_right',\n",
    "       'T_OCC_left', 'T_OCC_right', 'ST_FO_left', 'ST_FO_right',\n",
    "       'ST_PREM_left', 'ST_PREM_right']"
   ]
  },
  {
   "cell_type": "code",
   "execution_count": null,
   "id": "acquired-stroke",
   "metadata": {},
   "outputs": [],
   "source": []
  }
 ],
 "metadata": {
  "kernelspec": {
   "display_name": "Python 3",
   "language": "python",
   "name": "python3"
  },
  "language_info": {
   "codemirror_mode": {
    "name": "ipython",
    "version": 3
   },
   "file_extension": ".py",
   "mimetype": "text/x-python",
   "name": "python",
   "nbconvert_exporter": "python",
   "pygments_lexer": "ipython3",
   "version": "3.7.9"
  }
 },
 "nbformat": 4,
 "nbformat_minor": 5
}
