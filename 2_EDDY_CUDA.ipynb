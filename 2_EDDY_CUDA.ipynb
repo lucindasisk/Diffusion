{
 "cells": [
  {
   "cell_type": "code",
   "execution_count": 1,
   "metadata": {},
   "outputs": [],
   "source": [
    "from nipype.interfaces.io import DataSink, SelectFiles, DataGrabber \n",
    "from nipype.interfaces.utility import IdentityInterface, Function    \n",
    "from nipype.pipeline.engine import Node, Workflow, JoinNode, MapNode\n",
    "from nipype.interfaces import fsl\n",
    "from nipype import config, logging\n",
    "from datetime import date"
   ]
  },
  {
   "cell_type": "code",
   "execution_count": null,
   "metadata": {},
   "outputs": [],
   "source": [
    "#Set variables\n",
    "subject_list = ['sub-A200', 'sub-A201']\n",
    "\n",
    "user = expanduser('~')\n",
    "\n",
    "if user == '/Users/lucindasisk':\n",
    "    home = join(user,'Box/LS_Folders/CANDLab_LS/DATA')\n",
    "    workflow_dir = join(home, 'workflow_LS')\n",
    "    data_dir = join(home, 'DataDir_LS')"
   ]
  },
  {
   "cell_type": "code",
   "execution_count": null,
   "metadata": {},
   "outputs": [],
   "source": [
    "#Setup Datasink, Infosource, Selectfiles\n",
    "\n",
    "datasink = Node(DataSink(base_directory = data_dir,\n",
    "                        substitutions = [('_subject_id_', '')]),\n",
    "                   name='datasink')\n",
    "\n",
    "#Set infosource iterables\n",
    "infosource = Node(IdentityInterface(fields=['subject_id']),\n",
    "                  name=\"infosource\")\n",
    "infosource.iterables = [('subject_id', subject_list)]\n",
    "\n",
    "#SelectFiles\n",
    "template = dict(t1 = join(home,'{subject_id}/anat/{subject_id}_ses-shapesV1_T1w.nii.gz'),\n",
    "                dti = join(home,'{subject_id}/dwi/{subject_id}_ses-shapesV1_dwi.nii.gz'),\n",
    "                bval = join(home,'{subject_id}/dwi/{subject_id}_ses-shapesV1_dwi.bval'),\n",
    "                bvec = join(home,'{subject_id}/dwi/{subject_id}_ses-shapesV1_dwi.bvec'),\n",
    "                fmappa = join(home,'{subject_id}/fmap/{subject_id}_ses-shapesV1_acq-dwi_dir-PA_epi.nii.gz'),  \n",
    "                fmapap = join(home,'{subject_id}/fmap/{subject_id}_ses-shapesV1_acq-dwi_dir-AP_epi.nii.gz'),\n",
    "                aps = join(home, 'shapes_acqparams.txt'),\n",
    "                index = join(home, 'shapes_index.txt')\n",
    "               )#,\n",
    "               # index = join(home, 'index.txt'),\n",
    "               # aps = join(home, 'acqparams.txt'),\n",
    "               # tryxfm = join(home, 'transform.txt'))\n",
    "\n",
    "sf = Node(SelectFiles(template, \n",
    "                      base_directory = home),\n",
    "          name = 'sf')\n",
    "                "
   ]
  },
  {
   "cell_type": "code",
   "execution_count": null,
   "metadata": {},
   "outputs": [],
   "source": [
    "#Eddy_CUDA Node\n",
    "#FSL Eddy correction to remove eddy current distortion\n",
    "\n",
    "eddy = Node(fsl.Eddy(is_shelled = True,\n",
    "                    use_cuda=True,\n",
    "                    cnr_maps=True,\n",
    "                     repol=True),\n",
    "           name = 'eddy')"
   ]
  }
 ],
 "metadata": {
  "kernelspec": {
   "display_name": "Python 3",
   "language": "python",
   "name": "python3"
  },
  "language_info": {
   "codemirror_mode": {
    "name": "ipython",
    "version": 3
   },
   "file_extension": ".py",
   "mimetype": "text/x-python",
   "name": "python",
   "nbconvert_exporter": "python",
   "pygments_lexer": "ipython3",
   "version": "3.6.3"
  }
 },
 "nbformat": 4,
 "nbformat_minor": 2
}
