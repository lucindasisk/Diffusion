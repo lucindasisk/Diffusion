{
 "cells": [
  {
   "cell_type": "code",
   "execution_count": 8,
   "metadata": {},
   "outputs": [],
   "source": [
    "from nipype.interfaces.io import DataSink, SelectFiles, DataGrabber \n",
    "from nipype.interfaces.utility import IdentityInterface, Function    \n",
    "from nipype.pipeline.engine import Node, Workflow, JoinNode, MapNode\n",
    "from nipype.interfaces import fsl\n",
    "from nipype import config, logging\n",
    "from datetime import date\n",
    "from os import getcwd\n",
    "from os.path import join"
   ]
  },
  {
   "cell_type": "code",
   "execution_count": 9,
   "metadata": {},
   "outputs": [
    {
     "data": {
      "text/plain": [
       "'/Users/lucindasisk/Dropbox/Github/Diffusion/..'"
      ]
     },
     "execution_count": 9,
     "metadata": {},
     "output_type": "execute_result"
    }
   ],
   "source": [
    "# Set variables\n",
    "subject_list = ['sub-A200', 'sub-A201', 'sub-A687', 'sub-A694', 'sub-A695', 'sub-A698']  # , 'sub-A201']\n",
    "\n",
    "home = getcwd() + '/..'\n",
    "data_dir = join(home, 'eddyCUDA_data')\n",
    "workflow_dir = join(home, 'eddyCUDA_workflow')\n",
    "home"
   ]
  },
  {
   "cell_type": "code",
   "execution_count": 10,
   "metadata": {},
   "outputs": [],
   "source": [
    "# Setup Datasink, Infosource, Selectfiles\n",
    "\n",
    "datasink = Node(DataSink(base_directory=data_dir,\n",
    "                         substitutions=[('_subject_id_', '')]),\n",
    "                name='datasink')\n",
    "\n",
    "# Set infosource iterables\n",
    "infosource = Node(IdentityInterface(fields=['subject_id']),\n",
    "                  name=\"infosource\")\n",
    "infosource.iterables = [('subject_id', subject_list)]\n",
    "\n",
    "# SelectFiles\n",
    "template = dict(mask=join(home, '2_Transfer/{subject_id}/{subject_id}_ses-shapesV1_T1w_resample_brain_mask.nii.gz'),\n",
    "                dti=join(\n",
    "                    home, '2_Transfer/{subject_id}/resampled_dropped_denoised_gibbs_biascorr_corrected_reoriented_flirt.nii.gz'),\n",
    "                bval=join(\n",
    "                    home, '2_Transfer/{subject_id}/{subject_id}_ses-shapesV1_dwi.bval'),\n",
    "                bvec=join(\n",
    "                    home, '2_Transfer/{subject_id}/{subject_id}_ses-shapesV1_dwi.bvec'),\n",
    "                aps=join(home, 'shapes_acqparams.txt'),\n",
    "                index=join(home, 'shapes_index.txt'),\n",
    "                eddy_base=join(home, 'eddyCUDA_data/3_Eddy_Corrected/{subject_id}/eddy_corrected')\n",
    "                )\n",
    "\n",
    "sf = Node(SelectFiles(template,\n",
    "                      base_directory=home),\n",
    "          name='sf')\n"
   ]
  },
  {
   "cell_type": "code",
   "execution_count": null,
   "metadata": {},
   "outputs": [],
   "source": [
    "#Eddy_CUDA Node\n",
    "# FSL Eddy correction to remove eddy current distortion\n",
    "\n",
    "eddy = Node(fsl.Eddy(is_shelled=True,\n",
    "                     interp='linear',\n",
    "                     method='jac',\n",
    "                     output_type='NIFTI_GZ',\n",
    "                     residuals=True,\n",
    "                     use_cuda=True,\n",
    "                     cnr_maps=True,\n",
    "                     repol=True),\n",
    "            name='eddy')\n"
   ]
  },
  {
   "cell_type": "code",
   "execution_count": null,
   "metadata": {},
   "outputs": [],
   "source": [
    "eddy_flow = Workflow(name='eddy_flow')\n",
    "eddy_flow.connect([(infosource, sf, [('subject_id', 'subject_id')]),\n",
    "                   (sf, eddy, [('dti', 'in_file'),\n",
    "                               ('bval', 'in_bval'),\n",
    "                               ('bvec', 'in_bvec'),\n",
    "                               ('index', 'in_index'),\n",
    "                               ('aps', 'in_acqp'),\n",
    "                               ('mask', 'in_mask')]),\n",
    "                   (eddy, datasink, [('out_corrected', '3_Eddy_Corrected'),\n",
    "                                     ('out_rotated_bvecs', '3_Eddy_Corrected.@par'),\n",
    "                                     ('out_movement_rms',\n",
    "                                      '3_Eddy_Corrected.@par.@par'),\n",
    "                                     ('out_parameter',\n",
    "                                      '3_Eddy_Corrected.@par.@par.@par'),\n",
    "                                     ('out_restricted_movement_rms',\n",
    "                                      '3_Eddy_Corrected.@par.@par.@par.@par'),\n",
    "                                     ('out_shell_alignment_parameters',\n",
    "                                      '3_Eddy_Corrected.@par.@par.@par.@par.@par'),\n",
    "                                     ('out_cnr_maps',\n",
    "                                      '3_Eddy_Corrected.@par.@par.@par.@par.@par.@par'),\n",
    "                                     ('out_residuals',\n",
    "                                      '3_Eddy_Corrected.@par.@par.@par.@par.@par.@par.@par'),\n",
    "                                     ('out_outlier_report',\n",
    "                                      '3_Eddy_Corrected.@par.@par.@par.@par.@par.@par.@par.@par')])\n",
    "                   ])\n",
    "eddy_flow.base_dir = workflow_dir\n",
    "eddy_flow.write_graph(graph2use='flat')\n",
    "eddy = eddy_flow.run('MultiProc', plugin_args={'n_procs': 4})"
   ]
  },
  {
   "cell_type": "code",
   "execution_count": null,
   "metadata": {},
   "outputs": [],
   "source": [
    "#eddyqc nodes\n",
    "\n",
    "eddyquad = Node(fsl.EddyQuad(base_name='eddy_corrected'),\n",
    "               name='eddyquad')"
   ]
  },
  {
   "cell_type": "code",
   "execution_count": null,
   "metadata": {},
   "outputs": [],
   "source": [
    "# Workflow\n",
    "\n",
    "eddyqc_flow = Workflow(name='eddyqc_flow')\n",
    "eddyqc_flow.connect([(infosource, sf, [('subject_id', 'subject_id')]),\n",
    "                     (sf, eddyquad, [('eddybase', 'base_name'),\n",
    "                                    ('index', 'idx_file'),\n",
    "                                    ('aps', 'param_file'),\n",
    "                                    ('mask', 'mask_file'),\n",
    "                                    ('bval', 'bval_file'),\n",
    "                                    ('bvec','bvec_file')])\n",
    "                   ])\n",
    "eddyqc_flow.base_dir = workflow_dir\n",
    "eddyqc_flow.write_graph(graph2use='flat')\n",
    "eddyqc = eddyqc_flow.run('MultiProc', plugin_args={'n_procs': 4})\n"
   ]
  }
 ],
 "metadata": {
  "kernelspec": {
   "display_name": "Python 3",
   "language": "python",
   "name": "python3"
  },
  "language_info": {
   "codemirror_mode": {
    "name": "ipython",
    "version": 3
   },
   "file_extension": ".py",
   "mimetype": "text/x-python",
   "name": "python",
   "nbconvert_exporter": "python",
   "pygments_lexer": "ipython3",
   "version": "3.6.3"
  }
 },
 "nbformat": 4,
 "nbformat_minor": 2
}
