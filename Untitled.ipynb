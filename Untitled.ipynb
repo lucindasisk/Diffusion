{
 "cells": [
  {
   "cell_type": "code",
   "execution_count": null,
   "metadata": {},
   "outputs": [],
   "source": [
    "from nipype.interfaces.io import DataSink, SelectFiles, DataGrabber \n",
    "from nipype.interfaces.utility import IdentityInterface, Function    \n",
    "from nipype.pipeline.engine import Node, Workflow, JoinNode, MapNode\n",
    "import nipype.interfaces.mrtrix3 as mtx\n",
    "import nipype.interfaces.fsl as fsl\n",
    "from nipype.workflows.dmri.mrtrix.diffusion import create_mrtrix_dti_pipeline\n",
    "from pandas import Series, read_csv, to_numeric\n",
    "from glob import glob\n",
    "from os.path import abspath, expanduser, join\n",
    "from os import chdir, remove, getcwd, makedirs\n",
    "from shutil import copyfile\n",
    "from nipype import config, logging\n",
    "from datetime import date\n",
    "import AFQ\n",
    "today = str(date.today())\n",
    "config.enable_debug_mode()"
   ]
  },
  {
   "cell_type": "code",
   "execution_count": null,
   "metadata": {},
   "outputs": [],
   "source": [
    "user = expanduser('~')\n",
    "if user == '/Users/lucindasisk':\n",
    "    home = join(user, 'Desktop/Milgram/candlab')\n",
    "    raw_dir = join(home, 'data/mri/bids_recon/shapes')\n",
    "    proc_dir = join(home, 'analyses/shapes/dwi/eddyCUDA_data')\n",
    "    workflow_dir = join(home, 'analyses/shapes/dwi/tractography_workflow')\n",
    "    data_dir = join(home, 'analyses/shapes/dwi/tractography_data')\n",
    "else:\n",
    "    home = '/gpfs/milgram/project/gee_dylan/candlab'\n",
    "    raw_dir = join(home, 'data/mri/bids_recon/shapes')\n",
    "    proc_dir = join(home, 'analyses/shapes/dwi/eddyCUDA_data')\n",
    "    workflow_dir = join(home, 'analyses/shapes/dwi/tractography_workflow')\n",
    "    data_dir = join(home, 'analyses/shapes/dwi/tractography_data')\n",
    "    \n",
    "# Read in subject subject_list\n",
    "# subject_info = read_csv(\n",
    "#     home + '/scripts/shapes/mri/dwi/shapes_dwi_subjList_08.07.2019.txt', sep=' ', header=None)\n",
    "# subject_list = subject_info[0].tolist()\n",
    "\n",
    "# Manual subject list\n",
    "subject_list = ['sub-A200', 'sub-A201']"
   ]
  },
  {
   "cell_type": "code",
   "execution_count": null,
   "metadata": {},
   "outputs": [],
   "source": [
    "#Setup Datasink, Infosource, Selectfiles\n",
    "\n",
    "datasink = Node(DataSink(base_directory = data_dir,\n",
    "                        substitutions = [('_subject_id_', '')]),\n",
    "                   name='datasink')\n",
    "\n",
    "#Set infosource iterables\n",
    "infosource = Node(IdentityInterface(fields=['subject_id']),\n",
    "                  name=\"infosource\")\n",
    "infosource.iterables = [('subject_id', subject_list)]\n",
    "\n",
    "#SelectFiles\n",
    "template = dict(dti = join(proc_dir,'3_Eddy_Corrected/{subject_id}/eddy_corrected.nii.gz'),\n",
    "                bval = join(raw_dir, '{subject_id}/ses-shapesV1/dwi/{subject_id}_ses-shapesV1_dwi.bval'),\n",
    "                bvec = join(proc_dir,'3_Eddy_Corrected/{subject_id}/eddy_corrected.eddy_rotated_bvecs'),\n",
    "                t1 = join(raw_dir, '{subject_id}/ses-shapesV1/anat/{subject_id}_ses-shapesV1_T1w.nii.gz')\n",
    "               )\n",
    "\n",
    "sf = Node(SelectFiles(template, \n",
    "                      base_directory = home),\n",
    "          name = 'sf')\n",
    "                "
   ]
  },
  {
   "cell_type": "code",
   "execution_count": null,
   "metadata": {},
   "outputs": [],
   "source": []
  },
  {
   "cell_type": "code",
   "execution_count": null,
   "metadata": {},
   "outputs": [],
   "source": [
    "tract_flow = Workflow(name = 'tract_flow')\n",
    "tract_flow.connect([(infosource, sf, [('subject_id','subject_id')]),\n",
    "                    (sf, bet, [('t1', 'in_file')]),\n",
    "                    (sf, seg5tt, [('t1', 'in_file')]),\n",
    "                    (seg5tt, datasink, [('out_file', '4_tract_Reconstruction')]),\n",
    "                    (sf, dwiresp, [('dti', 'in_file'),\n",
    "                                   ('bval','in_bval'),\n",
    "                                   ('bvec', 'in_bvec')]),\n",
    "                    (dwiresp, datasink, [('wm_file', '4_tract_Reconstruction.@par'),\n",
    "                                        ('gm_file', '4_tract_Reconstruction.@par.@par'),\n",
    "                                        ('csf_file', '4_tract_Reconstruction.@par.@par.@par')]),\n",
    "                    (sf, mscsd, [('dti', 'in_file'),\n",
    "                                ('bval', 'in_bval'),\n",
    "                                ('bvec', 'in_bvec')]),\n",
    "                    (dwiresp, mscsd, [('wm_file', 'wm_txt'),\n",
    "                                      ('gm_file', 'gm_txt'),\n",
    "                                      ('csf_file', 'csf_txt')]),\n",
    "                    (seg5tt, tract, [('out_file', 'act_file')]),\n",
    "                    (mscsd, tract, [('wm_odf', 'in_file')]),\n",
    "                    (mscsd, datasink, [('wm_odf', '4_tract_Reconstruction.@par.@par.@par.@par'),\n",
    "                                       ('gm_odf', '4_tract_Reconstruction.@par.@par.@par.@par.@par'),\n",
    "                                       ('csf_odf','4_tract_Reconstruction.@par.@par.@par.@par.@par.@par')]),\n",
    "                    (sf, tract, [('bval', 'in_bval'),\n",
    "                                 ('bvec', 'in_bvec')]),\n",
    "                    (bet, tract, [('mask_file', 'seed_image')]),\n",
    "                    (tract, datasink, [('out_file', '4_tract_Reconstruction.@par.@par.@par.@par.@par.@par.@par'),\n",
    "                                     ('out_seeds','4_tract_Reconstruction.@par.@par.@par.@par.@par.@par.@par.@par')])\n",
    "                   ])\n",
    "tract_flow.base_dir = workflow_dir\n",
    "tract_flow.write_graph(graph2use = 'flat')\n",
    "dwi = tract_flow.run('MultiProc', plugin_args={'n_procs': 4})"
   ]
  }
 ],
 "metadata": {
  "kernelspec": {
   "display_name": "Python 3",
   "language": "python",
   "name": "python3"
  },
  "language_info": {
   "codemirror_mode": {
    "name": "ipython",
    "version": 3
   },
   "file_extension": ".py",
   "mimetype": "text/x-python",
   "name": "python",
   "nbconvert_exporter": "python",
   "pygments_lexer": "ipython3",
   "version": "3.6.3"
  }
 },
 "nbformat": 4,
 "nbformat_minor": 2
}
